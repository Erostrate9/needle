{
 "cells": [
  {
   "cell_type": "markdown",
   "id": "3d9f4abf",
   "metadata": {},
   "source": [
    "# Implementing Transformers\n",
    "\n",
    "This notebook will walk you through the internals of implementing self attention and transformer networks.  As with recurrent networks (and unlike convolutions), there is actually relatively little that is fundamentally new in their implementation, as it all largely involves an application of existing primitives you will have already implemented in your autodiff framework.  However, there is indeed one aspect of an efficient implementation that requires a slight generalization of an item we have discussed already: a _batch_ version of matrix multiplication.  This is required for both the minibatch version of attention as well as the common \"multihead\" version.  We will also briefly discuss some approaches to making Transformers more efficient."
   ]
  },
  {
   "cell_type": "markdown",
   "id": "e150202b",
   "metadata": {},
   "source": [
    "## Implementing self-attention\n",
    "\n",
    "Let's begin with a simple implementation of self-attention.  This essentially just implements the basic equation\n",
    "\n",
    "\\begin{equation}\n",
    "Y = \\mathrm{softmax}\\left(\\frac{KQ^T}{\\sqrt{d}}\\right)V\n",
    "\\end{equation}\n",
    "\n",
    "By convention, however, it's typical to implement self attention in terms of the actual inputs $X$ rather than the $K$, $Q$, and $V$ values themselves (i.e., instead of having the linear layer separately).  It's also common to have an output weight as well (even though this could in theory be folded into the $W_{KQV}$ terms), which applies an additional linear layer to the output of the the entire operation.  I.e., the full operation is given by\n",
    "\\begin{equation}\n",
    "Y = \\left(\\mathrm{softmax}\\left(\\frac{X W_K W_Q^T X^T}{\\sqrt{d}}\\right)X W_V \\right) W_o.\n",
    "\\end{equation}\n",
    "It's possible to also incorporate bias terms into each of these projections, though we won't bother with this, as it is less common for everything but the output weight, and then just largely adds complexity.\n",
    "\n",
    "Let's see what this implementation looks like."
   ]
  },
  {
   "cell_type": "code",
   "execution_count": 5,
   "id": "a35fb17d",
   "metadata": {},
   "outputs": [],
   "source": [
    "import numpy as np\n",
    "import torch\n",
    "import torch.nn as nn"
   ]
  },
  {
   "cell_type": "code",
   "execution_count": 2,
   "id": "67a9d7ab",
   "metadata": {},
   "outputs": [],
   "source": [
    "def softmax(Z):\n",
    "    Z = np.exp(Z - Z.max(axis=-1, keepdims=True))\n",
    "    return Z / Z.sum(axis=-1, keepdims=True)\n",
    "    \n",
    "def self_attention(X, mask, W_KQV, W_out):\n",
    "    K,Q,V = np.split(X@W_KQV, 3, axis=-1)\n",
    "    attn = softmax(K@Q.swapaxes(-1,-2) / np.sqrt(X.shape[-1]) + mask)\n",
    "    return attn@V@W_out, attn"
   ]
  },
  {
   "cell_type": "markdown",
   "id": "cbe332ed",
   "metadata": {},
   "source": [
    "We can compare this to PyTorch's self-attention implementation, the `nn.MultiheadAttention` layer (we'll cover what we mean by \"multi-head\" shortly).  Note that by default (mainly just to be similar to the RNN implementation and other sequence models, the `nn.MultiheadAttention` layer _also_ by default takes inputs in $(T,N,d)$ form (i.e, the batch dimension second.  But unlike for RNNs, this ordering doesn't make much sense for self-attention and Transformers: we will be computing the operation \"in parallel\" over all times points, instead of as a sequential model like for RNNs.  So we'll use the `batch_first=True` flag to make this a more natural dimension ordering for the inputs.  "
   ]
  },
  {
   "cell_type": "code",
   "execution_count": 3,
   "id": "3cc24289",
   "metadata": {},
   "outputs": [
    {
     "data": {
      "text/plain": [
       "tensor([[0., -inf, -inf, -inf, -inf],\n",
       "        [0., 0., -inf, -inf, -inf],\n",
       "        [0., 0., 0., -inf, -inf],\n",
       "        [0., 0., 0., 0., -inf],\n",
       "        [0., 0., 0., 0., 0.]])"
      ]
     },
     "execution_count": 3,
     "metadata": {},
     "output_type": "execute_result"
    }
   ],
   "source": [
    "T = 5\n",
    "M = torch.triu(-float(\"inf\")*torch.ones(T,T),1)"
   ]
  },
  {
   "cell_type": "code",
   "execution_count": 52,
   "id": "30733bf4",
   "metadata": {},
   "outputs": [],
   "source": [
    "T, d = 100, 64\n",
    "attn = nn.MultiheadAttention(d, 1, bias=False, batch_first=True)\n",
    "M = torch.triu(-float(\"inf\")*torch.ones(T,T),1)\n",
    "X = torch.randn(1,T,d)\n",
    "Y_, A_ = attn(X,X,X, attn_mask=M)"
   ]
  },
  {
   "cell_type": "code",
   "execution_count": 13,
   "id": "2779de31",
   "metadata": {},
   "outputs": [],
   "source": [
    "Y, A = self_attention(X[0].numpy(), M.numpy(), \n",
    "                      attn.in_proj_weight.detach().numpy().T,\n",
    "                      attn.out_proj.weight.detach().numpy().T)\n"
   ]
  },
  {
   "cell_type": "code",
   "execution_count": 14,
   "id": "f28d3c52",
   "metadata": {},
   "outputs": [
    {
     "name": "stdout",
     "output_type": "stream",
     "text": [
      "1.8741974e-07\n",
      "1.3277154e-06\n"
     ]
    }
   ],
   "source": [
    "print(np.linalg.norm(A - A_[0].detach().numpy()))\n",
    "print(np.linalg.norm(Y - Y_[0].detach().numpy()))"
   ]
  },
  {
   "cell_type": "markdown",
   "id": "e22a711c",
   "metadata": {},
   "source": [
    "## Minibatching with batch matrix multiply\n",
    "\n",
    "Once we move from single example to minibatches, there is one additional subtlety that comes into play for self-attenion.  Recall that for _each_ sample in the minibatch, we will have to compute a matrix product, e.g., the $KQ^T$ term.  If we need to process examples in a minibatch, we will need to perform this matrix multiplication correspondingly for each sample.  This is an operation known as a batch matrix multiply."
   ]
  },
  {
   "cell_type": "markdown",
   "id": "05a54cdb",
   "metadata": {},
   "source": [
    "It may seem as though nothing is new here.  True, for an MLP it was possible to perform the entire batch equation as a single matrix multiplication, but didn't we similarly need to batch matrix multiplications for convolutional networks (after the im2col function)?  Or for RNNs?\n",
    "\n",
    "The answer is actually that no, previous to this we haven't needed the true batch matrix multiplication fuctionality.  The situations we had before involved the multiplication of a \"batched\" tensor by a _single_ weight matrix.  I.e., in a ConvNet, we had something like\n",
    "\\begin{equation}\n",
    "y = \\mathrm{im2col}(x) W\n",
    "\\end{equation}\n",
    "or in the batched setting\n",
    "\\begin{equation}\n",
    "y^{(i)} = \\mathrm{im2col}\\left(x^{(i)}\\right) W.\n",
    "\\end{equation}\n",
    "\n",
    "But this operation can be accomplished with \"normal\" matrix multiplication by just stacking the multiple samples into the matrix on the left\n",
    "\\begin{equation}\n",
    "\\begin{bmatrix}\n",
    "y^{(1)} \\\\ y^{(2)} \\\\ \\vdots \\\\ y^{(N)}\n",
    "\\end{bmatrix}\n",
    "= \n",
    "\\begin{bmatrix}\n",
    "\\mathrm{im2col}\\left(x^{(1)}\\right) \\\\\n",
    "\\mathrm{im2col}\\left(x^{(2)}\\right) \\\\\n",
    "\\vdots \\\\\n",
    "\\mathrm{im2col}\\left(x^{(N)}\\right) \\\\\n",
    "\\end{bmatrix}\n",
    "W.\n",
    "\\end{equation}\n",
    "This operation is just a normal matrix multiplication, so can be implemented e.g., using your framework so far, where matrix multiplication always operates on 2 dimensional NDArrays.\n",
    "\n",
    "Fortunately, numpy's `@` operator _already_ performs batch matrix multiplication for the case of multiple arrays of (the same) dimension more than 2."
   ]
  },
  {
   "cell_type": "code",
   "execution_count": 40,
   "id": "f3a70fa6",
   "metadata": {},
   "outputs": [
    {
     "data": {
      "text/plain": [
       "(10, 3, 5, 3)"
      ]
     },
     "execution_count": 40,
     "metadata": {},
     "output_type": "execute_result"
    }
   ],
   "source": [
    "# illustration of batch matmul\n",
    "B = np.random.randn(10,3,5,4)\n",
    "C = np.random.randn(10,3,4,3)\n",
    "(B@C).shape"
   ]
  },
  {
   "cell_type": "markdown",
   "id": "c28c527a",
   "metadata": {},
   "source": [
    "Let's see how this works with our self attention layer.  In fact, because of the judicious usage of `axis=-1` and similar terms, our layer works _exactly_ the same as it did before."
   ]
  },
  {
   "cell_type": "code",
   "execution_count": 53,
   "id": "fa24a2cf",
   "metadata": {},
   "outputs": [],
   "source": [
    "N = 10\n",
    "M = torch.triu(-float(\"inf\")*torch.ones(T,T),1)\n",
    "X = torch.randn(N,T,d)\n",
    "Y_, A_ = attn(X,X,X, attn_mask=M)"
   ]
  },
  {
   "cell_type": "code",
   "execution_count": 55,
   "id": "546135ec",
   "metadata": {},
   "outputs": [],
   "source": [
    "Y, A = self_attention(X.numpy(), M.numpy(),\n",
    "                      attn.in_proj_weight.detach().numpy().T, \n",
    "                      attn.out_proj.weight.detach().numpy().T)"
   ]
  },
  {
   "cell_type": "code",
   "execution_count": 56,
   "id": "2d96c92e",
   "metadata": {},
   "outputs": [
    {
     "name": "stdout",
     "output_type": "stream",
     "text": [
      "5.5253105e-07\n",
      "3.97839e-06\n"
     ]
    }
   ],
   "source": [
    "print(np.linalg.norm(A - A_.detach().numpy()))\n",
    "print(np.linalg.norm(Y - Y_.detach().numpy()))"
   ]
  },
  {
   "cell_type": "markdown",
   "id": "756fc65a",
   "metadata": {},
   "source": [
    "## Multihead attention\n",
    "\n",
    "Practical implementations of attention use what is called _multihead_ attention, which simply means that we run the self-attention mechansism of different subsets of the $K$, $Q$, $V$ terms, then concatenate them together.  Formally, we'll partition these terms as\n",
    "\\begin{equation}\n",
    "K = \\begin{bmatrix} K_1 & K_2 & \\cdots & K_{\\mathrm{heads}} \\end{bmatrix}\n",
    "\\end{equation}\n",
    "(and similarly for $Q$ and $V$.\n",
    "\n",
    "Then will form the self attention outputs\n",
    "\\begin{equation}\n",
    "Y_i = \\mathrm{softmax}\\left(\\frac{K_iQ_i^T}{\\sqrt{d/\\mathrm{heads}}}\\right)V_i\n",
    "\\end{equation}\n",
    "and then form the final ouput\n",
    "\\begin{equation}\n",
    "Y = \\begin{bmatrix} Y_1 & Y_2 & \\cdots & Y_{\\mathrm{heads}} \\end{bmatrix} W_o.\n",
    "\\end{equation}\n",
    "\n",
    "The advantage of multi-head attention is that applying a single self-attention layer to a \"high dimensional\" hidden state (i.e., where $d$ is large) seems to waste a lot of the information contained in the hidden layers.  Recall, for intance, that the terms in the self attention matrix would be proportation to $k_t^T q_s$.  If $k_t$ and $q_s$ are high dimensional, then a lot of \"internal structure\" could be lost to result in ultimately just one weighting term.  By breaking this up and computing multiple differen attention matrices, each of which weights different dimensions of the $V$ term, we avoid this problem, and practically lead to better performance.  Note however that the \"right\" tradeoff between the number of heads and $d$ is still rather heuristic in nature."
   ]
  },
  {
   "cell_type": "code",
   "execution_count": 57,
   "id": "1acf3ad0",
   "metadata": {},
   "outputs": [],
   "source": [
    "def multihead_attention(X, mask, heads, W_KQV, W_out):\n",
    "    N,T,d = X.shape\n",
    "    K,Q,V = np.split(X@W_KQV, 3, axis=-1)\n",
    "    K,Q,V = [a.reshape(N,T,heads,d//heads).swapaxes(1,2) for a in (K,Q,V)]\n",
    "    \n",
    "    attn = softmax(K@Q.swapaxes(-1,-2) / np.sqrt(d//heads) + mask)\n",
    "    return (attn@V).swapaxes(1,2).reshape(N,T,d) @ W_out, attn"
   ]
  },
  {
   "cell_type": "code",
   "execution_count": 58,
   "id": "7c001698",
   "metadata": {},
   "outputs": [],
   "source": [
    "heads = 4\n",
    "attn = nn.MultiheadAttention(d, heads, bias=False, batch_first=True)\n",
    "Y_, A_ = attn(X,X,X, attn_mask=M)"
   ]
  },
  {
   "cell_type": "code",
   "execution_count": 59,
   "id": "846e82b8",
   "metadata": {},
   "outputs": [],
   "source": [
    "Y, A = multihead_attention(X.numpy(), M.numpy(), 4,\n",
    "                           attn.in_proj_weight.detach().numpy().T, \n",
    "                           attn.out_proj.weight.detach().numpy().T)"
   ]
  },
  {
   "cell_type": "code",
   "execution_count": 62,
   "id": "a8d14502",
   "metadata": {},
   "outputs": [
    {
     "data": {
      "text/plain": [
       "torch.Size([10, 100, 100])"
      ]
     },
     "execution_count": 62,
     "metadata": {},
     "output_type": "execute_result"
    }
   ],
   "source": [
    "A_.shape"
   ]
  },
  {
   "cell_type": "code",
   "execution_count": 61,
   "id": "127ae789",
   "metadata": {},
   "outputs": [
    {
     "data": {
      "text/plain": [
       "(10, 4, 100, 100)"
      ]
     },
     "execution_count": 61,
     "metadata": {},
     "output_type": "execute_result"
    }
   ],
   "source": [
    "A.shape"
   ]
  },
  {
   "cell_type": "code",
   "execution_count": 60,
   "id": "e1fe95a7",
   "metadata": {},
   "outputs": [
    {
     "name": "stdout",
     "output_type": "stream",
     "text": [
      "4.0823516e-06\n",
      "4.2045417e-07\n"
     ]
    }
   ],
   "source": [
    "print(np.linalg.norm(Y - Y_.detach().numpy()))\n",
    "print(np.linalg.norm(A.mean(1) - A_.detach().numpy()))"
   ]
  },
  {
   "cell_type": "markdown",
   "id": "63fe7db8",
   "metadata": {},
   "source": [
    "## Transformer Block\n",
    "\n",
    "Let's finally put all this together into a full transformer block.  Transformers simply amount to a self-attention block, with a residual layers and layer norm operation, followed by a two-layer feedforward network, with another residual layer and layer norm.  We can implement this in a few lines of code.  Note that in \"real\" implementations, the layer norm terms, etc, would actually have trainable scale/bias terms that add a bit more expressivity to the model.  This version we show will only be the same, for instance, at initialization."
   ]
  },
  {
   "cell_type": "code",
   "execution_count": 63,
   "id": "c8daabf2",
   "metadata": {},
   "outputs": [],
   "source": [
    "def layer_norm(Z, eps):\n",
    "    return (Z - Z.mean(axis=-1, keepdims=True)) / np.sqrt(Z.var(axis=-1, keepdims=True) + eps)\n",
    "    \n",
    "def relu(Z):\n",
    "    return np.maximum(Z,0)\n",
    "\n",
    "def transformer(X, mask, heads, W_KQV, W_out, W_ff1, W_ff2, eps):\n",
    "    Z = layer_norm(multihead_attention(X, mask, heads, W_KQV, W_out)[0] + X, eps)\n",
    "    return layer_norm(Z + relu(Z@W_ff1)@W_ff2, eps)"
   ]
  },
  {
   "cell_type": "code",
   "execution_count": 65,
   "id": "9b3c6bd5",
   "metadata": {},
   "outputs": [],
   "source": [
    "trans = nn.TransformerEncoderLayer(d, heads, dim_feedforward=128, dropout=0.0, batch_first=True)\n",
    "trans.linear1.bias.data.zero_()\n",
    "trans.linear2.bias.data.zero_();\n",
    "Y_ = trans(X, M)"
   ]
  },
  {
   "cell_type": "code",
   "execution_count": 66,
   "id": "a47cc0dc",
   "metadata": {},
   "outputs": [],
   "source": [
    "Y = transformer(X.numpy(), M.numpy(), heads,\n",
    "                trans.self_attn.in_proj_weight.detach().numpy().T, \n",
    "                trans.self_attn.out_proj.weight.detach().numpy().T,\n",
    "                trans.linear1.weight.detach().numpy().T,\n",
    "                trans.linear2.weight.detach().numpy().T,\n",
    "                trans.norm1.eps)\n"
   ]
  },
  {
   "cell_type": "code",
   "execution_count": 67,
   "id": "676dfc0f",
   "metadata": {},
   "outputs": [
    {
     "name": "stdout",
     "output_type": "stream",
     "text": [
      "2.7750326e-05\n"
     ]
    }
   ],
   "source": [
    "print(np.linalg.norm(Y - Y_.detach().numpy()))"
   ]
  },
  {
   "cell_type": "markdown",
   "id": "6e94da64",
   "metadata": {},
   "source": [
    "## The question for \"efficient Transformers\"\n",
    "\n",
    "Since the Transformer was first proposed, there have been endless attempts made to make different \"efficient\" versions of the operation.  The key drawback of transformers, we have seen, is that they require forming a the $T \\times T$ attention matrix and multiplying by $V$ (an $O(T^2d)$ operation)\n",
    "\\begin{equation}\n",
    "\\mathrm{softmax}\\left(\\frac{KQ^T}{\\sqrt{d}}\\right)V\n",
    "\\end{equation}\n",
    "If $T$ is much larger than $d$ (e.g., the sequence is very long, then this operation is quite costly).\n",
    "\n",
    "There are essentially two approaches to making the approach more efficient: by attempting the represent the attention matrix\n",
    "\\begin{equation}\n",
    "A = \\mathrm{softmax}\\left(\\frac{KQ^T}{\\sqrt{d}}\\right)\n",
    "\\end{equation}\n",
    "either using _sparsity_ or using _low rank_ structure.  In general, of course, this matrix neither sparse nor low rank.  But we could simply dicate, for example, that we will only compute some subset of the attention weights, thereby decreasing the number of inner products we need to perform (this is the basis of the so-called \"Sparse Attention\" layer: similar approaches have been proposed a number of times, but [this](https://arxiv.org/abs/1904.10509) is one such example).  Alternatively, one could try to infer some kind of hard sparsity by e.g., triangle inequalities or other similar instances (because, remember, we are computing what amounts to a similarly metric between the $x$ terms at different times).\n",
    "\n",
    "Alternatively, we could try to represent $A$ in _low rank_ form instead.  To see why this could be appealing, consider the case where we don't have a softmax operation at all, but instead used the \"attention\" layer \n",
    "\\begin{equation}\n",
    "\\left(\\frac{KQ^T}{\\sqrt{d}}\\right)V\n",
    "\\end{equation}\n",
    "In this case, if $T \\gg d$, we could instead perform our multiplication in the order $K(Q^T V)$, which would only have complexity $O(Td^2)$, potentially much smaller.  And some papers infact advocate for this very thing, or alternatively try to find a low-rank representation of the actual attention weights, to similar effects.\n",
    "\n",
    "The thing to keep in mind with all these \"efficient\" alternatives (and if you have been reading the literation surrounding Transformers, you have likely seen a _ton_ of these), is whether they are actually more efficient, for an equivalent level of performance, once real execution speed in taken into account.  My best understanding of the current situation is that 1) explicit sparse self attention is indeed sometimes useful for models that want very long history, but that 2) most of the \"efficient\" transformer mechanisms that use low rank structure or inferred sparsity structure don't improve much in practice over traditional attention."
   ]
  },
  {
   "cell_type": "markdown",
   "source": [
    "# My implementation"
   ],
   "metadata": {
    "collapsed": false
   }
  },
  {
   "cell_type": "code",
   "execution_count": 1,
   "outputs": [],
   "source": [
    "import torch\n",
    "import numpy as np\n",
    "import torch.nn as nn"
   ],
   "metadata": {
    "collapsed": false
   }
  },
  {
   "cell_type": "code",
   "execution_count": 2,
   "outputs": [],
   "source": [
    "def softmax(Z):\n",
    "    Z = np.exp(Z - Z.max(axis=-1, keepdims=True))\n",
    "    return Z / Z.sum(axis=-1, keepdims=True)"
   ],
   "metadata": {
    "collapsed": false
   }
  },
  {
   "cell_type": "code",
   "execution_count": 3,
   "outputs": [],
   "source": [
    "def self_attention(X, mask, W_KQV, W_out):\n",
    "    K, Q, V = np.split(X@W_KQV, 3, axis=1)\n",
    "    attn = softmax(K@Q.T / np.sqrt(X.shape[1]) + mask)\n",
    "    return attn @ V @ W_out, attn"
   ],
   "metadata": {
    "collapsed": false
   }
  },
  {
   "cell_type": "code",
   "execution_count": 5,
   "outputs": [],
   "source": [
    "T, d = 100, 64\n",
    "attn = nn.MultiheadAttention(d, 1, bias=False, batch_first=True)\n",
    "M = torch.triu(-float(\"inf\") * torch.ones(T,T), 1)\n",
    "X = torch.randn(1, T, d)\n",
    "Y_, A_ = attn(X,X,X, attn_mask =M )"
   ],
   "metadata": {
    "collapsed": false
   }
  },
  {
   "cell_type": "code",
   "execution_count": 6,
   "outputs": [
    {
     "data": {
      "text/plain": "torch.Size([192, 64])"
     },
     "execution_count": 6,
     "metadata": {},
     "output_type": "execute_result"
    }
   ],
   "source": [
    "attn.in_proj_weight.shape"
   ],
   "metadata": {
    "collapsed": false
   }
  },
  {
   "cell_type": "code",
   "execution_count": 7,
   "outputs": [
    {
     "data": {
      "text/plain": "torch.Size([64, 64])"
     },
     "execution_count": 7,
     "metadata": {},
     "output_type": "execute_result"
    }
   ],
   "source": [
    "attn.out_proj.weight.shape"
   ],
   "metadata": {
    "collapsed": false
   }
  },
  {
   "cell_type": "code",
   "execution_count": 11,
   "outputs": [],
   "source": [
    "Y, A = self_attention(X[0].numpy(), M.numpy(),\n",
    "                      attn.in_proj_weight.detach().numpy().T,\n",
    "                      attn.out_proj.weight.detach().numpy().T)"
   ],
   "metadata": {
    "collapsed": false
   }
  },
  {
   "cell_type": "code",
   "execution_count": 14,
   "outputs": [
    {
     "data": {
      "text/plain": "2.063189e-06"
     },
     "execution_count": 14,
     "metadata": {},
     "output_type": "execute_result"
    }
   ],
   "source": [
    "np.linalg.norm(Y-Y_[0].detach().numpy())"
   ],
   "metadata": {
    "collapsed": false
   }
  },
  {
   "cell_type": "code",
   "execution_count": 15,
   "outputs": [
    {
     "data": {
      "text/plain": "3.0160027e-07"
     },
     "execution_count": 15,
     "metadata": {},
     "output_type": "execute_result"
    }
   ],
   "source": [
    "np.linalg.norm(A-A_[0].detach().numpy())"
   ],
   "metadata": {
    "collapsed": false
   }
  },
  {
   "cell_type": "markdown",
   "source": [
    "## Minibatching"
   ],
   "metadata": {
    "collapsed": false
   }
  },
  {
   "cell_type": "code",
   "execution_count": 16,
   "outputs": [
    {
     "data": {
      "text/plain": "(5, 4, 10, 6)"
     },
     "execution_count": 16,
     "metadata": {},
     "output_type": "execute_result"
    }
   ],
   "source": [
    "C = np.random.randn(5,4,10,3)\n",
    "D = np.random.randn(3,6)\n",
    "(C@D).shape"
   ],
   "metadata": {
    "collapsed": false
   }
  },
  {
   "cell_type": "code",
   "execution_count": 17,
   "outputs": [
    {
     "data": {
      "text/plain": "0.0"
     },
     "execution_count": 17,
     "metadata": {},
     "output_type": "execute_result"
    }
   ],
   "source": [
    "np.linalg.norm((C.reshape(-1,3) @ D).reshape(5,4,10,6) - C@D)"
   ],
   "metadata": {
    "collapsed": false
   }
  },
  {
   "cell_type": "code",
   "execution_count": 14,
   "outputs": [
    {
     "data": {
      "text/plain": "0.0"
     },
     "execution_count": 14,
     "metadata": {},
     "output_type": "execute_result"
    }
   ],
   "source": [
    "C = np.random.randn(5,4,10,3)\n",
    "D = np.random.randn(3,6)\n",
    "np.linalg.norm((C.reshape(-1,3) @ D).reshape(5,4,10,6) - C@D)"
   ],
   "metadata": {
    "collapsed": false
   }
  },
  {
   "cell_type": "code",
   "execution_count": 16,
   "outputs": [
    {
     "data": {
      "text/plain": "(5, 4, 10, 6)"
     },
     "execution_count": 16,
     "metadata": {},
     "output_type": "execute_result"
    }
   ],
   "source": [
    "C = np.random.randn(5,4,10,3)\n",
    "D = np.random.randn(5,4,3,6)\n",
    "(C@D).shape"
   ],
   "metadata": {
    "collapsed": false
   }
  },
  {
   "cell_type": "code",
   "execution_count": 19,
   "outputs": [
    {
     "ename": "ValueError",
     "evalue": "cannot reshape array of size 24000 into shape (5,4,10,6)",
     "output_type": "error",
     "traceback": [
      "\u001B[0;31m---------------------------------------------------------------------------\u001B[0m",
      "\u001B[0;31mValueError\u001B[0m                                Traceback (most recent call last)",
      "Cell \u001B[0;32mIn [19], line 3\u001B[0m\n\u001B[1;32m      1\u001B[0m C \u001B[38;5;241m=\u001B[39m np\u001B[38;5;241m.\u001B[39mrandom\u001B[38;5;241m.\u001B[39mrandn(\u001B[38;5;241m5\u001B[39m,\u001B[38;5;241m4\u001B[39m,\u001B[38;5;241m10\u001B[39m,\u001B[38;5;241m3\u001B[39m)\n\u001B[1;32m      2\u001B[0m D \u001B[38;5;241m=\u001B[39m np\u001B[38;5;241m.\u001B[39mrandom\u001B[38;5;241m.\u001B[39mrandn(\u001B[38;5;241m5\u001B[39m,\u001B[38;5;241m4\u001B[39m,\u001B[38;5;241m3\u001B[39m,\u001B[38;5;241m6\u001B[39m)\n\u001B[0;32m----> 3\u001B[0m np\u001B[38;5;241m.\u001B[39mlinalg\u001B[38;5;241m.\u001B[39mnorm(\u001B[43m(\u001B[49m\u001B[43mC\u001B[49m\u001B[38;5;241;43m.\u001B[39;49m\u001B[43mreshape\u001B[49m\u001B[43m(\u001B[49m\u001B[38;5;241;43m-\u001B[39;49m\u001B[38;5;241;43m1\u001B[39;49m\u001B[43m,\u001B[49m\u001B[38;5;241;43m3\u001B[39;49m\u001B[43m)\u001B[49m\u001B[43m \u001B[49m\u001B[38;5;241;43m@\u001B[39;49m\u001B[43m \u001B[49m\u001B[43mD\u001B[49m\u001B[38;5;241;43m.\u001B[39;49m\u001B[43mreshape\u001B[49m\u001B[43m(\u001B[49m\u001B[38;5;241;43m3\u001B[39;49m\u001B[43m,\u001B[49m\u001B[38;5;241;43m-\u001B[39;49m\u001B[38;5;241;43m1\u001B[39;49m\u001B[43m)\u001B[49m\u001B[43m)\u001B[49m\u001B[38;5;241;43m.\u001B[39;49m\u001B[43mreshape\u001B[49m\u001B[43m(\u001B[49m\u001B[38;5;241;43m5\u001B[39;49m\u001B[43m,\u001B[49m\u001B[38;5;241;43m4\u001B[39;49m\u001B[43m,\u001B[49m\u001B[38;5;241;43m10\u001B[39;49m\u001B[43m,\u001B[49m\u001B[38;5;241;43m6\u001B[39;49m\u001B[43m)\u001B[49m \u001B[38;5;241m-\u001B[39m C\u001B[38;5;129m@D\u001B[39m)\n",
      "\u001B[0;31mValueError\u001B[0m: cannot reshape array of size 24000 into shape (5,4,10,6)"
     ]
    }
   ],
   "source": [
    "C = np.random.randn(5,4,10,3)\n",
    "D = np.random.randn(5,4,3,6)\n",
    "np.linalg.norm((C.reshape(-1,3) @ D.reshape(3,-1)).reshape(5,4,10,6) - C@D)"
   ],
   "metadata": {
    "collapsed": false
   }
  },
  {
   "cell_type": "code",
   "execution_count": 21,
   "outputs": [
    {
     "data": {
      "text/plain": "1200"
     },
     "execution_count": 21,
     "metadata": {},
     "output_type": "execute_result"
    }
   ],
   "source": [
    "5*4*10*6"
   ],
   "metadata": {
    "collapsed": false
   }
  },
  {
   "cell_type": "code",
   "execution_count": 20,
   "outputs": [
    {
     "data": {
      "text/plain": "((200, 3), (3, 120))"
     },
     "execution_count": 20,
     "metadata": {},
     "output_type": "execute_result"
    }
   ],
   "source": [
    "C = np.random.randn(5,4,10,3).reshape(-1,3)\n",
    "D = np.random.randn(5,4,3,6).reshape(3,-1)\n",
    "C.shape,D.shape"
   ],
   "metadata": {
    "collapsed": false
   }
  },
  {
   "cell_type": "code",
   "execution_count": 24,
   "outputs": [
    {
     "ename": "ValueError",
     "evalue": "operands could not be broadcast together with remapped shapes [original->remapped]: (5,4,10,3)->(5,4,newaxis,newaxis) (5,3,3,6)->(5,3,newaxis,newaxis)  and requested shape (10,6)",
     "output_type": "error",
     "traceback": [
      "\u001B[0;31m---------------------------------------------------------------------------\u001B[0m",
      "\u001B[0;31mValueError\u001B[0m                                Traceback (most recent call last)",
      "Cell \u001B[0;32mIn [24], line 3\u001B[0m\n\u001B[1;32m      1\u001B[0m E \u001B[38;5;241m=\u001B[39m np\u001B[38;5;241m.\u001B[39mrandom\u001B[38;5;241m.\u001B[39mrandn(\u001B[38;5;241m5\u001B[39m,\u001B[38;5;241m4\u001B[39m,\u001B[38;5;241m10\u001B[39m,\u001B[38;5;241m3\u001B[39m)\n\u001B[1;32m      2\u001B[0m F \u001B[38;5;241m=\u001B[39m np\u001B[38;5;241m.\u001B[39mrandom\u001B[38;5;241m.\u001B[39mrandn(\u001B[38;5;241m5\u001B[39m,\u001B[38;5;241m3\u001B[39m,\u001B[38;5;241m3\u001B[39m,\u001B[38;5;241m6\u001B[39m)\n\u001B[0;32m----> 3\u001B[0m (\u001B[43mE\u001B[49m\u001B[38;5;129;43m@F\u001B[39;49m)\u001B[38;5;241m.\u001B[39mshape\n",
      "\u001B[0;31mValueError\u001B[0m: operands could not be broadcast together with remapped shapes [original->remapped]: (5,4,10,3)->(5,4,newaxis,newaxis) (5,3,3,6)->(5,3,newaxis,newaxis)  and requested shape (10,6)"
     ]
    }
   ],
   "source": [
    "E = np.random.randn(5,4,10,3)\n",
    "F = np.random.randn(5,3,3,6)\n",
    "(E@F).shape"
   ],
   "metadata": {
    "collapsed": false
   }
  },
  {
   "cell_type": "code",
   "execution_count": 26,
   "outputs": [
    {
     "data": {
      "text/plain": "(5, 4, 10, 6)"
     },
     "execution_count": 26,
     "metadata": {},
     "output_type": "execute_result"
    }
   ],
   "source": [
    "E = np.random.randn(5,4,10,3)\n",
    "F = np.random.randn(5,4,3,6)\n",
    "(E@F).shape"
   ],
   "metadata": {
    "collapsed": false
   }
  },
  {
   "cell_type": "code",
   "execution_count": 25,
   "outputs": [],
   "source": [
    "# T x B x d for RNNs\n",
    "# B x T x d for Transformers\n",
    "def self_attention(X, mask, W_KQV, W_out):\n",
    "    K, Q, V = np.split(X@W_KQV, 3, axis=-1) # for batches\n",
    "    attn = softmax(K@Q.swapaxes(-1,-2) / np.sqrt(X.shape[-1]) + mask) # for batches\n",
    "    return attn @ V @ W_out, attn"
   ],
   "metadata": {
    "collapsed": false
   }
  },
  {
   "cell_type": "code",
   "execution_count": 28,
   "outputs": [],
   "source": [
    "B, T, d = 50, 100, 64\n",
    "X = torch.randn(B, T, d)\n",
    "M = torch.triu(-float(\"inf\") * torch.ones(T,T), 1)\n",
    "\n",
    "attn = nn.MultiheadAttention(d, 1, bias=False, batch_first=True)\n",
    "Y_, A_ = attn(X,X,X, attn_mask =M )\n",
    "Y, A = self_attention(X.numpy(), M.numpy(),\n",
    "                      attn.in_proj_weight.detach().numpy().T,\n",
    "                      attn.out_proj.weight.detach().numpy().T)"
   ],
   "metadata": {
    "collapsed": false
   }
  },
  {
   "cell_type": "code",
   "execution_count": 30,
   "outputs": [
    {
     "data": {
      "text/plain": "1.4857873e-05"
     },
     "execution_count": 30,
     "metadata": {},
     "output_type": "execute_result"
    }
   ],
   "source": [
    "np.linalg.norm(Y-Y_.detach().numpy())"
   ],
   "metadata": {
    "collapsed": false
   }
  },
  {
   "cell_type": "code",
   "execution_count": 32,
   "outputs": [
    {
     "data": {
      "text/plain": "2.1490814e-06"
     },
     "execution_count": 32,
     "metadata": {},
     "output_type": "execute_result"
    }
   ],
   "source": [
    "np.linalg.norm(A-A_.detach().numpy())"
   ],
   "metadata": {
    "collapsed": false
   }
  },
  {
   "cell_type": "markdown",
   "source": [
    "## Multihead attention"
   ],
   "metadata": {
    "collapsed": false
   }
  },
  {
   "cell_type": "code",
   "execution_count": 4,
   "outputs": [],
   "source": [
    "def multihead_attention(X, mask, heads, W_KQV, W_out):\n",
    "    B, T, d = X.shape\n",
    "    K, Q, V = np.split(X@W_KQV, 3, axis=-1)\n",
    "    # B x T x d =>\n",
    "    # B x heads x T x d/heads\n",
    "    K, Q, V = [a.reshape(B, T, heads, d//heads).swapaxes(1, 2) for a in (K, Q, V)]\n",
    "    attn = softmax(K@Q.swapaxes(-1,-2) / np.sqrt(d // heads) + mask)\n",
    "    return (attn @ V).swapaxes(1,2).reshape(B, T, d) @ W_out, attn"
   ],
   "metadata": {
    "collapsed": false
   }
  },
  {
   "cell_type": "code",
   "execution_count": 41,
   "outputs": [],
   "source": [
    "B, T, d = 50, 100, 64\n",
    "X = torch.randn(B, T, d)\n",
    "M = torch.triu(-float(\"inf\") * torch.ones(T,T), 1)\n",
    "\n",
    "heads = 4\n",
    "attn = nn.MultiheadAttention(d, heads, bias = False, batch_first= True)\n",
    "\n",
    "Y_, A_ = attn(X, X, X, attn_mask = M)\n",
    "Y, A = multihead_attention(X.numpy(), M.numpy(), heads,\n",
    "            attn.in_proj_weight.detach().numpy().T,\n",
    "            attn.out_proj.weight.detach().numpy().T)"
   ],
   "metadata": {
    "collapsed": false
   }
  },
  {
   "cell_type": "code",
   "execution_count": 7,
   "outputs": [],
   "source": [
    "B, T, d = 50, 100, 64\n",
    "heads = 4\n",
    "attn = nn.MultiheadAttention(d, heads, bias = False, batch_first= True)"
   ],
   "metadata": {
    "collapsed": false
   }
  },
  {
   "cell_type": "code",
   "execution_count": 9,
   "outputs": [
    {
     "data": {
      "text/plain": "torch.Size([50, 100, 64])"
     },
     "execution_count": 9,
     "metadata": {},
     "output_type": "execute_result"
    }
   ],
   "source": [
    "X = torch.randn(B, T, d)\n",
    "X.shape"
   ],
   "metadata": {
    "collapsed": false
   }
  },
  {
   "cell_type": "code",
   "execution_count": null,
   "outputs": [],
   "source": [],
   "metadata": {
    "collapsed": false
   }
  },
  {
   "cell_type": "code",
   "execution_count": 11,
   "outputs": [
    {
     "data": {
      "text/plain": "torch.Size([50, 100, 192])"
     },
     "execution_count": 11,
     "metadata": {},
     "output_type": "execute_result"
    }
   ],
   "source": [
    "W_KQV = attn.in_proj_weight.detach().numpy().T\n",
    "res = X@W_KQV\n",
    "res.shape\n"
   ],
   "metadata": {
    "collapsed": false
   }
  },
  {
   "cell_type": "markdown",
   "source": [],
   "metadata": {
    "collapsed": false
   }
  },
  {
   "cell_type": "code",
   "execution_count": 12,
   "outputs": [],
   "source": [
    "K, Q, V = np.split(X@W_KQV, 3, axis=-1)"
   ],
   "metadata": {
    "collapsed": false
   }
  },
  {
   "cell_type": "code",
   "execution_count": 13,
   "outputs": [
    {
     "data": {
      "text/plain": "torch.Size([50, 100, 64])"
     },
     "execution_count": 13,
     "metadata": {},
     "output_type": "execute_result"
    }
   ],
   "source": [
    "K.shape"
   ],
   "metadata": {
    "collapsed": false
   }
  },
  {
   "cell_type": "code",
   "execution_count": 42,
   "outputs": [
    {
     "data": {
      "text/plain": "1.4688391e-05"
     },
     "execution_count": 42,
     "metadata": {},
     "output_type": "execute_result"
    }
   ],
   "source": [
    "np.linalg.norm(Y-Y_.detach().numpy())"
   ],
   "metadata": {
    "collapsed": false
   }
  },
  {
   "cell_type": "code",
   "execution_count": 47,
   "outputs": [
    {
     "ename": "ValueError",
     "evalue": "operands could not be broadcast together with shapes (50,4,100,100) (50,100,100) ",
     "output_type": "error",
     "traceback": [
      "\u001B[0;31m---------------------------------------------------------------------------\u001B[0m",
      "\u001B[0;31mValueError\u001B[0m                                Traceback (most recent call last)",
      "Cell \u001B[0;32mIn [47], line 1\u001B[0m\n\u001B[0;32m----> 1\u001B[0m np\u001B[38;5;241m.\u001B[39mlinalg\u001B[38;5;241m.\u001B[39mnorm(\u001B[43mA\u001B[49m\u001B[38;5;241;43m-\u001B[39;49m\u001B[43mA_\u001B[49m\u001B[38;5;241;43m.\u001B[39;49m\u001B[43mdetach\u001B[49m\u001B[43m(\u001B[49m\u001B[43m)\u001B[49m\u001B[38;5;241;43m.\u001B[39;49m\u001B[43mnumpy\u001B[49m\u001B[43m(\u001B[49m\u001B[43m)\u001B[49m)\n",
      "\u001B[0;31mValueError\u001B[0m: operands could not be broadcast together with shapes (50,4,100,100) (50,100,100) "
     ]
    }
   ],
   "source": [
    "np.linalg.norm(A-A_.detach().numpy())"
   ],
   "metadata": {
    "collapsed": false
   }
  },
  {
   "cell_type": "code",
   "execution_count": 48,
   "outputs": [
    {
     "data": {
      "text/plain": "1.2309631e-06"
     },
     "execution_count": 48,
     "metadata": {},
     "output_type": "execute_result"
    }
   ],
   "source": [
    "np.linalg.norm(A.mean(axis=1)-A_.detach().numpy())"
   ],
   "metadata": {
    "collapsed": false
   }
  },
  {
   "cell_type": "markdown",
   "source": [
    "## Transformer Block"
   ],
   "metadata": {
    "collapsed": false
   }
  },
  {
   "cell_type": "code",
   "execution_count": 59,
   "outputs": [],
   "source": [
    "def layer_norm(Z, eps):\n",
    "    return (Z - Z.mean(axis=-1, keepdims= True)) / np.sqrt(Z.var(axis=-1, keepdims=True) + eps)\n",
    "\n",
    "def relu(Z):\n",
    "    return np.maximum(Z, 0)\n",
    "\n",
    "def transformer(X, mask, heads, W_KQV, W_out, W_ff1, W_ff2, eps):\n",
    "    Z = layer_norm(X + multihead_attention(X,mask,heads,W_KQV,W_out)[0], eps)\n",
    "    return layer_norm(Z + relu(Z@W_ff1)@W_ff2, eps)"
   ],
   "metadata": {
    "collapsed": false
   }
  },
  {
   "cell_type": "code",
   "execution_count": 61,
   "outputs": [],
   "source": [
    "B, T, d = 50, 100, 64\n",
    "X = torch.randn(B, T, d)\n",
    "M = torch.triu(-float(\"inf\") * torch.ones(T,T), 1)\n",
    "\n",
    "trans = nn.TransformerEncoderLayer(d, heads, dim_feedforward=128,\n",
    "                                   dropout=0.0, batch_first=True)\n",
    "trans.linear1.bias.data.zero_()\n",
    "trans.linear2.bias.data.zero_()\n",
    "\n",
    "Y_ = trans(X,M)\n",
    "Y = transformer(X.numpy(), M.numpy(), heads,\n",
    "                trans.self_attn.in_proj_weight.detach().numpy().T,\n",
    "                trans.self_attn.out_proj.weight.detach().numpy().T,\n",
    "                trans.linear1.weight.detach().numpy().T,\n",
    "                trans.linear2.weight.detach().numpy().T,\n",
    "                eps=1e-5)"
   ],
   "metadata": {
    "collapsed": false
   }
  },
  {
   "cell_type": "code",
   "execution_count": 62,
   "outputs": [
    {
     "data": {
      "text/plain": "6.135056e-05"
     },
     "execution_count": 62,
     "metadata": {},
     "output_type": "execute_result"
    }
   ],
   "source": [
    "np.linalg.norm(Y-Y_.detach().numpy())"
   ],
   "metadata": {
    "collapsed": false
   }
  },
  {
   "cell_type": "code",
   "execution_count": 5,
   "outputs": [
    {
     "name": "stdout",
     "output_type": "stream",
     "text": [
      "enc_X.dtype: torch.int64\n",
      "enc_X.shape: torch.Size([64, 10])\n",
      "dec_X.dtype: torch.int64\n",
      "dec_X.shape: torch.Size([64, 10])\n",
      "tensor([[166,  15,   5,   3,   1,   1,   1,   1,   1,   1],\n",
      "        [  9, 121,   4,   3,   1,   1,   1,   1,   1,   1],\n",
      "        [  7,  62,   4,   3,   1,   1,   1,   1,   1,   1],\n",
      "        [ 17,  20,   4,   3,   1,   1,   1,   1,   1,   1],\n",
      "        [ 44,  10,   4,   3,   1,   1,   1,   1,   1,   1],\n",
      "        [  9,  72,   4,   3,   1,   1,   1,   1,   1,   1],\n",
      "        [  7, 151,   4,   3,   1,   1,   1,   1,   1,   1],\n",
      "        [  6, 119,   4,   3,   1,   1,   1,   1,   1,   1],\n",
      "        [115,   5,   3,   1,   1,   1,   1,   1,   1,   1],\n",
      "        [134,  12,   4,   3,   1,   1,   1,   1,   1,   1],\n",
      "        [ 17, 123,   4,   3,   1,   1,   1,   1,   1,   1],\n",
      "        [ 16, 173,   4,   3,   1,   1,   1,   1,   1,   1],\n",
      "        [ 50,  19,   4,   3,   1,   1,   1,   1,   1,   1],\n",
      "        [  6,  22,   5,   3,   1,   1,   1,   1,   1,   1],\n",
      "        [111,  23,   4,   3,   1,   1,   1,   1,   1,   1],\n",
      "        [  0,   9,   4,   3,   1,   1,   1,   1,   1,   1],\n",
      "        [  7,   0,   4,   3,   1,   1,   1,   1,   1,   1],\n",
      "        [ 76,   8,   5,   3,   1,   1,   1,   1,   1,   1],\n",
      "        [ 65,  15,   5,   3,   1,   1,   1,   1,   1,   1],\n",
      "        [ 89,  57,   5,   3,   1,   1,   1,   1,   1,   1],\n",
      "        [ 52,   0,   4,   3,   1,   1,   1,   1,   1,   1],\n",
      "        [ 24,   0,   4,   3,   1,   1,   1,   1,   1,   1],\n",
      "        [ 39,  19,   4,   3,   1,   1,   1,   1,   1,   1],\n",
      "        [ 17,  22,   4,   3,   1,   1,   1,   1,   1,   1],\n",
      "        [ 13,  46,  48,   4,   3,   1,   1,   1,   1,   1],\n",
      "        [  6, 143,   4,   3,   1,   1,   1,   1,   1,   1],\n",
      "        [ 24, 160,   4,   3,   1,   1,   1,   1,   1,   1],\n",
      "        [  9,  28,   4,   3,   1,   1,   1,   1,   1,   1],\n",
      "        [  6,  50,   8,   4,   3,   1,   1,   1,   1,   1],\n",
      "        [  0,   4,   3,   1,   1,   1,   1,   1,   1,   1],\n",
      "        [  6, 124,   4,   3,   1,   1,   1,   1,   1,   1],\n",
      "        [ 17,  20,   4,   3,   1,   1,   1,   1,   1,   1],\n",
      "        [  6,  22,   5,   3,   1,   1,   1,   1,   1,   1],\n",
      "        [  6,  69,  54,   4,   3,   1,   1,   1,   1,   1],\n",
      "        [ 45,  96,   4,   3,   1,   1,   1,   1,   1,   1],\n",
      "        [ 13,  34,   5,   3,   1,   1,   1,   1,   1,   1],\n",
      "        [  7,  84,   4,   3,   1,   1,   1,   1,   1,   1],\n",
      "        [  0,   4,   3,   1,   1,   1,   1,   1,   1,   1],\n",
      "        [  7,  30,   4,   3,   1,   1,   1,   1,   1,   1],\n",
      "        [ 17,  20,   4,   3,   1,   1,   1,   1,   1,   1],\n",
      "        [  0,  81,   4,   3,   1,   1,   1,   1,   1,   1],\n",
      "        [177,  12,   4,   3,   1,   1,   1,   1,   1,   1],\n",
      "        [ 13,  25,   5,   3,   1,   1,   1,   1,   1,   1],\n",
      "        [  6,   0,   4,   3,   1,   1,   1,   1,   1,   1],\n",
      "        [ 13,  25,   4,   3,   1,   1,   1,   1,   1,   1],\n",
      "        [ 10,   0,   4,   3,   1,   1,   1,   1,   1,   1],\n",
      "        [  7,   0,   4,   3,   1,   1,   1,   1,   1,   1],\n",
      "        [ 36,  12,   5,   3,   1,   1,   1,   1,   1,   1],\n",
      "        [  7, 154,   4,   3,   1,   1,   1,   1,   1,   1],\n",
      "        [105,   6,   9,  11,   3,   1,   1,   1,   1,   1],\n",
      "        [ 68,  25,   5,   3,   1,   1,   1,   1,   1,   1],\n",
      "        [ 24, 160,   4,   3,   1,   1,   1,   1,   1,   1],\n",
      "        [ 89, 170,  11,   3,   1,   1,   1,   1,   1,   1],\n",
      "        [  0,   8,   4,   3,   1,   1,   1,   1,   1,   1],\n",
      "        [  9,  82,   4,   3,   1,   1,   1,   1,   1,   1],\n",
      "        [  9,  56,   4,   3,   1,   1,   1,   1,   1,   1],\n",
      "        [  9,  28,   4,   3,   1,   1,   1,   1,   1,   1],\n",
      "        [ 13,  34,   4,   3,   1,   1,   1,   1,   1,   1],\n",
      "        [ 76,   8,   5,   3,   1,   1,   1,   1,   1,   1],\n",
      "        [ 45,   0,   4,   3,   1,   1,   1,   1,   1,   1],\n",
      "        [  6,   0,   4,   3,   1,   1,   1,   1,   1,   1],\n",
      "        [ 14,  46, 138,   4,   3,   1,   1,   1,   1,   1],\n",
      "        [158,  22,   4,   3,   1,   1,   1,   1,   1,   1],\n",
      "        [ 10,   0,   4,   3,   1,   1,   1,   1,   1,   1]], device='cuda:0')\n",
      "tensor([[  2,   0,  50, 174,   5,   3,   1,   1,   1,   1],\n",
      "        [  2,  49, 128,   5,   3,   1,   1,   1,   1,   1],\n",
      "        [  2,   6,   7, 116,   4,   3,   1,   1,   1,   1],\n",
      "        [  2,  11,  39,  62, 144,   4,   3,   1,   1,   1],\n",
      "        [  2, 151,   8,   4,   3,   1,   1,   1,   1,   1],\n",
      "        [  2,  67,  55,   4,   3,   1,   1,   1,   1,   1],\n",
      "        [  2,   6,   7,  32,  29, 108,   4,   3,   1,   1],\n",
      "        [  2,   6,  57,   4,   3,   1,   1,   1,   1,   1],\n",
      "        [  2,  65,   5,   3,   1,   1,   1,   1,   1,   1],\n",
      "        [  2,   0,   5,   3,   1,   1,   1,   1,   1,   1],\n",
      "        [  2,  11,   0,   0,   4,   3,   1,   1,   1,   1],\n",
      "        [  2,  35, 187,   5,   3,   1,   1,   1,   1,   1],\n",
      "        [  2,   0,  31,   4,   3,   1,   1,   1,   1,   1],\n",
      "        [  2,   6,  46,  47,   5,   3,   1,   1,   1,   1],\n",
      "        [  2,   0,   5,   3,   1,   1,   1,   1,   1,   1],\n",
      "        [  2,  11,   0,   4,   3,   1,   1,   1,   1,   1],\n",
      "        [  2,   6,   7,   0,   4,   3,   1,   1,   1,   1],\n",
      "        [  2,   0,  28,   5,   3,   1,   1,   1,   1,   1],\n",
      "        [  2,   0,   5,   3,   1,   1,   1,   1,   1,   1],\n",
      "        [  2, 183, 184, 185,   0,   5,   3,   1,   1,   1],\n",
      "        [  2,  30,   0,  22,   4,   3,   1,   1,   1,   1],\n",
      "        [  2,  18,  14,   0,   4,   3,   1,   1,   1,   1],\n",
      "        [  2,  92,  12,   5,   3,   1,   1,   1,   1,   1],\n",
      "        [  2,  11,   0,   4,   3,   1,   1,   1,   1,   1],\n",
      "        [  2,  81,  23, 193,   5,   3,   1,   1,   1,   1],\n",
      "        [  2,  10,   0,   4,   3,   1,   1,   1,   1,   1],\n",
      "        [  2,  13,  36,   0,   4,   3,   1,   1,   1,   1],\n",
      "        [  2,  73,   5,   3,   1,   1,   1,   1,   1,   1],\n",
      "        [  2,   6,  84,   0,   4,   3,   1,   1,   1,   1],\n",
      "        [  2,  99,   5,   3,   1,   1,   1,   1,   1,   1],\n",
      "        [  2,   6,  27,   7,   0,   4,   3,   1,   1,   1],\n",
      "        [  2,  11,  39,  62, 146,   4,   3,   1,   1,   1],\n",
      "        [  2,  10,  25,   5,   3,   1,   1,   1,   1,   1],\n",
      "        [  2,   6,  57,   0,   4,   3,   1,   1,   1,   1],\n",
      "        [  2,  18,  43,   0,  28,   4,   3,   1,   1,   1],\n",
      "        [  2, 121,   5,   3,   1,   1,   1,   1,   1,   1],\n",
      "        [  2,  12,  16,   4,   3,   1,   1,   1,   1,   1],\n",
      "        [  2,   0,   4,   3,   1,   1,   1,   1,   1,   1],\n",
      "        [  2,  27,   0,   4,   3,   1,   1,   1,   1,   1],\n",
      "        [  2,  11,  61, 145,   4,   3,   1,   1,   1,   1],\n",
      "        [  2,   0,   4,   3,   1,   1,   1,   1,   1,   1],\n",
      "        [  2,   0,   4,   3,   1,   1,   1,   1,   1,   1],\n",
      "        [  2, 153,   5,   3,   1,   1,   1,   1,   1,   1],\n",
      "        [  2,  21,  51, 134,   4,   3,   1,   1,   1,   1],\n",
      "        [  2,   0,   5,   3,   1,   1,   1,   1,   1,   1],\n",
      "        [  2,   8,   0,   4,   3,   1,   1,   1,   1,   1],\n",
      "        [  2,   6,   7,  19,   0,   4,   3,   1,   1,   1],\n",
      "        [  2, 131,   5,   3,   1,   1,   1,   1,   1,   1],\n",
      "        [  2,   6,   7,   0,   4,   3,   1,   1,   1,   1],\n",
      "        [  2,  87, 172,   9,   3,   1,   1,   1,   1,   1],\n",
      "        [  2,  89,   5,   3,   1,   1,   1,   1,   1,   1],\n",
      "        [  2,  13,  29,   0,   4,   3,   1,   1,   1,   1],\n",
      "        [  2,  15, 182,  34,   9,   3,   1,   1,   1,   1],\n",
      "        [  2,  59,   5,   3,   1,   1,   1,   1,   1,   1],\n",
      "        [  2,  67,   5,   3,   1,   1,   1,   1,   1,   1],\n",
      "        [  2, 127,  37,   0,   4,   3,   1,   1,   1,   1],\n",
      "        [  2,   0,  36,   0,   5,   3,   1,   1,   1,   1],\n",
      "        [  2, 122,   4,   3,   1,   1,   1,   1,   1,   1],\n",
      "        [  2,   0,  28,   5,   3,   1,   1,   1,   1,   1],\n",
      "        [  2,  18, 112,   4,   3,   1,   1,   1,   1,   1],\n",
      "        [  2,  10,   0,   4,   3,   1,   1,   1,   1,   1],\n",
      "        [  2,  26,  23, 150,   5,   3,   1,   1,   1,   1],\n",
      "        [  2,   6,  46,  47,   4,   3,   1,   1,   1,   1],\n",
      "        [  2,   8,   0,   4,   3,   1,   1,   1,   1,   1]], device='cuda:0')\n",
      "enc_outputs.shape: torch.Size([64, 10, 32])\n",
      "dec_state[0].shape: torch.Size([64, 10, 32])\n",
      "dec_state[1].shape: torch.Size([64])\n",
      "tensor([4, 4, 4, 4, 4, 4, 4, 4, 3, 4, 4, 4, 4, 4, 4, 4, 4, 4, 4, 4, 4, 4, 4, 4,\n",
      "        5, 4, 4, 4, 5, 3, 4, 4, 4, 5, 4, 4, 4, 3, 4, 4, 4, 4, 4, 4, 4, 4, 4, 4,\n",
      "        4, 5, 4, 4, 4, 4, 4, 4, 4, 4, 4, 4, 4, 5, 4, 4], device='cuda:0')\n"
     ]
    },
    {
     "ename": "RuntimeError",
     "evalue": "aaa",
     "output_type": "error",
     "traceback": [
      "\u001B[0;31m---------------------------------------------------------------------------\u001B[0m",
      "\u001B[0;31mRuntimeError\u001B[0m                              Traceback (most recent call last)",
      "Cell \u001B[0;32mIn [5], line 180\u001B[0m\n\u001B[1;32m    175\u001B[0m decoder \u001B[38;5;241m=\u001B[39m TransformerDecoder(\n\u001B[1;32m    176\u001B[0m     \u001B[38;5;28mlen\u001B[39m(tgt_vocab), key_size, query_size, value_size, num_hiddens,\n\u001B[1;32m    177\u001B[0m     norm_shape, ffn_num_input, ffn_num_hiddens, num_heads,\n\u001B[1;32m    178\u001B[0m     num_layers, dropout)\n\u001B[1;32m    179\u001B[0m net \u001B[38;5;241m=\u001B[39m EncoderDecoder(encoder, decoder)\n\u001B[0;32m--> 180\u001B[0m \u001B[43md2l\u001B[49m\u001B[38;5;241;43m.\u001B[39;49m\u001B[43mtrain_seq2seq\u001B[49m\u001B[43m(\u001B[49m\u001B[43mnet\u001B[49m\u001B[43m,\u001B[49m\u001B[43m \u001B[49m\u001B[43mtrain_iter\u001B[49m\u001B[43m,\u001B[49m\u001B[43m \u001B[49m\u001B[43mlr\u001B[49m\u001B[43m,\u001B[49m\u001B[43m \u001B[49m\u001B[43mnum_epochs\u001B[49m\u001B[43m,\u001B[49m\u001B[43m \u001B[49m\u001B[43mtgt_vocab\u001B[49m\u001B[43m,\u001B[49m\u001B[43m \u001B[49m\u001B[43mdevice\u001B[49m\u001B[43m)\u001B[49m\n",
      "File \u001B[0;32m~/anaconda3/envs/dls/lib/python3.9/site-packages/d2l/torch.py:1050\u001B[0m, in \u001B[0;36mtrain_seq2seq\u001B[0;34m(net, data_iter, lr, num_epochs, tgt_vocab, device)\u001B[0m\n\u001B[1;32m   1047\u001B[0m bos \u001B[38;5;241m=\u001B[39m torch\u001B[38;5;241m.\u001B[39mtensor([tgt_vocab[\u001B[38;5;124m'\u001B[39m\u001B[38;5;124m<bos>\u001B[39m\u001B[38;5;124m'\u001B[39m]] \u001B[38;5;241m*\u001B[39m Y\u001B[38;5;241m.\u001B[39mshape[\u001B[38;5;241m0\u001B[39m],\n\u001B[1;32m   1048\u001B[0m                    device\u001B[38;5;241m=\u001B[39mdevice)\u001B[38;5;241m.\u001B[39mreshape(\u001B[38;5;241m-\u001B[39m\u001B[38;5;241m1\u001B[39m, \u001B[38;5;241m1\u001B[39m)\n\u001B[1;32m   1049\u001B[0m dec_input \u001B[38;5;241m=\u001B[39m d2l\u001B[38;5;241m.\u001B[39mconcat([bos, Y[:, :\u001B[38;5;241m-\u001B[39m\u001B[38;5;241m1\u001B[39m]], \u001B[38;5;241m1\u001B[39m)  \u001B[38;5;66;03m# Teacher forcing\u001B[39;00m\n\u001B[0;32m-> 1050\u001B[0m Y_hat, _ \u001B[38;5;241m=\u001B[39m \u001B[43mnet\u001B[49m\u001B[43m(\u001B[49m\u001B[43mX\u001B[49m\u001B[43m,\u001B[49m\u001B[43m \u001B[49m\u001B[43mdec_input\u001B[49m\u001B[43m,\u001B[49m\u001B[43m \u001B[49m\u001B[43mX_valid_len\u001B[49m\u001B[43m)\u001B[49m\n\u001B[1;32m   1051\u001B[0m l \u001B[38;5;241m=\u001B[39m loss(Y_hat, Y, Y_valid_len)\n\u001B[1;32m   1052\u001B[0m l\u001B[38;5;241m.\u001B[39msum()\u001B[38;5;241m.\u001B[39mbackward()  \u001B[38;5;66;03m# Make the loss scalar for `backward`\u001B[39;00m\n",
      "File \u001B[0;32m~/anaconda3/envs/dls/lib/python3.9/site-packages/torch/nn/modules/module.py:1190\u001B[0m, in \u001B[0;36mModule._call_impl\u001B[0;34m(self, *input, **kwargs)\u001B[0m\n\u001B[1;32m   1186\u001B[0m \u001B[38;5;66;03m# If we don't have any hooks, we want to skip the rest of the logic in\u001B[39;00m\n\u001B[1;32m   1187\u001B[0m \u001B[38;5;66;03m# this function, and just call forward.\u001B[39;00m\n\u001B[1;32m   1188\u001B[0m \u001B[38;5;28;01mif\u001B[39;00m \u001B[38;5;129;01mnot\u001B[39;00m (\u001B[38;5;28mself\u001B[39m\u001B[38;5;241m.\u001B[39m_backward_hooks \u001B[38;5;129;01mor\u001B[39;00m \u001B[38;5;28mself\u001B[39m\u001B[38;5;241m.\u001B[39m_forward_hooks \u001B[38;5;129;01mor\u001B[39;00m \u001B[38;5;28mself\u001B[39m\u001B[38;5;241m.\u001B[39m_forward_pre_hooks \u001B[38;5;129;01mor\u001B[39;00m _global_backward_hooks\n\u001B[1;32m   1189\u001B[0m         \u001B[38;5;129;01mor\u001B[39;00m _global_forward_hooks \u001B[38;5;129;01mor\u001B[39;00m _global_forward_pre_hooks):\n\u001B[0;32m-> 1190\u001B[0m     \u001B[38;5;28;01mreturn\u001B[39;00m \u001B[43mforward_call\u001B[49m\u001B[43m(\u001B[49m\u001B[38;5;241;43m*\u001B[39;49m\u001B[38;5;28;43minput\u001B[39;49m\u001B[43m,\u001B[49m\u001B[43m \u001B[49m\u001B[38;5;241;43m*\u001B[39;49m\u001B[38;5;241;43m*\u001B[39;49m\u001B[43mkwargs\u001B[49m\u001B[43m)\u001B[49m\n\u001B[1;32m   1191\u001B[0m \u001B[38;5;66;03m# Do not call functions when jit is used\u001B[39;00m\n\u001B[1;32m   1192\u001B[0m full_backward_hooks, non_full_backward_hooks \u001B[38;5;241m=\u001B[39m [], []\n",
      "Cell \u001B[0;32mIn [5], line 159\u001B[0m, in \u001B[0;36mEncoderDecoder.forward\u001B[0;34m(self, enc_X, dec_X, *args)\u001B[0m\n\u001B[1;32m    157\u001B[0m \u001B[38;5;28mprint\u001B[39m(\u001B[38;5;124m\"\u001B[39m\u001B[38;5;124mdec_state[1].shape:\u001B[39m\u001B[38;5;124m\"\u001B[39m, dec_state[\u001B[38;5;241m1\u001B[39m]\u001B[38;5;241m.\u001B[39mshape)\n\u001B[1;32m    158\u001B[0m \u001B[38;5;28mprint\u001B[39m(dec_state[\u001B[38;5;241m1\u001B[39m])\n\u001B[0;32m--> 159\u001B[0m \u001B[38;5;28;01mraise\u001B[39;00m \u001B[38;5;167;01mRuntimeError\u001B[39;00m(\u001B[38;5;124m\"\u001B[39m\u001B[38;5;124maaa\u001B[39m\u001B[38;5;124m\"\u001B[39m)\n\u001B[1;32m    160\u001B[0m \u001B[38;5;28;01mreturn\u001B[39;00m \u001B[38;5;28mself\u001B[39m\u001B[38;5;241m.\u001B[39mdecoder(dec_X, dec_state)\n",
      "\u001B[0;31mRuntimeError\u001B[0m: aaa"
     ]
    },
    {
     "data": {
      "text/plain": "<Figure size 350x250 with 1 Axes>",
      "image/svg+xml": "<?xml version=\"1.0\" encoding=\"utf-8\" standalone=\"no\"?>\n<!DOCTYPE svg PUBLIC \"-//W3C//DTD SVG 1.1//EN\"\n  \"http://www.w3.org/Graphics/SVG/1.1/DTD/svg11.dtd\">\n<svg xmlns:xlink=\"http://www.w3.org/1999/xlink\" width=\"240.554688pt\" height=\"173.477344pt\" viewBox=\"0 0 240.554688 173.477344\" xmlns=\"http://www.w3.org/2000/svg\" version=\"1.1\">\n <metadata>\n  <rdf:RDF xmlns:dc=\"http://purl.org/dc/elements/1.1/\" xmlns:cc=\"http://creativecommons.org/ns#\" xmlns:rdf=\"http://www.w3.org/1999/02/22-rdf-syntax-ns#\">\n   <cc:Work>\n    <dc:type rdf:resource=\"http://purl.org/dc/dcmitype/StillImage\"/>\n    <dc:date>2023-01-04T13:33:40.870693</dc:date>\n    <dc:format>image/svg+xml</dc:format>\n    <dc:creator>\n     <cc:Agent>\n      <dc:title>Matplotlib v3.5.1, https://matplotlib.org/</dc:title>\n     </cc:Agent>\n    </dc:creator>\n   </cc:Work>\n  </rdf:RDF>\n </metadata>\n <defs>\n  <style type=\"text/css\">*{stroke-linejoin: round; stroke-linecap: butt}</style>\n </defs>\n <g id=\"figure_1\">\n  <g id=\"patch_1\">\n   <path d=\"M 0 173.477344 \nL 240.554688 173.477344 \nL 240.554688 0 \nL 0 0 \nz\n\" style=\"fill: #ffffff\"/>\n  </g>\n  <g id=\"axes_1\">\n   <g id=\"patch_2\">\n    <path d=\"M 30.103125 149.599219 \nL 225.403125 149.599219 \nL 225.403125 10.999219 \nL 30.103125 10.999219 \nz\n\" style=\"fill: #ffffff\"/>\n   </g>\n   <g id=\"matplotlib.axis_1\">\n    <g id=\"xtick_1\">\n     <g id=\"line2d_1\">\n      <defs>\n       <path id=\"m9f93ba4d85\" d=\"M 0 0 \nL 0 3.5 \n\" style=\"stroke: #000000; stroke-width: 0.8\"/>\n      </defs>\n      <g>\n       <use xlink:href=\"#m9f93ba4d85\" x=\"30.103125\" y=\"149.599219\" style=\"stroke: #000000; stroke-width: 0.8\"/>\n      </g>\n     </g>\n     <g id=\"text_1\">\n      <!-- 0.0 -->\n      <g transform=\"translate(22.151563 164.197656)scale(0.1 -0.1)\">\n       <defs>\n        <path id=\"DejaVuSans-30\" d=\"M 2034 4250 \nQ 1547 4250 1301 3770 \nQ 1056 3291 1056 2328 \nQ 1056 1369 1301 889 \nQ 1547 409 2034 409 \nQ 2525 409 2770 889 \nQ 3016 1369 3016 2328 \nQ 3016 3291 2770 3770 \nQ 2525 4250 2034 4250 \nz\nM 2034 4750 \nQ 2819 4750 3233 4129 \nQ 3647 3509 3647 2328 \nQ 3647 1150 3233 529 \nQ 2819 -91 2034 -91 \nQ 1250 -91 836 529 \nQ 422 1150 422 2328 \nQ 422 3509 836 4129 \nQ 1250 4750 2034 4750 \nz\n\" transform=\"scale(0.015625)\"/>\n        <path id=\"DejaVuSans-2e\" d=\"M 684 794 \nL 1344 794 \nL 1344 0 \nL 684 0 \nL 684 794 \nz\n\" transform=\"scale(0.015625)\"/>\n       </defs>\n       <use xlink:href=\"#DejaVuSans-30\"/>\n       <use xlink:href=\"#DejaVuSans-2e\" x=\"63.623047\"/>\n       <use xlink:href=\"#DejaVuSans-30\" x=\"95.410156\"/>\n      </g>\n     </g>\n    </g>\n    <g id=\"xtick_2\">\n     <g id=\"line2d_2\">\n      <g>\n       <use xlink:href=\"#m9f93ba4d85\" x=\"69.163125\" y=\"149.599219\" style=\"stroke: #000000; stroke-width: 0.8\"/>\n      </g>\n     </g>\n     <g id=\"text_2\">\n      <!-- 0.2 -->\n      <g transform=\"translate(61.211563 164.197656)scale(0.1 -0.1)\">\n       <defs>\n        <path id=\"DejaVuSans-32\" d=\"M 1228 531 \nL 3431 531 \nL 3431 0 \nL 469 0 \nL 469 531 \nQ 828 903 1448 1529 \nQ 2069 2156 2228 2338 \nQ 2531 2678 2651 2914 \nQ 2772 3150 2772 3378 \nQ 2772 3750 2511 3984 \nQ 2250 4219 1831 4219 \nQ 1534 4219 1204 4116 \nQ 875 4013 500 3803 \nL 500 4441 \nQ 881 4594 1212 4672 \nQ 1544 4750 1819 4750 \nQ 2544 4750 2975 4387 \nQ 3406 4025 3406 3419 \nQ 3406 3131 3298 2873 \nQ 3191 2616 2906 2266 \nQ 2828 2175 2409 1742 \nQ 1991 1309 1228 531 \nz\n\" transform=\"scale(0.015625)\"/>\n       </defs>\n       <use xlink:href=\"#DejaVuSans-30\"/>\n       <use xlink:href=\"#DejaVuSans-2e\" x=\"63.623047\"/>\n       <use xlink:href=\"#DejaVuSans-32\" x=\"95.410156\"/>\n      </g>\n     </g>\n    </g>\n    <g id=\"xtick_3\">\n     <g id=\"line2d_3\">\n      <g>\n       <use xlink:href=\"#m9f93ba4d85\" x=\"108.223125\" y=\"149.599219\" style=\"stroke: #000000; stroke-width: 0.8\"/>\n      </g>\n     </g>\n     <g id=\"text_3\">\n      <!-- 0.4 -->\n      <g transform=\"translate(100.271563 164.197656)scale(0.1 -0.1)\">\n       <defs>\n        <path id=\"DejaVuSans-34\" d=\"M 2419 4116 \nL 825 1625 \nL 2419 1625 \nL 2419 4116 \nz\nM 2253 4666 \nL 3047 4666 \nL 3047 1625 \nL 3713 1625 \nL 3713 1100 \nL 3047 1100 \nL 3047 0 \nL 2419 0 \nL 2419 1100 \nL 313 1100 \nL 313 1709 \nL 2253 4666 \nz\n\" transform=\"scale(0.015625)\"/>\n       </defs>\n       <use xlink:href=\"#DejaVuSans-30\"/>\n       <use xlink:href=\"#DejaVuSans-2e\" x=\"63.623047\"/>\n       <use xlink:href=\"#DejaVuSans-34\" x=\"95.410156\"/>\n      </g>\n     </g>\n    </g>\n    <g id=\"xtick_4\">\n     <g id=\"line2d_4\">\n      <g>\n       <use xlink:href=\"#m9f93ba4d85\" x=\"147.283125\" y=\"149.599219\" style=\"stroke: #000000; stroke-width: 0.8\"/>\n      </g>\n     </g>\n     <g id=\"text_4\">\n      <!-- 0.6 -->\n      <g transform=\"translate(139.331563 164.197656)scale(0.1 -0.1)\">\n       <defs>\n        <path id=\"DejaVuSans-36\" d=\"M 2113 2584 \nQ 1688 2584 1439 2293 \nQ 1191 2003 1191 1497 \nQ 1191 994 1439 701 \nQ 1688 409 2113 409 \nQ 2538 409 2786 701 \nQ 3034 994 3034 1497 \nQ 3034 2003 2786 2293 \nQ 2538 2584 2113 2584 \nz\nM 3366 4563 \nL 3366 3988 \nQ 3128 4100 2886 4159 \nQ 2644 4219 2406 4219 \nQ 1781 4219 1451 3797 \nQ 1122 3375 1075 2522 \nQ 1259 2794 1537 2939 \nQ 1816 3084 2150 3084 \nQ 2853 3084 3261 2657 \nQ 3669 2231 3669 1497 \nQ 3669 778 3244 343 \nQ 2819 -91 2113 -91 \nQ 1303 -91 875 529 \nQ 447 1150 447 2328 \nQ 447 3434 972 4092 \nQ 1497 4750 2381 4750 \nQ 2619 4750 2861 4703 \nQ 3103 4656 3366 4563 \nz\n\" transform=\"scale(0.015625)\"/>\n       </defs>\n       <use xlink:href=\"#DejaVuSans-30\"/>\n       <use xlink:href=\"#DejaVuSans-2e\" x=\"63.623047\"/>\n       <use xlink:href=\"#DejaVuSans-36\" x=\"95.410156\"/>\n      </g>\n     </g>\n    </g>\n    <g id=\"xtick_5\">\n     <g id=\"line2d_5\">\n      <g>\n       <use xlink:href=\"#m9f93ba4d85\" x=\"186.343125\" y=\"149.599219\" style=\"stroke: #000000; stroke-width: 0.8\"/>\n      </g>\n     </g>\n     <g id=\"text_5\">\n      <!-- 0.8 -->\n      <g transform=\"translate(178.391563 164.197656)scale(0.1 -0.1)\">\n       <defs>\n        <path id=\"DejaVuSans-38\" d=\"M 2034 2216 \nQ 1584 2216 1326 1975 \nQ 1069 1734 1069 1313 \nQ 1069 891 1326 650 \nQ 1584 409 2034 409 \nQ 2484 409 2743 651 \nQ 3003 894 3003 1313 \nQ 3003 1734 2745 1975 \nQ 2488 2216 2034 2216 \nz\nM 1403 2484 \nQ 997 2584 770 2862 \nQ 544 3141 544 3541 \nQ 544 4100 942 4425 \nQ 1341 4750 2034 4750 \nQ 2731 4750 3128 4425 \nQ 3525 4100 3525 3541 \nQ 3525 3141 3298 2862 \nQ 3072 2584 2669 2484 \nQ 3125 2378 3379 2068 \nQ 3634 1759 3634 1313 \nQ 3634 634 3220 271 \nQ 2806 -91 2034 -91 \nQ 1263 -91 848 271 \nQ 434 634 434 1313 \nQ 434 1759 690 2068 \nQ 947 2378 1403 2484 \nz\nM 1172 3481 \nQ 1172 3119 1398 2916 \nQ 1625 2713 2034 2713 \nQ 2441 2713 2670 2916 \nQ 2900 3119 2900 3481 \nQ 2900 3844 2670 4047 \nQ 2441 4250 2034 4250 \nQ 1625 4250 1398 4047 \nQ 1172 3844 1172 3481 \nz\n\" transform=\"scale(0.015625)\"/>\n       </defs>\n       <use xlink:href=\"#DejaVuSans-30\"/>\n       <use xlink:href=\"#DejaVuSans-2e\" x=\"63.623047\"/>\n       <use xlink:href=\"#DejaVuSans-38\" x=\"95.410156\"/>\n      </g>\n     </g>\n    </g>\n    <g id=\"xtick_6\">\n     <g id=\"line2d_6\">\n      <g>\n       <use xlink:href=\"#m9f93ba4d85\" x=\"225.403125\" y=\"149.599219\" style=\"stroke: #000000; stroke-width: 0.8\"/>\n      </g>\n     </g>\n     <g id=\"text_6\">\n      <!-- 1.0 -->\n      <g transform=\"translate(217.451563 164.197656)scale(0.1 -0.1)\">\n       <defs>\n        <path id=\"DejaVuSans-31\" d=\"M 794 531 \nL 1825 531 \nL 1825 4091 \nL 703 3866 \nL 703 4441 \nL 1819 4666 \nL 2450 4666 \nL 2450 531 \nL 3481 531 \nL 3481 0 \nL 794 0 \nL 794 531 \nz\n\" transform=\"scale(0.015625)\"/>\n       </defs>\n       <use xlink:href=\"#DejaVuSans-31\"/>\n       <use xlink:href=\"#DejaVuSans-2e\" x=\"63.623047\"/>\n       <use xlink:href=\"#DejaVuSans-30\" x=\"95.410156\"/>\n      </g>\n     </g>\n    </g>\n   </g>\n   <g id=\"matplotlib.axis_2\">\n    <g id=\"ytick_1\">\n     <g id=\"line2d_7\">\n      <defs>\n       <path id=\"mb29fc7a483\" d=\"M 0 0 \nL -3.5 0 \n\" style=\"stroke: #000000; stroke-width: 0.8\"/>\n      </defs>\n      <g>\n       <use xlink:href=\"#mb29fc7a483\" x=\"30.103125\" y=\"149.599219\" style=\"stroke: #000000; stroke-width: 0.8\"/>\n      </g>\n     </g>\n     <g id=\"text_7\">\n      <!-- 0.0 -->\n      <g transform=\"translate(7.2 153.398438)scale(0.1 -0.1)\">\n       <use xlink:href=\"#DejaVuSans-30\"/>\n       <use xlink:href=\"#DejaVuSans-2e\" x=\"63.623047\"/>\n       <use xlink:href=\"#DejaVuSans-30\" x=\"95.410156\"/>\n      </g>\n     </g>\n    </g>\n    <g id=\"ytick_2\">\n     <g id=\"line2d_8\">\n      <g>\n       <use xlink:href=\"#mb29fc7a483\" x=\"30.103125\" y=\"121.879219\" style=\"stroke: #000000; stroke-width: 0.8\"/>\n      </g>\n     </g>\n     <g id=\"text_8\">\n      <!-- 0.2 -->\n      <g transform=\"translate(7.2 125.678438)scale(0.1 -0.1)\">\n       <use xlink:href=\"#DejaVuSans-30\"/>\n       <use xlink:href=\"#DejaVuSans-2e\" x=\"63.623047\"/>\n       <use xlink:href=\"#DejaVuSans-32\" x=\"95.410156\"/>\n      </g>\n     </g>\n    </g>\n    <g id=\"ytick_3\">\n     <g id=\"line2d_9\">\n      <g>\n       <use xlink:href=\"#mb29fc7a483\" x=\"30.103125\" y=\"94.159219\" style=\"stroke: #000000; stroke-width: 0.8\"/>\n      </g>\n     </g>\n     <g id=\"text_9\">\n      <!-- 0.4 -->\n      <g transform=\"translate(7.2 97.958438)scale(0.1 -0.1)\">\n       <use xlink:href=\"#DejaVuSans-30\"/>\n       <use xlink:href=\"#DejaVuSans-2e\" x=\"63.623047\"/>\n       <use xlink:href=\"#DejaVuSans-34\" x=\"95.410156\"/>\n      </g>\n     </g>\n    </g>\n    <g id=\"ytick_4\">\n     <g id=\"line2d_10\">\n      <g>\n       <use xlink:href=\"#mb29fc7a483\" x=\"30.103125\" y=\"66.439219\" style=\"stroke: #000000; stroke-width: 0.8\"/>\n      </g>\n     </g>\n     <g id=\"text_10\">\n      <!-- 0.6 -->\n      <g transform=\"translate(7.2 70.238438)scale(0.1 -0.1)\">\n       <use xlink:href=\"#DejaVuSans-30\"/>\n       <use xlink:href=\"#DejaVuSans-2e\" x=\"63.623047\"/>\n       <use xlink:href=\"#DejaVuSans-36\" x=\"95.410156\"/>\n      </g>\n     </g>\n    </g>\n    <g id=\"ytick_5\">\n     <g id=\"line2d_11\">\n      <g>\n       <use xlink:href=\"#mb29fc7a483\" x=\"30.103125\" y=\"38.719219\" style=\"stroke: #000000; stroke-width: 0.8\"/>\n      </g>\n     </g>\n     <g id=\"text_11\">\n      <!-- 0.8 -->\n      <g transform=\"translate(7.2 42.518438)scale(0.1 -0.1)\">\n       <use xlink:href=\"#DejaVuSans-30\"/>\n       <use xlink:href=\"#DejaVuSans-2e\" x=\"63.623047\"/>\n       <use xlink:href=\"#DejaVuSans-38\" x=\"95.410156\"/>\n      </g>\n     </g>\n    </g>\n    <g id=\"ytick_6\">\n     <g id=\"line2d_12\">\n      <g>\n       <use xlink:href=\"#mb29fc7a483\" x=\"30.103125\" y=\"10.999219\" style=\"stroke: #000000; stroke-width: 0.8\"/>\n      </g>\n     </g>\n     <g id=\"text_12\">\n      <!-- 1.0 -->\n      <g transform=\"translate(7.2 14.798438)scale(0.1 -0.1)\">\n       <use xlink:href=\"#DejaVuSans-31\"/>\n       <use xlink:href=\"#DejaVuSans-2e\" x=\"63.623047\"/>\n       <use xlink:href=\"#DejaVuSans-30\" x=\"95.410156\"/>\n      </g>\n     </g>\n    </g>\n   </g>\n   <g id=\"patch_3\">\n    <path d=\"M 30.103125 149.599219 \nL 30.103125 10.999219 \n\" style=\"fill: none; stroke: #000000; stroke-width: 0.8; stroke-linejoin: miter; stroke-linecap: square\"/>\n   </g>\n   <g id=\"patch_4\">\n    <path d=\"M 225.403125 149.599219 \nL 225.403125 10.999219 \n\" style=\"fill: none; stroke: #000000; stroke-width: 0.8; stroke-linejoin: miter; stroke-linecap: square\"/>\n   </g>\n   <g id=\"patch_5\">\n    <path d=\"M 30.103125 149.599219 \nL 225.403125 149.599219 \n\" style=\"fill: none; stroke: #000000; stroke-width: 0.8; stroke-linejoin: miter; stroke-linecap: square\"/>\n   </g>\n   <g id=\"patch_6\">\n    <path d=\"M 30.103125 10.999219 \nL 225.403125 10.999219 \n\" style=\"fill: none; stroke: #000000; stroke-width: 0.8; stroke-linejoin: miter; stroke-linecap: square\"/>\n   </g>\n  </g>\n </g>\n</svg>\n"
     },
     "metadata": {},
     "output_type": "display_data"
    }
   ],
   "source": [
    "import math\n",
    "import pandas as pd\n",
    "import torch\n",
    "from torch import nn\n",
    "from d2l import torch as d2l\n",
    "\n",
    "#@save\n",
    "class TransformerEncoderBlock(nn.Module):\n",
    "    \"\"\"Transformer编码器块\"\"\"\n",
    "    def __init__(self, key_size, query_size, value_size, num_hiddens,\n",
    "                 norm_shape, ffn_num_input, ffn_num_hiddens, num_heads,\n",
    "                 dropout, use_bias=False, **kwargs):\n",
    "        super(TransformerEncoderBlock, self).__init__(**kwargs)\n",
    "        self.attention = d2l.MultiHeadAttention(\n",
    "            key_size, query_size, value_size, num_hiddens, num_heads, dropout,\n",
    "            use_bias)\n",
    "        self.addnorm1 = d2l.AddNorm(norm_shape, dropout)\n",
    "        self.ffn = d2l.PositionWiseFFN(\n",
    "            ffn_num_input, ffn_num_hiddens, num_hiddens)\n",
    "        self.addnorm2 = d2l.AddNorm(norm_shape, dropout)\n",
    "\n",
    "    def forward(self, X, valid_lens):\n",
    "        Y = self.addnorm1(X, self.attention(X, X, X, valid_lens))\n",
    "        return self.addnorm2(Y, self.ffn(Y))\n",
    "#@save\n",
    "class TransformerEncoder(d2l.Encoder):\n",
    "    \"\"\"Transformer编码器\"\"\"\n",
    "    def __init__(self, vocab_size, key_size, query_size, value_size,\n",
    "                 num_hiddens, norm_shape, ffn_num_input, ffn_num_hiddens,\n",
    "                 num_heads, num_layers, dropout, use_bias=False, **kwargs):\n",
    "        super(TransformerEncoder, self).__init__(**kwargs)\n",
    "        self.num_hiddens = num_hiddens\n",
    "        self.embedding = nn.Embedding(vocab_size, num_hiddens)\n",
    "        self.pos_encoding = d2l.PositionalEncoding(num_hiddens, dropout)\n",
    "        self.blks = nn.Sequential()\n",
    "        for i in range(num_layers):\n",
    "            self.blks.add_module(\"block\"+str(i),\n",
    "                TransformerEncoderBlock(key_size, query_size, value_size, num_hiddens,\n",
    "                             norm_shape, ffn_num_input, ffn_num_hiddens,\n",
    "                             num_heads, dropout, use_bias))\n",
    "\n",
    "    def forward(self, X, valid_lens, *args):\n",
    "        # 因为位置编码值在-1和1之间，\n",
    "        # 因此嵌入值乘以嵌入维度的平方根进行缩放，\n",
    "        # 然后再与位置编码相加。\n",
    "        X = self.pos_encoding(self.embedding(X) * math.sqrt(self.num_hiddens))\n",
    "        self.attention_weights = [None] * len(self.blks)\n",
    "        for i, blk in enumerate(self.blks):\n",
    "            X = blk(X, valid_lens)\n",
    "            self.attention_weights[\n",
    "                i] = blk.attention.attention.attention_weights\n",
    "        return X\n",
    "\n",
    "class TransformerDecoderBlock(nn.Module):\n",
    "    \"\"\"解码器中第i个块\"\"\"\n",
    "    def __init__(self, key_size, query_size, value_size, num_hiddens,\n",
    "                 norm_shape, ffn_num_input, ffn_num_hiddens, num_heads,\n",
    "                 dropout, i, **kwargs):\n",
    "        super(TransformerDecoderBlock, self).__init__(**kwargs)\n",
    "        self.i = i\n",
    "        self.attention1 = d2l.MultiHeadAttention(\n",
    "            key_size, query_size, value_size, num_hiddens, num_heads, dropout)\n",
    "        self.addnorm1 = d2l.AddNorm(norm_shape, dropout)\n",
    "        self.attention2 = d2l.MultiHeadAttention(\n",
    "            key_size, query_size, value_size, num_hiddens, num_heads, dropout)\n",
    "        self.addnorm2 = d2l.AddNorm(norm_shape, dropout)\n",
    "        self.ffn = d2l.PositionWiseFFN(ffn_num_input, ffn_num_hiddens,\n",
    "                                   num_hiddens)\n",
    "        self.addnorm3 = d2l.AddNorm(norm_shape, dropout)\n",
    "\n",
    "    def forward(self, X, state):\n",
    "        enc_outputs, enc_valid_lens = state[0], state[1]\n",
    "        # 训练阶段，输出序列的所有词元都在同一时间处理，\n",
    "        # 因此state[2][self.i]初始化为None。\n",
    "        # 预测阶段，输出序列是通过词元一个接着一个解码的，\n",
    "        # 因此state[2][self.i]包含着直到当前时间步第i个块解码的输出表示\n",
    "        if state[2][self.i] is None:\n",
    "            key_values = X\n",
    "        else:\n",
    "            key_values = torch.cat((state[2][self.i], X), axis=1)\n",
    "        state[2][self.i] = key_values\n",
    "        if self.training:\n",
    "            batch_size, num_steps, _ = X.shape\n",
    "            # dec_valid_lens的开头:(batch_size,num_steps),\n",
    "            # 其中每一行是[1,2,...,num_steps]\n",
    "            dec_valid_lens = torch.arange(\n",
    "                1, num_steps + 1, device=X.device).repeat(batch_size, 1)\n",
    "        else:\n",
    "            dec_valid_lens = None\n",
    "\n",
    "        # 自注意力\n",
    "        X2 = self.attention1(X, key_values, key_values, dec_valid_lens)\n",
    "        Y = self.addnorm1(X, X2)\n",
    "        # 编码器－解码器注意力。\n",
    "        # enc_outputs的开头:(batch_size,num_steps,num_hiddens)\n",
    "        Y2 = self.attention2(Y, enc_outputs, enc_outputs, enc_valid_lens)\n",
    "        Z = self.addnorm2(Y, Y2)\n",
    "        return self.addnorm3(Z, self.ffn(Z)), state\n",
    "\n",
    "class TransformerDecoder(d2l.AttentionDecoder):\n",
    "    def __init__(self, vocab_size, key_size, query_size, value_size,\n",
    "                 num_hiddens, norm_shape, ffn_num_input, ffn_num_hiddens,\n",
    "                 num_heads, num_layers, dropout, **kwargs):\n",
    "        super(TransformerDecoder, self).__init__(**kwargs)\n",
    "        self.num_hiddens = num_hiddens\n",
    "        self.num_layers = num_layers\n",
    "        self.embedding = nn.Embedding(vocab_size, num_hiddens)\n",
    "        self.pos_encoding = d2l.PositionalEncoding(num_hiddens, dropout)\n",
    "        self.blks = nn.Sequential()\n",
    "        for i in range(num_layers):\n",
    "            self.blks.add_module(\"block\"+str(i),\n",
    "                TransformerDecoderBlock(key_size, query_size, value_size, num_hiddens,\n",
    "                             norm_shape, ffn_num_input, ffn_num_hiddens,\n",
    "                             num_heads, dropout, i))\n",
    "        self.dense = nn.Linear(num_hiddens, vocab_size)\n",
    "\n",
    "\n",
    "    def init_state(self, enc_outputs, enc_valid_lens, *args):\n",
    "        return [enc_outputs, enc_valid_lens, [None] * self.num_layers]\n",
    "\n",
    "    def forward(self, X, state):\n",
    "        X = self.pos_encoding(self.embedding(X) * math.sqrt(self.num_hiddens))\n",
    "        self._attention_weights = [[None] * len(self.blks) for _ in range (2)]\n",
    "        for i, blk in enumerate(self.blks):\n",
    "            X, state = blk(X, state)\n",
    "            # 解码器自注意力权重\n",
    "            self._attention_weights[0][\n",
    "                i] = blk.attention1.attention.attention_weights\n",
    "            # “编码器－解码器”自注意力权重\n",
    "            self._attention_weights[1][\n",
    "                i] = blk.attention2.attention.attention_weights\n",
    "        return self.dense(X), state\n",
    "\n",
    "    @property\n",
    "    def attention_weights(self):\n",
    "        return self._attention_weights\n",
    "\n",
    "class EncoderDecoder(nn.Module):\n",
    "    \"\"\"The base class for the encoder-decoder architecture.\n",
    "\n",
    "    Defined in :numref:`sec_encoder-decoder`\"\"\"\n",
    "    def __init__(self, encoder, decoder, **kwargs):\n",
    "        super(EncoderDecoder, self).__init__(**kwargs)\n",
    "        self.encoder = encoder\n",
    "        self.decoder = decoder\n",
    "\n",
    "    def forward(self, enc_X, dec_X, *args):\n",
    "        enc_outputs = self.encoder(enc_X, *args)\n",
    "        dec_state = self.decoder.init_state(enc_outputs, *args)\n",
    "        print(\"enc_X.dtype:\", enc_X.dtype)\n",
    "        print(\"enc_X.shape:\", enc_X.shape)\n",
    "        print(\"dec_X.dtype:\", dec_X.dtype)\n",
    "        print(\"dec_X.shape:\", dec_X.shape)\n",
    "        print(enc_X)\n",
    "        print(dec_X)\n",
    "        print(\"enc_outputs.shape:\", enc_outputs.shape)\n",
    "        print(\"dec_state[0].shape:\", dec_state[0].shape)\n",
    "        print(\"dec_state[1].shape:\", dec_state[1].shape)\n",
    "        print(dec_state[1])\n",
    "        raise RuntimeError(\"aaa\")\n",
    "        return self.decoder(dec_X, dec_state)\n",
    "\n",
    "\n",
    "num_hiddens, num_layers, dropout, batch_size, num_steps = 32, 2, 0.1, 64, 10\n",
    "lr, num_epochs, device = 0.005, 200, torch.device('cuda')\n",
    "ffn_num_input, ffn_num_hiddens, num_heads = 32, 64, 4\n",
    "key_size, query_size, value_size = 32, 32, 32\n",
    "norm_shape = [32]\n",
    "\n",
    "train_iter, src_vocab, tgt_vocab = d2l.load_data_nmt(batch_size, num_steps)\n",
    "\n",
    "encoder = d2l.TransformerEncoder(\n",
    "    len(src_vocab), key_size, query_size, value_size, num_hiddens,\n",
    "    norm_shape, ffn_num_input, ffn_num_hiddens, num_heads,\n",
    "    num_layers, dropout)\n",
    "decoder = TransformerDecoder(\n",
    "    len(tgt_vocab), key_size, query_size, value_size, num_hiddens,\n",
    "    norm_shape, ffn_num_input, ffn_num_hiddens, num_heads,\n",
    "    num_layers, dropout)\n",
    "net = EncoderDecoder(encoder, decoder)\n",
    "d2l.train_seq2seq(net, train_iter, lr, num_epochs, tgt_vocab, device)"
   ],
   "metadata": {
    "collapsed": false
   }
  }
 ],
 "metadata": {
  "kernelspec": {
   "name": "dls",
   "language": "python",
   "display_name": "dls"
  },
  "language_info": {
   "codemirror_mode": {
    "name": "ipython",
    "version": 3
   },
   "file_extension": ".py",
   "mimetype": "text/x-python",
   "name": "python",
   "nbconvert_exporter": "python",
   "pygments_lexer": "ipython3",
   "version": "3.9.7"
  }
 },
 "nbformat": 4,
 "nbformat_minor": 5
}
