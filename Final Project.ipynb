{
 "cells": [
  {
   "cell_type": "markdown",
   "source": [
    "# Final Project - Transformer Implementation\n",
    "**Authors**:\n",
    "* Yuxuan Sun: <yuxuan_eric_sun@outlook.com>\n",
    "* Sergey: <seriy.karp2@gmail.com>\n",
    "* Haitao Gao: <haitaogao423@gmail.com>\n",
    "\n",
    "**Code Repository**: <https://github.com/Erostrate9/needle>\n"
   ],
   "metadata": {
    "collapsed": false
   }
  },
  {
   "cell_type": "markdown",
   "source": [
    "## Introduction\n",
    "To sum up what we learned during *10-714: Deep Learning Systems*, we've implemented the Transformer architecture and its corresponding modules with our self-made *needle*.\n",
    "\n",
    "The overall goal of our *Final Project* is to implement the trainable Transformer architecture [1], which can be divided into some ingredients — Multi-Head Attention, Self-Attention and Positional Encoding, and The Transformer Architecture (Positionwise Feed-Forward Networks, Residual Connection and Layer Normalization, Transformer Encoder Block & Encoder, Transformer Decoder Block & Decoder, and Encoder-Decoder Seq2Seq model.)\n",
    "\n",
    "In this project, in order to simplify the verification of numerical correctness, we use the implementation of d2l.ai [2] for reference, and its PyTorch implementation [3] has been cited for comparison.\n",
    "\n",
    "[1]: Vaswani, Ashish, Noam Shazeer, Niki Parmar, Jakob Uszkoreit, Llion Jones, Aidan N. Gomez, Łukasz Kaiser, and Illia Polosukhin. \"Attention is all you need.\" Advances in neural information processing systems 30, 2017.\n",
    "[2]: Zhang, Aston, Zachary C. Lipton, Mu Li, and Alexander J. Smola. \"Dive into deep learning.\" arXiv preprint arXiv:2106.11342, 2021.\n",
    "[3]: Zhang, Aston and Lipton, Zachary C. and Li, Mu and Smola, Alexander J., “Releases v0.17.5 · D2L-ai/D2L-en-pytorch,” GitHub, 27-May-2022. [Online]. Available: <https://github.com/d2l-ai/d2l-en/releases/download/v0.17.5/d2l-en-pytorch.pdf>\n"
   ],
   "metadata": {
    "collapsed": false
   }
  },
  {
   "cell_type": "markdown",
   "source": [
    "## Multi-Head Attention\n",
    "![Multi-head attention, where multiple heads are concatenated then linearly transformed.[2, Fig. 11.5.1]](https://d2l.ai/_images/multi-head-attention.svg)\n",
    "### Model\n",
    "As Prof. Zico Kolter has introduced the mechanism of self-attention and Transformer in Lecture 20 & 21, we'll briefly describe the theory part in this report and focus on its implementation.\n",
    "According to [4], the practical implementation of attention normally used is what we called *multi-head attention*, which means that we run the self-attention mechanism of different subsets of the $K$, $Q$, $V$ terms, then concatenate them together.  Formally, we'll partition these terms as\n",
    "\\begin{equation}\n",
    "K = \\begin{bmatrix} K_1 & K_2 & \\cdots & K_{\\mathrm{heads}} \\end{bmatrix}\n",
    "\\end{equation}\n",
    "(and similarly for $Q$ and $V$.\n",
    "\n",
    "Then will form the self attention outputs\n",
    "\\begin{equation}\n",
    "Y_i = \\mathrm{softmax}\\left(\\frac{K_iQ_i^T}{\\sqrt{d/\\mathrm{heads}}}\\right)V_i\n",
    "\\end{equation}\n",
    "and then form the final ouput\n",
    "\\begin{equation}\n",
    "Y = \\begin{bmatrix} Y_1 & Y_2 & \\cdots & Y_{\\mathrm{heads}} \\end{bmatrix} W_o.\n",
    "\\end{equation}\n",
    "\n",
    "[4]: Z. Kolter, “Public_notebooks/transformer_implementation.ipynb at main · dlsyscourse/public_notebooks,” Deep Learning Systems 21 - Transformers + Attention Implementation, 15-Nov-2022. [Online]. Available: https://github.com/dlsyscourse/public_notebooks/blob/main/transformer_implementation.ipynb.\n",
    "\n",
    "### Implementation\n",
    "First, we\n",
    "For each head of the multi-head attention, we choose the scaled dot-product attention, where a masked softmax operation is used to output a probability distribution as attention weights.\n",
    "```python\n",
    "class DotProductAttention(Module):\n",
    "    \"\"\"Scaled dot product attention.\"\"\"\n",
    "\n",
    "    def __init__(self, dropout):\n",
    "        super().__init__()\n",
    "        self.dropout = Dropout(dropout)\n",
    "\n",
    "    # Shape of queries: (batch_size, no. of queries, d)\n",
    "    # Shape of keys: (batch_size, no. of key-value pairs, d)\n",
    "    # Shape of values: (batch_size, no. of key-value pairs, value dimension)\n",
    "    # Shape of valid_lens: (batch_size,) or (batch_size, no. of queries)\n",
    "    def masked_softmax(self, X, valid_lens):\n",
    "        # valid_lens: numpy array\n",
    "        def _sequence_mask(X: Tensor, valid_lens, value=0):\n",
    "            # X: n * d\n",
    "            maxlen = X.shape[-1]\n",
    "            mask = (torch.arange((maxlen), dtype=torch.float32)[None, :].numpy() < valid_lens[:, None])\n",
    "            mask_mul = mask.astype(np.float32)\n",
    "            mask_add = (~mask).astype(np.float32) * value\n",
    "            mask_mul = Tensor(mask_mul, device=X.device, dtype=X.dtype, requires_grad=False)\n",
    "            mask_add = Tensor(mask_add, device=X.device, dtype=X.dtype, requires_grad=False)\n",
    "            return X * mask_mul + mask_add\n",
    "\n",
    "        if valid_lens is None:\n",
    "            return ops.softmax(X)\n",
    "        else:\n",
    "            shape = X.shape\n",
    "            if len(valid_lens.shape) == 1:\n",
    "                assert valid_lens.shape[0] == X.shape[0]\n",
    "                valid_lens = valid_lens.repeat(X.shape[1])\n",
    "            else:\n",
    "                valid_lens = valid_lens.reshape(-1)\n",
    "            # On the last axis, replace masked elements with a very large negative\n",
    "            # value, whose exponentiation outputs 0\n",
    "            X = _sequence_mask(X.reshape((prod(shape[:-1]), shape[-1])), valid_lens, value=-1e6)\n",
    "            return ops.softmax(X.reshape(shape))\n",
    "\n",
    "    def forward(self, queries, keys, values, valid_lens=None):\n",
    "        d = queries.shape[-1]\n",
    "        # Swap the last two dimensions of keys with keys.transpose(1, 2)\n",
    "        scores = ops.bmm(queries, keys.transpose((1, 2))) / math.sqrt(d)\n",
    "        self.attention_weights = self.masked_softmax(scores, valid_lens)\n",
    "        return ops.bmm(self.dropout(self.attention_weights), values)\n",
    "```\n",
    "```python\n",
    "class MultiHeadAttention(Module):\n",
    "    \"\"\"Multi-head attention.\"\"\"\n",
    "\n",
    "    def __init__(self, key_size, query_size, value_size, num_hiddens,\n",
    "                 num_heads, dropout, bias=False, device=None, dtype=\"float32\"):\n",
    "        super().__init__()\n",
    "        self.num_heads = num_heads\n",
    "        self.attention = DotProductAttention(dropout)\n",
    "        self.W_q = Linear(query_size, num_hiddens, bias=bias, device=device, dtype=dtype)\n",
    "        self.W_k = Linear(key_size, num_hiddens, bias=bias, device=device, dtype=dtype)\n",
    "        self.W_v = Linear(value_size, num_hiddens, bias=bias, device=device, dtype=dtype)\n",
    "        self.W_o = Linear(num_hiddens, num_hiddens, bias=bias, device=device, dtype=dtype)\n",
    "\n",
    "    def forward(self, queries, keys, values, valid_lens):\n",
    "        # Shape of queries, keys, or values:\n",
    "        # (batch_size, no. of queries or key-value pairs, num_hiddens)\n",
    "        # Shape of valid_lens: (batch_size,) or (batch_size, no. of queries)\n",
    "        # After transposing, shape of output queries, keys, or values:\n",
    "        # (batch_size * num_heads, no. of queries or key-value pairs,\n",
    "        # num_hiddens / num_heads)\n",
    "        queries = self.transpose_qkv(self.W_q(queries))\n",
    "        keys = self.transpose_qkv(self.W_k(keys))\n",
    "        values = self.transpose_qkv(self.W_v(values))\n",
    "        if valid_lens is not None:\n",
    "            # On axis 0, copy the first item (scalar or vector) for num_heads\n",
    "            # times, then copy the next item, and so on\n",
    "            valid_lens = valid_lens.repeat(repeats=self.num_heads, axis=0)\n",
    "\n",
    "        # Shape of output: (batch_size * num_heads, no. of queries,\n",
    "        # num_hiddens / num_heads)\n",
    "        output = self.attention(queries, keys, values, valid_lens)\n",
    "        # Shape of output_concat: (batch_size, no. of queries, num_hiddens)\n",
    "        output_concat = self.transpose_output(output)\n",
    "        return self.W_o(output_concat)\n",
    "\n",
    "    def transpose_qkv(self, X):\n",
    "        \"\"\"Transposition for parallel computation of multiple attention heads.\"\"\"\n",
    "        # Shape of input X: (batch_size, no. of queries or key-value pairs,\n",
    "        # num_hiddens). Shape of output X: (batch_size, no. of queries or\n",
    "        # key-value pairs, num_heads, num_hiddens / num_heads)\n",
    "        X = X.reshape((X.shape[0], X.shape[1], self.num_heads, -1))\n",
    "        # Shape of output X: (batch_size, num_heads, no. of queries or key-value\n",
    "        # pairs, num_hiddens / num_heads)\n",
    "        X = X.permute((0, 2, 1, 3))\n",
    "        # Shape of output: (batch_size * num_heads, no. of queries or key-value\n",
    "        # pairs, num_hiddens / num_heads)\n",
    "        X = X.reshape((-1, X.shape[2], X.shape[3]))\n",
    "        return X\n",
    "\n",
    "    def transpose_output(self, X):\n",
    "        \"\"\"Reverse the operation of transpose_qkv.\"\"\"\n",
    "        X = X.reshape((-1, self.num_heads, X.shape[1], X.shape[2]))\n",
    "        X = X.permute((0, 2, 1, 3))\n",
    "        return X.reshape((X.shape[0], X.shape[1], -1))\n",
    "```"
   ],
   "metadata": {
    "collapsed": false
   }
  },
  {
   "cell_type": "markdown",
   "source": [],
   "metadata": {
    "collapsed": false
   }
  },
  {
   "cell_type": "code",
   "execution_count": 15,
   "outputs": [
    {
     "name": "stdout",
     "output_type": "stream",
     "text": [
      "a: 0.0\n",
      "mean: 0.0\n"
     ]
    }
   ],
   "source": [
    "import torch\n",
    "import numpy as np\n",
    "maxlen = 40\n",
    "valid_lens = np.array([3,2])\n",
    "a = torch.arange((maxlen), dtype=torch.float32)[None, :]\n",
    "a_ = np.arange(maxlen, dtype=np.float32)[None, :]\n",
    "print(\"a:\", np.linalg.norm(a.numpy() - a_))\n",
    "x = torch.normal(3,4,(3,4,5))\n",
    "y = x.mean(dim=1)\n",
    "y_ = x.sum(dim=1) / x.shape[1]\n",
    "print(\"mean:\", np.linalg.norm(y.numpy() - y_.numpy()))\n",
    "# mask = (torch.arange((maxlen), dtype=torch.float32)[None, :].numpy() < valid_lens[:, None])"
   ],
   "metadata": {
    "collapsed": false
   }
  },
  {
   "cell_type": "code",
   "execution_count": 66,
   "metadata": {
    "collapsed": true
   },
   "outputs": [
    {
     "name": "stdout",
     "output_type": "stream",
     "text": [
      "0.0\n"
     ]
    }
   ],
   "source": [
    "import numpy as np\n",
    "import torch.nn.functional as F\n",
    "def one_hot(n, i):\n",
    "    return np.eye(n)[i]\n",
    "\n",
    "target = torch.empty((64, 10, 15, 4), dtype=torch.long).random_(201)\n",
    "\n",
    "oh = F.one_hot(target)\n",
    "oh_ = one_hot(201, target.detach().numpy())\n",
    "print(np.linalg.norm(oh.detach().numpy()-oh_))"
   ]
  },
  {
   "cell_type": "code",
   "execution_count": 68,
   "outputs": [
    {
     "data": {
      "text/plain": "(0, 3, 1, 2)"
     },
     "execution_count": 68,
     "metadata": {},
     "output_type": "execute_result"
    }
   ],
   "source": [
    "y_one_hot = np.random.randn(64, 10, 15, 201)\n",
    "\n",
    "axes = ((0, len(y_one_hot.shape)-1, *tuple(range(len(y_one_hot.shape)))[1:-1])) if len(y_one_hot.shape)>1 else (0,)\n",
    "axes"
   ],
   "metadata": {
    "collapsed": false
   }
  }
 ],
 "metadata": {
  "kernelspec": {
   "display_name": "Python 3",
   "language": "python",
   "name": "python3"
  },
  "language_info": {
   "codemirror_mode": {
    "name": "ipython",
    "version": 2
   },
   "file_extension": ".py",
   "mimetype": "text/x-python",
   "name": "python",
   "nbconvert_exporter": "python",
   "pygments_lexer": "ipython2",
   "version": "2.7.6"
  }
 },
 "nbformat": 4,
 "nbformat_minor": 0
}
