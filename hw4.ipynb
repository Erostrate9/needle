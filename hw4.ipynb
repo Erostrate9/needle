{
 "cells": [
  {
   "cell_type": "markdown",
   "metadata": {
    "id": "-sj3FSgV7zGI"
   },
   "source": [
    "# 10-714 Homework 4\n",
    "\n",
    "In this homework, you will leverage all of the components built in the last three homeworks to solve some modern problems with high performing network structures. We will start by adding a few new ops leveraging our new CPU/CUDA backends. Then, you will implement convolution, and a convolutional neural network to train a classifier on the CIFAR-10 image classification dataset. Then, you will implement recurrent and long-short term memory (LSTM) neural networks, and do word-level prediction language modeling on the Penn Treebank dataset.\n",
    "\n",
    "As always, we will start by copying this notebook and getting the starting code.\n",
    "Reminder: __you must save a copy in drive__."
   ]
  },
  {
   "cell_type": "code",
   "execution_count": 1,
   "metadata": {
    "colab": {
     "base_uri": "https://localhost:8080/"
    },
    "executionInfo": {
     "elapsed": 44419,
     "status": "ok",
     "timestamp": 1670824203726,
     "user": {
      "displayName": "Herostratus Young",
      "userId": "10311623262248876276"
     },
     "user_tz": -480
    },
    "id": "qWskaxYF7zGM",
    "outputId": "fc81d5f7-48d0-4303-a517-67a2dbe43b41"
   },
   "outputs": [
    {
     "name": "stdout",
     "output_type": "stream",
     "text": [
      "Mounted at /content/drive\n",
      "/content/drive/MyDrive/dls_hw4\n",
      "Looking in indexes: https://pypi.org/simple, https://us-python.pkg.dev/colab-wheels/public/simple/\n",
      "Collecting git+https://github.com/dlsys10714/mugrade.git\n",
      "  Cloning https://github.com/dlsys10714/mugrade.git to /tmp/pip-req-build-ccmac99_\n",
      "  Running command git clone -q https://github.com/dlsys10714/mugrade.git /tmp/pip-req-build-ccmac99_\n",
      "Building wheels for collected packages: mugrade\n",
      "  Building wheel for mugrade (setup.py) ... \u001B[?25l\u001B[?25hdone\n",
      "  Created wheel for mugrade: filename=mugrade-1.2-py3-none-any.whl size=3969 sha256=e77426a399d8fe78bc6f7457191c68450e8c2945e0c83538bf4e630a44e3907d\n",
      "  Stored in directory: /tmp/pip-ephem-wheel-cache-y35nn6_7/wheels/3b/27/4a/35539c24fda8ad9b0903b5e7fd1bf16d682b75d0b402a299a5\n",
      "Successfully built mugrade\n",
      "Installing collected packages: mugrade\n",
      "Successfully installed mugrade-1.2\n",
      "Looking in indexes: https://pypi.org/simple, https://us-python.pkg.dev/colab-wheels/public/simple/\n",
      "Collecting pybind11\n",
      "  Downloading pybind11-2.10.1-py3-none-any.whl (216 kB)\n",
      "\u001B[K     |████████████████████████████████| 216 kB 23.3 MB/s \n",
      "\u001B[?25hInstalling collected packages: pybind11\n",
      "Successfully installed pybind11-2.10.1\n"
     ]
    }
   ],
   "source": [
    "# Code to set up the assignment\n",
    "# from google.colab import drive\n",
    "# drive.mount('/content/drive')\n",
    "# %cd /content/drive/MyDrive/\n",
    "# !mkdir -p 10714\n",
    "# %cd /content/drive/MyDrive/10714\n",
    "# !git clone https://github.com/dlsys10714/hw4.git\n",
    "# %cd /content/drive/MyDrive/dls_hw4\n",
    "\n",
    "# !pip3 install --upgrade --no-deps git+https://github.com/dlsys10714/mugrade.git\n",
    "# !pip3 install pybind11"
   ]
  },
  {
   "cell_type": "code",
   "execution_count": 1,
   "metadata": {
    "id": "egDTUpN57zGN",
    "outputId": "01ef106d-249f-40a4-d17c-183204858683"
   },
   "outputs": [
    {
     "name": "stdout",
     "output_type": "stream",
     "text": [
      "/home/erostrate9/PycharmProjects/needle\n"
     ]
    }
   ],
   "source": [
    "%cd /home/erostrate9/PycharmProjects/needle"
   ]
  },
  {
   "cell_type": "code",
   "execution_count": 8,
   "metadata": {
    "colab": {
     "base_uri": "https://localhost:8080/"
    },
    "executionInfo": {
     "elapsed": 31757,
     "status": "ok",
     "timestamp": 1670808610191,
     "user": {
      "displayName": "Herostratus Young",
      "userId": "10311623262248876276"
     },
     "user_tz": -480
    },
    "id": "Sk5RnNG07zGO",
    "outputId": "41761c84-60ec-415d-b58f-942a410b20fc"
   },
   "outputs": [
    {
     "name": "stdout",
     "output_type": "stream",
     "text": [
      "rm -rf build python/needle/backend_ndarray/ndarray_backend*.so\r\n",
      "-- The C compiler identification is GNU 10.4.0\r\n",
      "-- The CXX compiler identification is GNU 10.4.0\r\n",
      "-- Detecting C compiler ABI info\r\n",
      "-- Detecting C compiler ABI info - done\r\n",
      "-- Check for working C compiler: /usr/bin/cc - skipped\r\n",
      "-- Detecting C compile features\r\n",
      "-- Detecting C compile features - done\r\n",
      "-- Detecting CXX compiler ABI info\r\n",
      "-- Detecting CXX compiler ABI info - done\r\n",
      "-- Check for working CXX compiler: /usr/bin/c++ - skipped\r\n",
      "-- Detecting CXX compile features\r\n",
      "-- Detecting CXX compile features - done\r\n",
      "-- Found Python: /home/erostrate9/anaconda3/envs/dls/bin/python3.9 (found version \"3.9.15\") found components: Development Interpreter Development.Module Development.Embed \r\n",
      "-- Performing Test HAS_FLTO\r\n",
      "-- Performing Test HAS_FLTO - Success\r\n",
      "-- Found pybind11: /home/erostrate9/anaconda3/envs/dls/include (found version \"2.10.1\")\r\n",
      "-- Looking for pthread.h\r\n",
      "-- Looking for pthread.h - found\r\n",
      "-- Performing Test CMAKE_HAVE_LIBC_PTHREAD\r\n",
      "-- Performing Test CMAKE_HAVE_LIBC_PTHREAD - Success\r\n",
      "-- Found Threads: TRUE  \r\n",
      "-- Found CUDA: /usr/lib/cuda (found version \"11.2\") \r\n",
      "-- Found cuda, building cuda backend\r\n",
      "Mon Dec 12 22:26:34 2022       \r\n",
      "+-----------------------------------------------------------------------------+\r\n",
      "| NVIDIA-SMI 525.60.11    Driver Version: 525.60.11    CUDA Version: 12.0     |\r\n",
      "|-------------------------------+----------------------+----------------------+\r\n",
      "| GPU  Name        Persistence-M| Bus-Id        Disp.A | Volatile Uncorr. ECC |\r\n",
      "| Fan  Temp  Perf  Pwr:Usage/Cap|         Memory-Usage | GPU-Util  Compute M. |\r\n",
      "|                               |                      |               MIG M. |\r\n",
      "|===============================+======================+======================|\r\n",
      "|   0  NVIDIA GeForce ...  Off  | 00000000:01:00.0  On |                  N/A |\r\n",
      "| N/A   48C    P0    23W /  N/A |    981MiB /  6144MiB |     14%      Default |\r\n",
      "|                               |                      |                  N/A |\r\n",
      "+-------------------------------+----------------------+----------------------+\r\n",
      "                                                                               \r\n",
      "+-----------------------------------------------------------------------------+\r\n",
      "| Processes:                                                                  |\r\n",
      "|  GPU   GI   CI        PID   Type   Process name                  GPU Memory |\r\n",
      "|        ID   ID                                                   Usage      |\r\n",
      "|=============================================================================|\r\n",
      "|    0   N/A  N/A     11055      G   /usr/lib/xorg/Xorg                534MiB |\r\n",
      "|    0   N/A  N/A     11249      G   /usr/bin/gnome-shell              266MiB |\r\n",
      "|    0   N/A  N/A     14611    C+G   ...506239274169265671,131072      177MiB |\r\n",
      "+-----------------------------------------------------------------------------+\r\n",
      "-- Autodetected CUDA architecture(s):  7.5\r\n",
      "-- Configuring done\r\n",
      "-- Generating done\r\n",
      "-- Build files have been written to: /home/erostrate9/PycharmProjects/dls_hw4/build\r\n",
      "make[1]: Entering directory '/home/erostrate9/PycharmProjects/dls_hw4/build'\r\n",
      "make[2]: Entering directory '/home/erostrate9/PycharmProjects/dls_hw4/build'\r\n",
      "make[3]: Entering directory '/home/erostrate9/PycharmProjects/dls_hw4/build'\r\n",
      "make[3]: Leaving directory '/home/erostrate9/PycharmProjects/dls_hw4/build'\r\n",
      "make[3]: Entering directory '/home/erostrate9/PycharmProjects/dls_hw4/build'\r\n",
      "[ 25%] \u001B[32mBuilding CXX object CMakeFiles/ndarray_backend_cpu.dir/src/ndarray_backend_cpu.cc.o\u001B[0m\r\n",
      "[ 50%] \u001B[32m\u001B[1mLinking CXX shared module ../python/needle/backend_ndarray/ndarray_backend_cpu.cpython-39-x86_64-linux-gnu.so\u001B[0m\r\n",
      "make[3]: Leaving directory '/home/erostrate9/PycharmProjects/dls_hw4/build'\r\n",
      "[ 50%] Built target ndarray_backend_cpu\r\n",
      "make[3]: Entering directory '/home/erostrate9/PycharmProjects/dls_hw4/build'\r\n",
      "[ 75%] \u001B[34m\u001B[1mBuilding NVCC (Device) object CMakeFiles/ndarray_backend_cuda.dir/src/ndarray_backend_cuda_generated_ndarray_backend_cuda.cu.o\u001B[0m\r\n",
      "make[3]: Leaving directory '/home/erostrate9/PycharmProjects/dls_hw4/build'\r\n",
      "make[3]: Entering directory '/home/erostrate9/PycharmProjects/dls_hw4/build'\r\n",
      "[100%] \u001B[32m\u001B[1mLinking CXX shared module ../python/needle/backend_ndarray/ndarray_backend_cuda.cpython-39-x86_64-linux-gnu.so\u001B[0m\r\n",
      "make[3]: Leaving directory '/home/erostrate9/PycharmProjects/dls_hw4/build'\r\n",
      "[100%] Built target ndarray_backend_cuda\r\n",
      "make[2]: Leaving directory '/home/erostrate9/PycharmProjects/dls_hw4/build'\r\n",
      "make[1]: Leaving directory '/home/erostrate9/PycharmProjects/dls_hw4/build'\r\n"
     ]
    }
   ],
   "source": [
    "!make clean\n",
    "!make"
   ]
  },
  {
   "cell_type": "code",
   "execution_count": 2,
   "metadata": {
    "executionInfo": {
     "elapsed": 4,
     "status": "ok",
     "timestamp": 1670824203727,
     "user": {
      "displayName": "Herostratus Young",
      "userId": "10311623262248876276"
     },
     "user_tz": -480
    },
    "id": "2phXdo9f7zGO"
   },
   "outputs": [],
   "source": [
    "import sys\n",
    "sys.path.append('./python')"
   ]
  },
  {
   "cell_type": "code",
   "execution_count": 32,
   "metadata": {
    "executionInfo": {
     "elapsed": 984,
     "status": "ok",
     "timestamp": 1670814477630,
     "user": {
      "displayName": "Herostratus Young",
      "userId": "10311623262248876276"
     },
     "user_tz": -480
    },
    "id": "6mBD_4ZXTWZu"
   },
   "outputs": [],
   "source": [
    "# !rm -rf /content/drive/MyDrive/dls_hw4/data/cifar-10-batches-py"
   ]
  },
  {
   "cell_type": "code",
   "execution_count": 33,
   "metadata": {
    "colab": {
     "base_uri": "https://localhost:8080/"
    },
    "executionInfo": {
     "elapsed": 6431,
     "status": "ok",
     "timestamp": 1670814486932,
     "user": {
      "displayName": "Herostratus Young",
      "userId": "10311623262248876276"
     },
     "user_tz": -480
    },
    "id": "X8-_bUa77zGP",
    "outputId": "cc3e14b1-5cab-4bb1-9fb5-5c9761c8d9e1"
   },
   "outputs": [
    {
     "name": "stdout",
     "output_type": "stream",
     "text": [
      "cifar-10-batches-py/\n",
      "cifar-10-batches-py/data_batch_4\n",
      "cifar-10-batches-py/readme.html\n",
      "cifar-10-batches-py/test_batch\n",
      "cifar-10-batches-py/data_batch_3\n",
      "cifar-10-batches-py/batches.meta\n",
      "cifar-10-batches-py/data_batch_2\n",
      "cifar-10-batches-py/data_batch_5\n",
      "cifar-10-batches-py/data_batch_1\n"
     ]
    }
   ],
   "source": [
    "# # Download the datasets you will be using for this assignment\n",
    "#\n",
    "import urllib.request\n",
    "import os\n",
    "#\n",
    "# !mkdir -p './data/ptb'\n",
    "# # Download Penn Treebank dataset\n",
    "# ptb_data = \"https://raw.githubusercontent.com/wojzaremba/lstm/master/data/ptb.\"\n",
    "# for f in ['train.txt', 'test.txt', 'valid.txt']:\n",
    "#     if not os.path.exists(os.path.join('./data/ptb', f)):\n",
    "#         urllib.request.urlretrieve(ptb_data + f, os.path.join('./data/ptb', f))\n",
    "#\n",
    "# Download CIFAR-10 dataset\n",
    "if not os.path.isdir(\"./data/cifar-10-batches-py\"):\n",
    "    urllib.request.urlretrieve(\"https://www.cs.toronto.edu/~kriz/cifar-10-python.tar.gz\", \"./data/cifar-10-python.tar.gz\")\n",
    "    !tar -xvzf './data/cifar-10-python.tar.gz' -C './data'"
   ]
  },
  {
   "cell_type": "markdown",
   "metadata": {
    "id": "g58im8Lt7zGP"
   },
   "source": [
    "To finish setting up the assignment, go ahead and fill in all the code in `python/needle/autograd.py` using your solution code from the previous homework."
   ]
  },
  {
   "cell_type": "markdown",
   "metadata": {
    "id": "saqRLDWp7zGQ"
   },
   "source": [
    "## Part 1: ND Backend [10 pts]\n",
    "\n",
    "Fill in the following classes in `python/needle/ops.py`:\n",
    "\n",
    "- `PowerScalar`\n",
    "- `EWiseDiv`\n",
    "- `DivScalar`\n",
    "- `Transpose`\n",
    "- `Reshape`\n",
    "- `BroadcastTo`\n",
    "- `Summation`\n",
    "- `MatMul`\n",
    "- `Negate`\n",
    "- `Log`\n",
    "- `Exp`\n",
    "- `ReLU`\n",
    "- `LogSumExp`\n",
    "- `Tanh` (new)\n",
    "- `Stack` (new)\n",
    "- `Split` (new)\n",
    "\n",
    "Note that for most of these, you already wrote the solutions in the previous homework and you should not need to change your previous solution, however `TanhOp`, `Stack`, and `Split` are newly added. `Stack` concatenates same-sized tensors along a new axis, and `Split` undoes this operation. The gradients of the two operations can be written in terms of each other. We do not directly test `Split`, and only test the backward pass of `Stack` (for which we assume you used `Split`).\n",
    "\n",
    "**Note:** You may want to make your Summation op support sums over multiple axes; you will likely need it for the backward pass of the BroadcastTo op if yours supports broadcasting over multiple axes at a time. However, this is more about ease of use than necessity, and we leave this decision up to you (there are no corresponding tests).\n",
    "\n",
    "**Note:** Depending on your implementations, you may want to ensure that you call `.compact()` before reshaping arrays. (If this is necessary, you will run into corresponding error messages later in the assignment.)"
   ]
  },
  {
   "cell_type": "code",
   "execution_count": 5,
   "metadata": {
    "colab": {
     "base_uri": "https://localhost:8080/"
    },
    "executionInfo": {
     "elapsed": 4120,
     "status": "ok",
     "timestamp": 1670831768826,
     "user": {
      "displayName": "Herostratus Young",
      "userId": "10311623262248876276"
     },
     "user_tz": -480
    },
    "id": "qQ8oFSXD7zGQ",
    "outputId": "6f9d3296-857e-4735-f69b-50dd68dee809"
   },
   "outputs": [
    {
     "name": "stdout",
     "output_type": "stream",
     "text": [
      "\u001B[1m============================= test session starts ==============================\u001B[0m\r\n",
      "platform linux -- Python 3.9.15, pytest-7.1.2, pluggy-1.0.0 -- /home/erostrate9/anaconda3/envs/dls/bin/python3\r\n",
      "cachedir: .pytest_cache\r\n",
      "rootdir: /home/erostrate9/PycharmProjects/needle\r\n",
      "plugins: anyio-3.5.0\r\n",
      "collected 1823 items / 1685 deselected / 138 selected                          \u001B[0m\u001B[1m\r\n",
      "\r\n",
      "tests/test_nd_backend.py::test_ewise_fn[cpu-shape0-divide] \u001B[32mPASSED\u001B[0m\u001B[32m        [  0%]\u001B[0m\r\n",
      "tests/test_nd_backend.py::test_ewise_fn[cpu-shape0-subtract] \u001B[32mPASSED\u001B[0m\u001B[32m      [  1%]\u001B[0m\r\n",
      "tests/test_nd_backend.py::test_ewise_fn[cpu-shape1-divide] \u001B[32mPASSED\u001B[0m\u001B[32m        [  2%]\u001B[0m\r\n",
      "tests/test_nd_backend.py::test_ewise_fn[cpu-shape1-subtract] \u001B[32mPASSED\u001B[0m\u001B[32m      [  2%]\u001B[0m\r\n",
      "tests/test_nd_backend.py::test_ewise_fn[cuda-shape0-divide] \u001B[32mPASSED\u001B[0m\u001B[32m       [  3%]\u001B[0m\r\n",
      "tests/test_nd_backend.py::test_ewise_fn[cuda-shape0-subtract] \u001B[32mPASSED\u001B[0m\u001B[32m     [  4%]\u001B[0m\r\n",
      "tests/test_nd_backend.py::test_ewise_fn[cuda-shape1-divide] \u001B[32mPASSED\u001B[0m\u001B[32m       [  5%]\u001B[0m\r\n",
      "tests/test_nd_backend.py::test_ewise_fn[cuda-shape1-subtract] \u001B[32mPASSED\u001B[0m\u001B[32m     [  5%]\u001B[0m\r\n",
      "tests/test_nd_backend.py::test_scalar_fn[cpu-shape0-divide] \u001B[32mPASSED\u001B[0m\u001B[32m       [  6%]\u001B[0m\r\n",
      "tests/test_nd_backend.py::test_scalar_fn[cpu-shape0-subtract] \u001B[32mPASSED\u001B[0m\u001B[32m     [  7%]\u001B[0m\r\n",
      "tests/test_nd_backend.py::test_scalar_fn[cpu-shape1-divide] \u001B[32mPASSED\u001B[0m\u001B[32m       [  7%]\u001B[0m\r\n",
      "tests/test_nd_backend.py::test_scalar_fn[cpu-shape1-subtract] \u001B[32mPASSED\u001B[0m\u001B[32m     [  8%]\u001B[0m\r\n",
      "tests/test_nd_backend.py::test_scalar_fn[cuda-shape0-divide] \u001B[32mPASSED\u001B[0m\u001B[32m      [  9%]\u001B[0m\r\n",
      "tests/test_nd_backend.py::test_scalar_fn[cuda-shape0-subtract] \u001B[32mPASSED\u001B[0m\u001B[32m    [ 10%]\u001B[0m\r\n",
      "tests/test_nd_backend.py::test_scalar_fn[cuda-shape1-divide] \u001B[32mPASSED\u001B[0m\u001B[32m      [ 10%]\u001B[0m\r\n",
      "tests/test_nd_backend.py::test_scalar_fn[cuda-shape1-subtract] \u001B[32mPASSED\u001B[0m\u001B[32m    [ 11%]\u001B[0m\r\n",
      "tests/test_nd_backend.py::test_matmul[cpu-16-16-16] \u001B[32mPASSED\u001B[0m\u001B[32m               [ 12%]\u001B[0m\r\n",
      "tests/test_nd_backend.py::test_matmul[cpu-8-8-8] \u001B[32mPASSED\u001B[0m\u001B[32m                  [ 13%]\u001B[0m\r\n",
      "tests/test_nd_backend.py::test_matmul[cpu-1-2-3] \u001B[32mPASSED\u001B[0m\u001B[32m                  [ 13%]\u001B[0m\r\n",
      "tests/test_nd_backend.py::test_matmul[cpu-3-4-5] \u001B[32mPASSED\u001B[0m\u001B[32m                  [ 14%]\u001B[0m\r\n",
      "tests/test_nd_backend.py::test_matmul[cpu-5-4-3] \u001B[32mPASSED\u001B[0m\u001B[32m                  [ 15%]\u001B[0m\r\n",
      "tests/test_nd_backend.py::test_matmul[cpu-16-16-32] \u001B[32mPASSED\u001B[0m\u001B[32m               [ 15%]\u001B[0m\r\n",
      "tests/test_nd_backend.py::test_matmul[cpu-64-64-64] \u001B[32mPASSED\u001B[0m\u001B[32m               [ 16%]\u001B[0m\r\n",
      "tests/test_nd_backend.py::test_matmul[cpu-72-72-72] \u001B[32mPASSED\u001B[0m\u001B[32m               [ 17%]\u001B[0m\r\n",
      "tests/test_nd_backend.py::test_matmul[cpu-72-73-74] \u001B[32mPASSED\u001B[0m\u001B[32m               [ 18%]\u001B[0m\r\n",
      "tests/test_nd_backend.py::test_matmul[cpu-74-73-72] \u001B[32mPASSED\u001B[0m\u001B[32m               [ 18%]\u001B[0m\r\n",
      "tests/test_nd_backend.py::test_matmul[cpu-128-128-128] \u001B[32mPASSED\u001B[0m\u001B[32m            [ 19%]\u001B[0m\r\n",
      "tests/test_nd_backend.py::test_matmul[cuda-16-16-16] \u001B[32mPASSED\u001B[0m\u001B[32m              [ 20%]\u001B[0m\r\n",
      "tests/test_nd_backend.py::test_matmul[cuda-8-8-8] \u001B[32mPASSED\u001B[0m\u001B[32m                 [ 21%]\u001B[0m\r\n",
      "tests/test_nd_backend.py::test_matmul[cuda-1-2-3] \u001B[32mPASSED\u001B[0m\u001B[32m                 [ 21%]\u001B[0m\r\n",
      "tests/test_nd_backend.py::test_matmul[cuda-3-4-5] \u001B[32mPASSED\u001B[0m\u001B[32m                 [ 22%]\u001B[0m\r\n",
      "tests/test_nd_backend.py::test_matmul[cuda-5-4-3] \u001B[32mPASSED\u001B[0m\u001B[32m                 [ 23%]\u001B[0m\r\n",
      "tests/test_nd_backend.py::test_matmul[cuda-16-16-32] \u001B[32mPASSED\u001B[0m\u001B[32m              [ 23%]\u001B[0m\r\n",
      "tests/test_nd_backend.py::test_matmul[cuda-64-64-64] \u001B[32mPASSED\u001B[0m\u001B[32m              [ 24%]\u001B[0m\r\n",
      "tests/test_nd_backend.py::test_matmul[cuda-72-72-72] \u001B[32mPASSED\u001B[0m\u001B[32m              [ 25%]\u001B[0m\r\n",
      "tests/test_nd_backend.py::test_matmul[cuda-72-73-74] \u001B[32mPASSED\u001B[0m\u001B[32m              [ 26%]\u001B[0m\r\n",
      "tests/test_nd_backend.py::test_matmul[cuda-74-73-72] \u001B[32mPASSED\u001B[0m\u001B[32m              [ 26%]\u001B[0m\r\n",
      "tests/test_nd_backend.py::test_matmul[cuda-128-128-128] \u001B[32mPASSED\u001B[0m\u001B[32m           [ 27%]\u001B[0m\r\n",
      "tests/test_nd_backend.py::test_power[cpu-shape0] \u001B[32mPASSED\u001B[0m\u001B[32m                  [ 28%]\u001B[0m\r\n",
      "tests/test_nd_backend.py::test_power[cpu-shape1] \u001B[32mPASSED\u001B[0m\u001B[32m                  [ 28%]\u001B[0m\r\n",
      "tests/test_nd_backend.py::test_power[cuda-shape0] \u001B[32mPASSED\u001B[0m\u001B[32m                 [ 29%]\u001B[0m\r\n",
      "tests/test_nd_backend.py::test_power[cuda-shape1] \u001B[32mPASSED\u001B[0m\u001B[32m                 [ 30%]\u001B[0m\r\n",
      "tests/test_nd_backend.py::test_log[cpu-shape0] \u001B[32mPASSED\u001B[0m\u001B[32m                    [ 31%]\u001B[0m\r\n",
      "tests/test_nd_backend.py::test_log[cpu-shape1] \u001B[32mPASSED\u001B[0m\u001B[32m                    [ 31%]\u001B[0m\r\n",
      "tests/test_nd_backend.py::test_log[cuda-shape0] \u001B[32mPASSED\u001B[0m\u001B[32m                   [ 32%]\u001B[0m\r\n",
      "tests/test_nd_backend.py::test_log[cuda-shape1] \u001B[32mPASSED\u001B[0m\u001B[32m                   [ 33%]\u001B[0m\r\n",
      "tests/test_nd_backend.py::test_exp[cpu-shape0] \u001B[32mPASSED\u001B[0m\u001B[32m                    [ 34%]\u001B[0m\r\n",
      "tests/test_nd_backend.py::test_exp[cpu-shape1] \u001B[32mPASSED\u001B[0m\u001B[32m                    [ 34%]\u001B[0m\r\n",
      "tests/test_nd_backend.py::test_exp[cuda-shape0] \u001B[32mPASSED\u001B[0m\u001B[32m                   [ 35%]\u001B[0m\r\n",
      "tests/test_nd_backend.py::test_exp[cuda-shape1] \u001B[32mPASSED\u001B[0m\u001B[32m                   [ 36%]\u001B[0m\r\n",
      "tests/test_nd_backend.py::test_exp_backward[cpu-shape0] \u001B[32mPASSED\u001B[0m\u001B[32m           [ 36%]\u001B[0m\r\n",
      "tests/test_nd_backend.py::test_exp_backward[cpu-shape1] \u001B[32mPASSED\u001B[0m\u001B[32m           [ 37%]\u001B[0m\r\n",
      "tests/test_nd_backend.py::test_exp_backward[cuda-shape0] \u001B[32mPASSED\u001B[0m\u001B[32m          [ 38%]\u001B[0m\r\n",
      "tests/test_nd_backend.py::test_exp_backward[cuda-shape1] \u001B[32mPASSED\u001B[0m\u001B[32m          [ 39%]\u001B[0m\r\n",
      "tests/test_nd_backend.py::test_relu[cpu-shape0] \u001B[32mPASSED\u001B[0m\u001B[32m                   [ 39%]\u001B[0m\r\n",
      "tests/test_nd_backend.py::test_relu[cpu-shape1] \u001B[32mPASSED\u001B[0m\u001B[32m                   [ 40%]\u001B[0m\r\n",
      "tests/test_nd_backend.py::test_relu[cuda-shape0] \u001B[32mPASSED\u001B[0m\u001B[32m                  [ 41%]\u001B[0m\r\n",
      "tests/test_nd_backend.py::test_relu[cuda-shape1] \u001B[32mPASSED\u001B[0m\u001B[32m                  [ 42%]\u001B[0m\r\n",
      "tests/test_nd_backend.py::test_relu_backward[cpu-shape0] \u001B[32mPASSED\u001B[0m\u001B[32m          [ 42%]\u001B[0m\r\n",
      "tests/test_nd_backend.py::test_relu_backward[cpu-shape1] \u001B[32mPASSED\u001B[0m\u001B[32m          [ 43%]\u001B[0m\r\n",
      "tests/test_nd_backend.py::test_relu_backward[cuda-shape0] \u001B[32mPASSED\u001B[0m\u001B[32m         [ 44%]\u001B[0m\r\n",
      "tests/test_nd_backend.py::test_relu_backward[cuda-shape1] \u001B[32mPASSED\u001B[0m\u001B[32m         [ 44%]\u001B[0m\r\n",
      "tests/test_nd_backend.py::test_tanh[cpu-shape0] \u001B[32mPASSED\u001B[0m\u001B[32m                   [ 45%]\u001B[0m\r\n",
      "tests/test_nd_backend.py::test_tanh[cpu-shape1] \u001B[32mPASSED\u001B[0m\u001B[32m                   [ 46%]\u001B[0m\r\n",
      "tests/test_nd_backend.py::test_tanh[cuda-shape0] \u001B[32mPASSED\u001B[0m\u001B[32m                  [ 47%]\u001B[0m\r\n",
      "tests/test_nd_backend.py::test_tanh[cuda-shape1] \u001B[32mPASSED\u001B[0m\u001B[32m                  [ 47%]\u001B[0m\r\n",
      "tests/test_nd_backend.py::test_tanh_backward[cpu-shape0] \u001B[32mPASSED\u001B[0m\u001B[32m          [ 48%]\u001B[0m\r\n",
      "tests/test_nd_backend.py::test_tanh_backward[cpu-shape1] \u001B[32mPASSED\u001B[0m\u001B[32m          [ 49%]\u001B[0m\r\n",
      "tests/test_nd_backend.py::test_tanh_backward[cuda-shape0] \u001B[32mPASSED\u001B[0m\u001B[32m         [ 50%]\u001B[0m\r\n",
      "tests/test_nd_backend.py::test_tanh_backward[cuda-shape1] \u001B[32mPASSED\u001B[0m\u001B[32m         [ 50%]\u001B[0m\r\n",
      "tests/test_nd_backend.py::test_stack[cpu-shape0-0-1] \u001B[32mPASSED\u001B[0m\u001B[32m              [ 51%]\u001B[0m\r\n",
      "tests/test_nd_backend.py::test_stack[cpu-shape1-0-2] \u001B[32mPASSED\u001B[0m\u001B[32m              [ 52%]\u001B[0m\r\n",
      "tests/test_nd_backend.py::test_stack[cpu-shape2-2-5] \u001B[32mPASSED\u001B[0m\u001B[32m              [ 52%]\u001B[0m\r\n",
      "tests/test_nd_backend.py::test_stack[cuda-shape0-0-1] \u001B[32mPASSED\u001B[0m\u001B[32m             [ 53%]\u001B[0m\r\n",
      "tests/test_nd_backend.py::test_stack[cuda-shape1-0-2] \u001B[32mPASSED\u001B[0m\u001B[32m             [ 54%]\u001B[0m\r\n",
      "tests/test_nd_backend.py::test_stack[cuda-shape2-2-5] \u001B[32mPASSED\u001B[0m\u001B[32m             [ 55%]\u001B[0m\r\n",
      "tests/test_nd_backend.py::test_stack_backward[cpu-shape0-0-1] \u001B[32mPASSED\u001B[0m\u001B[32m     [ 55%]\u001B[0m\r\n",
      "tests/test_nd_backend.py::test_stack_backward[cpu-shape1-0-2] \u001B[32mPASSED\u001B[0m\u001B[32m     [ 56%]\u001B[0m\r\n",
      "tests/test_nd_backend.py::test_stack_backward[cpu-shape2-2-5] \u001B[32mPASSED\u001B[0m\u001B[32m     [ 57%]\u001B[0m\r\n",
      "tests/test_nd_backend.py::test_stack_backward[cuda-shape0-0-1] \u001B[32mPASSED\u001B[0m\u001B[32m    [ 57%]\u001B[0m\r\n",
      "tests/test_nd_backend.py::test_stack_backward[cuda-shape1-0-2] \u001B[32mPASSED\u001B[0m\u001B[32m    [ 58%]\u001B[0m\r\n",
      "tests/test_nd_backend.py::test_stack_backward[cuda-shape2-2-5] \u001B[32mPASSED\u001B[0m\u001B[32m    [ 59%]\u001B[0m\r\n",
      "tests/test_nd_backend.py::test_summation[cpu-shape0-None] \u001B[32mPASSED\u001B[0m\u001B[32m         [ 60%]\u001B[0m\r\n",
      "tests/test_nd_backend.py::test_summation[cpu-shape1-0] \u001B[32mPASSED\u001B[0m\u001B[32m            [ 60%]\u001B[0m\r\n",
      "tests/test_nd_backend.py::test_summation[cpu-shape2-1] \u001B[32mPASSED\u001B[0m\u001B[32m            [ 61%]\u001B[0m\r\n",
      "tests/test_nd_backend.py::test_summation[cpu-shape3-2] \u001B[32mPASSED\u001B[0m\u001B[32m            [ 62%]\u001B[0m\r\n",
      "tests/test_nd_backend.py::test_summation[cuda-shape0-None] \u001B[32mPASSED\u001B[0m\u001B[32m        [ 63%]\u001B[0m\r\n",
      "tests/test_nd_backend.py::test_summation[cuda-shape1-0] \u001B[32mPASSED\u001B[0m\u001B[32m           [ 63%]\u001B[0m\r\n",
      "tests/test_nd_backend.py::test_summation[cuda-shape2-1] \u001B[32mPASSED\u001B[0m\u001B[32m           [ 64%]\u001B[0m\r\n",
      "tests/test_nd_backend.py::test_summation[cuda-shape3-2] \u001B[32mPASSED\u001B[0m\u001B[32m           [ 65%]\u001B[0m\r\n",
      "tests/test_nd_backend.py::test_summation_backward[cpu-shape0-None] \u001B[32mPASSED\u001B[0m\u001B[32m [ 65%]\u001B[0m\r\n",
      "tests/test_nd_backend.py::test_summation_backward[cpu-shape1-0] \u001B[32mPASSED\u001B[0m\u001B[32m   [ 66%]\u001B[0m\r\n",
      "tests/test_nd_backend.py::test_summation_backward[cpu-shape2-1] \u001B[32mPASSED\u001B[0m\u001B[32m   [ 67%]\u001B[0m\r\n",
      "tests/test_nd_backend.py::test_summation_backward[cpu-shape3-2] \u001B[32mPASSED\u001B[0m\u001B[32m   [ 68%]\u001B[0m\r\n",
      "tests/test_nd_backend.py::test_summation_backward[cuda-shape0-None] \u001B[32mPASSED\u001B[0m\u001B[32m [ 68%]\u001B[0m\r\n",
      "tests/test_nd_backend.py::test_summation_backward[cuda-shape1-0] \u001B[32mPASSED\u001B[0m\u001B[32m  [ 69%]\u001B[0m\r\n",
      "tests/test_nd_backend.py::test_summation_backward[cuda-shape2-1] \u001B[32mPASSED\u001B[0m\u001B[32m  [ 70%]\u001B[0m\r\n",
      "tests/test_nd_backend.py::test_summation_backward[cuda-shape3-2] \u001B[32mPASSED\u001B[0m\u001B[32m  [ 71%]\u001B[0m\r\n",
      "tests/test_nd_backend.py::test_broadcast_to[cpu-shape0-shape_to0] \u001B[32mPASSED\u001B[0m\u001B[32m [ 71%]\u001B[0m\r\n",
      "tests/test_nd_backend.py::test_broadcast_to[cpu-shape1-shape_to1] \u001B[32mPASSED\u001B[0m\u001B[32m [ 72%]\u001B[0m\r\n",
      "tests/test_nd_backend.py::test_broadcast_to[cuda-shape0-shape_to0] \u001B[32mPASSED\u001B[0m\u001B[32m [ 73%]\u001B[0m\r\n",
      "tests/test_nd_backend.py::test_broadcast_to[cuda-shape1-shape_to1] \u001B[32mPASSED\u001B[0m\u001B[32m [ 73%]\u001B[0m\r\n",
      "tests/test_nd_backend.py::test_reshape[cpu-shape0-shape_to0] \u001B[32mPASSED\u001B[0m\u001B[32m      [ 74%]\u001B[0m\r\n",
      "tests/test_nd_backend.py::test_reshape[cpu-shape1-shape_to1] \u001B[32mPASSED\u001B[0m\u001B[32m      [ 75%]\u001B[0m\r\n",
      "tests/test_nd_backend.py::test_reshape[cuda-shape0-shape_to0] \u001B[32mPASSED\u001B[0m\u001B[32m     [ 76%]\u001B[0m\r\n",
      "tests/test_nd_backend.py::test_reshape[cuda-shape1-shape_to1] \u001B[32mPASSED\u001B[0m\u001B[32m     [ 76%]\u001B[0m\r\n",
      "tests/test_nd_backend.py::test_transpose[cpu-axes0-shape0] \u001B[32mPASSED\u001B[0m\u001B[32m        [ 77%]\u001B[0m\r\n",
      "tests/test_nd_backend.py::test_transpose[cpu-axes0-shape1] \u001B[32mPASSED\u001B[0m\u001B[32m        [ 78%]\u001B[0m\r\n",
      "tests/test_nd_backend.py::test_transpose[cpu-axes1-shape0] \u001B[32mPASSED\u001B[0m\u001B[32m        [ 78%]\u001B[0m\r\n",
      "tests/test_nd_backend.py::test_transpose[cpu-axes1-shape1] \u001B[32mPASSED\u001B[0m\u001B[32m        [ 79%]\u001B[0m\r\n",
      "tests/test_nd_backend.py::test_transpose[cpu-None-shape0] \u001B[32mPASSED\u001B[0m\u001B[32m         [ 80%]\u001B[0m\r\n",
      "tests/test_nd_backend.py::test_transpose[cpu-None-shape1] \u001B[32mPASSED\u001B[0m\u001B[32m         [ 81%]\u001B[0m\r\n",
      "tests/test_nd_backend.py::test_transpose[cuda-axes0-shape0] \u001B[32mPASSED\u001B[0m\u001B[32m       [ 81%]\u001B[0m\r\n",
      "tests/test_nd_backend.py::test_transpose[cuda-axes0-shape1] \u001B[32mPASSED\u001B[0m\u001B[32m       [ 82%]\u001B[0m\r\n",
      "tests/test_nd_backend.py::test_transpose[cuda-axes1-shape0] \u001B[32mPASSED\u001B[0m\u001B[32m       [ 83%]\u001B[0m\r\n",
      "tests/test_nd_backend.py::test_transpose[cuda-axes1-shape1] \u001B[32mPASSED\u001B[0m\u001B[32m       [ 84%]\u001B[0m\r\n",
      "tests/test_nd_backend.py::test_transpose[cuda-None-shape0] \u001B[32mPASSED\u001B[0m\u001B[32m        [ 84%]\u001B[0m\r\n",
      "tests/test_nd_backend.py::test_transpose[cuda-None-shape1] \u001B[32mPASSED\u001B[0m\u001B[32m        [ 85%]\u001B[0m\r\n",
      "tests/test_nd_backend.py::test_logsumexp[cpu-shape0-None] \u001B[32mPASSED\u001B[0m\u001B[32m         [ 86%]\u001B[0m\r\n",
      "tests/test_nd_backend.py::test_logsumexp[cpu-shape1-0] \u001B[32mPASSED\u001B[0m\u001B[32m            [ 86%]\u001B[0m\r\n",
      "tests/test_nd_backend.py::test_logsumexp[cpu-shape2-1] \u001B[32mPASSED\u001B[0m\u001B[32m            [ 87%]\u001B[0m\r\n",
      "tests/test_nd_backend.py::test_logsumexp[cpu-shape3-2] \u001B[32mPASSED\u001B[0m\u001B[32m            [ 88%]\u001B[0m\r\n",
      "tests/test_nd_backend.py::test_logsumexp[cuda-shape0-None] \u001B[32mPASSED\u001B[0m\u001B[32m        [ 89%]\u001B[0m\r\n",
      "tests/test_nd_backend.py::test_logsumexp[cuda-shape1-0] \u001B[32mPASSED\u001B[0m\u001B[32m           [ 89%]\u001B[0m\r\n",
      "tests/test_nd_backend.py::test_logsumexp[cuda-shape2-1] \u001B[32mPASSED\u001B[0m\u001B[32m           [ 90%]\u001B[0m\r\n",
      "tests/test_nd_backend.py::test_logsumexp[cuda-shape3-2] \u001B[32mPASSED\u001B[0m\u001B[32m           [ 91%]\u001B[0m\r\n",
      "tests/test_nd_backend.py::test_logsumexp_backward[cpu-shape0-None] \u001B[32mPASSED\u001B[0m\u001B[32m [ 92%]\u001B[0m\r\n",
      "tests/test_nd_backend.py::test_logsumexp_backward[cpu-shape1-0] \u001B[32mPASSED\u001B[0m\u001B[32m   [ 92%]\u001B[0m\r\n",
      "tests/test_nd_backend.py::test_logsumexp_backward[cpu-shape2-1] \u001B[32mPASSED\u001B[0m\u001B[32m   [ 93%]\u001B[0m\r\n",
      "tests/test_nd_backend.py::test_logsumexp_backward[cpu-shape3-2] \u001B[32mPASSED\u001B[0m\u001B[32m   [ 94%]\u001B[0m\r\n",
      "tests/test_nd_backend.py::test_logsumexp_backward[cuda-shape0-None] \u001B[32mPASSED\u001B[0m\u001B[32m [ 94%]\u001B[0m\r\n",
      "tests/test_nd_backend.py::test_logsumexp_backward[cuda-shape1-0] \u001B[32mPASSED\u001B[0m\u001B[32m  [ 95%]\u001B[0m\r\n",
      "tests/test_nd_backend.py::test_logsumexp_backward[cuda-shape2-1] \u001B[32mPASSED\u001B[0m\u001B[32m  [ 96%]\u001B[0m\r\n",
      "tests/test_nd_backend.py::test_logsumexp_backward[cuda-shape3-2] \u001B[32mPASSED\u001B[0m\u001B[32m  [ 97%]\u001B[0m\r\n",
      "tests/test_nd_backend.py::test_logsumexp_submit[cpu-shape0-0] \u001B[32mPASSED\u001B[0m\u001B[32m     [ 97%]\u001B[0m\r\n",
      "tests/test_nd_backend.py::test_logsumexp_submit[cpu-shape1-3] \u001B[32mPASSED\u001B[0m\u001B[32m     [ 98%]\u001B[0m\r\n",
      "tests/test_nd_backend.py::test_logsumexp_submit[cuda-shape0-0] \u001B[32mPASSED\u001B[0m\u001B[32m    [ 99%]\u001B[0m\r\n",
      "tests/test_nd_backend.py::test_logsumexp_submit[cuda-shape1-3] \u001B[32mPASSED\u001B[0m\u001B[32m    [100%]\u001B[0m\r\n",
      "\r\n",
      "\u001B[32m===================== \u001B[32m\u001B[1m138 passed\u001B[0m, \u001B[33m1685 deselected\u001B[0m\u001B[32m in 1.49s\u001B[0m\u001B[32m =====================\u001B[0m\r\n"
     ]
    }
   ],
   "source": [
    "!python3 -m pytest -l -v -k \"nd_backend\""
   ]
  },
  {
   "cell_type": "code",
   "execution_count": null,
   "metadata": {
    "id": "jLZsf6B_7zGR",
    "outputId": "301a63ea-52b1-4c68-8b6b-3ab30f9e64ee"
   },
   "outputs": [
    {
     "name": "stdout",
     "output_type": "stream",
     "text": [
      "submit\r\n",
      "\u001B[1m============================= test session starts ==============================\u001B[0m\r\n",
      "platform linux -- Python 3.9.15, pytest-7.2.0, pluggy-1.0.0\r\n",
      "rootdir: /home/erostrate9/PycharmProjects/dls_hw4\r\n",
      "plugins: anyio-3.5.0\r\n",
      "collected 10 items / 9 deselected / 1 selected                                 \u001B[0m\u001B[1m\r\n",
      "\r\n",
      "tests/test_nd_backend.py \r\n",
      "Submitting new_nd_backend...\r\n",
      "Grader test 1 passed\r\n",
      "Grader test 2 passed\r\n",
      "Grader test 3 passed\r\n",
      "Grader test 4 passed\r\n",
      "Grader test 5 passed\r\n",
      "Grader test 6 passed\r\n",
      "Grader test 7 passed\r\n",
      "Grader test 8 passed\r\n",
      "Grader test 9 passed\r\n",
      "Grader test 10 passed\r\n",
      "Grader test 11 passed\r\n",
      "Grader test 12 passed\r\n",
      "Grader test 13 passed\r\n",
      "Grader test 14 passed\r\n",
      "Grader test 15 passed\r\n",
      "Grader test 16 passed\r\n",
      "Grader test 17 passed\r\n",
      "Grader test 18 passed\r\n",
      "Grader test 19 passed\r\n",
      "Grader test 20 passed\r\n",
      "Grader test 21 passed\r\n",
      "Grader test 22 passed\r\n",
      "Grader test 23 passed\r\n",
      "Grader test 24 passed\r\n",
      "Grader test 25 passed\r\n",
      "Grader test 26 passed\r\n",
      "Grader test 27 passed\r\n",
      "Grader test 28 passed\r\n",
      "Grader test 29 passed\r\n",
      "Grader test 30 passed\r\n",
      "Grader test 31 passed\r\n",
      "Grader test 32 passed\r\n",
      "Grader test 33 passed\r\n",
      "Grader test 34 passed\r\n",
      "Grader test 35 passed\r\n",
      "Grader test 36 passed\r\n",
      "Grader test 37 passed\r\n",
      "Grader test 38 passed\r\n",
      "Grader test 39 passed\r\n",
      "Grader test 40 passed\r\n",
      "Grader test 41 passed\r\n",
      "Grader test 42 passed\r\n",
      "Grader test 43 passed\r\n",
      "Grader test 44 passed\r\n",
      "Grader test 45 passed\r\n",
      "Grader test 46 passed\r\n",
      "(3, 2)\r\n",
      "[[-1.034773   -1.2130464 ]\r\n",
      " [-0.2353734  -1.9067464 ]\r\n",
      " [ 0.9899868   0.09992032]]\r\n",
      "Grader test 47 passed\r\n",
      "Grader test 48 passed\r\n",
      "(2, 1, 2, 3)\r\n",
      "[[[[-0.58805346  0.7789197   0.8271133 ]\r\n",
      "   [ 2.7602055   1.0252674  -1.9638295 ]]]\r\n",
      "\r\n",
      "\r\n",
      " [[[ 0.01793031 -0.43095267  1.0277857 ]\r\n",
      "   [-0.1545612   0.42577845 -0.38129187]]]]\r\n",
      "Grader test 49 passed\r\n",
      "Grader test 50 passed\r\n",
      "(3, 2)\r\n",
      "[[-1.091268   1.5055046]\r\n",
      " [ 0.1659605 -0.3507903]\r\n",
      " [-1.0183425  0.9950495]]\r\n",
      "Grader test 51 passed\r\n",
      "Grader test 52 passed\r\n",
      "(2, 1, 2, 3)\r\n",
      "[[[[-0.5949519  -0.20877795 -0.3730025 ]\r\n",
      "   [ 0.5193808   1.2208915  -2.0115945 ]]]\r\n",
      "\r\n",
      "\r\n",
      " [[[-1.5047123  -0.14993618  0.02727024]\r\n",
      "   [-1.6043717  -0.67430896 -0.45561436]]]]\r\n",
      "Grader test 53 passed\r\n",
      "Grader test 54 passed\r\n",
      "\u001B[32m.\u001B[0m\r\n",
      "\r\n",
      "\u001B[32m================== \u001B[32m\u001B[1m1 passed\u001B[0m, \u001B[33m9 deselected\u001B[0m\u001B[32m in 77.79s (0:01:17)\u001B[0m\u001B[32m ==================\u001B[0m\r\n"
     ]
    }
   ],
   "source": [
    "!python3 -m mugrade submit \"_0QwrEWYLgzYU25KDG4FM\" -k \"new_nd_backend\""
   ]
  },
  {
   "cell_type": "markdown",
   "metadata": {
    "id": "UeVG35qw7zGR"
   },
   "source": [
    "## Part 2: CIFAR-10 dataset [10 points]\n",
    "\n",
    "Next, you will write support for the [CIFAR-10](https://www.cs.toronto.edu/~kriz/cifar.html) image classification dataset, which consists of 60,000 32x32 color images in 10 classes, with 6,000 images per class. There are 50k training images and 10k test images. \n",
    "\n",
    "Start by implementing the `__init__` function in the `CIFAR10Dataset` class. You can read in the link above how to properly read the CIFAR-10 dataset files you downloaded at the beginning of the homework. Also fill in `__getitem__` and `__len__`. Note that the return shape of the data from `__getitem__` should be in order (3, 32, 32).\n",
    "\n"
   ]
  },
  {
   "cell_type": "code",
   "execution_count": 18,
   "metadata": {
    "colab": {
     "base_uri": "https://localhost:8080/"
    },
    "executionInfo": {
     "elapsed": 12005,
     "status": "ok",
     "timestamp": 1670814522833,
     "user": {
      "displayName": "Herostratus Young",
      "userId": "10311623262248876276"
     },
     "user_tz": -480
    },
    "id": "Dr97VV0J7zGS",
    "outputId": "d5e8ecd6-c31d-4a4d-8e36-1151ee7b88ba"
   },
   "outputs": [
    {
     "name": "stdout",
     "output_type": "stream",
     "text": [
      "\u001B[1m============================= test session starts ==============================\u001B[0m\r\n",
      "platform linux -- Python 3.9.15, pytest-7.1.2, pluggy-1.0.0 -- /home/erostrate9/anaconda3/envs/dls/bin/python3\r\n",
      "cachedir: .pytest_cache\r\n",
      "rootdir: /home/erostrate9/PycharmProjects/dls_hw4\r\n",
      "plugins: anyio-3.5.0\r\n",
      "collected 1823 items / 1811 deselected / 12 selected                           \u001B[0m\u001B[1m\r\n",
      "\r\n",
      "tests/test_cifar_ptb_data.py::test_cifar10_dataset[True] \u001B[32mPASSED\u001B[0m\u001B[32m          [  8%]\u001B[0m\r\n",
      "tests/test_cifar_ptb_data.py::test_cifar10_dataset[False] \u001B[32mPASSED\u001B[0m\u001B[32m         [ 16%]\u001B[0m\r\n",
      "tests/test_cifar_ptb_data.py::test_cifar10_loader[cpu-True-1] \u001B[32mPASSED\u001B[0m\u001B[32m     [ 25%]\u001B[0m\r\n",
      "tests/test_cifar_ptb_data.py::test_cifar10_loader[cpu-True-15] \u001B[32mPASSED\u001B[0m\u001B[32m    [ 33%]\u001B[0m\r\n",
      "tests/test_cifar_ptb_data.py::test_cifar10_loader[cpu-False-1] \u001B[32mPASSED\u001B[0m\u001B[32m    [ 41%]\u001B[0m\r\n",
      "tests/test_cifar_ptb_data.py::test_cifar10_loader[cpu-False-15] \u001B[32mPASSED\u001B[0m\u001B[32m   [ 50%]\u001B[0m\r\n",
      "tests/test_cifar_ptb_data.py::test_cifar10_loader[cuda-True-1] \u001B[32mPASSED\u001B[0m\u001B[32m    [ 58%]\u001B[0m\r\n",
      "tests/test_cifar_ptb_data.py::test_cifar10_loader[cuda-True-15] \u001B[32mPASSED\u001B[0m\u001B[32m   [ 66%]\u001B[0m\r\n",
      "tests/test_cifar_ptb_data.py::test_cifar10_loader[cuda-False-1] \u001B[32mPASSED\u001B[0m\u001B[32m   [ 75%]\u001B[0m\r\n",
      "tests/test_cifar_ptb_data.py::test_cifar10_loader[cuda-False-15] \u001B[32mPASSED\u001B[0m\u001B[32m  [ 83%]\u001B[0m\r\n",
      "tests/test_conv.py::test_train_cifar10[needle.backend_ndarray.ndarray_backend_cpu] \u001B[32mPASSED\u001B[0m\u001B[32m [ 91%]\u001B[0m\r\n",
      "tests/test_conv.py::test_train_cifar10[needle.backend_ndarray.ndarray_backend_cuda] \u001B[32mPASSED\u001B[0m\u001B[33m [100%]\u001B[0m\r\n",
      "\r\n",
      "\u001B[33m=============================== warnings summary ===============================\u001B[0m\r\n",
      "tests/test_conv.py::test_train_cifar10[needle.backend_ndarray.ndarray_backend_cpu]\r\n",
      "tests/test_conv.py::test_train_cifar10[needle.backend_ndarray.ndarray_backend_cuda]\r\n",
      "  /home/erostrate9/PycharmProjects/dls_hw4/tests/test_conv.py:467: VisibleDeprecationWarning: Creating an ndarray from ragged nested sequences (which is a list-or-tuple of lists-or-tuples-or ndarrays with different lengths or shapes) is deprecated. If you meant to do this, you must specify 'dtype=object' when creating the ndarray.\r\n",
      "    assert np.linalg.norm(np.array(list(out)) - np.array([0.09375, 3.5892258])) < 1e-2\r\n",
      "\r\n",
      "-- Docs: https://docs.pytest.org/en/stable/how-to/capture-warnings.html\r\n",
      "\u001B[33m=============== \u001B[32m12 passed\u001B[0m, \u001B[33m\u001B[1m1811 deselected\u001B[0m, \u001B[33m\u001B[1m2 warnings\u001B[0m\u001B[33m in 11.06s\u001B[0m\u001B[33m ===============\u001B[0m\r\n"
     ]
    }
   ],
   "source": [
    "!python3 -m pytest -l -v -k \"cifar10\""
   ]
  },
  {
   "cell_type": "code",
   "execution_count": null,
   "metadata": {
    "id": "wbDq8Pp-7zGS",
    "outputId": "80ec4397-b2d8-4807-8b61-0fb413842277"
   },
   "outputs": [
    {
     "name": "stdout",
     "output_type": "stream",
     "text": [
      "submit\r\n",
      "\u001B[1m============================= test session starts ==============================\u001B[0m\r\n",
      "platform linux -- Python 3.9.15, pytest-7.2.0, pluggy-1.0.0\r\n",
      "rootdir: /home/erostrate9/PycharmProjects/dls_hw4\r\n",
      "plugins: anyio-3.5.0\r\n",
      "collected 10 items / 9 deselected / 1 selected                                 \u001B[0m\u001B[1m\r\n",
      "\r\n",
      "tests/test_cifar_ptb_data.py \r\n",
      "Submitting cifar10...\r\n",
      "filename: data/cifar-10-batches-py/data_batch_1\r\n",
      "filename: data/cifar-10-batches-py/data_batch_2\r\n",
      "filename: data/cifar-10-batches-py/data_batch_3\r\n",
      "filename: data/cifar-10-batches-py/data_batch_4\r\n",
      "filename: data/cifar-10-batches-py/data_batch_5\r\n",
      "Grader test 1 passed\r\n",
      "Grader test 2 passed\r\n",
      "Grader test 3 passed\r\n",
      "Grader test 4 passed\r\n",
      "Grader test 5 passed\r\n",
      "Grader test 6 passed\r\n",
      "Grader test 7 passed\r\n",
      "Grader test 8 passed\r\n",
      "Grader test 9 passed\r\n",
      "filename: data/cifar-10-batches-py/test_batch\r\n",
      "Grader test 10 passed\r\n",
      "Grader test 11 passed\r\n",
      "Grader test 12 passed\r\n",
      "Grader test 13 passed\r\n",
      "Grader test 14 passed\r\n",
      "Grader test 15 passed\r\n",
      "Grader test 16 passed\r\n",
      "Grader test 17 passed\r\n",
      "Grader test 18 passed\r\n",
      "\u001B[32m.\u001B[0m\r\n",
      "\r\n",
      "\u001B[32m======================= \u001B[32m\u001B[1m1 passed\u001B[0m, \u001B[33m9 deselected\u001B[0m\u001B[32m in 28.06s\u001B[0m\u001B[32m =======================\u001B[0m\r\n"
     ]
    }
   ],
   "source": [
    "!python3 -m mugrade submit \"_0QwrEWYLgzYU25KDG4FM\" -k \"cifar10\""
   ]
  },
  {
   "cell_type": "markdown",
   "metadata": {
    "id": "46V40mVc7zGS",
    "tags": []
   },
   "source": [
    "## Part 3: Convolutional neural network [40 points]\n",
    "\n",
    "Here's an outline of what you will do in this task.\n",
    "\n",
    "In `python/needle/backend_ndarray/ndarray.py`, implement:\n",
    "- `flip`\n",
    "- `pad`\n",
    "\n",
    "In `python/needle/ops.py`, implement (forward and backward):\n",
    "- `Flip`\n",
    "- `Dilate`\n",
    "- `UnDilate`\n",
    "- `Conv`\n",
    "\n",
    "In `python/needle/nn.py`, implement:\n",
    "- `Flatten`\n",
    "- `Conv`\n",
    "\n",
    "In `python/apps/models.py`, fill in the `ResNet9` class.  \n",
    "\n",
    "In `apps/simple_training.py`, fill in:\n",
    "- `epoch_general_cifar10`,\n",
    "- `train_cifar10`\n",
    "- `evaluate_cifar10`\n",
    "\n",
    "We have provided a `BatchNorm2d` implementation for you as a wrapper around your previous `BatchNorm1d` implementation. "
   ]
  },
  {
   "cell_type": "markdown",
   "metadata": {
    "id": "D8CPEbkZ7zGT"
   },
   "source": [
    "### Padding ndarrays\n",
    "\n",
    "Convolution as typically implemented in deep learning libraries cuts down the size of inputs;\n",
    "e.g., a (1, 32, 32, 3) image convolved with a 3x3 filter would give a (1, 30, 30, c) output.\n",
    "A way around this is to pad the input ndarray before performing convolution, e.g., pad with zeros to get a (1, 34, 34, 3) ndarray so that the result is (1, 32, 32, 3). \n",
    "\n",
    "Padding is also required for the backward pass of convolution.\n",
    "\n",
    "You should implement `pad` in `ndarray.py` to closely reflect the behavior of `np.pad`.\n",
    "That is, `pad` should take a tuple of 2-tuples with length equal to the number of dimensions of the array,\n",
    "where each element in the 2-tuple corresponds to \"left padding\" and \"right padding\", respectively.\n",
    "\n",
    "For example, if `A` is a (10, 32, 32, 8) ndarray (think NHWC), then `A.pad( (0, 0), (2, 2), (2, 2), (0, 0) )` would be a (10, 36, 36, 8) ndarray where the \"spatial\" dimension has been padded by two zeros on all sides."
   ]
  },
  {
   "cell_type": "code",
   "execution_count": 19,
   "metadata": {
    "colab": {
     "base_uri": "https://localhost:8080/"
    },
    "executionInfo": {
     "elapsed": 2988,
     "status": "ok",
     "timestamp": 1670814541538,
     "user": {
      "displayName": "Herostratus Young",
      "userId": "10311623262248876276"
     },
     "user_tz": -480
    },
    "id": "8HXZjSFS7zGT",
    "outputId": "8442f6b7-7472-4a7a-99cf-637fbde1d41a"
   },
   "outputs": [
    {
     "name": "stdout",
     "output_type": "stream",
     "text": [
      "\u001B[1m============================= test session starts ==============================\u001B[0m\r\n",
      "platform linux -- Python 3.9.15, pytest-7.1.2, pluggy-1.0.0 -- /home/erostrate9/anaconda3/envs/dls/bin/python3\r\n",
      "cachedir: .pytest_cache\r\n",
      "rootdir: /home/erostrate9/PycharmProjects/dls_hw4\r\n",
      "plugins: anyio-3.5.0\r\n",
      "collected 1823 items / 1821 deselected / 2 selected                            \u001B[0m\u001B[1m\r\n",
      "\r\n",
      "tests/test_conv.py::test_pad_forward[params0-needle.backend_ndarray.ndarray_backend_cpu] \u001B[32mPASSED\u001B[0m\u001B[32m [ 50%]\u001B[0m\r\n",
      "tests/test_conv.py::test_pad_forward[params1-needle.backend_ndarray.ndarray_backend_cpu] \u001B[32mPASSED\u001B[0m\u001B[32m [100%]\u001B[0m\r\n",
      "\r\n",
      "\u001B[32m====================== \u001B[32m\u001B[1m2 passed\u001B[0m, \u001B[33m1821 deselected\u001B[0m\u001B[32m in 0.84s\u001B[0m\u001B[32m ======================\u001B[0m\r\n"
     ]
    }
   ],
   "source": [
    "!python3 -m pytest -l -v -k \"pad_forward\""
   ]
  },
  {
   "cell_type": "markdown",
   "metadata": {
    "id": "a6rOZ_Xc7zGT"
   },
   "source": [
    "-------------------------------------"
   ]
  },
  {
   "cell_type": "markdown",
   "metadata": {
    "id": "EuNS4qZ77zGT"
   },
   "source": [
    "### Flipping ndarrays & FlipOp"
   ]
  },
  {
   "cell_type": "code",
   "execution_count": null,
   "metadata": {
    "id": "PPUEt1oA7zGT"
   },
   "outputs": [],
   "source": [
    "import numpy as np\n",
    "import ctypes"
   ]
  },
  {
   "cell_type": "markdown",
   "metadata": {
    "id": "28iuiwBL7zGT"
   },
   "source": [
    "Some utility code for a demonstration below which you can probably ignore. It might be instructive to check out the `offset` function."
   ]
  },
  {
   "cell_type": "code",
   "execution_count": null,
   "metadata": {
    "id": "KrGtLMM57zGU"
   },
   "outputs": [],
   "source": [
    "# reads off the underlying data array in order (i.e., offset 0, offset 1, ..., offset n)\n",
    "# i.e., ignoring strides\n",
    "def raw_data(X):\n",
    "    X = np.array(X) # copy, thus compact X\n",
    "    return np.frombuffer(ctypes.string_at(X.ctypes.data, X.nbytes), dtype=X.dtype, count=X.size)\n",
    "\n",
    "# Xold and Xnew should reference the same underlying data\n",
    "def offset(Xold, Xnew):\n",
    "    assert Xold.itemsize == Xnew.itemsize\n",
    "    # compare addresses to the beginning of the arrays\n",
    "    return (Xnew.ctypes.data - Xold.ctypes.data)//Xnew.itemsize\n",
    "\n",
    "def strides(X):\n",
    "    return ', '.join([str(x//X.itemsize) for x in X.strides])\n",
    "\n",
    "def format_array(X, shape):\n",
    "    assert len(shape) == 3, \"I only made this formatting work for ndims = 3\"\n",
    "    def chunks(l, n):\n",
    "        n = max(1, n)\n",
    "        return (l[i:i+n] for i in range(0, len(l), n))\n",
    "    a = [str(x) if x >= 10 else ' ' + str(x) for x in X]\n",
    "    a = ['(' + ' '.join(y) + ')' for y in [x for x in chunks(a, shape[-1])]]\n",
    "    a = ['|' + ' '.join(y) + '|' for y in [x for x in chunks(a, shape[-2])]]\n",
    "    return '  '.join(a)\n",
    "\n",
    "def inspect_array(X, *, is_a_copy_of):\n",
    "    # compacts X, then reads it off in order\n",
    "    print('Data: %s' % format_array(raw_data(X), X.shape))\n",
    "    # compares address of X to copy_of, thus finding X's offset\n",
    "    print('Offset: %s' % offset(is_a_copy_of, X))\n",
    "    print('Strides: %s' % strides(X))"
   ]
  },
  {
   "cell_type": "markdown",
   "metadata": {
    "id": "k-5vAHp37zGU",
    "tags": []
   },
   "source": [
    "In order to implement the backwards pass of 2D convolution, we will (probably) need a function which _flips_\n",
    "axes of NDArray. We say \"probably\" because you could probably cleverly implement your convolution forward\n",
    "function to avoid this. However, we think it is easiest to think about this if you have the ability to \"flip\" the kernel along its vertical and horizontal dimensions.\n",
    "\n",
    "We will try to build up your intuition for the \"flip\" operation below in order to help you figure out how to implement it in `ndarray.py`. To do that, we explore numpy's `np.flip` function below. One thing to note is that\n",
    "`flip` is typically implemented by using negative strides and changing the _offset_ of the underlying array.\n",
    "\n",
    "For example, flipping an array on _all_ of its axes is equivalent to reversing the array. In this case, you can imagine that we would want all the strides to be negative, and the offset to be the length of the array (to start at the end of the array and \"stride\" backwards).\n",
    "\n",
    "Since we did not explicitly support negative strides in our implementation for the last homework, we will merely call `NDArray.make` with them to make our \"flipped\" array and then immediately call `.compact()`. Other than changing unsigned ints to signed ints in a few places, we suspect your existing `compact` function should not have to change at all to accommodate negative strides. In the .cc and .cu files we distributed, we have already changed the function signatures to reflect this.\n",
    "\n",
    "Alternatively, you could simply implement `flip` in the CPU backend by copying memory, which you _may_ find more intuitive. We suggest following our mini tutorial below to keep your implementation Python-focused, since we believe it involves approximately the same amount of effort to implement it slightly more naively in C."
   ]
  },
  {
   "cell_type": "markdown",
   "metadata": {
    "id": "cCoILQR47zGU"
   },
   "source": [
    "Use this array as reference for the other examples:"
   ]
  },
  {
   "cell_type": "code",
   "execution_count": null,
   "metadata": {
    "id": "nRvONzcR7zGU",
    "outputId": "b1d4bf64-cd5f-44d5-8c1c-12b42e864d4d"
   },
   "outputs": [
    {
     "name": "stdout",
     "output_type": "stream",
     "text": [
      "Data: |( 1  2  3  4) ( 5  6  7  8)|  |( 9 10 11 12) (13 14 15 16)|  |(17 18 19 20) (21 22 23 24)|\n",
      "Offset: 0\n",
      "Strides: 8, 4, 1\n"
     ]
    }
   ],
   "source": [
    "A = np.arange(1, 25).reshape(3, 2, 4)\n",
    "inspect_array(A, is_a_copy_of=A)"
   ]
  },
  {
   "cell_type": "markdown",
   "metadata": {
    "id": "WC_JrEDx7zGU"
   },
   "source": [
    "We have put brackets around each axis of the array. Notice that for this array, the offset is 0 and the strides are all positive."
   ]
  },
  {
   "cell_type": "markdown",
   "metadata": {
    "id": "gli2MF3d7zGV"
   },
   "source": [
    "----------------------------------------------------------"
   ]
  },
  {
   "cell_type": "markdown",
   "metadata": {
    "id": "357diIBP7zGV"
   },
   "source": [
    "See what happens when you flip the array along the last axis below. \n",
    "Note that the `inspect_array` function compacts the array after flipping it, so you can see the\n",
    "\"logical\" order of the data, and the offset is calculated by comparing the address of the **non**-compacted\n",
    "flipped array with that of `is_copy_of`, i.e., the array `A` we looked at above.\n",
    "\n",
    "That is, we are looking at how numpy calculates the strides and offset for flipped arrays in order\n",
    "to copy this behavior in our own implementation."
   ]
  },
  {
   "cell_type": "code",
   "execution_count": null,
   "metadata": {
    "id": "pEVP9O9h7zGV",
    "outputId": "c1d1efd0-fde7-4a67-9b47-423f0b40acd4"
   },
   "outputs": [
    {
     "data": {
      "text/plain": [
       "array([[[ 1,  2,  3,  4],\n",
       "        [ 5,  6,  7,  8]],\n",
       "\n",
       "       [[ 9, 10, 11, 12],\n",
       "        [13, 14, 15, 16]],\n",
       "\n",
       "       [[17, 18, 19, 20],\n",
       "        [21, 22, 23, 24]]])"
      ]
     },
     "execution_count": 86,
     "metadata": {},
     "output_type": "execute_result"
    }
   ],
   "source": [
    "A"
   ]
  },
  {
   "cell_type": "code",
   "execution_count": null,
   "metadata": {
    "id": "7BFWQcxH7zGV"
   },
   "outputs": [],
   "source": []
  },
  {
   "cell_type": "code",
   "execution_count": null,
   "metadata": {
    "id": "HdPZpmcf7zGV",
    "outputId": "66038163-4c7e-43bf-811c-d64529ae21e1"
   },
   "outputs": [
    {
     "name": "stdout",
     "output_type": "stream",
     "text": [
      "Data: |( 4  3  2  1) ( 8  7  6  5)|  |(12 11 10  9) (16 15 14 13)|  |(20 19 18 17) (24 23 22 21)|\n",
      "Offset: 3\n",
      "Strides: 8, 4, -1\n"
     ]
    }
   ],
   "source": [
    "inspect_array(np.flip(A, (2,)), is_a_copy_of=A)"
   ]
  },
  {
   "cell_type": "markdown",
   "metadata": {
    "id": "GueliVuv7zGW"
   },
   "source": [
    "So flipping the last axis reverses the order of the elements within each 4-dimensional \"cell\", as you can see above. The stride corresponding to the axis we flipped has been negated. And the offset is 3 -- this makes sense, e.g., because we want the new \"first\" element of the array to be 4, which was at index 3 in `A`."
   ]
  },
  {
   "cell_type": "code",
   "execution_count": null,
   "metadata": {
    "id": "9gWAEgjK7zGW",
    "outputId": "9b7980f3-e902-416f-cd32-aacce684896c"
   },
   "outputs": [
    {
     "name": "stdout",
     "output_type": "stream",
     "text": [
      "Data: |( 5  6  7  8) ( 1  2  3  4)|  |(13 14 15 16) ( 9 10 11 12)|  |(21 22 23 24) (17 18 19 20)|\n",
      "Offset: 4\n",
      "Strides: 8, -4, 1\n"
     ]
    }
   ],
   "source": [
    "inspect_array(np.flip(A, (1,)), is_a_copy_of=A)"
   ]
  },
  {
   "cell_type": "markdown",
   "metadata": {
    "id": "aRm8kKiS7zGW"
   },
   "source": [
    "Again for the middle axis: we negate the middle stride, and the offset is 4, which seems reasonable since we now want the first element to be 5, which was at index 4 in the original array `A`. "
   ]
  },
  {
   "cell_type": "code",
   "execution_count": null,
   "metadata": {
    "id": "KMjFiG_57zGW",
    "outputId": "5e785c81-b852-419f-a240-a0f468815c7d"
   },
   "outputs": [
    {
     "name": "stdout",
     "output_type": "stream",
     "text": [
      "Data: |(17 18 19 20) (21 22 23 24)|  |( 9 10 11 12) (13 14 15 16)|  |( 1  2  3  4) ( 5  6  7  8)|\n",
      "Offset: 16\n",
      "Strides: -8, 4, 1\n"
     ]
    }
   ],
   "source": [
    "inspect_array(np.flip(A, (0,)), is_a_copy_of=A)"
   ]
  },
  {
   "cell_type": "markdown",
   "metadata": {
    "id": "G2bfOyOR7zGW"
   },
   "source": [
    "Try to infer the more general algorithm for computing the offset given the axis to flip."
   ]
  },
  {
   "cell_type": "markdown",
   "metadata": {
    "id": "dB4Yb1n67zGW"
   },
   "source": [
    "----------------------------------------------------------------------------------------------------------"
   ]
  },
  {
   "cell_type": "markdown",
   "metadata": {
    "id": "iKw2m3dE7zGW"
   },
   "source": [
    "Observe what happens when we flip _all_ axes."
   ]
  },
  {
   "cell_type": "code",
   "execution_count": null,
   "metadata": {
    "id": "CCj2Mwln7zGX",
    "outputId": "fde288a5-f486-401a-8ccf-7ad9f1f0428c"
   },
   "outputs": [
    {
     "name": "stdout",
     "output_type": "stream",
     "text": [
      "Data: |(24 23 22 21) (20 19 18 17)|  |(16 15 14 13) (12 11 10  9)|  |( 8  7  6  5) ( 4  3  2  1)|\n",
      "Offset: 23\n",
      "Strides: -8, -4, -1\n"
     ]
    }
   ],
   "source": [
    "inspect_array(np.flip(A, (0,1,2)), is_a_copy_of=A)"
   ]
  },
  {
   "cell_type": "markdown",
   "metadata": {
    "id": "xv-dz3fm7zGX"
   },
   "source": [
    "As mentioned earlier, the offset is then sufficient to point to the last element of the array, and this is just the \"reverse order\" version of `A`."
   ]
  },
  {
   "cell_type": "markdown",
   "metadata": {
    "id": "9kL7n8bC7zGX"
   },
   "source": [
    "When we flip just axes 1 and 0..."
   ]
  },
  {
   "cell_type": "code",
   "execution_count": null,
   "metadata": {
    "id": "8_gNB6J27zGX",
    "outputId": "fae41e03-fc93-42e8-d3b3-c458c0446692"
   },
   "outputs": [
    {
     "name": "stdout",
     "output_type": "stream",
     "text": [
      "Data: |(21 22 23 24) (17 18 19 20)|  |(13 14 15 16) ( 9 10 11 12)|  |( 5  6  7  8) ( 1  2  3  4)|\n",
      "Offset: 20\n",
      "Strides: -8, -4, 1\n"
     ]
    }
   ],
   "source": [
    "inspect_array(np.flip(A, (0,1)), is_a_copy_of=A)"
   ]
  },
  {
   "cell_type": "markdown",
   "metadata": {
    "id": "DzD2Hflq7zGX"
   },
   "source": [
    "The offset is 20. Looking back on our previous offset computations, do you notice something?"
   ]
  },
  {
   "cell_type": "markdown",
   "metadata": {
    "id": "N4cSDxv87zGX"
   },
   "source": [
    "-------------------\n",
    "\n",
    "With this exploration of numpy's ndarray flipping functionality, which uses negative strides and a custom offset,\n",
    "try to implement `flip` in `ndarray.py`. You also must implement \"flip\" forward and backward functions in `ops.py`; note that these should be extremely short.\n",
    "\n",
    "**Important:** You should call NDArray.make with the new strides and offset, and then immediately `.compact()` this array. The resulting array is then copied and has positive strides. We want this (less-than-optimal) behavior because we did not account for negative strides in our previous implementation. _Aside:_ If you want, consider where/if negative strides break your implementation. `__getitem__` definitely doesn't work due to how we processed slices; is there anything else? (_Note_: this isn't graded.)\n",
    "\n",
    "Also, if you want to instead add a `flip` operator on the CPU/CUDA backends, that's also okay.\n",
    "\n"
   ]
  },
  {
   "cell_type": "code",
   "execution_count": 20,
   "metadata": {
    "colab": {
     "base_uri": "https://localhost:8080/"
    },
    "executionInfo": {
     "elapsed": 4346,
     "status": "ok",
     "timestamp": 1670814553716,
     "user": {
      "displayName": "Herostratus Young",
      "userId": "10311623262248876276"
     },
     "user_tz": -480
    },
    "id": "pxmaHefi7zGX",
    "outputId": "b7e67d12-ad18-4dfa-f69f-3d2bf9bf9452"
   },
   "outputs": [
    {
     "name": "stdout",
     "output_type": "stream",
     "text": [
      "\u001B[1m============================= test session starts ==============================\u001B[0m\r\n",
      "platform linux -- Python 3.9.15, pytest-7.1.2, pluggy-1.0.0 -- /home/erostrate9/anaconda3/envs/dls/bin/python3\r\n",
      "cachedir: .pytest_cache\r\n",
      "rootdir: /home/erostrate9/PycharmProjects/dls_hw4\r\n",
      "plugins: anyio-3.5.0\r\n",
      "collected 1823 items / 1783 deselected / 40 selected                           \u001B[0m\u001B[1m\r\n",
      "\r\n",
      "tests/test_conv.py::test_flip_forward[params0-needle.backend_ndarray.ndarray_backend_cpu] \u001B[32mPASSED\u001B[0m\u001B[32m [  2%]\u001B[0m\r\n",
      "tests/test_conv.py::test_flip_forward[params0-needle.backend_ndarray.ndarray_backend_cuda] \u001B[32mPASSED\u001B[0m\u001B[32m [  5%]\u001B[0m\r\n",
      "tests/test_conv.py::test_flip_forward[params1-needle.backend_ndarray.ndarray_backend_cpu] \u001B[32mPASSED\u001B[0m\u001B[32m [  7%]\u001B[0m\r\n",
      "tests/test_conv.py::test_flip_forward[params1-needle.backend_ndarray.ndarray_backend_cuda] \u001B[32mPASSED\u001B[0m\u001B[32m [ 10%]\u001B[0m\r\n",
      "tests/test_conv.py::test_flip_forward[params2-needle.backend_ndarray.ndarray_backend_cpu] \u001B[32mPASSED\u001B[0m\u001B[32m [ 12%]\u001B[0m\r\n",
      "tests/test_conv.py::test_flip_forward[params2-needle.backend_ndarray.ndarray_backend_cuda] \u001B[32mPASSED\u001B[0m\u001B[32m [ 15%]\u001B[0m\r\n",
      "tests/test_conv.py::test_flip_forward[params3-needle.backend_ndarray.ndarray_backend_cpu] \u001B[32mPASSED\u001B[0m\u001B[32m [ 17%]\u001B[0m\r\n",
      "tests/test_conv.py::test_flip_forward[params3-needle.backend_ndarray.ndarray_backend_cuda] \u001B[32mPASSED\u001B[0m\u001B[32m [ 20%]\u001B[0m\r\n",
      "tests/test_conv.py::test_flip_forward[params4-needle.backend_ndarray.ndarray_backend_cpu] \u001B[32mPASSED\u001B[0m\u001B[32m [ 22%]\u001B[0m\r\n",
      "tests/test_conv.py::test_flip_forward[params4-needle.backend_ndarray.ndarray_backend_cuda] \u001B[32mPASSED\u001B[0m\u001B[32m [ 25%]\u001B[0m\r\n",
      "tests/test_conv.py::test_flip_forward[params5-needle.backend_ndarray.ndarray_backend_cpu] \u001B[32mPASSED\u001B[0m\u001B[32m [ 27%]\u001B[0m\r\n",
      "tests/test_conv.py::test_flip_forward[params5-needle.backend_ndarray.ndarray_backend_cuda] \u001B[32mPASSED\u001B[0m\u001B[32m [ 30%]\u001B[0m\r\n",
      "tests/test_conv.py::test_flip_forward[params6-needle.backend_ndarray.ndarray_backend_cpu] \u001B[32mPASSED\u001B[0m\u001B[32m [ 32%]\u001B[0m\r\n",
      "tests/test_conv.py::test_flip_forward[params6-needle.backend_ndarray.ndarray_backend_cuda] \u001B[32mPASSED\u001B[0m\u001B[32m [ 35%]\u001B[0m\r\n",
      "tests/test_conv.py::test_flip_forward[params7-needle.backend_ndarray.ndarray_backend_cpu] \u001B[32mPASSED\u001B[0m\u001B[32m [ 37%]\u001B[0m\r\n",
      "tests/test_conv.py::test_flip_forward[params7-needle.backend_ndarray.ndarray_backend_cuda] \u001B[32mPASSED\u001B[0m\u001B[32m [ 40%]\u001B[0m\r\n",
      "tests/test_conv.py::test_flip_forward[params8-needle.backend_ndarray.ndarray_backend_cpu] \u001B[32mPASSED\u001B[0m\u001B[32m [ 42%]\u001B[0m\r\n",
      "tests/test_conv.py::test_flip_forward[params8-needle.backend_ndarray.ndarray_backend_cuda] \u001B[32mPASSED\u001B[0m\u001B[32m [ 45%]\u001B[0m\r\n",
      "tests/test_conv.py::test_flip_forward[params9-needle.backend_ndarray.ndarray_backend_cpu] \u001B[32mPASSED\u001B[0m\u001B[32m [ 47%]\u001B[0m\r\n",
      "tests/test_conv.py::test_flip_forward[params9-needle.backend_ndarray.ndarray_backend_cuda] \u001B[32mPASSED\u001B[0m\u001B[32m [ 50%]\u001B[0m\r\n",
      "tests/test_conv.py::test_flip_backward[params0-needle.backend_ndarray.ndarray_backend_cpu] \u001B[32mPASSED\u001B[0m\u001B[32m [ 52%]\u001B[0m\r\n",
      "tests/test_conv.py::test_flip_backward[params0-needle.backend_ndarray.ndarray_backend_cuda] \u001B[32mPASSED\u001B[0m\u001B[32m [ 55%]\u001B[0m\r\n",
      "tests/test_conv.py::test_flip_backward[params1-needle.backend_ndarray.ndarray_backend_cpu] \u001B[32mPASSED\u001B[0m\u001B[32m [ 57%]\u001B[0m\r\n",
      "tests/test_conv.py::test_flip_backward[params1-needle.backend_ndarray.ndarray_backend_cuda] \u001B[32mPASSED\u001B[0m\u001B[32m [ 60%]\u001B[0m\r\n",
      "tests/test_conv.py::test_flip_backward[params2-needle.backend_ndarray.ndarray_backend_cpu] \u001B[32mPASSED\u001B[0m\u001B[32m [ 62%]\u001B[0m\r\n",
      "tests/test_conv.py::test_flip_backward[params2-needle.backend_ndarray.ndarray_backend_cuda] \u001B[32mPASSED\u001B[0m\u001B[32m [ 65%]\u001B[0m\r\n",
      "tests/test_conv.py::test_flip_backward[params3-needle.backend_ndarray.ndarray_backend_cpu] \u001B[32mPASSED\u001B[0m\u001B[32m [ 67%]\u001B[0m\r\n",
      "tests/test_conv.py::test_flip_backward[params3-needle.backend_ndarray.ndarray_backend_cuda] \u001B[32mPASSED\u001B[0m\u001B[32m [ 70%]\u001B[0m\r\n",
      "tests/test_conv.py::test_flip_backward[params4-needle.backend_ndarray.ndarray_backend_cpu] \u001B[32mPASSED\u001B[0m\u001B[32m [ 72%]\u001B[0m\r\n",
      "tests/test_conv.py::test_flip_backward[params4-needle.backend_ndarray.ndarray_backend_cuda] \u001B[32mPASSED\u001B[0m\u001B[32m [ 75%]\u001B[0m\r\n",
      "tests/test_conv.py::test_flip_backward[params5-needle.backend_ndarray.ndarray_backend_cpu] \u001B[32mPASSED\u001B[0m\u001B[32m [ 77%]\u001B[0m\r\n",
      "tests/test_conv.py::test_flip_backward[params5-needle.backend_ndarray.ndarray_backend_cuda] \u001B[32mPASSED\u001B[0m\u001B[32m [ 80%]\u001B[0m\r\n",
      "tests/test_conv.py::test_flip_backward[params6-needle.backend_ndarray.ndarray_backend_cpu] \u001B[32mPASSED\u001B[0m\u001B[32m [ 82%]\u001B[0m\r\n",
      "tests/test_conv.py::test_flip_backward[params6-needle.backend_ndarray.ndarray_backend_cuda] \u001B[32mPASSED\u001B[0m\u001B[32m [ 85%]\u001B[0m\r\n",
      "tests/test_conv.py::test_flip_backward[params7-needle.backend_ndarray.ndarray_backend_cpu] \u001B[32mPASSED\u001B[0m\u001B[32m [ 87%]\u001B[0m\r\n",
      "tests/test_conv.py::test_flip_backward[params7-needle.backend_ndarray.ndarray_backend_cuda] \u001B[32mPASSED\u001B[0m\u001B[32m [ 90%]\u001B[0m\r\n",
      "tests/test_conv.py::test_flip_backward[params8-needle.backend_ndarray.ndarray_backend_cpu] \u001B[32mPASSED\u001B[0m\u001B[32m [ 92%]\u001B[0m\r\n",
      "tests/test_conv.py::test_flip_backward[params8-needle.backend_ndarray.ndarray_backend_cuda] \u001B[32mPASSED\u001B[0m\u001B[32m [ 95%]\u001B[0m\r\n",
      "tests/test_conv.py::test_flip_backward[params9-needle.backend_ndarray.ndarray_backend_cpu] \u001B[32mPASSED\u001B[0m\u001B[32m [ 97%]\u001B[0m\r\n",
      "tests/test_conv.py::test_flip_backward[params9-needle.backend_ndarray.ndarray_backend_cuda] \u001B[32mPASSED\u001B[0m\u001B[32m [100%]\u001B[0m\r\n",
      "\r\n",
      "\u001B[32m===================== \u001B[32m\u001B[1m40 passed\u001B[0m, \u001B[33m1783 deselected\u001B[0m\u001B[32m in 1.61s\u001B[0m\u001B[32m ======================\u001B[0m\r\n"
     ]
    }
   ],
   "source": [
    "!python3 -m pytest -l -v -k \"flip\""
   ]
  },
  {
   "cell_type": "markdown",
   "metadata": {
    "id": "5Wlu-h2g7zGY"
   },
   "source": [
    "-------------------------------------"
   ]
  },
  {
   "cell_type": "markdown",
   "metadata": {
    "id": "LPrUSIEE7zGY"
   },
   "source": [
    "### Dilation\n"
   ]
  },
  {
   "cell_type": "markdown",
   "metadata": {
    "id": "HKHOh9BB7zGY"
   },
   "source": [
    "The dilation operator puts zeros between elements of an NDArray. We will need it for computing the backward pass of convolution when the stride of the convolution is greater than 1. As an example, dilation should do the following to a 2x2 matrix when dilated by 1 on both axes:\n",
    "\n",
    "$$\n",
    "\\begin{bmatrix}\n",
    "1 & 2 \\\\\n",
    "3 & 4\n",
    "\\end{bmatrix}\n",
    "\\Longrightarrow\n",
    "\\begin{bmatrix}\n",
    "1 & 0 & 2 & 0 \\\\\n",
    "0 & 0 & 0 & 0 \\\\\n",
    "3 & 0 & 4 & 0 \\\\\n",
    "0 & 0 & 0 & 0\n",
    "\\end{bmatrix}\n",
    "$$\n",
    "\n",
    "To get some intuition for why we need dilation for the backward pass of strided convolution, consider a  `stride=2`, `padding=\"same\"`, `input_channels=output_channels=8` convolution applied to an input of size (10, 32, 32, 8). The resulting output will be of size (10, 16, 16, 8) due to the stride, and thus `out_grad` will have shape (10, 16, 16, 8). Yet, the gradient of the input needs to, of course, have shape (10, 32, 32, 8) -- so we must need to increase the size of `out_grad` in some way. Consider also that you could implement strided convolution as `Conv(x)[:, ::2, ::2, :]`, i.e., only keeping every other pixel in the spatial dimension.\n",
    "\n",
    "\n",
    "Implement `Dilate` in `ops.py`. This function takes two additional parameters (in attrs): the `dilation` amount and the `axes` to dilate. You must also implement the corresponding op `UnDilate`, whose forward pass will be used to implement the gradient of `Dilate`. (This is why we do not have to implement `GetItem` and `SetItem` ops, which can be highly inefficient to backprop through without additional optimizations.)"
   ]
  },
  {
   "cell_type": "code",
   "execution_count": 21,
   "metadata": {
    "colab": {
     "base_uri": "https://localhost:8080/"
    },
    "executionInfo": {
     "elapsed": 2454,
     "status": "ok",
     "timestamp": 1670814565736,
     "user": {
      "displayName": "Herostratus Young",
      "userId": "10311623262248876276"
     },
     "user_tz": -480
    },
    "id": "JfC1bGfc7zGY",
    "outputId": "8271a658-a80c-4393-a13e-a84932f84747"
   },
   "outputs": [
    {
     "name": "stdout",
     "output_type": "stream",
     "text": [
      "\u001B[1m============================= test session starts ==============================\u001B[0m\r\n",
      "platform linux -- Python 3.9.15, pytest-7.1.2, pluggy-1.0.0 -- /home/erostrate9/anaconda3/envs/dls/bin/python3\r\n",
      "cachedir: .pytest_cache\r\n",
      "rootdir: /home/erostrate9/PycharmProjects/dls_hw4\r\n",
      "plugins: anyio-3.5.0\r\n",
      "collected 1823 items / 1821 deselected / 2 selected                            \u001B[0m\u001B[1m\r\n",
      "\r\n",
      "tests/test_conv.py::test_dilate_forward[needle.backend_ndarray.ndarray_backend_cpu] \u001B[32mPASSED\u001B[0m\u001B[32m [ 50%]\u001B[0m\r\n",
      "tests/test_conv.py::test_dilate_forward[needle.backend_ndarray.ndarray_backend_cuda] \u001B[32mPASSED\u001B[0m\u001B[32m [100%]\u001B[0m\r\n",
      "\r\n",
      "\u001B[32m====================== \u001B[32m\u001B[1m2 passed\u001B[0m, \u001B[33m1821 deselected\u001B[0m\u001B[32m in 0.85s\u001B[0m\u001B[32m ======================\u001B[0m\r\n"
     ]
    }
   ],
   "source": [
    "!python3 -m pytest -l -v -k \"dilate_forward\""
   ]
  },
  {
   "cell_type": "code",
   "execution_count": 22,
   "metadata": {
    "colab": {
     "base_uri": "https://localhost:8080/"
    },
    "executionInfo": {
     "elapsed": 4582,
     "status": "ok",
     "timestamp": 1670814571028,
     "user": {
      "displayName": "Herostratus Young",
      "userId": "10311623262248876276"
     },
     "user_tz": -480
    },
    "id": "UzmQZxQN7zGY",
    "outputId": "3c405c9c-3dbf-4d73-c153-b8a3901c0996"
   },
   "outputs": [
    {
     "name": "stdout",
     "output_type": "stream",
     "text": [
      "\u001B[1m============================= test session starts ==============================\u001B[0m\r\n",
      "platform linux -- Python 3.9.15, pytest-7.1.2, pluggy-1.0.0 -- /home/erostrate9/anaconda3/envs/dls/bin/python3\r\n",
      "cachedir: .pytest_cache\r\n",
      "rootdir: /home/erostrate9/PycharmProjects/dls_hw4\r\n",
      "plugins: anyio-3.5.0\r\n",
      "collected 1823 items / 1797 deselected / 26 selected                           \u001B[0m\u001B[1m\r\n",
      "\r\n",
      "tests/test_conv.py::test_dilate_forward[needle.backend_ndarray.ndarray_backend_cpu] \u001B[32mPASSED\u001B[0m\u001B[32m [  3%]\u001B[0m\r\n",
      "tests/test_conv.py::test_dilate_forward[needle.backend_ndarray.ndarray_backend_cuda] \u001B[32mPASSED\u001B[0m\u001B[32m [  7%]\u001B[0m\r\n",
      "tests/test_conv.py::test_dilate_backward[params0-needle.backend_ndarray.ndarray_backend_cpu] \u001B[32mPASSED\u001B[0m\u001B[32m [ 11%]\u001B[0m\r\n",
      "tests/test_conv.py::test_dilate_backward[params0-needle.backend_ndarray.ndarray_backend_cuda] \u001B[32mPASSED\u001B[0m\u001B[32m [ 15%]\u001B[0m\r\n",
      "tests/test_conv.py::test_dilate_backward[params1-needle.backend_ndarray.ndarray_backend_cpu] \u001B[32mPASSED\u001B[0m\u001B[32m [ 19%]\u001B[0m\r\n",
      "tests/test_conv.py::test_dilate_backward[params1-needle.backend_ndarray.ndarray_backend_cuda] \u001B[32mPASSED\u001B[0m\u001B[32m [ 23%]\u001B[0m\r\n",
      "tests/test_conv.py::test_dilate_backward[params2-needle.backend_ndarray.ndarray_backend_cpu] \u001B[32mPASSED\u001B[0m\u001B[32m [ 26%]\u001B[0m\r\n",
      "tests/test_conv.py::test_dilate_backward[params2-needle.backend_ndarray.ndarray_backend_cuda] \u001B[32mPASSED\u001B[0m\u001B[32m [ 30%]\u001B[0m\r\n",
      "tests/test_conv.py::test_dilate_backward[params3-needle.backend_ndarray.ndarray_backend_cpu] \u001B[32mPASSED\u001B[0m\u001B[32m [ 34%]\u001B[0m\r\n",
      "tests/test_conv.py::test_dilate_backward[params3-needle.backend_ndarray.ndarray_backend_cuda] \u001B[32mPASSED\u001B[0m\u001B[32m [ 38%]\u001B[0m\r\n",
      "tests/test_conv.py::test_dilate_backward[params4-needle.backend_ndarray.ndarray_backend_cpu] \u001B[32mPASSED\u001B[0m\u001B[32m [ 42%]\u001B[0m\r\n",
      "tests/test_conv.py::test_dilate_backward[params4-needle.backend_ndarray.ndarray_backend_cuda] \u001B[32mPASSED\u001B[0m\u001B[32m [ 46%]\u001B[0m\r\n",
      "tests/test_conv.py::test_dilate_backward[params5-needle.backend_ndarray.ndarray_backend_cpu] \u001B[32mPASSED\u001B[0m\u001B[32m [ 50%]\u001B[0m\r\n",
      "tests/test_conv.py::test_dilate_backward[params5-needle.backend_ndarray.ndarray_backend_cuda] \u001B[32mPASSED\u001B[0m\u001B[32m [ 53%]\u001B[0m\r\n",
      "tests/test_conv.py::test_dilate_backward[params6-needle.backend_ndarray.ndarray_backend_cpu] \u001B[32mPASSED\u001B[0m\u001B[32m [ 57%]\u001B[0m\r\n",
      "tests/test_conv.py::test_dilate_backward[params6-needle.backend_ndarray.ndarray_backend_cuda] \u001B[32mPASSED\u001B[0m\u001B[32m [ 61%]\u001B[0m\r\n",
      "tests/test_conv.py::test_dilate_backward[params7-needle.backend_ndarray.ndarray_backend_cpu] \u001B[32mPASSED\u001B[0m\u001B[32m [ 65%]\u001B[0m\r\n",
      "tests/test_conv.py::test_dilate_backward[params7-needle.backend_ndarray.ndarray_backend_cuda] \u001B[32mPASSED\u001B[0m\u001B[32m [ 69%]\u001B[0m\r\n",
      "tests/test_conv.py::test_dilate_backward[params8-needle.backend_ndarray.ndarray_backend_cpu] \u001B[32mPASSED\u001B[0m\u001B[32m [ 73%]\u001B[0m\r\n",
      "tests/test_conv.py::test_dilate_backward[params8-needle.backend_ndarray.ndarray_backend_cuda] \u001B[32mPASSED\u001B[0m\u001B[32m [ 76%]\u001B[0m\r\n",
      "tests/test_conv.py::test_dilate_backward[params9-needle.backend_ndarray.ndarray_backend_cpu] \u001B[32mPASSED\u001B[0m\u001B[32m [ 80%]\u001B[0m\r\n",
      "tests/test_conv.py::test_dilate_backward[params9-needle.backend_ndarray.ndarray_backend_cuda] \u001B[32mPASSED\u001B[0m\u001B[32m [ 84%]\u001B[0m\r\n",
      "tests/test_conv.py::test_dilate_backward[params10-needle.backend_ndarray.ndarray_backend_cpu] \u001B[32mPASSED\u001B[0m\u001B[32m [ 88%]\u001B[0m\r\n",
      "tests/test_conv.py::test_dilate_backward[params10-needle.backend_ndarray.ndarray_backend_cuda] \u001B[32mPASSED\u001B[0m\u001B[32m [ 92%]\u001B[0m\r\n",
      "tests/test_conv.py::test_dilate_backward[params11-needle.backend_ndarray.ndarray_backend_cpu] \u001B[32mPASSED\u001B[0m\u001B[32m [ 96%]\u001B[0m\r\n",
      "tests/test_conv.py::test_dilate_backward[params11-needle.backend_ndarray.ndarray_backend_cuda] \u001B[32mPASSED\u001B[0m\u001B[32m [100%]\u001B[0m\r\n",
      "\r\n",
      "\u001B[32m===================== \u001B[32m\u001B[1m26 passed\u001B[0m, \u001B[33m1797 deselected\u001B[0m\u001B[32m in 1.61s\u001B[0m\u001B[32m ======================\u001B[0m\r\n"
     ]
    }
   ],
   "source": [
    "!python3 -m pytest -l -v -k \"dilate\""
   ]
  },
  {
   "cell_type": "markdown",
   "metadata": {
    "id": "nFjyJqgy7zGY"
   },
   "source": [
    "---------------------------------------"
   ]
  },
  {
   "cell_type": "markdown",
   "metadata": {
    "id": "3P_5dBPB7zGY"
   },
   "source": [
    "### Submit new ops (flip/dilation) to mugrade [10 points]"
   ]
  },
  {
   "cell_type": "code",
   "execution_count": null,
   "metadata": {
    "id": "0yFepk3u7zGY",
    "outputId": "b33cbb99-8861-4813-c6ef-fb3d3018eccb"
   },
   "outputs": [
    {
     "name": "stdout",
     "output_type": "stream",
     "text": [
      "submit\r\n",
      "\u001B[1m============================= test session starts ==============================\u001B[0m\r\n",
      "platform linux -- Python 3.9.15, pytest-7.2.0, pluggy-1.0.0\r\n",
      "rootdir: /home/erostrate9/PycharmProjects/dls_hw4\r\n",
      "plugins: anyio-3.5.0\r\n",
      "collected 10 items / 9 deselected / 1 selected                                 \u001B[0m\u001B[1m\r\n",
      "\r\n",
      "tests/test_conv.py \r\n",
      "Submitting new_ops...\r\n",
      "Grader test 1 passed\r\n",
      "Grader test 2 passed\r\n",
      "Grader test 3 passed\r\n",
      "Grader test 4 passed\r\n",
      "Grader test 5 passed\r\n",
      "Grader test 6 passed\r\n",
      "Grader test 7 passed\r\n",
      "Grader test 8 passed\r\n",
      "Grader test 9 passed\r\n",
      "Grader test 10 passed\r\n",
      "Grader test 11 passed\r\n",
      "\u001B[32m.\u001B[0m\r\n",
      "\r\n",
      "\u001B[32m======================= \u001B[32m\u001B[1m1 passed\u001B[0m, \u001B[33m9 deselected\u001B[0m\u001B[32m in 19.17s\u001B[0m\u001B[32m =======================\u001B[0m\r\n"
     ]
    }
   ],
   "source": [
    "!python3 -m mugrade submit \"_0QwrEWYLgzYU25KDG4FM\" -k \"new_ops\""
   ]
  },
  {
   "cell_type": "markdown",
   "metadata": {
    "id": "aZEqhBdO7zGZ"
   },
   "source": [
    "-----------------"
   ]
  },
  {
   "cell_type": "markdown",
   "metadata": {
    "id": "v1T777Li7zGZ"
   },
   "source": [
    "### Convolution forward\n",
    "\n",
    "Implement the forward pass of 2D multi-channel convolution in `ops.py`. You should probably refer to [this notebook](https://github.com/dlsyscourse/public_notebooks/blob/main/convolution_implementation.ipynb) from lecture, which implements 2D multi-channel convolution using im2col in numpy.\n",
    "\n",
    "**Note:** Your convolution op should accept tensors in the NHWC format, as in the example above, and weights in the format (kernel_size, kernel_size, input_channels, output_channels).\n",
    "\n",
    "However, you will need to add two additional features. Your convolution function should accept arguments for `padding` (default 0) and `stride` (default 1). For `padding`, you should simply apply your padding function to the spatial dimensions (i.e., axes 1 and 2). \n",
    "\n",
    "Implementing strided convolution should consist of a relatively small set of changes to your plain convolution implementation.\n",
    "\n",
    "We recommend implementing convolution without stride first, ensuring you pass some of the tests below, and then adding in stride."
   ]
  },
  {
   "cell_type": "code",
   "execution_count": 10,
   "metadata": {
    "colab": {
     "base_uri": "https://localhost:8080/"
    },
    "executionInfo": {
     "elapsed": 8,
     "status": "ok",
     "timestamp": 1670826310920,
     "user": {
      "displayName": "Herostratus Young",
      "userId": "10311623262248876276"
     },
     "user_tz": -480
    },
    "id": "MMePWZAS7zGZ",
    "outputId": "bbb667b6-4ac8-44ea-f1e0-dde0df436969"
   },
   "outputs": [
    {
     "data": {
      "text/plain": [
       "array([[[ 1,  2,  3,  4],\n",
       "        [ 5,  6,  7,  8]],\n",
       "\n",
       "       [[ 9, 10, 11, 12],\n",
       "        [13, 14, 15, 16]],\n",
       "\n",
       "       [[17, 18, 19, 20],\n",
       "        [21, 22, 23, 24]]])"
      ]
     },
     "execution_count": 10,
     "metadata": {},
     "output_type": "execute_result"
    }
   ],
   "source": [
    "import numpy as np\n",
    "x = np.arange(1, 25).reshape(3,2, 4)\n",
    "x"
   ]
  },
  {
   "cell_type": "code",
   "execution_count": 11,
   "metadata": {
    "executionInfo": {
     "elapsed": 3,
     "status": "ok",
     "timestamp": 1670826310920,
     "user": {
      "displayName": "Herostratus Young",
      "userId": "10311623262248876276"
     },
     "user_tz": -480
    },
    "id": "a5sxNt2s7zGZ"
   },
   "outputs": [],
   "source": [
    "import math\n",
    "from functools import reduce\n",
    "import operator\n",
    "def prod(x):\n",
    "    return reduce(operator.mul, x, 1)"
   ]
  },
  {
   "cell_type": "code",
   "execution_count": 23,
   "metadata": {
    "colab": {
     "base_uri": "https://localhost:8080/"
    },
    "executionInfo": {
     "elapsed": 3922,
     "status": "ok",
     "timestamp": 1670826314839,
     "user": {
      "displayName": "Herostratus Young",
      "userId": "10311623262248876276"
     },
     "user_tz": -480
    },
    "id": "6wHPyQ2-7zGZ",
    "outputId": "5cc68cd7-831a-4817-e66c-1c08602c653e"
   },
   "outputs": [
    {
     "name": "stdout",
     "output_type": "stream",
     "text": [
      "\u001B[1m============================= test session starts ==============================\u001B[0m\r\n",
      "platform linux -- Python 3.9.15, pytest-7.1.2, pluggy-1.0.0 -- /home/erostrate9/anaconda3/envs/dls/bin/python3\r\n",
      "cachedir: .pytest_cache\r\n",
      "rootdir: /home/erostrate9/PycharmProjects/dls_hw4\r\n",
      "plugins: anyio-3.5.0\r\n",
      "collected 1823 items / 1789 deselected / 34 selected                           \u001B[0m\u001B[1m\r\n",
      "\r\n",
      "tests/test_conv.py::test_op_conv[forward-needle.backend_ndarray.ndarray_backend_cpu-Z_shape0-W_shape0-1-0] \u001B[32mPASSED\u001B[0m\u001B[32m [  2%]\u001B[0m\r\n",
      "tests/test_conv.py::test_op_conv[forward-needle.backend_ndarray.ndarray_backend_cpu-Z_shape1-W_shape1-1-1] \u001B[32mPASSED\u001B[0m\u001B[32m [  5%]\u001B[0m\r\n",
      "tests/test_conv.py::test_op_conv[forward-needle.backend_ndarray.ndarray_backend_cpu-Z_shape2-W_shape2-1-2] \u001B[32mPASSED\u001B[0m\u001B[32m [  8%]\u001B[0m\r\n",
      "tests/test_conv.py::test_op_conv[forward-needle.backend_ndarray.ndarray_backend_cpu-Z_shape3-W_shape3-1-0] \u001B[32mPASSED\u001B[0m\u001B[32m [ 11%]\u001B[0m\r\n",
      "tests/test_conv.py::test_op_conv[forward-needle.backend_ndarray.ndarray_backend_cpu-Z_shape4-W_shape4-1-0] \u001B[32mPASSED\u001B[0m\u001B[32m [ 14%]\u001B[0m\r\n",
      "tests/test_conv.py::test_op_conv[forward-needle.backend_ndarray.ndarray_backend_cpu-Z_shape5-W_shape5-2-0] \u001B[32mPASSED\u001B[0m\u001B[32m [ 17%]\u001B[0m\r\n",
      "tests/test_conv.py::test_op_conv[forward-needle.backend_ndarray.ndarray_backend_cpu-Z_shape6-W_shape6-2-1] \u001B[32mPASSED\u001B[0m\u001B[32m [ 20%]\u001B[0m\r\n",
      "tests/test_conv.py::test_op_conv[forward-needle.backend_ndarray.ndarray_backend_cpu-Z_shape7-W_shape7-2-2] \u001B[32mPASSED\u001B[0m\u001B[32m [ 23%]\u001B[0m\r\n",
      "tests/test_conv.py::test_op_conv[forward-needle.backend_ndarray.ndarray_backend_cpu-Z_shape8-W_shape8-2-0] \u001B[32mPASSED\u001B[0m\u001B[32m [ 26%]\u001B[0m\r\n",
      "tests/test_conv.py::test_op_conv[forward-needle.backend_ndarray.ndarray_backend_cpu-Z_shape9-W_shape9-2-0] \u001B[32mPASSED\u001B[0m\u001B[32m [ 29%]\u001B[0m\r\n",
      "tests/test_conv.py::test_op_conv[forward-needle.backend_ndarray.ndarray_backend_cpu-Z_shape10-W_shape10-1-0] \u001B[32mPASSED\u001B[0m\u001B[32m [ 32%]\u001B[0m\r\n",
      "tests/test_conv.py::test_op_conv[forward-needle.backend_ndarray.ndarray_backend_cpu-Z_shape11-W_shape11-1-0] \u001B[32mPASSED\u001B[0m\u001B[32m [ 35%]\u001B[0m\r\n",
      "tests/test_conv.py::test_op_conv[forward-needle.backend_ndarray.ndarray_backend_cpu-Z_shape12-W_shape12-1-0] \u001B[32mPASSED\u001B[0m\u001B[32m [ 38%]\u001B[0m\r\n",
      "tests/test_conv.py::test_op_conv[forward-needle.backend_ndarray.ndarray_backend_cpu-Z_shape13-W_shape13-1-0] \u001B[32mPASSED\u001B[0m\u001B[32m [ 41%]\u001B[0m\r\n",
      "tests/test_conv.py::test_op_conv[forward-needle.backend_ndarray.ndarray_backend_cpu-Z_shape14-W_shape14-1-0] \u001B[32mPASSED\u001B[0m\u001B[32m [ 44%]\u001B[0m\r\n",
      "tests/test_conv.py::test_op_conv[forward-needle.backend_ndarray.ndarray_backend_cpu-Z_shape15-W_shape15-1-0] \u001B[32mPASSED\u001B[0m\u001B[32m [ 47%]\u001B[0m\r\n",
      "tests/test_conv.py::test_op_conv[forward-needle.backend_ndarray.ndarray_backend_cpu-Z_shape16-W_shape16-1-0] \u001B[32mPASSED\u001B[0m\u001B[32m [ 50%]\u001B[0m\r\n",
      "tests/test_conv.py::test_op_conv[forward-needle.backend_ndarray.ndarray_backend_cuda-Z_shape0-W_shape0-1-0] \u001B[32mPASSED\u001B[0m\u001B[32m [ 52%]\u001B[0m\r\n",
      "tests/test_conv.py::test_op_conv[forward-needle.backend_ndarray.ndarray_backend_cuda-Z_shape1-W_shape1-1-1] \u001B[32mPASSED\u001B[0m\u001B[32m [ 55%]\u001B[0m\r\n",
      "tests/test_conv.py::test_op_conv[forward-needle.backend_ndarray.ndarray_backend_cuda-Z_shape2-W_shape2-1-2] \u001B[32mPASSED\u001B[0m\u001B[32m [ 58%]\u001B[0m\r\n",
      "tests/test_conv.py::test_op_conv[forward-needle.backend_ndarray.ndarray_backend_cuda-Z_shape3-W_shape3-1-0] \u001B[32mPASSED\u001B[0m\u001B[32m [ 61%]\u001B[0m\r\n",
      "tests/test_conv.py::test_op_conv[forward-needle.backend_ndarray.ndarray_backend_cuda-Z_shape4-W_shape4-1-0] \u001B[32mPASSED\u001B[0m\u001B[32m [ 64%]\u001B[0m\r\n",
      "tests/test_conv.py::test_op_conv[forward-needle.backend_ndarray.ndarray_backend_cuda-Z_shape5-W_shape5-2-0] \u001B[32mPASSED\u001B[0m\u001B[32m [ 67%]\u001B[0m\r\n",
      "tests/test_conv.py::test_op_conv[forward-needle.backend_ndarray.ndarray_backend_cuda-Z_shape6-W_shape6-2-1] \u001B[32mPASSED\u001B[0m\u001B[32m [ 70%]\u001B[0m\r\n",
      "tests/test_conv.py::test_op_conv[forward-needle.backend_ndarray.ndarray_backend_cuda-Z_shape7-W_shape7-2-2] \u001B[32mPASSED\u001B[0m\u001B[32m [ 73%]\u001B[0m\r\n",
      "tests/test_conv.py::test_op_conv[forward-needle.backend_ndarray.ndarray_backend_cuda-Z_shape8-W_shape8-2-0] \u001B[32mPASSED\u001B[0m\u001B[32m [ 76%]\u001B[0m\r\n",
      "tests/test_conv.py::test_op_conv[forward-needle.backend_ndarray.ndarray_backend_cuda-Z_shape9-W_shape9-2-0] \u001B[32mPASSED\u001B[0m\u001B[32m [ 79%]\u001B[0m\r\n",
      "tests/test_conv.py::test_op_conv[forward-needle.backend_ndarray.ndarray_backend_cuda-Z_shape10-W_shape10-1-0] \u001B[32mPASSED\u001B[0m\u001B[32m [ 82%]\u001B[0m\r\n",
      "tests/test_conv.py::test_op_conv[forward-needle.backend_ndarray.ndarray_backend_cuda-Z_shape11-W_shape11-1-0] \u001B[32mPASSED\u001B[0m\u001B[32m [ 85%]\u001B[0m\r\n",
      "tests/test_conv.py::test_op_conv[forward-needle.backend_ndarray.ndarray_backend_cuda-Z_shape12-W_shape12-1-0] \u001B[32mPASSED\u001B[0m\u001B[32m [ 88%]\u001B[0m\r\n",
      "tests/test_conv.py::test_op_conv[forward-needle.backend_ndarray.ndarray_backend_cuda-Z_shape13-W_shape13-1-0] \u001B[32mPASSED\u001B[0m\u001B[32m [ 91%]\u001B[0m\r\n",
      "tests/test_conv.py::test_op_conv[forward-needle.backend_ndarray.ndarray_backend_cuda-Z_shape14-W_shape14-1-0] \u001B[32mPASSED\u001B[0m\u001B[32m [ 94%]\u001B[0m\r\n",
      "tests/test_conv.py::test_op_conv[forward-needle.backend_ndarray.ndarray_backend_cuda-Z_shape15-W_shape15-1-0] \u001B[32mPASSED\u001B[0m\u001B[32m [ 97%]\u001B[0m\r\n",
      "tests/test_conv.py::test_op_conv[forward-needle.backend_ndarray.ndarray_backend_cuda-Z_shape16-W_shape16-1-0] \u001B[32mPASSED\u001B[0m\u001B[32m [100%]\u001B[0m\r\n",
      "\r\n",
      "\u001B[32m===================== \u001B[32m\u001B[1m34 passed\u001B[0m, \u001B[33m1789 deselected\u001B[0m\u001B[32m in 1.09s\u001B[0m\u001B[32m ======================\u001B[0m\r\n"
     ]
    }
   ],
   "source": [
    "!python3 -m pytest -l -v -k \"op_conv and forward\""
   ]
  },
  {
   "cell_type": "markdown",
   "metadata": {
    "id": "adnza5Kr7zGZ"
   },
   "source": [
    "-----------------"
   ]
  },
  {
   "cell_type": "markdown",
   "metadata": {
    "id": "gbZ7kXNv7zGZ"
   },
   "source": [
    "### Convolution backward"
   ]
  },
  {
   "cell_type": "markdown",
   "metadata": {
    "id": "AE5RRTDa7zGZ"
   },
   "source": [
    "Finding the gradients of 2D multi-channel convolution can be technically quite challenging (especially \"rigorously\"). We will try to provide some useful hints here. Basically, we encourage you to make use of the surprising fact that _whatever makes the dimensions work out is typically right_.\n",
    "\n",
    "Ultimately, the backward pass of convolution can be done in terms of the convolution operator itself, with some clever manipulations using `flip`, `dilate`, and multiple applications of `transpose` to both the arguments and the results.\n",
    "\n",
    "In the last section, we essentially implemented convolution as a matrix product: ignoring the various restride and reshape operations, we basically have something like `X @ W`, where `X` is the input and `W` is the weight. We also have `out_grad`, which is the same shape as `X @ W`. Now, you have already implemented the backward pass of matrix multiplication in a previous assignment, and we can use this knowledge to get some insight into the backward pass of convolution. In particular, referencing your matmul backward implementation, you may notice (heuristically speaking here):\n",
    "\n",
    "`X.grad = out_grad @ W.transpose` \\\n",
    "`W.grad = X.transpose @ out_grad`\n",
    "\n",
    "Surprisingly enough, things work out if we just assume that these are also convolutions (and now assuming that `out_grad`, `W`, and `X` are tensors amenable to 2D multi-channel convolution instead of matrices):\n",
    "\n",
    "`X.grad = ≈conv(≈out_grad, ≈W)` \\\n",
    "`W.grad = ≈conv(≈X, ≈out_grad)`\n",
    "\n",
    "In which the \"≈\" indicates that you need to apply some additional operators to these terms in order to get the dimensions to work out, such as permuting/transposing axes, dilating, changing the `padding=` argument to the convolution function, or permuting/transposing axes of the resulting convolution.\n",
    "\n",
    "As we saw on the [last few slides here](https://dlsyscourse.org/slides/conv_nets.pdf) in class, the transpose of a convolution can be found by simply flipping the kernel. Since we're working in 2D instead of 1D, this means flipping the kernel both vertically and horizontally (thus why we implemented `flip`).\n",
    "\n",
    "Summarizing some hints for both `X.grad` and `W.grad`:\n",
    "\n",
    "`X.grad`\n",
    "- The convolution of `out_grad` and `W`, with some operations applied to those\n",
    "- `W` should be flipped over both the kernel dimensions\n",
    "- If the convolution is strided, increase the size of `out_grad` with a corresponding dilation\n",
    "- Do an example to analyze dimensions: note the shape you want for `X.grad`, and think about how you must permute/transpose the arguments and add padding to the convolution to achieve this shape \n",
    "    - This padding depends on both the kernel size and the `padding` argument to the convolution\n",
    "\n",
    "`W.grad`\n",
    "- The convolution of `X` and `out_grad`, with some operations applied to those\n",
    "- The gradients of `W` must be accumulated over the batches; how can you make the conv operator itself do this accumulation?\n",
    "    - Consider turning batches into channels via transpose/permute\n",
    "- Analyze dimensions: how can you modify `X` and `out_grad` so that the shape of their convolution matches the shape of `W`? You may need to transpose/permute the result.\n",
    "    - Remember to account for the `padding` argument passed to convolution\n",
    "\n",
    "General tips\n",
    "- Deal with strided convolutions last (you should be able to just drop in `dilate` when you've passed most of the tests)\n",
    "- Start with the case where `padding=0`, then consider changing `padding` arguments\n",
    "- You can \"permute\" axes with multiple calls to `transpose`\n",
    "\n",
    "It might also be useful to skip ahead to nn.Conv, pass the forward tests, and then use both the tests below and the nn.Conv backward tests to debug your implementation."
   ]
  },
  {
   "cell_type": "code",
   "execution_count": 24,
   "metadata": {
    "colab": {
     "base_uri": "https://localhost:8080/"
    },
    "executionInfo": {
     "elapsed": 4155,
     "status": "ok",
     "timestamp": 1670826310919,
     "user": {
      "displayName": "Herostratus Young",
      "userId": "10311623262248876276"
     },
     "user_tz": -480
    },
    "id": "Nt8_XMAw7zGa",
    "outputId": "16ca8a5a-5bfd-4bdf-963f-6f0a92c01503"
   },
   "outputs": [
    {
     "name": "stdout",
     "output_type": "stream",
     "text": [
      "\u001B[1m============================= test session starts ==============================\u001B[0m\r\n",
      "platform linux -- Python 3.9.15, pytest-7.1.2, pluggy-1.0.0 -- /home/erostrate9/anaconda3/envs/dls/bin/python3\r\n",
      "cachedir: .pytest_cache\r\n",
      "rootdir: /home/erostrate9/PycharmProjects/dls_hw4\r\n",
      "plugins: anyio-3.5.0\r\n",
      "collected 1823 items / 1789 deselected / 34 selected                           \u001B[0m\u001B[1m\r\n",
      "\r\n",
      "tests/test_conv.py::test_op_conv[backward-needle.backend_ndarray.ndarray_backend_cpu-Z_shape0-W_shape0-1-0] \u001B[32mPASSED\u001B[0m\u001B[32m [  2%]\u001B[0m\r\n",
      "tests/test_conv.py::test_op_conv[backward-needle.backend_ndarray.ndarray_backend_cpu-Z_shape1-W_shape1-1-1] \u001B[32mPASSED\u001B[0m\u001B[32m [  5%]\u001B[0m\r\n",
      "tests/test_conv.py::test_op_conv[backward-needle.backend_ndarray.ndarray_backend_cpu-Z_shape2-W_shape2-1-2] \u001B[32mPASSED\u001B[0m\u001B[32m [  8%]\u001B[0m\r\n",
      "tests/test_conv.py::test_op_conv[backward-needle.backend_ndarray.ndarray_backend_cpu-Z_shape3-W_shape3-1-0] \u001B[32mPASSED\u001B[0m\u001B[32m [ 11%]\u001B[0m\r\n",
      "tests/test_conv.py::test_op_conv[backward-needle.backend_ndarray.ndarray_backend_cpu-Z_shape4-W_shape4-1-0] \u001B[32mPASSED\u001B[0m\u001B[32m [ 14%]\u001B[0m\r\n",
      "tests/test_conv.py::test_op_conv[backward-needle.backend_ndarray.ndarray_backend_cpu-Z_shape5-W_shape5-2-0] \u001B[32mPASSED\u001B[0m\u001B[32m [ 17%]\u001B[0m\r\n",
      "tests/test_conv.py::test_op_conv[backward-needle.backend_ndarray.ndarray_backend_cpu-Z_shape6-W_shape6-2-1] \u001B[32mPASSED\u001B[0m\u001B[32m [ 20%]\u001B[0m\r\n",
      "tests/test_conv.py::test_op_conv[backward-needle.backend_ndarray.ndarray_backend_cpu-Z_shape7-W_shape7-2-2] \u001B[32mPASSED\u001B[0m\u001B[32m [ 23%]\u001B[0m\r\n",
      "tests/test_conv.py::test_op_conv[backward-needle.backend_ndarray.ndarray_backend_cpu-Z_shape8-W_shape8-2-0] \u001B[32mPASSED\u001B[0m\u001B[32m [ 26%]\u001B[0m\r\n",
      "tests/test_conv.py::test_op_conv[backward-needle.backend_ndarray.ndarray_backend_cpu-Z_shape9-W_shape9-2-0] \u001B[32mPASSED\u001B[0m\u001B[32m [ 29%]\u001B[0m\r\n",
      "tests/test_conv.py::test_op_conv[backward-needle.backend_ndarray.ndarray_backend_cpu-Z_shape10-W_shape10-1-0] \u001B[32mPASSED\u001B[0m\u001B[32m [ 32%]\u001B[0m\r\n",
      "tests/test_conv.py::test_op_conv[backward-needle.backend_ndarray.ndarray_backend_cpu-Z_shape11-W_shape11-1-0] \u001B[32mPASSED\u001B[0m\u001B[32m [ 35%]\u001B[0m\r\n",
      "tests/test_conv.py::test_op_conv[backward-needle.backend_ndarray.ndarray_backend_cpu-Z_shape12-W_shape12-1-0] \u001B[32mPASSED\u001B[0m\u001B[32m [ 38%]\u001B[0m\r\n",
      "tests/test_conv.py::test_op_conv[backward-needle.backend_ndarray.ndarray_backend_cpu-Z_shape13-W_shape13-1-0] \u001B[32mPASSED\u001B[0m\u001B[32m [ 41%]\u001B[0m\r\n",
      "tests/test_conv.py::test_op_conv[backward-needle.backend_ndarray.ndarray_backend_cpu-Z_shape14-W_shape14-1-0] \u001B[32mPASSED\u001B[0m\u001B[32m [ 44%]\u001B[0m\r\n",
      "tests/test_conv.py::test_op_conv[backward-needle.backend_ndarray.ndarray_backend_cpu-Z_shape15-W_shape15-1-0] \u001B[32mPASSED\u001B[0m\u001B[32m [ 47%]\u001B[0m\r\n",
      "tests/test_conv.py::test_op_conv[backward-needle.backend_ndarray.ndarray_backend_cpu-Z_shape16-W_shape16-1-0] \u001B[32mPASSED\u001B[0m\u001B[32m [ 50%]\u001B[0m\r\n",
      "tests/test_conv.py::test_op_conv[backward-needle.backend_ndarray.ndarray_backend_cuda-Z_shape0-W_shape0-1-0] \u001B[32mPASSED\u001B[0m\u001B[32m [ 52%]\u001B[0m\r\n",
      "tests/test_conv.py::test_op_conv[backward-needle.backend_ndarray.ndarray_backend_cuda-Z_shape1-W_shape1-1-1] \u001B[32mPASSED\u001B[0m\u001B[32m [ 55%]\u001B[0m\r\n",
      "tests/test_conv.py::test_op_conv[backward-needle.backend_ndarray.ndarray_backend_cuda-Z_shape2-W_shape2-1-2] \u001B[32mPASSED\u001B[0m\u001B[32m [ 58%]\u001B[0m\r\n",
      "tests/test_conv.py::test_op_conv[backward-needle.backend_ndarray.ndarray_backend_cuda-Z_shape3-W_shape3-1-0] \u001B[32mPASSED\u001B[0m\u001B[32m [ 61%]\u001B[0m\r\n",
      "tests/test_conv.py::test_op_conv[backward-needle.backend_ndarray.ndarray_backend_cuda-Z_shape4-W_shape4-1-0] \u001B[32mPASSED\u001B[0m\u001B[32m [ 64%]\u001B[0m\r\n",
      "tests/test_conv.py::test_op_conv[backward-needle.backend_ndarray.ndarray_backend_cuda-Z_shape5-W_shape5-2-0] \u001B[32mPASSED\u001B[0m\u001B[32m [ 67%]\u001B[0m\r\n",
      "tests/test_conv.py::test_op_conv[backward-needle.backend_ndarray.ndarray_backend_cuda-Z_shape6-W_shape6-2-1] \u001B[32mPASSED\u001B[0m\u001B[32m [ 70%]\u001B[0m\r\n",
      "tests/test_conv.py::test_op_conv[backward-needle.backend_ndarray.ndarray_backend_cuda-Z_shape7-W_shape7-2-2] \u001B[32mPASSED\u001B[0m\u001B[32m [ 73%]\u001B[0m\r\n",
      "tests/test_conv.py::test_op_conv[backward-needle.backend_ndarray.ndarray_backend_cuda-Z_shape8-W_shape8-2-0] \u001B[32mPASSED\u001B[0m\u001B[32m [ 76%]\u001B[0m\r\n",
      "tests/test_conv.py::test_op_conv[backward-needle.backend_ndarray.ndarray_backend_cuda-Z_shape9-W_shape9-2-0] \u001B[32mPASSED\u001B[0m\u001B[32m [ 79%]\u001B[0m\r\n",
      "tests/test_conv.py::test_op_conv[backward-needle.backend_ndarray.ndarray_backend_cuda-Z_shape10-W_shape10-1-0] \u001B[32mPASSED\u001B[0m\u001B[32m [ 82%]\u001B[0m\r\n",
      "tests/test_conv.py::test_op_conv[backward-needle.backend_ndarray.ndarray_backend_cuda-Z_shape11-W_shape11-1-0] \u001B[32mPASSED\u001B[0m\u001B[32m [ 85%]\u001B[0m\r\n",
      "tests/test_conv.py::test_op_conv[backward-needle.backend_ndarray.ndarray_backend_cuda-Z_shape12-W_shape12-1-0] \u001B[32mPASSED\u001B[0m\u001B[32m [ 88%]\u001B[0m\r\n",
      "tests/test_conv.py::test_op_conv[backward-needle.backend_ndarray.ndarray_backend_cuda-Z_shape13-W_shape13-1-0] \u001B[32mPASSED\u001B[0m\u001B[32m [ 91%]\u001B[0m\r\n",
      "tests/test_conv.py::test_op_conv[backward-needle.backend_ndarray.ndarray_backend_cuda-Z_shape14-W_shape14-1-0] \u001B[32mPASSED\u001B[0m\u001B[32m [ 94%]\u001B[0m\r\n",
      "tests/test_conv.py::test_op_conv[backward-needle.backend_ndarray.ndarray_backend_cuda-Z_shape15-W_shape15-1-0] \u001B[32mPASSED\u001B[0m\u001B[32m [ 97%]\u001B[0m\r\n",
      "tests/test_conv.py::test_op_conv[backward-needle.backend_ndarray.ndarray_backend_cuda-Z_shape16-W_shape16-1-0] \u001B[32mPASSED\u001B[0m\u001B[32m [100%]\u001B[0m\r\n",
      "\r\n",
      "\u001B[32m===================== \u001B[32m\u001B[1m34 passed\u001B[0m, \u001B[33m1789 deselected\u001B[0m\u001B[32m in 1.17s\u001B[0m\u001B[32m ======================\u001B[0m\r\n"
     ]
    }
   ],
   "source": [
    "!python3 -m pytest -l -v -k \"op_conv and backward\""
   ]
  },
  {
   "cell_type": "markdown",
   "metadata": {
    "id": "9IgwRSeB7zGa"
   },
   "source": [
    "-----------------"
   ]
  },
  {
   "cell_type": "markdown",
   "metadata": {
    "id": "i9sGTZxj7zGa"
   },
   "source": [
    "### nn.Conv"
   ]
  },
  {
   "cell_type": "markdown",
   "metadata": {
    "id": "-oyS0PX-7zGa",
    "tags": []
   },
   "source": [
    "#### Fixing init._calculate_fans for convolution\n",
    "Previously, we have implemented Kaiming uniform/normal initializations, where we essentially assigned `fan_in = input_size` and `fan_out = output_size`.\n",
    "For convolution, this becomes somewhat more detailed, in that you should multiply both of these by the \"receptive field size\", which is in this case just the product of the kernel sizes -- which in our case are always going to be the same, i.e., $k\\times k$ kernels.\n",
    "\n",
    "**You will need to edit your `kaiming_uniform`, etc. init functions to support multidimensional arrays.** In particular, you should add a new `shape` argument which is then passed to, e.g., the underlying `rand` function.\n",
    "\n",
    "You can test this below; though it is not _directly_ graded, it must match ours to pass the nn.Conv mugrade tests."
   ]
  },
  {
   "cell_type": "code",
   "execution_count": 25,
   "metadata": {
    "colab": {
     "base_uri": "https://localhost:8080/"
    },
    "executionInfo": {
     "elapsed": 4238,
     "status": "ok",
     "timestamp": 1670815226111,
     "user": {
      "displayName": "Herostratus Young",
      "userId": "10311623262248876276"
     },
     "user_tz": -480
    },
    "id": "pHbPWO_p7zGa",
    "outputId": "855a4180-ae27-409d-b57a-666e380984d9"
   },
   "outputs": [
    {
     "name": "stdout",
     "output_type": "stream",
     "text": [
      "\u001B[1m============================= test session starts ==============================\u001B[0m\r\n",
      "platform linux -- Python 3.9.15, pytest-7.1.2, pluggy-1.0.0 -- /home/erostrate9/anaconda3/envs/dls/bin/python3\r\n",
      "cachedir: .pytest_cache\r\n",
      "rootdir: /home/erostrate9/PycharmProjects/dls_hw4\r\n",
      "plugins: anyio-3.5.0\r\n",
      "collected 1823 items / 1821 deselected / 2 selected                            \u001B[0m\u001B[1m\r\n",
      "\r\n",
      "tests/test_conv.py::test_init_kaiming_uniform[needle.backend_ndarray.ndarray_backend_cpu] \u001B[32mPASSED\u001B[0m\u001B[32m [ 50%]\u001B[0m\r\n",
      "tests/test_conv.py::test_init_kaiming_uniform[needle.backend_ndarray.ndarray_backend_cuda] \u001B[32mPASSED\u001B[0m\u001B[32m [100%]\u001B[0m\r\n",
      "\r\n",
      "\u001B[32m====================== \u001B[32m\u001B[1m2 passed\u001B[0m, \u001B[33m1821 deselected\u001B[0m\u001B[32m in 0.94s\u001B[0m\u001B[32m ======================\u001B[0m\r\n"
     ]
    }
   ],
   "source": [
    "!python3 -m pytest -l -v -k \"kaiming_uniform\""
   ]
  },
  {
   "cell_type": "markdown",
   "metadata": {
    "id": "ogYFP9727zGb"
   },
   "source": [
    "#### Implementing nn.Conv\n",
    "\n",
    "Essentially, nn.Conv is just a wrapper of the convolution operator we previously implemented\n",
    "which adds a bias term, initializes the weight and bias, and ensures that the padding is set so that the input and output dimensions are the same (in the `stride=1` case, anyways). \n",
    "\n",
    "Importantly, nn.Conv should support NCHW format instead of NHWC format. In particular, we think this makes more sense given our current BatchNorm implementation. You can implement this by applying `transpose` twice to both the input and output.  \n",
    "\n",
    "- Ensure nn.Conv works for (N, C, H, W) tensors even though we implemented the conv op for (N, H, W, C) tensors\n",
    "- Initialize the (k, k, i, o) weight tensor using Kaiming uniform initialization with default settings\n",
    "- Initialize the (o,) bias tensor using uniform initialization on the interval $\\pm$`1.0/(in_channels * kernel_size**2)**0.5`\n",
    "- Calculate the appropriate padding to ensure input and output dimensions are the same\n",
    "- Calculate the convolution, then add the properly-broadcasted bias term if present\n",
    "\n",
    "You can now test your nn.Conv against PyTorch's nn.Conv2d with the two PyTest calls below."
   ]
  },
  {
   "cell_type": "code",
   "execution_count": 26,
   "metadata": {
    "colab": {
     "base_uri": "https://localhost:8080/"
    },
    "executionInfo": {
     "elapsed": 4672,
     "status": "ok",
     "timestamp": 1670830503983,
     "user": {
      "displayName": "Herostratus Young",
      "userId": "10311623262248876276"
     },
     "user_tz": -480
    },
    "id": "hJSocVEa7zGb",
    "outputId": "51e113ac-1254-4664-e362-f1b72c10b3fc"
   },
   "outputs": [
    {
     "name": "stdout",
     "output_type": "stream",
     "text": [
      "\u001B[1m============================= test session starts ==============================\u001B[0m\r\n",
      "platform linux -- Python 3.9.15, pytest-7.1.2, pluggy-1.0.0 -- /home/erostrate9/anaconda3/envs/dls/bin/python3\r\n",
      "cachedir: .pytest_cache\r\n",
      "rootdir: /home/erostrate9/PycharmProjects/dls_hw4\r\n",
      "plugins: anyio-3.5.0\r\n",
      "collected 1823 items / 1813 deselected / 10 selected                           \u001B[0m\u001B[1m\r\n",
      "\r\n",
      "tests/test_conv.py::test_nn_conv_forward[needle.backend_ndarray.ndarray_backend_cpu-4-8-16-3-1] \u001B[32mPASSED\u001B[0m\u001B[32m [ 10%]\u001B[0m\r\n",
      "tests/test_conv.py::test_nn_conv_forward[needle.backend_ndarray.ndarray_backend_cpu-32-8-16-3-2] \u001B[32mPASSED\u001B[0m\u001B[32m [ 20%]\u001B[0m\r\n",
      "tests/test_conv.py::test_nn_conv_forward[needle.backend_ndarray.ndarray_backend_cpu-32-8-8-3-2] \u001B[32mPASSED\u001B[0m\u001B[32m [ 30%]\u001B[0m\r\n",
      "tests/test_conv.py::test_nn_conv_forward[needle.backend_ndarray.ndarray_backend_cpu-32-16-8-3-1] \u001B[32mPASSED\u001B[0m\u001B[32m [ 40%]\u001B[0m\r\n",
      "tests/test_conv.py::test_nn_conv_forward[needle.backend_ndarray.ndarray_backend_cpu-32-16-8-3-2] \u001B[32mPASSED\u001B[0m\u001B[32m [ 50%]\u001B[0m\r\n",
      "tests/test_conv.py::test_nn_conv_forward[needle.backend_ndarray.ndarray_backend_cuda-4-8-16-3-1] \u001B[32mPASSED\u001B[0m\u001B[32m [ 60%]\u001B[0m\r\n",
      "tests/test_conv.py::test_nn_conv_forward[needle.backend_ndarray.ndarray_backend_cuda-32-8-16-3-2] \u001B[32mPASSED\u001B[0m\u001B[32m [ 70%]\u001B[0m\r\n",
      "tests/test_conv.py::test_nn_conv_forward[needle.backend_ndarray.ndarray_backend_cuda-32-8-8-3-2] \u001B[32mPASSED\u001B[0m\u001B[32m [ 80%]\u001B[0m\r\n",
      "tests/test_conv.py::test_nn_conv_forward[needle.backend_ndarray.ndarray_backend_cuda-32-16-8-3-1] \u001B[32mPASSED\u001B[0m\u001B[32m [ 90%]\u001B[0m\r\n",
      "tests/test_conv.py::test_nn_conv_forward[needle.backend_ndarray.ndarray_backend_cuda-32-16-8-3-2] \u001B[32mPASSED\u001B[0m\u001B[32m [100%]\u001B[0m\r\n",
      "\r\n",
      "\u001B[32m===================== \u001B[32m\u001B[1m10 passed\u001B[0m, \u001B[33m1813 deselected\u001B[0m\u001B[32m in 1.14s\u001B[0m\u001B[32m ======================\u001B[0m\r\n"
     ]
    }
   ],
   "source": [
    "!python3 -m pytest -l -v -k \"nn_conv_forward\""
   ]
  },
  {
   "cell_type": "code",
   "execution_count": 27,
   "metadata": {
    "colab": {
     "base_uri": "https://localhost:8080/"
    },
    "executionInfo": {
     "elapsed": 5033,
     "status": "ok",
     "timestamp": 1670831656717,
     "user": {
      "displayName": "Herostratus Young",
      "userId": "10311623262248876276"
     },
     "user_tz": -480
    },
    "id": "0B5Zhp_g7zGb",
    "outputId": "0198d6b1-b493-4657-f98b-6113b2316152"
   },
   "outputs": [
    {
     "name": "stdout",
     "output_type": "stream",
     "text": [
      "\u001B[1m============================= test session starts ==============================\u001B[0m\r\n",
      "platform linux -- Python 3.9.15, pytest-7.1.2, pluggy-1.0.0 -- /home/erostrate9/anaconda3/envs/dls/bin/python3\r\n",
      "cachedir: .pytest_cache\r\n",
      "rootdir: /home/erostrate9/PycharmProjects/dls_hw4\r\n",
      "plugins: anyio-3.5.0\r\n",
      "collected 1823 items / 1809 deselected / 14 selected                           \u001B[0m\u001B[1m\r\n",
      "\r\n",
      "tests/test_conv.py::test_nn_conv_backward[needle.backend_ndarray.ndarray_backend_cpu-4-1-1-3-1] \u001B[32mPASSED\u001B[0m\u001B[32m [  7%]\u001B[0m\r\n",
      "tests/test_conv.py::test_nn_conv_backward[needle.backend_ndarray.ndarray_backend_cpu-14-8-16-3-1] \u001B[32mPASSED\u001B[0m\u001B[32m [ 14%]\u001B[0m\r\n",
      "tests/test_conv.py::test_nn_conv_backward[needle.backend_ndarray.ndarray_backend_cpu-14-8-16-3-2] \u001B[32mPASSED\u001B[0m\u001B[32m [ 21%]\u001B[0m\r\n",
      "tests/test_conv.py::test_nn_conv_backward[needle.backend_ndarray.ndarray_backend_cpu-14-8-8-3-1] \u001B[32mPASSED\u001B[0m\u001B[32m [ 28%]\u001B[0m\r\n",
      "tests/test_conv.py::test_nn_conv_backward[needle.backend_ndarray.ndarray_backend_cpu-14-8-8-3-2] \u001B[32mPASSED\u001B[0m\u001B[32m [ 35%]\u001B[0m\r\n",
      "tests/test_conv.py::test_nn_conv_backward[needle.backend_ndarray.ndarray_backend_cpu-14-16-8-3-1] \u001B[32mPASSED\u001B[0m\u001B[32m [ 42%]\u001B[0m\r\n",
      "tests/test_conv.py::test_nn_conv_backward[needle.backend_ndarray.ndarray_backend_cpu-14-16-8-3-2] \u001B[32mPASSED\u001B[0m\u001B[32m [ 50%]\u001B[0m\r\n",
      "tests/test_conv.py::test_nn_conv_backward[needle.backend_ndarray.ndarray_backend_cuda-4-1-1-3-1] \u001B[32mPASSED\u001B[0m\u001B[32m [ 57%]\u001B[0m\r\n",
      "tests/test_conv.py::test_nn_conv_backward[needle.backend_ndarray.ndarray_backend_cuda-14-8-16-3-1] \u001B[32mPASSED\u001B[0m\u001B[32m [ 64%]\u001B[0m\r\n",
      "tests/test_conv.py::test_nn_conv_backward[needle.backend_ndarray.ndarray_backend_cuda-14-8-16-3-2] \u001B[32mPASSED\u001B[0m\u001B[32m [ 71%]\u001B[0m\r\n",
      "tests/test_conv.py::test_nn_conv_backward[needle.backend_ndarray.ndarray_backend_cuda-14-8-8-3-1] \u001B[32mPASSED\u001B[0m\u001B[32m [ 78%]\u001B[0m\r\n",
      "tests/test_conv.py::test_nn_conv_backward[needle.backend_ndarray.ndarray_backend_cuda-14-8-8-3-2] \u001B[32mPASSED\u001B[0m\u001B[32m [ 85%]\u001B[0m\r\n",
      "tests/test_conv.py::test_nn_conv_backward[needle.backend_ndarray.ndarray_backend_cuda-14-16-8-3-1] \u001B[32mPASSED\u001B[0m\u001B[32m [ 92%]\u001B[0m\r\n",
      "tests/test_conv.py::test_nn_conv_backward[needle.backend_ndarray.ndarray_backend_cuda-14-16-8-3-2] \u001B[32mPASSED\u001B[0m\u001B[32m [100%]\u001B[0m\r\n",
      "\r\n",
      "\u001B[32m===================== \u001B[32m\u001B[1m14 passed\u001B[0m, \u001B[33m1809 deselected\u001B[0m\u001B[32m in 1.05s\u001B[0m\u001B[32m ======================\u001B[0m\r\n"
     ]
    }
   ],
   "source": [
    "!python3 -m pytest -l -v -k \"nn_conv_backward\""
   ]
  },
  {
   "cell_type": "markdown",
   "metadata": {
    "id": "5O0Qm2dX7zGb"
   },
   "source": [
    "-----------------"
   ]
  },
  {
   "cell_type": "markdown",
   "metadata": {
    "id": "a8fw3kCO7zGb"
   },
   "source": [
    "### Submit nn.Conv to mugrade [20 points]"
   ]
  },
  {
   "cell_type": "code",
   "execution_count": 57,
   "metadata": {
    "colab": {
     "base_uri": "https://localhost:8080/"
    },
    "executionInfo": {
     "elapsed": 19865,
     "status": "ok",
     "timestamp": 1670831721165,
     "user": {
      "displayName": "Herostratus Young",
      "userId": "10311623262248876276"
     },
     "user_tz": -480
    },
    "id": "bfo_1ZS57zGb",
    "outputId": "6a284533-b79f-4cb5-c9ec-68e241a1f7a6"
   },
   "outputs": [
    {
     "name": "stdout",
     "output_type": "stream",
     "text": [
      "submit\n",
      "\u001B[1m============================= test session starts ==============================\u001B[0m\n",
      "platform linux -- Python 3.8.16, pytest-3.6.4, py-1.11.0, pluggy-0.7.1\n",
      "rootdir: /content/drive/MyDrive/dls_hw4, inifile:\n",
      "plugins: typeguard-2.7.1\n",
      "collected 10 items / 9 deselected                                              \u001B[0m\n",
      "\n",
      "tests/test_conv.py \n",
      "Submitting conv_forward...\n",
      "Grader test 1 passed\n",
      "Grader test 2 passed\n",
      "Grader test 3 passed\n",
      "Grader test 4 passed\n",
      "Grader test 5 passed\n",
      "Grader test 6 passed\n",
      "Grader test 7 passed\n",
      "Grader test 8 passed\n",
      "Grader test 9 passed\n",
      "Grader test 10 passed\n",
      "Grader test 11 passed\n",
      "Grader test 12 passed\n",
      "Grader test 13 passed\n",
      "Grader test 14 passed\n",
      ".\n",
      "\n",
      "\u001B[32m\u001B[1m=================== 1 passed, 9 deselected in 19.42 seconds ====================\u001B[0m\n"
     ]
    }
   ],
   "source": [
    "!python3 -m mugrade submit \"_0QwrEWYLgzYU25KDG4FM\" -k \"conv_forward\""
   ]
  },
  {
   "cell_type": "code",
   "execution_count": 58,
   "metadata": {
    "colab": {
     "base_uri": "https://localhost:8080/"
    },
    "executionInfo": {
     "elapsed": 25863,
     "status": "ok",
     "timestamp": 1670831747006,
     "user": {
      "displayName": "Herostratus Young",
      "userId": "10311623262248876276"
     },
     "user_tz": -480
    },
    "id": "A3y7bLZb7zGb",
    "outputId": "a974610d-64a6-4b39-d923-569e5a3df1d6"
   },
   "outputs": [
    {
     "name": "stdout",
     "output_type": "stream",
     "text": [
      "submit\n",
      "\u001B[1m============================= test session starts ==============================\u001B[0m\n",
      "platform linux -- Python 3.8.16, pytest-3.6.4, py-1.11.0, pluggy-0.7.1\n",
      "rootdir: /content/drive/MyDrive/dls_hw4, inifile:\n",
      "plugins: typeguard-2.7.1\n",
      "collected 10 items / 9 deselected                                              \u001B[0m\n",
      "\n",
      "tests/test_conv.py \n",
      "Submitting conv_backward...\n",
      "Grader test 1 passed\n",
      "Grader test 2 passed\n",
      "Grader test 3 passed\n",
      "Grader test 4 passed\n",
      "Grader test 5 passed\n",
      "Grader test 6 passed\n",
      "Grader test 7 passed\n",
      "Grader test 8 passed\n",
      "Grader test 9 passed\n",
      "Grader test 10 passed\n",
      "Grader test 11 passed\n",
      "Grader test 12 passed\n",
      "Grader test 13 passed\n",
      "Grader test 14 passed\n",
      "Grader test 15 passed\n",
      "Grader test 16 passed\n",
      "Grader test 17 passed\n",
      "Grader test 18 passed\n",
      ".\n",
      "\n",
      "\u001B[32m\u001B[1m=================== 1 passed, 9 deselected in 23.75 seconds ====================\u001B[0m\n"
     ]
    }
   ],
   "source": [
    "!python3 -m mugrade submit \"_0QwrEWYLgzYU25KDG4FM\" -k \"conv_backward\""
   ]
  },
  {
   "cell_type": "markdown",
   "metadata": {
    "id": "oIcngecE7zGb"
   },
   "source": [
    "------------------------------------------------"
   ]
  },
  {
   "cell_type": "markdown",
   "metadata": {
    "id": "T-NqPOu07zGc",
    "tags": []
   },
   "source": [
    "### Implementing \"ResNet9\""
   ]
  },
  {
   "cell_type": "markdown",
   "metadata": {
    "id": "0fDliP2y7zGc"
   },
   "source": [
    "You will now use your convolutional layer to implement a model similar to _ResNet9_, which is known to be a reasonable model for getting good accuracy on CIFAR-10 quickly (see [here](https://github.com/davidcpage/cifar10-fast)). Our main change is that we used striding instead of pooling and divided all of the channels by 4 for the sake of performance (as our framework is not as well-optimized as industry-grade frameworks).\n",
    "\n",
    "In the figure below, before the linear layer, you should \"flatten\" the tensor. We have added a module called `Flatten` in `nn.py` that you can complete and use, or you can simply use `.reshape` in the `forward()` method of your ResNet9.\n",
    "\n",
    "Make sure that you pass the device to all modules in your model; otherwise, you will get errors about mismatched devices when trying to run with CUDA.\n",
    "\n",
    "<center><img src=\"https://github.com/dlsyscourse/hw4/blob/main/ResNet9.png?raw=true\" alt=\"ResNet9\" style=\"width: 400px;\" /></center>\n",
    "\n",
    "We have tried to make it easier to pass the tests here than for previous assignments where you have implemented models. In particular, we are just going to make sure it has the right number of parameters and similar accuracy and loss after 1 or 2 batches of CIFAR-10."
   ]
  },
  {
   "cell_type": "code",
   "execution_count": 28,
   "metadata": {
    "colab": {
     "base_uri": "https://localhost:8080/"
    },
    "executionInfo": {
     "elapsed": 3336,
     "status": "ok",
     "timestamp": 1670835218356,
     "user": {
      "displayName": "Herostratus Young",
      "userId": "10311623262248876276"
     },
     "user_tz": -480
    },
    "id": "whq8KA197zGc",
    "outputId": "5d6d42cf-089c-4339-b1cf-01f08e1177a9",
    "tags": []
   },
   "outputs": [
    {
     "name": "stdout",
     "output_type": "stream",
     "text": [
      "\u001B[1m============================= test session starts ==============================\u001B[0m\r\n",
      "platform linux -- Python 3.9.15, pytest-7.1.2, pluggy-1.0.0 -- /home/erostrate9/anaconda3/envs/dls/bin/python3\r\n",
      "cachedir: .pytest_cache\r\n",
      "rootdir: /home/erostrate9/PycharmProjects/dls_hw4\r\n",
      "plugins: anyio-3.5.0\r\n",
      "collected 1823 items / 1821 deselected / 2 selected                            \u001B[0m\u001B[1m\r\n",
      "\r\n",
      "tests/test_conv.py::test_resnet9[needle.backend_ndarray.ndarray_backend_cpu] \u001B[32mPASSED\u001B[0m\u001B[32m [ 50%]\u001B[0m\r\n",
      "tests/test_conv.py::test_resnet9[needle.backend_ndarray.ndarray_backend_cuda] \u001B[32mPASSED\u001B[0m\u001B[32m [100%]\u001B[0m\r\n",
      "\r\n",
      "\u001B[32m====================== \u001B[32m\u001B[1m2 passed\u001B[0m, \u001B[33m1821 deselected\u001B[0m\u001B[32m in 0.98s\u001B[0m\u001B[32m ======================\u001B[0m\r\n"
     ]
    }
   ],
   "source": [
    "!python3 -m pytest -l -v -k \"resnet9\""
   ]
  },
  {
   "cell_type": "markdown",
   "metadata": {
    "id": "QxXHQfrm7zGc"
   },
   "source": [
    "### Submit ResNet9 to mugrade [10 points]"
   ]
  },
  {
   "cell_type": "code",
   "execution_count": 65,
   "metadata": {
    "colab": {
     "base_uri": "https://localhost:8080/"
    },
    "executionInfo": {
     "elapsed": 16542,
     "status": "ok",
     "timestamp": 1670835917919,
     "user": {
      "displayName": "Herostratus Young",
      "userId": "10311623262248876276"
     },
     "user_tz": -480
    },
    "id": "0dCroAOx7zGc",
    "outputId": "7ae80fe2-b27e-45cf-b331-022c3c7377b3"
   },
   "outputs": [
    {
     "name": "stdout",
     "output_type": "stream",
     "text": [
      "submit\n",
      "\u001B[1m============================= test session starts ==============================\u001B[0m\n",
      "platform linux -- Python 3.8.16, pytest-3.6.4, py-1.11.0, pluggy-0.7.1\n",
      "rootdir: /content/drive/MyDrive/dls_hw4, inifile:\n",
      "plugins: typeguard-2.7.1\n",
      "collected 10 items / 9 deselected                                              \u001B[0m\n",
      "\n",
      "tests/test_conv.py \n",
      "Submitting resnet9...\n",
      "Grader test 1 passed\n",
      "tcmalloc: large alloc 1228800000 bytes == 0x25aac000 @  0x7f96549e81e7 0x7f965233214e 0x7f965238a745 0x7f965238a878 0x7f965244a604 0x7f965244d8ec 0x7f96525d8bd4 0x4eafcf 0x5d935e 0x7f9652453e6b 0x6076c6 0x55e732 0x55cd91 0x5d8941 0x5da107 0x586de6 0x5d8cdf 0x55ea20 0x5d8868 0x5d8506 0x55f797 0x5d8868 0x5d8506 0x55f797 0x55d078 0x5d8941 0x49abe4 0x55cd91 0x5d8941 0x4997c7 0x4fd2db\n",
      "Grader test 2 passed\n",
      ".\n",
      "\n",
      "\u001B[33m=============================== warnings summary ===============================\u001B[0m\n",
      "tests/test_conv.py::submit_resnet9\n",
      "  /content/drive/MyDrive/dls_hw4/./python/needle/backend_ndarray/ndarray.py:115: VisibleDeprecationWarning: Creating an ndarray from ragged nested sequences (which is a list-or-tuple of lists-or-tuples-or ndarrays with different lengths or shapes) is deprecated. If you meant to do this, you must specify 'dtype=object' when creating the ndarray.\n",
      "    array = NDArray(np.array(other), device=device)\n",
      "\n",
      "-- Docs: http://doc.pytest.org/en/latest/warnings.html\n",
      "\u001B[33m\u001B[1m============= 1 passed, 9 deselected, 1 warnings in 14.96 seconds ==============\u001B[0m\n"
     ]
    }
   ],
   "source": [
    "!python3 -m mugrade submit \"_0QwrEWYLgzYU25KDG4FM\" -k \"resnet9\""
   ]
  },
  {
   "cell_type": "markdown",
   "metadata": {
    "id": "WQXCV-tO7zGc"
   },
   "source": [
    "-----------------"
   ]
  },
  {
   "cell_type": "markdown",
   "metadata": {
    "id": "io6cHP1q7zGc"
   },
   "source": [
    "Now, you can train your model on CIFAR-10 using the following code. Note that this is likely going to be quite slow, and also  not all that accurate due to the lack of data augmentation. You should expect it to take around 500s per epoch."
   ]
  },
  {
   "cell_type": "code",
   "execution_count": 12,
   "metadata": {
    "id": "EEUJmy5p7zGc"
   },
   "outputs": [
    {
     "name": "stdout",
     "output_type": "stream",
     "text": [
      "---------------CUDA training------------\n",
      "train epoch0: avg_acc: 0.38908, avg_loss: [1.7017603], time cost: 36.562822580337524\n",
      "train epoch1: avg_acc: 0.49718, avg_loss: [1.3911166], time cost: 37.25927519798279\n",
      "train epoch2: avg_acc: 0.54312, avg_loss: [1.2674365], time cost: 37.32245421409607\n",
      "train epoch3: avg_acc: 0.5741, avg_loss: [1.1869293], time cost: 35.87103223800659\n",
      "train epoch4: avg_acc: 0.60074, avg_loss: [1.1200746], time cost: 37.57653999328613\n",
      "train epoch5: avg_acc: 0.62038, avg_loss: [1.0667164], time cost: 39.30511546134949\n",
      "train epoch6: avg_acc: 0.6403, avg_loss: [1.0131098], time cost: 39.83780002593994\n",
      "train epoch7: avg_acc: 0.65492, avg_loss: [0.9714654], time cost: 34.44371557235718\n",
      "train epoch8: avg_acc: 0.6675, avg_loss: [0.94136673], time cost: 34.77000713348389\n",
      "train epoch9: avg_acc: 0.67488, avg_loss: [0.91882634], time cost: 34.89504265785217\n",
      "train epoch10: avg_acc: 0.68302, avg_loss: [0.8927343], time cost: 35.44233798980713\n",
      "train epoch11: avg_acc: 0.69022, avg_loss: [0.87138534], time cost: 34.314059019088745\n",
      "train epoch12: avg_acc: 0.6968, avg_loss: [0.85311276], time cost: 34.48967123031616\n",
      "train epoch13: avg_acc: 0.70158, avg_loss: [0.8389341], time cost: 33.3810555934906\n",
      "train epoch14: avg_acc: 0.71444, avg_loss: [0.80457103], time cost: 33.33242893218994\n",
      "train epoch15: avg_acc: 0.72182, avg_loss: [0.7840232], time cost: 33.140254497528076\n",
      "train epoch16: avg_acc: 0.73058, avg_loss: [0.7607296], time cost: 33.0053551197052\n",
      "train epoch17: avg_acc: 0.73378, avg_loss: [0.7484978], time cost: 33.067025661468506\n",
      "train epoch18: avg_acc: 0.74228, avg_loss: [0.7297927], time cost: 33.0286340713501\n",
      "train epoch19: avg_acc: 0.7457, avg_loss: [0.71982414], time cost: 33.133538484573364\n",
      "train epoch20: avg_acc: 0.751, avg_loss: [0.70468664], time cost: 33.02828288078308\n",
      "train epoch21: avg_acc: 0.7556, avg_loss: [0.6910401], time cost: 33.054043769836426\n",
      "train epoch22: avg_acc: 0.7505, avg_loss: [0.7022275], time cost: 33.200767517089844\n",
      "train epoch23: avg_acc: 0.7611, avg_loss: [0.66716063], time cost: 32.783881425857544\n",
      "evaluate: avg_acc: 0.67132, avg_loss: [0.9816034]\n",
      "---------------CUDA testing------------\n",
      "evaluate: avg_acc: 0.5477, avg_loss: [1.5374882]\n"
     ]
    },
    {
     "data": {
      "text/plain": "(0.5477, array([1.5374882], dtype=float32))"
     },
     "execution_count": 12,
     "metadata": {},
     "output_type": "execute_result"
    }
   ],
   "source": [
    "import sys\n",
    "sys.path.append('./python')\n",
    "sys.path.append('./apps')\n",
    "import needle as ndl\n",
    "from models import ResNet9\n",
    "from simple_training import train_cifar10, evaluate_cifar10\n",
    "\n",
    "device = ndl.cuda()\n",
    "train_dataset = ndl.data.CIFAR10Dataset(\"data/cifar-10-batches-py\", train=True)\n",
    "test_dataset = ndl.data.CIFAR10Dataset(\"data/cifar-10-batches-py\", train=False)\n",
    "train_dataloader = ndl.data.DataLoader(\n",
    "         dataset=train_dataset,\n",
    "         batch_size=256,\n",
    "         shuffle=True,\n",
    "         device=device,\n",
    "         dtype=\"float32\")\n",
    "test_dataloader = ndl.data.DataLoader(\n",
    "         dataset=test_dataset,\n",
    "         batch_size=256,\n",
    "         shuffle=False,\n",
    "         device=device,\n",
    "         dtype=\"float32\")\n",
    "model = ResNet9(device=device, dtype=\"float32\")\n",
    "print(\"---------------CUDA training------------\")\n",
    "train_cifar10(model, train_dataloader, n_epochs=24, optimizer=ndl.optim.SGD,\n",
    "      lr=0.256, weight_decay=0.00125)\n",
    "evaluate_cifar10(model, train_dataloader)\n",
    "print(\"---------------CUDA testing------------\")\n",
    "evaluate_cifar10(model, test_dataloader)"
   ]
  },
  {
   "attachments": {},
   "cell_type": "markdown",
   "metadata": {
    "id": "Dyg3cnE37zGc"
   },
   "source": [
    "## Part 4: Recurrent neural network [10 points]\n",
    "\n",
    "**Note:** In the following sections, you may find yourself wanting to index into tensors, i.e., to use getitem or setitem. However, we have not implemented these for tensors in our library; instead, you should use `stack` and `split` operations.\n",
    "\n",
    "In `python/needle/nn.py`, implement `RNNCell`.\n",
    "\n",
    "$h^\\prime = \\text{tanh}(xW_{ih} + b_{ih} + hW_{hh} + b_{hh})$. If nonlinearity is 'relu', then ReLU is used in place of tanh.\n",
    "\n",
    "All weights and biases should be initialized from $\\mathcal{U}(-\\sqrt{k}, \\sqrt{k})$ where $k=\\frac{1}{\\text{hidden\\_size}}$.\n",
    "\n",
    "In `python/needle/nn.py`, implement `RNN`.\n",
    "\n",
    "For each element in the input sequence, each layer computes the following function:\n",
    "\n",
    "$h_t = \\text{tanh}(x_tW_{ih} + b_{ih} + h_{(t-1)}W_{hh} + b_{hh})$\n",
    "\n",
    "where $h_t$ is the hidden state at time $t$, $x_t$ is the input at time $t$, and $h_{(t-1)}$ is the hidden state of the previous layer at time $t-1$ or the initial hidden state at time $0$. If nonlinearity is 'relu', then ReLU is used in place of tanh.\n",
    "\n",
    "In a multi-layer RNN, the input $x_t^{(l)}$ of the $l$-th layer ($l \\ge 2$) is the hidden state $h_t^{(l-1)}$ of the previous layer. \n"
   ]
  },
  {
   "cell_type": "code",
   "execution_count": 9,
   "metadata": {
    "id": "MLRva6Rk7zGd"
   },
   "outputs": [
    {
     "name": "stdout",
     "output_type": "stream",
     "text": [
      "\u001B[1m============================= test session starts ==============================\u001B[0m\r\n",
      "platform linux -- Python 3.9.15, pytest-7.1.2, pluggy-1.0.0 -- /home/erostrate9/anaconda3/envs/dls/bin/python3\r\n",
      "cachedir: .pytest_cache\r\n",
      "rootdir: /home/erostrate9/PycharmProjects/dls_hw4\r\n",
      "plugins: anyio-3.5.0\r\n",
      "collected 1823 items / 1695 deselected / 128 selected                          \u001B[0m\u001B[1m\r\n",
      "\r\n",
      "tests/test_sequence_models.py::test_rnn_cell[cpu-tanh-True-True-1-1-1] \u001B[32mPASSED\u001B[0m\u001B[32m [  0%]\u001B[0m\r\n",
      "tests/test_sequence_models.py::test_rnn_cell[cpu-tanh-True-True-1-1-15] \u001B[32mPASSED\u001B[0m\u001B[32m [  1%]\u001B[0m\r\n",
      "tests/test_sequence_models.py::test_rnn_cell[cpu-tanh-True-True-1-11-1] \u001B[32mPASSED\u001B[0m\u001B[32m [  2%]\u001B[0m\r\n",
      "tests/test_sequence_models.py::test_rnn_cell[cpu-tanh-True-True-1-11-15] \u001B[32mPASSED\u001B[0m\u001B[32m [  3%]\u001B[0m\r\n",
      "tests/test_sequence_models.py::test_rnn_cell[cpu-tanh-True-True-12-1-1] \u001B[32mPASSED\u001B[0m\u001B[32m [  3%]\u001B[0m\r\n",
      "tests/test_sequence_models.py::test_rnn_cell[cpu-tanh-True-True-12-1-15] \u001B[32mPASSED\u001B[0m\u001B[32m [  4%]\u001B[0m\r\n",
      "tests/test_sequence_models.py::test_rnn_cell[cpu-tanh-True-True-12-11-1] \u001B[32mPASSED\u001B[0m\u001B[32m [  5%]\u001B[0m\r\n",
      "tests/test_sequence_models.py::test_rnn_cell[cpu-tanh-True-True-12-11-15] \u001B[32mPASSED\u001B[0m\u001B[32m [  6%]\u001B[0m\r\n",
      "tests/test_sequence_models.py::test_rnn_cell[cpu-tanh-True-False-1-1-1] \u001B[32mPASSED\u001B[0m\u001B[32m [  7%]\u001B[0m\r\n",
      "tests/test_sequence_models.py::test_rnn_cell[cpu-tanh-True-False-1-1-15] \u001B[32mPASSED\u001B[0m\u001B[32m [  7%]\u001B[0m\r\n",
      "tests/test_sequence_models.py::test_rnn_cell[cpu-tanh-True-False-1-11-1] \u001B[32mPASSED\u001B[0m\u001B[32m [  8%]\u001B[0m\r\n",
      "tests/test_sequence_models.py::test_rnn_cell[cpu-tanh-True-False-1-11-15] \u001B[32mPASSED\u001B[0m\u001B[32m [  9%]\u001B[0m\r\n",
      "tests/test_sequence_models.py::test_rnn_cell[cpu-tanh-True-False-12-1-1] \u001B[32mPASSED\u001B[0m\u001B[32m [ 10%]\u001B[0m\r\n",
      "tests/test_sequence_models.py::test_rnn_cell[cpu-tanh-True-False-12-1-15] \u001B[32mPASSED\u001B[0m\u001B[32m [ 10%]\u001B[0m\r\n",
      "tests/test_sequence_models.py::test_rnn_cell[cpu-tanh-True-False-12-11-1] \u001B[32mPASSED\u001B[0m\u001B[32m [ 11%]\u001B[0m\r\n",
      "tests/test_sequence_models.py::test_rnn_cell[cpu-tanh-True-False-12-11-15] \u001B[32mPASSED\u001B[0m\u001B[32m [ 12%]\u001B[0m\r\n",
      "tests/test_sequence_models.py::test_rnn_cell[cpu-tanh-False-True-1-1-1] \u001B[32mPASSED\u001B[0m\u001B[32m [ 13%]\u001B[0m\r\n",
      "tests/test_sequence_models.py::test_rnn_cell[cpu-tanh-False-True-1-1-15] \u001B[32mPASSED\u001B[0m\u001B[32m [ 14%]\u001B[0m\r\n",
      "tests/test_sequence_models.py::test_rnn_cell[cpu-tanh-False-True-1-11-1] \u001B[32mPASSED\u001B[0m\u001B[32m [ 14%]\u001B[0m\r\n",
      "tests/test_sequence_models.py::test_rnn_cell[cpu-tanh-False-True-1-11-15] \u001B[32mPASSED\u001B[0m\u001B[32m [ 15%]\u001B[0m\r\n",
      "tests/test_sequence_models.py::test_rnn_cell[cpu-tanh-False-True-12-1-1] \u001B[32mPASSED\u001B[0m\u001B[32m [ 16%]\u001B[0m\r\n",
      "tests/test_sequence_models.py::test_rnn_cell[cpu-tanh-False-True-12-1-15] \u001B[32mPASSED\u001B[0m\u001B[32m [ 17%]\u001B[0m\r\n",
      "tests/test_sequence_models.py::test_rnn_cell[cpu-tanh-False-True-12-11-1] \u001B[32mPASSED\u001B[0m\u001B[32m [ 17%]\u001B[0m\r\n",
      "tests/test_sequence_models.py::test_rnn_cell[cpu-tanh-False-True-12-11-15] \u001B[32mPASSED\u001B[0m\u001B[32m [ 18%]\u001B[0m\r\n",
      "tests/test_sequence_models.py::test_rnn_cell[cpu-tanh-False-False-1-1-1] \u001B[32mPASSED\u001B[0m\u001B[32m [ 19%]\u001B[0m\r\n",
      "tests/test_sequence_models.py::test_rnn_cell[cpu-tanh-False-False-1-1-15] \u001B[32mPASSED\u001B[0m\u001B[32m [ 20%]\u001B[0m\r\n",
      "tests/test_sequence_models.py::test_rnn_cell[cpu-tanh-False-False-1-11-1] \u001B[32mPASSED\u001B[0m\u001B[32m [ 21%]\u001B[0m\r\n",
      "tests/test_sequence_models.py::test_rnn_cell[cpu-tanh-False-False-1-11-15] \u001B[32mPASSED\u001B[0m\u001B[32m [ 21%]\u001B[0m\r\n",
      "tests/test_sequence_models.py::test_rnn_cell[cpu-tanh-False-False-12-1-1] \u001B[32mPASSED\u001B[0m\u001B[32m [ 22%]\u001B[0m\r\n",
      "tests/test_sequence_models.py::test_rnn_cell[cpu-tanh-False-False-12-1-15] \u001B[32mPASSED\u001B[0m\u001B[32m [ 23%]\u001B[0m\r\n",
      "tests/test_sequence_models.py::test_rnn_cell[cpu-tanh-False-False-12-11-1] \u001B[32mPASSED\u001B[0m\u001B[32m [ 24%]\u001B[0m\r\n",
      "tests/test_sequence_models.py::test_rnn_cell[cpu-tanh-False-False-12-11-15] \u001B[32mPASSED\u001B[0m\u001B[32m [ 25%]\u001B[0m\r\n",
      "tests/test_sequence_models.py::test_rnn_cell[cpu-relu-True-True-1-1-1] \u001B[32mPASSED\u001B[0m\u001B[32m [ 25%]\u001B[0m\r\n",
      "tests/test_sequence_models.py::test_rnn_cell[cpu-relu-True-True-1-1-15] \u001B[32mPASSED\u001B[0m\u001B[32m [ 26%]\u001B[0m\r\n",
      "tests/test_sequence_models.py::test_rnn_cell[cpu-relu-True-True-1-11-1] \u001B[32mPASSED\u001B[0m\u001B[32m [ 27%]\u001B[0m\r\n",
      "tests/test_sequence_models.py::test_rnn_cell[cpu-relu-True-True-1-11-15] \u001B[32mPASSED\u001B[0m\u001B[32m [ 28%]\u001B[0m\r\n",
      "tests/test_sequence_models.py::test_rnn_cell[cpu-relu-True-True-12-1-1] \u001B[32mPASSED\u001B[0m\u001B[32m [ 28%]\u001B[0m\r\n",
      "tests/test_sequence_models.py::test_rnn_cell[cpu-relu-True-True-12-1-15] \u001B[32mPASSED\u001B[0m\u001B[32m [ 29%]\u001B[0m\r\n",
      "tests/test_sequence_models.py::test_rnn_cell[cpu-relu-True-True-12-11-1] \u001B[32mPASSED\u001B[0m\u001B[32m [ 30%]\u001B[0m\r\n",
      "tests/test_sequence_models.py::test_rnn_cell[cpu-relu-True-True-12-11-15] \u001B[32mPASSED\u001B[0m\u001B[32m [ 31%]\u001B[0m\r\n",
      "tests/test_sequence_models.py::test_rnn_cell[cpu-relu-True-False-1-1-1] \u001B[32mPASSED\u001B[0m\u001B[32m [ 32%]\u001B[0m\r\n",
      "tests/test_sequence_models.py::test_rnn_cell[cpu-relu-True-False-1-1-15] \u001B[32mPASSED\u001B[0m\u001B[32m [ 32%]\u001B[0m\r\n",
      "tests/test_sequence_models.py::test_rnn_cell[cpu-relu-True-False-1-11-1] \u001B[32mPASSED\u001B[0m\u001B[32m [ 33%]\u001B[0m\r\n",
      "tests/test_sequence_models.py::test_rnn_cell[cpu-relu-True-False-1-11-15] \u001B[32mPASSED\u001B[0m\u001B[32m [ 34%]\u001B[0m\r\n",
      "tests/test_sequence_models.py::test_rnn_cell[cpu-relu-True-False-12-1-1] \u001B[32mPASSED\u001B[0m\u001B[32m [ 35%]\u001B[0m\r\n",
      "tests/test_sequence_models.py::test_rnn_cell[cpu-relu-True-False-12-1-15] \u001B[32mPASSED\u001B[0m\u001B[32m [ 35%]\u001B[0m\r\n",
      "tests/test_sequence_models.py::test_rnn_cell[cpu-relu-True-False-12-11-1] \u001B[32mPASSED\u001B[0m\u001B[32m [ 36%]\u001B[0m\r\n",
      "tests/test_sequence_models.py::test_rnn_cell[cpu-relu-True-False-12-11-15] \u001B[32mPASSED\u001B[0m\u001B[32m [ 37%]\u001B[0m\r\n",
      "tests/test_sequence_models.py::test_rnn_cell[cpu-relu-False-True-1-1-1] \u001B[32mPASSED\u001B[0m\u001B[32m [ 38%]\u001B[0m\r\n",
      "tests/test_sequence_models.py::test_rnn_cell[cpu-relu-False-True-1-1-15] \u001B[32mPASSED\u001B[0m\u001B[32m [ 39%]\u001B[0m\r\n",
      "tests/test_sequence_models.py::test_rnn_cell[cpu-relu-False-True-1-11-1] \u001B[32mPASSED\u001B[0m\u001B[32m [ 39%]\u001B[0m\r\n",
      "tests/test_sequence_models.py::test_rnn_cell[cpu-relu-False-True-1-11-15] \u001B[32mPASSED\u001B[0m\u001B[32m [ 40%]\u001B[0m\r\n",
      "tests/test_sequence_models.py::test_rnn_cell[cpu-relu-False-True-12-1-1] \u001B[32mPASSED\u001B[0m\u001B[32m [ 41%]\u001B[0m\r\n",
      "tests/test_sequence_models.py::test_rnn_cell[cpu-relu-False-True-12-1-15] \u001B[32mPASSED\u001B[0m\u001B[32m [ 42%]\u001B[0m\r\n",
      "tests/test_sequence_models.py::test_rnn_cell[cpu-relu-False-True-12-11-1] \u001B[32mPASSED\u001B[0m\u001B[32m [ 42%]\u001B[0m\r\n",
      "tests/test_sequence_models.py::test_rnn_cell[cpu-relu-False-True-12-11-15] \u001B[32mPASSED\u001B[0m\u001B[32m [ 43%]\u001B[0m\r\n",
      "tests/test_sequence_models.py::test_rnn_cell[cpu-relu-False-False-1-1-1] \u001B[32mPASSED\u001B[0m\u001B[32m [ 44%]\u001B[0m\r\n",
      "tests/test_sequence_models.py::test_rnn_cell[cpu-relu-False-False-1-1-15] \u001B[32mPASSED\u001B[0m\u001B[32m [ 45%]\u001B[0m\r\n",
      "tests/test_sequence_models.py::test_rnn_cell[cpu-relu-False-False-1-11-1] \u001B[32mPASSED\u001B[0m\u001B[32m [ 46%]\u001B[0m\r\n",
      "tests/test_sequence_models.py::test_rnn_cell[cpu-relu-False-False-1-11-15] \u001B[32mPASSED\u001B[0m\u001B[32m [ 46%]\u001B[0m\r\n",
      "tests/test_sequence_models.py::test_rnn_cell[cpu-relu-False-False-12-1-1] \u001B[32mPASSED\u001B[0m\u001B[32m [ 47%]\u001B[0m\r\n",
      "tests/test_sequence_models.py::test_rnn_cell[cpu-relu-False-False-12-1-15] \u001B[32mPASSED\u001B[0m\u001B[32m [ 48%]\u001B[0m\r\n",
      "tests/test_sequence_models.py::test_rnn_cell[cpu-relu-False-False-12-11-1] \u001B[32mPASSED\u001B[0m\u001B[32m [ 49%]\u001B[0m\r\n",
      "tests/test_sequence_models.py::test_rnn_cell[cpu-relu-False-False-12-11-15] \u001B[32mPASSED\u001B[0m\u001B[32m [ 50%]\u001B[0m\r\n",
      "tests/test_sequence_models.py::test_rnn_cell[cuda-tanh-True-True-1-1-1] \u001B[32mPASSED\u001B[0m\u001B[32m [ 50%]\u001B[0m\r\n",
      "tests/test_sequence_models.py::test_rnn_cell[cuda-tanh-True-True-1-1-15] \u001B[32mPASSED\u001B[0m\u001B[32m [ 51%]\u001B[0m\r\n",
      "tests/test_sequence_models.py::test_rnn_cell[cuda-tanh-True-True-1-11-1] \u001B[32mPASSED\u001B[0m\u001B[32m [ 52%]\u001B[0m\r\n",
      "tests/test_sequence_models.py::test_rnn_cell[cuda-tanh-True-True-1-11-15] \u001B[32mPASSED\u001B[0m\u001B[32m [ 53%]\u001B[0m\r\n",
      "tests/test_sequence_models.py::test_rnn_cell[cuda-tanh-True-True-12-1-1] \u001B[32mPASSED\u001B[0m\u001B[32m [ 53%]\u001B[0m\r\n",
      "tests/test_sequence_models.py::test_rnn_cell[cuda-tanh-True-True-12-1-15] \u001B[32mPASSED\u001B[0m\u001B[32m [ 54%]\u001B[0m\r\n",
      "tests/test_sequence_models.py::test_rnn_cell[cuda-tanh-True-True-12-11-1] \u001B[32mPASSED\u001B[0m\u001B[32m [ 55%]\u001B[0m\r\n",
      "tests/test_sequence_models.py::test_rnn_cell[cuda-tanh-True-True-12-11-15] \u001B[32mPASSED\u001B[0m\u001B[32m [ 56%]\u001B[0m\r\n",
      "tests/test_sequence_models.py::test_rnn_cell[cuda-tanh-True-False-1-1-1] \u001B[32mPASSED\u001B[0m\u001B[32m [ 57%]\u001B[0m\r\n",
      "tests/test_sequence_models.py::test_rnn_cell[cuda-tanh-True-False-1-1-15] \u001B[32mPASSED\u001B[0m\u001B[32m [ 57%]\u001B[0m\r\n",
      "tests/test_sequence_models.py::test_rnn_cell[cuda-tanh-True-False-1-11-1] \u001B[32mPASSED\u001B[0m\u001B[32m [ 58%]\u001B[0m\r\n",
      "tests/test_sequence_models.py::test_rnn_cell[cuda-tanh-True-False-1-11-15] \u001B[32mPASSED\u001B[0m\u001B[32m [ 59%]\u001B[0m\r\n",
      "tests/test_sequence_models.py::test_rnn_cell[cuda-tanh-True-False-12-1-1] \u001B[32mPASSED\u001B[0m\u001B[32m [ 60%]\u001B[0m\r\n",
      "tests/test_sequence_models.py::test_rnn_cell[cuda-tanh-True-False-12-1-15] \u001B[32mPASSED\u001B[0m\u001B[32m [ 60%]\u001B[0m\r\n",
      "tests/test_sequence_models.py::test_rnn_cell[cuda-tanh-True-False-12-11-1] \u001B[32mPASSED\u001B[0m\u001B[32m [ 61%]\u001B[0m\r\n",
      "tests/test_sequence_models.py::test_rnn_cell[cuda-tanh-True-False-12-11-15] \u001B[32mPASSED\u001B[0m\u001B[32m [ 62%]\u001B[0m\r\n",
      "tests/test_sequence_models.py::test_rnn_cell[cuda-tanh-False-True-1-1-1] \u001B[32mPASSED\u001B[0m\u001B[32m [ 63%]\u001B[0m\r\n",
      "tests/test_sequence_models.py::test_rnn_cell[cuda-tanh-False-True-1-1-15] \u001B[32mPASSED\u001B[0m\u001B[32m [ 64%]\u001B[0m\r\n",
      "tests/test_sequence_models.py::test_rnn_cell[cuda-tanh-False-True-1-11-1] \u001B[32mPASSED\u001B[0m\u001B[32m [ 64%]\u001B[0m\r\n",
      "tests/test_sequence_models.py::test_rnn_cell[cuda-tanh-False-True-1-11-15] \u001B[32mPASSED\u001B[0m\u001B[32m [ 65%]\u001B[0m\r\n",
      "tests/test_sequence_models.py::test_rnn_cell[cuda-tanh-False-True-12-1-1] \u001B[32mPASSED\u001B[0m\u001B[32m [ 66%]\u001B[0m\r\n",
      "tests/test_sequence_models.py::test_rnn_cell[cuda-tanh-False-True-12-1-15] \u001B[32mPASSED\u001B[0m\u001B[32m [ 67%]\u001B[0m\r\n",
      "tests/test_sequence_models.py::test_rnn_cell[cuda-tanh-False-True-12-11-1] \u001B[32mPASSED\u001B[0m\u001B[32m [ 67%]\u001B[0m\r\n",
      "tests/test_sequence_models.py::test_rnn_cell[cuda-tanh-False-True-12-11-15] \u001B[32mPASSED\u001B[0m\u001B[32m [ 68%]\u001B[0m\r\n",
      "tests/test_sequence_models.py::test_rnn_cell[cuda-tanh-False-False-1-1-1] \u001B[32mPASSED\u001B[0m\u001B[32m [ 69%]\u001B[0m\r\n",
      "tests/test_sequence_models.py::test_rnn_cell[cuda-tanh-False-False-1-1-15] \u001B[32mPASSED\u001B[0m\u001B[32m [ 70%]\u001B[0m\r\n",
      "tests/test_sequence_models.py::test_rnn_cell[cuda-tanh-False-False-1-11-1] \u001B[32mPASSED\u001B[0m\u001B[32m [ 71%]\u001B[0m\r\n",
      "tests/test_sequence_models.py::test_rnn_cell[cuda-tanh-False-False-1-11-15] \u001B[32mPASSED\u001B[0m\u001B[32m [ 71%]\u001B[0m\r\n",
      "tests/test_sequence_models.py::test_rnn_cell[cuda-tanh-False-False-12-1-1] \u001B[32mPASSED\u001B[0m\u001B[32m [ 72%]\u001B[0m\r\n",
      "tests/test_sequence_models.py::test_rnn_cell[cuda-tanh-False-False-12-1-15] \u001B[32mPASSED\u001B[0m\u001B[32m [ 73%]\u001B[0m\r\n",
      "tests/test_sequence_models.py::test_rnn_cell[cuda-tanh-False-False-12-11-1] \u001B[32mPASSED\u001B[0m\u001B[32m [ 74%]\u001B[0m\r\n",
      "tests/test_sequence_models.py::test_rnn_cell[cuda-tanh-False-False-12-11-15] \u001B[32mPASSED\u001B[0m\u001B[32m [ 75%]\u001B[0m\r\n",
      "tests/test_sequence_models.py::test_rnn_cell[cuda-relu-True-True-1-1-1] \u001B[32mPASSED\u001B[0m\u001B[32m [ 75%]\u001B[0m\r\n",
      "tests/test_sequence_models.py::test_rnn_cell[cuda-relu-True-True-1-1-15] \u001B[32mPASSED\u001B[0m\u001B[32m [ 76%]\u001B[0m\r\n",
      "tests/test_sequence_models.py::test_rnn_cell[cuda-relu-True-True-1-11-1] \u001B[32mPASSED\u001B[0m\u001B[32m [ 77%]\u001B[0m\r\n",
      "tests/test_sequence_models.py::test_rnn_cell[cuda-relu-True-True-1-11-15] \u001B[32mPASSED\u001B[0m\u001B[32m [ 78%]\u001B[0m\r\n",
      "tests/test_sequence_models.py::test_rnn_cell[cuda-relu-True-True-12-1-1] \u001B[32mPASSED\u001B[0m\u001B[32m [ 78%]\u001B[0m\r\n",
      "tests/test_sequence_models.py::test_rnn_cell[cuda-relu-True-True-12-1-15] \u001B[32mPASSED\u001B[0m\u001B[32m [ 79%]\u001B[0m\r\n",
      "tests/test_sequence_models.py::test_rnn_cell[cuda-relu-True-True-12-11-1] \u001B[32mPASSED\u001B[0m\u001B[32m [ 80%]\u001B[0m\r\n",
      "tests/test_sequence_models.py::test_rnn_cell[cuda-relu-True-True-12-11-15] \u001B[32mPASSED\u001B[0m\u001B[32m [ 81%]\u001B[0m\r\n",
      "tests/test_sequence_models.py::test_rnn_cell[cuda-relu-True-False-1-1-1] \u001B[32mPASSED\u001B[0m\u001B[32m [ 82%]\u001B[0m\r\n",
      "tests/test_sequence_models.py::test_rnn_cell[cuda-relu-True-False-1-1-15] \u001B[32mPASSED\u001B[0m\u001B[32m [ 82%]\u001B[0m\r\n",
      "tests/test_sequence_models.py::test_rnn_cell[cuda-relu-True-False-1-11-1] \u001B[32mPASSED\u001B[0m\u001B[32m [ 83%]\u001B[0m\r\n",
      "tests/test_sequence_models.py::test_rnn_cell[cuda-relu-True-False-1-11-15] \u001B[32mPASSED\u001B[0m\u001B[32m [ 84%]\u001B[0m\r\n",
      "tests/test_sequence_models.py::test_rnn_cell[cuda-relu-True-False-12-1-1] \u001B[32mPASSED\u001B[0m\u001B[32m [ 85%]\u001B[0m\r\n",
      "tests/test_sequence_models.py::test_rnn_cell[cuda-relu-True-False-12-1-15] \u001B[32mPASSED\u001B[0m\u001B[32m [ 85%]\u001B[0m\r\n",
      "tests/test_sequence_models.py::test_rnn_cell[cuda-relu-True-False-12-11-1] \u001B[32mPASSED\u001B[0m\u001B[32m [ 86%]\u001B[0m\r\n",
      "tests/test_sequence_models.py::test_rnn_cell[cuda-relu-True-False-12-11-15] \u001B[32mPASSED\u001B[0m\u001B[32m [ 87%]\u001B[0m\r\n",
      "tests/test_sequence_models.py::test_rnn_cell[cuda-relu-False-True-1-1-1] \u001B[32mPASSED\u001B[0m\u001B[32m [ 88%]\u001B[0m\r\n",
      "tests/test_sequence_models.py::test_rnn_cell[cuda-relu-False-True-1-1-15] \u001B[32mPASSED\u001B[0m\u001B[32m [ 89%]\u001B[0m\r\n",
      "tests/test_sequence_models.py::test_rnn_cell[cuda-relu-False-True-1-11-1] \u001B[32mPASSED\u001B[0m\u001B[32m [ 89%]\u001B[0m\r\n",
      "tests/test_sequence_models.py::test_rnn_cell[cuda-relu-False-True-1-11-15] \u001B[32mPASSED\u001B[0m\u001B[32m [ 90%]\u001B[0m\r\n",
      "tests/test_sequence_models.py::test_rnn_cell[cuda-relu-False-True-12-1-1] \u001B[32mPASSED\u001B[0m\u001B[32m [ 91%]\u001B[0m\r\n",
      "tests/test_sequence_models.py::test_rnn_cell[cuda-relu-False-True-12-1-15] \u001B[32mPASSED\u001B[0m\u001B[32m [ 92%]\u001B[0m\r\n",
      "tests/test_sequence_models.py::test_rnn_cell[cuda-relu-False-True-12-11-1] \u001B[32mPASSED\u001B[0m\u001B[32m [ 92%]\u001B[0m\r\n",
      "tests/test_sequence_models.py::test_rnn_cell[cuda-relu-False-True-12-11-15] \u001B[32mPASSED\u001B[0m\u001B[32m [ 93%]\u001B[0m\r\n",
      "tests/test_sequence_models.py::test_rnn_cell[cuda-relu-False-False-1-1-1] \u001B[32mPASSED\u001B[0m\u001B[32m [ 94%]\u001B[0m\r\n",
      "tests/test_sequence_models.py::test_rnn_cell[cuda-relu-False-False-1-1-15] \u001B[32mPASSED\u001B[0m\u001B[32m [ 95%]\u001B[0m\r\n",
      "tests/test_sequence_models.py::test_rnn_cell[cuda-relu-False-False-1-11-1] \u001B[32mPASSED\u001B[0m\u001B[32m [ 96%]\u001B[0m\r\n",
      "tests/test_sequence_models.py::test_rnn_cell[cuda-relu-False-False-1-11-15] \u001B[32mPASSED\u001B[0m\u001B[32m [ 96%]\u001B[0m\r\n",
      "tests/test_sequence_models.py::test_rnn_cell[cuda-relu-False-False-12-1-1] \u001B[32mPASSED\u001B[0m\u001B[32m [ 97%]\u001B[0m\r\n",
      "tests/test_sequence_models.py::test_rnn_cell[cuda-relu-False-False-12-1-15] \u001B[32mPASSED\u001B[0m\u001B[32m [ 98%]\u001B[0m\r\n",
      "tests/test_sequence_models.py::test_rnn_cell[cuda-relu-False-False-12-11-1] \u001B[32mPASSED\u001B[0m\u001B[32m [ 99%]\u001B[0m\r\n",
      "tests/test_sequence_models.py::test_rnn_cell[cuda-relu-False-False-12-11-15] \u001B[32mPASSED\u001B[0m\u001B[32m [100%]\u001B[0m\r\n",
      "\r\n",
      "\u001B[32m===================== \u001B[32m\u001B[1m128 passed\u001B[0m, \u001B[33m1695 deselected\u001B[0m\u001B[32m in 1.34s\u001B[0m\u001B[32m =====================\u001B[0m\r\n"
     ]
    }
   ],
   "source": [
    "!python3 -m pytest -l -v -k \"test_rnn_cell\""
   ]
  },
  {
   "cell_type": "code",
   "execution_count": 9,
   "outputs": [
    {
     "name": "stdout",
     "output_type": "stream",
     "text": [
      "\u001B[1m============================= test session starts ==============================\u001B[0m\r\n",
      "platform linux -- Python 3.9.15, pytest-7.1.2, pluggy-1.0.0 -- /home/erostrate9/anaconda3/envs/dls/bin/python3\r\n",
      "cachedir: .pytest_cache\r\n",
      "rootdir: /home/erostrate9/PycharmProjects/dls_hw4\r\n",
      "plugins: anyio-3.5.0\r\n",
      "collected 1823 items / 1183 deselected / 640 selected                          \u001B[0m\u001B[1m\r\n",
      "\r\n",
      "tests/test_sequence_models.py::test_rnn_cell[cpu-tanh-True-True-1-1-1] \u001B[32mPASSED\u001B[0m\u001B[32m [  0%]\u001B[0m\r\n",
      "tests/test_sequence_models.py::test_rnn_cell[cpu-tanh-True-True-1-1-15] \u001B[32mPASSED\u001B[0m\u001B[32m [  0%]\u001B[0m\r\n",
      "tests/test_sequence_models.py::test_rnn_cell[cpu-tanh-True-True-1-11-1] \u001B[32mPASSED\u001B[0m\u001B[32m [  0%]\u001B[0m\r\n",
      "tests/test_sequence_models.py::test_rnn_cell[cpu-tanh-True-True-1-11-15] \u001B[32mPASSED\u001B[0m\u001B[32m [  0%]\u001B[0m\r\n",
      "tests/test_sequence_models.py::test_rnn_cell[cpu-tanh-True-True-12-1-1] \u001B[32mPASSED\u001B[0m\u001B[32m [  0%]\u001B[0m\r\n",
      "tests/test_sequence_models.py::test_rnn_cell[cpu-tanh-True-True-12-1-15] \u001B[32mPASSED\u001B[0m\u001B[32m [  0%]\u001B[0m\r\n",
      "tests/test_sequence_models.py::test_rnn_cell[cpu-tanh-True-True-12-11-1] \u001B[32mPASSED\u001B[0m\u001B[32m [  1%]\u001B[0m\r\n",
      "tests/test_sequence_models.py::test_rnn_cell[cpu-tanh-True-True-12-11-15] \u001B[32mPASSED\u001B[0m\u001B[32m [  1%]\u001B[0m\r\n",
      "tests/test_sequence_models.py::test_rnn_cell[cpu-tanh-True-False-1-1-1] \u001B[32mPASSED\u001B[0m\u001B[32m [  1%]\u001B[0m\r\n",
      "tests/test_sequence_models.py::test_rnn_cell[cpu-tanh-True-False-1-1-15] \u001B[32mPASSED\u001B[0m\u001B[32m [  1%]\u001B[0m\r\n",
      "tests/test_sequence_models.py::test_rnn_cell[cpu-tanh-True-False-1-11-1] \u001B[32mPASSED\u001B[0m\u001B[32m [  1%]\u001B[0m\r\n",
      "tests/test_sequence_models.py::test_rnn_cell[cpu-tanh-True-False-1-11-15] \u001B[32mPASSED\u001B[0m\u001B[32m [  1%]\u001B[0m\r\n",
      "tests/test_sequence_models.py::test_rnn_cell[cpu-tanh-True-False-12-1-1] \u001B[32mPASSED\u001B[0m\u001B[32m [  2%]\u001B[0m\r\n",
      "tests/test_sequence_models.py::test_rnn_cell[cpu-tanh-True-False-12-1-15] \u001B[32mPASSED\u001B[0m\u001B[32m [  2%]\u001B[0m\r\n",
      "tests/test_sequence_models.py::test_rnn_cell[cpu-tanh-True-False-12-11-1] \u001B[32mPASSED\u001B[0m\u001B[32m [  2%]\u001B[0m\r\n",
      "tests/test_sequence_models.py::test_rnn_cell[cpu-tanh-True-False-12-11-15] \u001B[32mPASSED\u001B[0m\u001B[32m [  2%]\u001B[0m\r\n",
      "tests/test_sequence_models.py::test_rnn_cell[cpu-tanh-False-True-1-1-1] \u001B[32mPASSED\u001B[0m\u001B[32m [  2%]\u001B[0m\r\n",
      "tests/test_sequence_models.py::test_rnn_cell[cpu-tanh-False-True-1-1-15] \u001B[32mPASSED\u001B[0m\u001B[32m [  2%]\u001B[0m\r\n",
      "tests/test_sequence_models.py::test_rnn_cell[cpu-tanh-False-True-1-11-1] \u001B[32mPASSED\u001B[0m\u001B[32m [  2%]\u001B[0m\r\n",
      "tests/test_sequence_models.py::test_rnn_cell[cpu-tanh-False-True-1-11-15] \u001B[32mPASSED\u001B[0m\u001B[32m [  3%]\u001B[0m\r\n",
      "tests/test_sequence_models.py::test_rnn_cell[cpu-tanh-False-True-12-1-1] \u001B[32mPASSED\u001B[0m\u001B[32m [  3%]\u001B[0m\r\n",
      "tests/test_sequence_models.py::test_rnn_cell[cpu-tanh-False-True-12-1-15] \u001B[32mPASSED\u001B[0m\u001B[32m [  3%]\u001B[0m\r\n",
      "tests/test_sequence_models.py::test_rnn_cell[cpu-tanh-False-True-12-11-1] \u001B[32mPASSED\u001B[0m\u001B[32m [  3%]\u001B[0m\r\n",
      "tests/test_sequence_models.py::test_rnn_cell[cpu-tanh-False-True-12-11-15] \u001B[32mPASSED\u001B[0m\u001B[32m [  3%]\u001B[0m\r\n",
      "tests/test_sequence_models.py::test_rnn_cell[cpu-tanh-False-False-1-1-1] \u001B[32mPASSED\u001B[0m\u001B[32m [  3%]\u001B[0m\r\n",
      "tests/test_sequence_models.py::test_rnn_cell[cpu-tanh-False-False-1-1-15] \u001B[32mPASSED\u001B[0m\u001B[32m [  4%]\u001B[0m\r\n",
      "tests/test_sequence_models.py::test_rnn_cell[cpu-tanh-False-False-1-11-1] \u001B[32mPASSED\u001B[0m\u001B[32m [  4%]\u001B[0m\r\n",
      "tests/test_sequence_models.py::test_rnn_cell[cpu-tanh-False-False-1-11-15] \u001B[32mPASSED\u001B[0m\u001B[32m [  4%]\u001B[0m\r\n",
      "tests/test_sequence_models.py::test_rnn_cell[cpu-tanh-False-False-12-1-1] \u001B[32mPASSED\u001B[0m\u001B[32m [  4%]\u001B[0m\r\n",
      "tests/test_sequence_models.py::test_rnn_cell[cpu-tanh-False-False-12-1-15] \u001B[32mPASSED\u001B[0m\u001B[32m [  4%]\u001B[0m\r\n",
      "tests/test_sequence_models.py::test_rnn_cell[cpu-tanh-False-False-12-11-1] \u001B[32mPASSED\u001B[0m\u001B[32m [  4%]\u001B[0m\r\n",
      "tests/test_sequence_models.py::test_rnn_cell[cpu-tanh-False-False-12-11-15] \u001B[32mPASSED\u001B[0m\u001B[32m [  5%]\u001B[0m\r\n",
      "tests/test_sequence_models.py::test_rnn_cell[cpu-relu-True-True-1-1-1] \u001B[32mPASSED\u001B[0m\u001B[32m [  5%]\u001B[0m\r\n",
      "tests/test_sequence_models.py::test_rnn_cell[cpu-relu-True-True-1-1-15] \u001B[32mPASSED\u001B[0m\u001B[32m [  5%]\u001B[0m\r\n",
      "tests/test_sequence_models.py::test_rnn_cell[cpu-relu-True-True-1-11-1] \u001B[32mPASSED\u001B[0m\u001B[32m [  5%]\u001B[0m\r\n",
      "tests/test_sequence_models.py::test_rnn_cell[cpu-relu-True-True-1-11-15] \u001B[32mPASSED\u001B[0m\u001B[32m [  5%]\u001B[0m\r\n",
      "tests/test_sequence_models.py::test_rnn_cell[cpu-relu-True-True-12-1-1] \u001B[32mPASSED\u001B[0m\u001B[32m [  5%]\u001B[0m\r\n",
      "tests/test_sequence_models.py::test_rnn_cell[cpu-relu-True-True-12-1-15] \u001B[32mPASSED\u001B[0m\u001B[32m [  5%]\u001B[0m\r\n",
      "tests/test_sequence_models.py::test_rnn_cell[cpu-relu-True-True-12-11-1] \u001B[32mPASSED\u001B[0m\u001B[32m [  6%]\u001B[0m\r\n",
      "tests/test_sequence_models.py::test_rnn_cell[cpu-relu-True-True-12-11-15] \u001B[32mPASSED\u001B[0m\u001B[32m [  6%]\u001B[0m\r\n",
      "tests/test_sequence_models.py::test_rnn_cell[cpu-relu-True-False-1-1-1] \u001B[32mPASSED\u001B[0m\u001B[32m [  6%]\u001B[0m\r\n",
      "tests/test_sequence_models.py::test_rnn_cell[cpu-relu-True-False-1-1-15] \u001B[32mPASSED\u001B[0m\u001B[32m [  6%]\u001B[0m\r\n",
      "tests/test_sequence_models.py::test_rnn_cell[cpu-relu-True-False-1-11-1] \u001B[32mPASSED\u001B[0m\u001B[32m [  6%]\u001B[0m\r\n",
      "tests/test_sequence_models.py::test_rnn_cell[cpu-relu-True-False-1-11-15] \u001B[32mPASSED\u001B[0m\u001B[32m [  6%]\u001B[0m\r\n",
      "tests/test_sequence_models.py::test_rnn_cell[cpu-relu-True-False-12-1-1] \u001B[32mPASSED\u001B[0m\u001B[32m [  7%]\u001B[0m\r\n",
      "tests/test_sequence_models.py::test_rnn_cell[cpu-relu-True-False-12-1-15] \u001B[32mPASSED\u001B[0m\u001B[32m [  7%]\u001B[0m\r\n",
      "tests/test_sequence_models.py::test_rnn_cell[cpu-relu-True-False-12-11-1] \u001B[32mPASSED\u001B[0m\u001B[32m [  7%]\u001B[0m\r\n",
      "tests/test_sequence_models.py::test_rnn_cell[cpu-relu-True-False-12-11-15] \u001B[32mPASSED\u001B[0m\u001B[32m [  7%]\u001B[0m\r\n",
      "tests/test_sequence_models.py::test_rnn_cell[cpu-relu-False-True-1-1-1] \u001B[32mPASSED\u001B[0m\u001B[32m [  7%]\u001B[0m\r\n",
      "tests/test_sequence_models.py::test_rnn_cell[cpu-relu-False-True-1-1-15] \u001B[32mPASSED\u001B[0m\u001B[32m [  7%]\u001B[0m\r\n",
      "tests/test_sequence_models.py::test_rnn_cell[cpu-relu-False-True-1-11-1] \u001B[32mPASSED\u001B[0m\u001B[32m [  7%]\u001B[0m\r\n",
      "tests/test_sequence_models.py::test_rnn_cell[cpu-relu-False-True-1-11-15] \u001B[32mPASSED\u001B[0m\u001B[32m [  8%]\u001B[0m\r\n",
      "tests/test_sequence_models.py::test_rnn_cell[cpu-relu-False-True-12-1-1] \u001B[32mPASSED\u001B[0m\u001B[32m [  8%]\u001B[0m\r\n",
      "tests/test_sequence_models.py::test_rnn_cell[cpu-relu-False-True-12-1-15] \u001B[32mPASSED\u001B[0m\u001B[32m [  8%]\u001B[0m\r\n",
      "tests/test_sequence_models.py::test_rnn_cell[cpu-relu-False-True-12-11-1] \u001B[32mPASSED\u001B[0m\u001B[32m [  8%]\u001B[0m\r\n",
      "tests/test_sequence_models.py::test_rnn_cell[cpu-relu-False-True-12-11-15] \u001B[32mPASSED\u001B[0m\u001B[32m [  8%]\u001B[0m\r\n",
      "tests/test_sequence_models.py::test_rnn_cell[cpu-relu-False-False-1-1-1] \u001B[32mPASSED\u001B[0m\u001B[32m [  8%]\u001B[0m\r\n",
      "tests/test_sequence_models.py::test_rnn_cell[cpu-relu-False-False-1-1-15] \u001B[32mPASSED\u001B[0m\u001B[32m [  9%]\u001B[0m\r\n",
      "tests/test_sequence_models.py::test_rnn_cell[cpu-relu-False-False-1-11-1] \u001B[32mPASSED\u001B[0m\u001B[32m [  9%]\u001B[0m\r\n",
      "tests/test_sequence_models.py::test_rnn_cell[cpu-relu-False-False-1-11-15] \u001B[32mPASSED\u001B[0m\u001B[32m [  9%]\u001B[0m\r\n",
      "tests/test_sequence_models.py::test_rnn_cell[cpu-relu-False-False-12-1-1] \u001B[32mPASSED\u001B[0m\u001B[32m [  9%]\u001B[0m\r\n",
      "tests/test_sequence_models.py::test_rnn_cell[cpu-relu-False-False-12-1-15] \u001B[32mPASSED\u001B[0m\u001B[32m [  9%]\u001B[0m\r\n",
      "tests/test_sequence_models.py::test_rnn_cell[cpu-relu-False-False-12-11-1] \u001B[32mPASSED\u001B[0m\u001B[32m [  9%]\u001B[0m\r\n",
      "tests/test_sequence_models.py::test_rnn_cell[cpu-relu-False-False-12-11-15] \u001B[32mPASSED\u001B[0m\u001B[32m [ 10%]\u001B[0m\r\n",
      "tests/test_sequence_models.py::test_rnn_cell[cuda-tanh-True-True-1-1-1] \u001B[32mPASSED\u001B[0m\u001B[32m [ 10%]\u001B[0m\r\n",
      "tests/test_sequence_models.py::test_rnn_cell[cuda-tanh-True-True-1-1-15] \u001B[32mPASSED\u001B[0m\u001B[32m [ 10%]\u001B[0m\r\n",
      "tests/test_sequence_models.py::test_rnn_cell[cuda-tanh-True-True-1-11-1] \u001B[32mPASSED\u001B[0m\u001B[32m [ 10%]\u001B[0m\r\n",
      "tests/test_sequence_models.py::test_rnn_cell[cuda-tanh-True-True-1-11-15] \u001B[32mPASSED\u001B[0m\u001B[32m [ 10%]\u001B[0m\r\n",
      "tests/test_sequence_models.py::test_rnn_cell[cuda-tanh-True-True-12-1-1] \u001B[32mPASSED\u001B[0m\u001B[32m [ 10%]\u001B[0m\r\n",
      "tests/test_sequence_models.py::test_rnn_cell[cuda-tanh-True-True-12-1-15] \u001B[32mPASSED\u001B[0m\u001B[32m [ 10%]\u001B[0m\r\n",
      "tests/test_sequence_models.py::test_rnn_cell[cuda-tanh-True-True-12-11-1] \u001B[32mPASSED\u001B[0m\u001B[32m [ 11%]\u001B[0m\r\n",
      "tests/test_sequence_models.py::test_rnn_cell[cuda-tanh-True-True-12-11-15] \u001B[32mPASSED\u001B[0m\u001B[32m [ 11%]\u001B[0m\r\n",
      "tests/test_sequence_models.py::test_rnn_cell[cuda-tanh-True-False-1-1-1] \u001B[32mPASSED\u001B[0m\u001B[32m [ 11%]\u001B[0m\r\n",
      "tests/test_sequence_models.py::test_rnn_cell[cuda-tanh-True-False-1-1-15] \u001B[32mPASSED\u001B[0m\u001B[32m [ 11%]\u001B[0m\r\n",
      "tests/test_sequence_models.py::test_rnn_cell[cuda-tanh-True-False-1-11-1] \u001B[32mPASSED\u001B[0m\u001B[32m [ 11%]\u001B[0m\r\n",
      "tests/test_sequence_models.py::test_rnn_cell[cuda-tanh-True-False-1-11-15] \u001B[32mPASSED\u001B[0m\u001B[32m [ 11%]\u001B[0m\r\n",
      "tests/test_sequence_models.py::test_rnn_cell[cuda-tanh-True-False-12-1-1] \u001B[32mPASSED\u001B[0m\u001B[32m [ 12%]\u001B[0m\r\n",
      "tests/test_sequence_models.py::test_rnn_cell[cuda-tanh-True-False-12-1-15] \u001B[32mPASSED\u001B[0m\u001B[32m [ 12%]\u001B[0m\r\n",
      "tests/test_sequence_models.py::test_rnn_cell[cuda-tanh-True-False-12-11-1] \u001B[32mPASSED\u001B[0m\u001B[32m [ 12%]\u001B[0m\r\n",
      "tests/test_sequence_models.py::test_rnn_cell[cuda-tanh-True-False-12-11-15] \u001B[32mPASSED\u001B[0m\u001B[32m [ 12%]\u001B[0m\r\n",
      "tests/test_sequence_models.py::test_rnn_cell[cuda-tanh-False-True-1-1-1] \u001B[32mPASSED\u001B[0m\u001B[32m [ 12%]\u001B[0m\r\n",
      "tests/test_sequence_models.py::test_rnn_cell[cuda-tanh-False-True-1-1-15] \u001B[32mPASSED\u001B[0m\u001B[32m [ 12%]\u001B[0m\r\n",
      "tests/test_sequence_models.py::test_rnn_cell[cuda-tanh-False-True-1-11-1] \u001B[32mPASSED\u001B[0m\u001B[32m [ 12%]\u001B[0m\r\n",
      "tests/test_sequence_models.py::test_rnn_cell[cuda-tanh-False-True-1-11-15] \u001B[32mPASSED\u001B[0m\u001B[32m [ 13%]\u001B[0m\r\n",
      "tests/test_sequence_models.py::test_rnn_cell[cuda-tanh-False-True-12-1-1] \u001B[32mPASSED\u001B[0m\u001B[32m [ 13%]\u001B[0m\r\n",
      "tests/test_sequence_models.py::test_rnn_cell[cuda-tanh-False-True-12-1-15] \u001B[32mPASSED\u001B[0m\u001B[32m [ 13%]\u001B[0m\r\n",
      "tests/test_sequence_models.py::test_rnn_cell[cuda-tanh-False-True-12-11-1] \u001B[32mPASSED\u001B[0m\u001B[32m [ 13%]\u001B[0m\r\n",
      "tests/test_sequence_models.py::test_rnn_cell[cuda-tanh-False-True-12-11-15] \u001B[32mPASSED\u001B[0m\u001B[32m [ 13%]\u001B[0m\r\n",
      "tests/test_sequence_models.py::test_rnn_cell[cuda-tanh-False-False-1-1-1] \u001B[32mPASSED\u001B[0m\u001B[32m [ 13%]\u001B[0m\r\n",
      "tests/test_sequence_models.py::test_rnn_cell[cuda-tanh-False-False-1-1-15] \u001B[32mPASSED\u001B[0m\u001B[32m [ 14%]\u001B[0m\r\n",
      "tests/test_sequence_models.py::test_rnn_cell[cuda-tanh-False-False-1-11-1] \u001B[32mPASSED\u001B[0m\u001B[32m [ 14%]\u001B[0m\r\n",
      "tests/test_sequence_models.py::test_rnn_cell[cuda-tanh-False-False-1-11-15] \u001B[32mPASSED\u001B[0m\u001B[32m [ 14%]\u001B[0m\r\n",
      "tests/test_sequence_models.py::test_rnn_cell[cuda-tanh-False-False-12-1-1] \u001B[32mPASSED\u001B[0m\u001B[32m [ 14%]\u001B[0m\r\n",
      "tests/test_sequence_models.py::test_rnn_cell[cuda-tanh-False-False-12-1-15] \u001B[32mPASSED\u001B[0m\u001B[32m [ 14%]\u001B[0m\r\n",
      "tests/test_sequence_models.py::test_rnn_cell[cuda-tanh-False-False-12-11-1] \u001B[32mPASSED\u001B[0m\u001B[32m [ 14%]\u001B[0m\r\n",
      "tests/test_sequence_models.py::test_rnn_cell[cuda-tanh-False-False-12-11-15] \u001B[32mPASSED\u001B[0m\u001B[32m [ 15%]\u001B[0m\r\n",
      "tests/test_sequence_models.py::test_rnn_cell[cuda-relu-True-True-1-1-1] \u001B[32mPASSED\u001B[0m\u001B[32m [ 15%]\u001B[0m\r\n",
      "tests/test_sequence_models.py::test_rnn_cell[cuda-relu-True-True-1-1-15] \u001B[32mPASSED\u001B[0m\u001B[32m [ 15%]\u001B[0m\r\n",
      "tests/test_sequence_models.py::test_rnn_cell[cuda-relu-True-True-1-11-1] \u001B[32mPASSED\u001B[0m\u001B[32m [ 15%]\u001B[0m\r\n",
      "tests/test_sequence_models.py::test_rnn_cell[cuda-relu-True-True-1-11-15] \u001B[32mPASSED\u001B[0m\u001B[32m [ 15%]\u001B[0m\r\n",
      "tests/test_sequence_models.py::test_rnn_cell[cuda-relu-True-True-12-1-1] \u001B[32mPASSED\u001B[0m\u001B[32m [ 15%]\u001B[0m\r\n",
      "tests/test_sequence_models.py::test_rnn_cell[cuda-relu-True-True-12-1-15] \u001B[32mPASSED\u001B[0m\u001B[32m [ 15%]\u001B[0m\r\n",
      "tests/test_sequence_models.py::test_rnn_cell[cuda-relu-True-True-12-11-1] \u001B[32mPASSED\u001B[0m\u001B[32m [ 16%]\u001B[0m\r\n",
      "tests/test_sequence_models.py::test_rnn_cell[cuda-relu-True-True-12-11-15] \u001B[32mPASSED\u001B[0m\u001B[32m [ 16%]\u001B[0m\r\n",
      "tests/test_sequence_models.py::test_rnn_cell[cuda-relu-True-False-1-1-1] \u001B[32mPASSED\u001B[0m\u001B[32m [ 16%]\u001B[0m\r\n",
      "tests/test_sequence_models.py::test_rnn_cell[cuda-relu-True-False-1-1-15] \u001B[32mPASSED\u001B[0m\u001B[32m [ 16%]\u001B[0m\r\n",
      "tests/test_sequence_models.py::test_rnn_cell[cuda-relu-True-False-1-11-1] \u001B[32mPASSED\u001B[0m\u001B[32m [ 16%]\u001B[0m\r\n",
      "tests/test_sequence_models.py::test_rnn_cell[cuda-relu-True-False-1-11-15] \u001B[32mPASSED\u001B[0m\u001B[32m [ 16%]\u001B[0m\r\n",
      "tests/test_sequence_models.py::test_rnn_cell[cuda-relu-True-False-12-1-1] \u001B[32mPASSED\u001B[0m\u001B[32m [ 17%]\u001B[0m\r\n",
      "tests/test_sequence_models.py::test_rnn_cell[cuda-relu-True-False-12-1-15] \u001B[32mPASSED\u001B[0m\u001B[32m [ 17%]\u001B[0m\r\n",
      "tests/test_sequence_models.py::test_rnn_cell[cuda-relu-True-False-12-11-1] \u001B[32mPASSED\u001B[0m\u001B[32m [ 17%]\u001B[0m\r\n",
      "tests/test_sequence_models.py::test_rnn_cell[cuda-relu-True-False-12-11-15] \u001B[32mPASSED\u001B[0m\u001B[32m [ 17%]\u001B[0m\r\n",
      "tests/test_sequence_models.py::test_rnn_cell[cuda-relu-False-True-1-1-1] \u001B[32mPASSED\u001B[0m\u001B[32m [ 17%]\u001B[0m\r\n",
      "tests/test_sequence_models.py::test_rnn_cell[cuda-relu-False-True-1-1-15] \u001B[32mPASSED\u001B[0m\u001B[32m [ 17%]\u001B[0m\r\n",
      "tests/test_sequence_models.py::test_rnn_cell[cuda-relu-False-True-1-11-1] \u001B[32mPASSED\u001B[0m\u001B[32m [ 17%]\u001B[0m\r\n",
      "tests/test_sequence_models.py::test_rnn_cell[cuda-relu-False-True-1-11-15] \u001B[32mPASSED\u001B[0m\u001B[32m [ 18%]\u001B[0m\r\n",
      "tests/test_sequence_models.py::test_rnn_cell[cuda-relu-False-True-12-1-1] \u001B[32mPASSED\u001B[0m\u001B[32m [ 18%]\u001B[0m\r\n",
      "tests/test_sequence_models.py::test_rnn_cell[cuda-relu-False-True-12-1-15] \u001B[32mPASSED\u001B[0m\u001B[32m [ 18%]\u001B[0m\r\n",
      "tests/test_sequence_models.py::test_rnn_cell[cuda-relu-False-True-12-11-1] \u001B[32mPASSED\u001B[0m\u001B[32m [ 18%]\u001B[0m\r\n",
      "tests/test_sequence_models.py::test_rnn_cell[cuda-relu-False-True-12-11-15] \u001B[32mPASSED\u001B[0m\u001B[32m [ 18%]\u001B[0m\r\n",
      "tests/test_sequence_models.py::test_rnn_cell[cuda-relu-False-False-1-1-1] \u001B[32mPASSED\u001B[0m\u001B[32m [ 18%]\u001B[0m\r\n",
      "tests/test_sequence_models.py::test_rnn_cell[cuda-relu-False-False-1-1-15] \u001B[32mPASSED\u001B[0m\u001B[32m [ 19%]\u001B[0m\r\n",
      "tests/test_sequence_models.py::test_rnn_cell[cuda-relu-False-False-1-11-1] \u001B[32mPASSED\u001B[0m\u001B[32m [ 19%]\u001B[0m\r\n",
      "tests/test_sequence_models.py::test_rnn_cell[cuda-relu-False-False-1-11-15] \u001B[32mPASSED\u001B[0m\u001B[32m [ 19%]\u001B[0m\r\n",
      "tests/test_sequence_models.py::test_rnn_cell[cuda-relu-False-False-12-1-1] \u001B[32mPASSED\u001B[0m\u001B[32m [ 19%]\u001B[0m\r\n",
      "tests/test_sequence_models.py::test_rnn_cell[cuda-relu-False-False-12-1-15] \u001B[32mPASSED\u001B[0m\u001B[32m [ 19%]\u001B[0m\r\n",
      "tests/test_sequence_models.py::test_rnn_cell[cuda-relu-False-False-12-11-1] \u001B[32mPASSED\u001B[0m\u001B[32m [ 19%]\u001B[0m\r\n",
      "tests/test_sequence_models.py::test_rnn_cell[cuda-relu-False-False-12-11-15] \u001B[32mPASSED\u001B[0m\u001B[32m [ 20%]\u001B[0m\r\n",
      "tests/test_sequence_models.py::test_rnn[cpu-tanh-True-True-1-1-1-1-1] \u001B[32mPASSED\u001B[0m\u001B[32m [ 20%]\u001B[0m\r\n",
      "tests/test_sequence_models.py::test_rnn[cpu-tanh-True-True-1-1-1-1-13] \u001B[32mPASSED\u001B[0m\u001B[32m [ 20%]\u001B[0m\r\n",
      "tests/test_sequence_models.py::test_rnn[cpu-tanh-True-True-1-1-1-2-1] \u001B[32mPASSED\u001B[0m\u001B[32m [ 20%]\u001B[0m\r\n",
      "tests/test_sequence_models.py::test_rnn[cpu-tanh-True-True-1-1-1-2-13] \u001B[32mPASSED\u001B[0m\u001B[32m [ 20%]\u001B[0m\r\n",
      "tests/test_sequence_models.py::test_rnn[cpu-tanh-True-True-1-1-15-1-1] \u001B[32mPASSED\u001B[0m\u001B[32m [ 20%]\u001B[0m\r\n",
      "tests/test_sequence_models.py::test_rnn[cpu-tanh-True-True-1-1-15-1-13] \u001B[32mPASSED\u001B[0m\u001B[32m [ 20%]\u001B[0m\r\n",
      "tests/test_sequence_models.py::test_rnn[cpu-tanh-True-True-1-1-15-2-1] \u001B[32mPASSED\u001B[0m\u001B[32m [ 21%]\u001B[0m\r\n",
      "tests/test_sequence_models.py::test_rnn[cpu-tanh-True-True-1-1-15-2-13] \u001B[32mPASSED\u001B[0m\u001B[32m [ 21%]\u001B[0m\r\n",
      "tests/test_sequence_models.py::test_rnn[cpu-tanh-True-True-1-11-1-1-1] \u001B[32mPASSED\u001B[0m\u001B[32m [ 21%]\u001B[0m\r\n",
      "tests/test_sequence_models.py::test_rnn[cpu-tanh-True-True-1-11-1-1-13] \u001B[32mPASSED\u001B[0m\u001B[32m [ 21%]\u001B[0m\r\n",
      "tests/test_sequence_models.py::test_rnn[cpu-tanh-True-True-1-11-1-2-1] \u001B[32mPASSED\u001B[0m\u001B[32m [ 21%]\u001B[0m\r\n",
      "tests/test_sequence_models.py::test_rnn[cpu-tanh-True-True-1-11-1-2-13] \u001B[32mPASSED\u001B[0m\u001B[32m [ 21%]\u001B[0m\r\n",
      "tests/test_sequence_models.py::test_rnn[cpu-tanh-True-True-1-11-15-1-1] \u001B[32mPASSED\u001B[0m\u001B[32m [ 22%]\u001B[0m\r\n",
      "tests/test_sequence_models.py::test_rnn[cpu-tanh-True-True-1-11-15-1-13] \u001B[32mPASSED\u001B[0m\u001B[32m [ 22%]\u001B[0m\r\n",
      "tests/test_sequence_models.py::test_rnn[cpu-tanh-True-True-1-11-15-2-1] \u001B[32mPASSED\u001B[0m\u001B[32m [ 22%]\u001B[0m\r\n",
      "tests/test_sequence_models.py::test_rnn[cpu-tanh-True-True-1-11-15-2-13] \u001B[32mPASSED\u001B[0m\u001B[32m [ 22%]\u001B[0m\r\n",
      "tests/test_sequence_models.py::test_rnn[cpu-tanh-True-True-12-1-1-1-1] \u001B[32mPASSED\u001B[0m\u001B[32m [ 22%]\u001B[0m\r\n",
      "tests/test_sequence_models.py::test_rnn[cpu-tanh-True-True-12-1-1-1-13] \u001B[32mPASSED\u001B[0m\u001B[32m [ 22%]\u001B[0m\r\n",
      "tests/test_sequence_models.py::test_rnn[cpu-tanh-True-True-12-1-1-2-1] \u001B[32mPASSED\u001B[0m\u001B[32m [ 22%]\u001B[0m\r\n",
      "tests/test_sequence_models.py::test_rnn[cpu-tanh-True-True-12-1-1-2-13] \u001B[32mPASSED\u001B[0m\u001B[32m [ 23%]\u001B[0m\r\n",
      "tests/test_sequence_models.py::test_rnn[cpu-tanh-True-True-12-1-15-1-1] \u001B[32mPASSED\u001B[0m\u001B[32m [ 23%]\u001B[0m\r\n",
      "tests/test_sequence_models.py::test_rnn[cpu-tanh-True-True-12-1-15-1-13] \u001B[32mPASSED\u001B[0m\u001B[32m [ 23%]\u001B[0m\r\n",
      "tests/test_sequence_models.py::test_rnn[cpu-tanh-True-True-12-1-15-2-1] \u001B[32mPASSED\u001B[0m\u001B[32m [ 23%]\u001B[0m\r\n",
      "tests/test_sequence_models.py::test_rnn[cpu-tanh-True-True-12-1-15-2-13] \u001B[32mPASSED\u001B[0m\u001B[32m [ 23%]\u001B[0m\r\n",
      "tests/test_sequence_models.py::test_rnn[cpu-tanh-True-True-12-11-1-1-1] \u001B[32mPASSED\u001B[0m\u001B[32m [ 23%]\u001B[0m\r\n",
      "tests/test_sequence_models.py::test_rnn[cpu-tanh-True-True-12-11-1-1-13] \u001B[32mPASSED\u001B[0m\u001B[32m [ 24%]\u001B[0m\r\n",
      "tests/test_sequence_models.py::test_rnn[cpu-tanh-True-True-12-11-1-2-1] \u001B[32mPASSED\u001B[0m\u001B[32m [ 24%]\u001B[0m\r\n",
      "tests/test_sequence_models.py::test_rnn[cpu-tanh-True-True-12-11-1-2-13] \u001B[32mPASSED\u001B[0m\u001B[32m [ 24%]\u001B[0m\r\n",
      "tests/test_sequence_models.py::test_rnn[cpu-tanh-True-True-12-11-15-1-1] \u001B[32mPASSED\u001B[0m\u001B[32m [ 24%]\u001B[0m\r\n",
      "tests/test_sequence_models.py::test_rnn[cpu-tanh-True-True-12-11-15-1-13] \u001B[32mPASSED\u001B[0m\u001B[32m [ 24%]\u001B[0m\r\n",
      "tests/test_sequence_models.py::test_rnn[cpu-tanh-True-True-12-11-15-2-1] \u001B[32mPASSED\u001B[0m\u001B[32m [ 24%]\u001B[0m\r\n",
      "tests/test_sequence_models.py::test_rnn[cpu-tanh-True-True-12-11-15-2-13] \u001B[32mPASSED\u001B[0m\u001B[32m [ 25%]\u001B[0m\r\n",
      "tests/test_sequence_models.py::test_rnn[cpu-tanh-True-False-1-1-1-1-1] \u001B[32mPASSED\u001B[0m\u001B[32m [ 25%]\u001B[0m\r\n",
      "tests/test_sequence_models.py::test_rnn[cpu-tanh-True-False-1-1-1-1-13] \u001B[32mPASSED\u001B[0m\u001B[32m [ 25%]\u001B[0m\r\n",
      "tests/test_sequence_models.py::test_rnn[cpu-tanh-True-False-1-1-1-2-1] \u001B[32mPASSED\u001B[0m\u001B[32m [ 25%]\u001B[0m\r\n",
      "tests/test_sequence_models.py::test_rnn[cpu-tanh-True-False-1-1-1-2-13] \u001B[32mPASSED\u001B[0m\u001B[32m [ 25%]\u001B[0m\r\n",
      "tests/test_sequence_models.py::test_rnn[cpu-tanh-True-False-1-1-15-1-1] \u001B[32mPASSED\u001B[0m\u001B[32m [ 25%]\u001B[0m\r\n",
      "tests/test_sequence_models.py::test_rnn[cpu-tanh-True-False-1-1-15-1-13] \u001B[32mPASSED\u001B[0m\u001B[32m [ 25%]\u001B[0m\r\n",
      "tests/test_sequence_models.py::test_rnn[cpu-tanh-True-False-1-1-15-2-1] \u001B[32mPASSED\u001B[0m\u001B[32m [ 26%]\u001B[0m\r\n",
      "tests/test_sequence_models.py::test_rnn[cpu-tanh-True-False-1-1-15-2-13] \u001B[32mPASSED\u001B[0m\u001B[32m [ 26%]\u001B[0m\r\n",
      "tests/test_sequence_models.py::test_rnn[cpu-tanh-True-False-1-11-1-1-1] \u001B[32mPASSED\u001B[0m\u001B[32m [ 26%]\u001B[0m\r\n",
      "tests/test_sequence_models.py::test_rnn[cpu-tanh-True-False-1-11-1-1-13] \u001B[32mPASSED\u001B[0m\u001B[32m [ 26%]\u001B[0m\r\n",
      "tests/test_sequence_models.py::test_rnn[cpu-tanh-True-False-1-11-1-2-1] \u001B[32mPASSED\u001B[0m\u001B[32m [ 26%]\u001B[0m\r\n",
      "tests/test_sequence_models.py::test_rnn[cpu-tanh-True-False-1-11-1-2-13] \u001B[32mPASSED\u001B[0m\u001B[32m [ 26%]\u001B[0m\r\n",
      "tests/test_sequence_models.py::test_rnn[cpu-tanh-True-False-1-11-15-1-1] \u001B[32mPASSED\u001B[0m\u001B[32m [ 27%]\u001B[0m\r\n",
      "tests/test_sequence_models.py::test_rnn[cpu-tanh-True-False-1-11-15-1-13] \u001B[32mPASSED\u001B[0m\u001B[32m [ 27%]\u001B[0m\r\n",
      "tests/test_sequence_models.py::test_rnn[cpu-tanh-True-False-1-11-15-2-1] \u001B[32mPASSED\u001B[0m\u001B[32m [ 27%]\u001B[0m\r\n",
      "tests/test_sequence_models.py::test_rnn[cpu-tanh-True-False-1-11-15-2-13] \u001B[32mPASSED\u001B[0m\u001B[32m [ 27%]\u001B[0m\r\n",
      "tests/test_sequence_models.py::test_rnn[cpu-tanh-True-False-12-1-1-1-1] \u001B[32mPASSED\u001B[0m\u001B[32m [ 27%]\u001B[0m\r\n",
      "tests/test_sequence_models.py::test_rnn[cpu-tanh-True-False-12-1-1-1-13] \u001B[32mPASSED\u001B[0m\u001B[32m [ 27%]\u001B[0m\r\n",
      "tests/test_sequence_models.py::test_rnn[cpu-tanh-True-False-12-1-1-2-1] \u001B[32mPASSED\u001B[0m\u001B[32m [ 27%]\u001B[0m\r\n",
      "tests/test_sequence_models.py::test_rnn[cpu-tanh-True-False-12-1-1-2-13] \u001B[32mPASSED\u001B[0m\u001B[32m [ 28%]\u001B[0m\r\n",
      "tests/test_sequence_models.py::test_rnn[cpu-tanh-True-False-12-1-15-1-1] \u001B[32mPASSED\u001B[0m\u001B[32m [ 28%]\u001B[0m\r\n",
      "tests/test_sequence_models.py::test_rnn[cpu-tanh-True-False-12-1-15-1-13] \u001B[32mPASSED\u001B[0m\u001B[32m [ 28%]\u001B[0m\r\n",
      "tests/test_sequence_models.py::test_rnn[cpu-tanh-True-False-12-1-15-2-1] \u001B[32mPASSED\u001B[0m\u001B[32m [ 28%]\u001B[0m\r\n",
      "tests/test_sequence_models.py::test_rnn[cpu-tanh-True-False-12-1-15-2-13] \u001B[32mPASSED\u001B[0m\u001B[32m [ 28%]\u001B[0m\r\n",
      "tests/test_sequence_models.py::test_rnn[cpu-tanh-True-False-12-11-1-1-1] \u001B[32mPASSED\u001B[0m\u001B[32m [ 28%]\u001B[0m\r\n",
      "tests/test_sequence_models.py::test_rnn[cpu-tanh-True-False-12-11-1-1-13] \u001B[32mPASSED\u001B[0m\u001B[32m [ 29%]\u001B[0m\r\n",
      "tests/test_sequence_models.py::test_rnn[cpu-tanh-True-False-12-11-1-2-1] \u001B[32mPASSED\u001B[0m\u001B[32m [ 29%]\u001B[0m\r\n",
      "tests/test_sequence_models.py::test_rnn[cpu-tanh-True-False-12-11-1-2-13] \u001B[32mPASSED\u001B[0m\u001B[32m [ 29%]\u001B[0m\r\n",
      "tests/test_sequence_models.py::test_rnn[cpu-tanh-True-False-12-11-15-1-1] \u001B[32mPASSED\u001B[0m\u001B[32m [ 29%]\u001B[0m\r\n",
      "tests/test_sequence_models.py::test_rnn[cpu-tanh-True-False-12-11-15-1-13] \u001B[32mPASSED\u001B[0m\u001B[32m [ 29%]\u001B[0m\r\n",
      "tests/test_sequence_models.py::test_rnn[cpu-tanh-True-False-12-11-15-2-1] \u001B[32mPASSED\u001B[0m\u001B[32m [ 29%]\u001B[0m\r\n",
      "tests/test_sequence_models.py::test_rnn[cpu-tanh-True-False-12-11-15-2-13] \u001B[32mPASSED\u001B[0m\u001B[32m [ 30%]\u001B[0m\r\n",
      "tests/test_sequence_models.py::test_rnn[cpu-tanh-False-True-1-1-1-1-1] \u001B[32mPASSED\u001B[0m\u001B[32m [ 30%]\u001B[0m\r\n",
      "tests/test_sequence_models.py::test_rnn[cpu-tanh-False-True-1-1-1-1-13] \u001B[32mPASSED\u001B[0m\u001B[32m [ 30%]\u001B[0m\r\n",
      "tests/test_sequence_models.py::test_rnn[cpu-tanh-False-True-1-1-1-2-1] \u001B[32mPASSED\u001B[0m\u001B[32m [ 30%]\u001B[0m\r\n",
      "tests/test_sequence_models.py::test_rnn[cpu-tanh-False-True-1-1-1-2-13] \u001B[32mPASSED\u001B[0m\u001B[32m [ 30%]\u001B[0m\r\n",
      "tests/test_sequence_models.py::test_rnn[cpu-tanh-False-True-1-1-15-1-1] \u001B[32mPASSED\u001B[0m\u001B[32m [ 30%]\u001B[0m\r\n",
      "tests/test_sequence_models.py::test_rnn[cpu-tanh-False-True-1-1-15-1-13] \u001B[32mPASSED\u001B[0m\u001B[32m [ 30%]\u001B[0m\r\n",
      "tests/test_sequence_models.py::test_rnn[cpu-tanh-False-True-1-1-15-2-1] \u001B[32mPASSED\u001B[0m\u001B[32m [ 31%]\u001B[0m\r\n",
      "tests/test_sequence_models.py::test_rnn[cpu-tanh-False-True-1-1-15-2-13] \u001B[32mPASSED\u001B[0m\u001B[32m [ 31%]\u001B[0m\r\n",
      "tests/test_sequence_models.py::test_rnn[cpu-tanh-False-True-1-11-1-1-1] \u001B[32mPASSED\u001B[0m\u001B[32m [ 31%]\u001B[0m\r\n",
      "tests/test_sequence_models.py::test_rnn[cpu-tanh-False-True-1-11-1-1-13] \u001B[32mPASSED\u001B[0m\u001B[32m [ 31%]\u001B[0m\r\n",
      "tests/test_sequence_models.py::test_rnn[cpu-tanh-False-True-1-11-1-2-1] \u001B[32mPASSED\u001B[0m\u001B[32m [ 31%]\u001B[0m\r\n",
      "tests/test_sequence_models.py::test_rnn[cpu-tanh-False-True-1-11-1-2-13] \u001B[32mPASSED\u001B[0m\u001B[32m [ 31%]\u001B[0m\r\n",
      "tests/test_sequence_models.py::test_rnn[cpu-tanh-False-True-1-11-15-1-1] \u001B[32mPASSED\u001B[0m\u001B[32m [ 32%]\u001B[0m\r\n",
      "tests/test_sequence_models.py::test_rnn[cpu-tanh-False-True-1-11-15-1-13] \u001B[32mPASSED\u001B[0m\u001B[32m [ 32%]\u001B[0m\r\n",
      "tests/test_sequence_models.py::test_rnn[cpu-tanh-False-True-1-11-15-2-1] \u001B[32mPASSED\u001B[0m\u001B[32m [ 32%]\u001B[0m\r\n",
      "tests/test_sequence_models.py::test_rnn[cpu-tanh-False-True-1-11-15-2-13] \u001B[32mPASSED\u001B[0m\u001B[32m [ 32%]\u001B[0m\r\n",
      "tests/test_sequence_models.py::test_rnn[cpu-tanh-False-True-12-1-1-1-1] \u001B[32mPASSED\u001B[0m\u001B[32m [ 32%]\u001B[0m\r\n",
      "tests/test_sequence_models.py::test_rnn[cpu-tanh-False-True-12-1-1-1-13] \u001B[32mPASSED\u001B[0m\u001B[32m [ 32%]\u001B[0m\r\n",
      "tests/test_sequence_models.py::test_rnn[cpu-tanh-False-True-12-1-1-2-1] \u001B[32mPASSED\u001B[0m\u001B[32m [ 32%]\u001B[0m\r\n",
      "tests/test_sequence_models.py::test_rnn[cpu-tanh-False-True-12-1-1-2-13] \u001B[32mPASSED\u001B[0m\u001B[32m [ 33%]\u001B[0m\r\n",
      "tests/test_sequence_models.py::test_rnn[cpu-tanh-False-True-12-1-15-1-1] \u001B[32mPASSED\u001B[0m\u001B[32m [ 33%]\u001B[0m\r\n",
      "tests/test_sequence_models.py::test_rnn[cpu-tanh-False-True-12-1-15-1-13] \u001B[32mPASSED\u001B[0m\u001B[32m [ 33%]\u001B[0m\r\n",
      "tests/test_sequence_models.py::test_rnn[cpu-tanh-False-True-12-1-15-2-1] \u001B[32mPASSED\u001B[0m\u001B[32m [ 33%]\u001B[0m\r\n",
      "tests/test_sequence_models.py::test_rnn[cpu-tanh-False-True-12-1-15-2-13] \u001B[32mPASSED\u001B[0m\u001B[32m [ 33%]\u001B[0m\r\n",
      "tests/test_sequence_models.py::test_rnn[cpu-tanh-False-True-12-11-1-1-1] \u001B[32mPASSED\u001B[0m\u001B[32m [ 33%]\u001B[0m\r\n",
      "tests/test_sequence_models.py::test_rnn[cpu-tanh-False-True-12-11-1-1-13] \u001B[32mPASSED\u001B[0m\u001B[32m [ 34%]\u001B[0m\r\n",
      "tests/test_sequence_models.py::test_rnn[cpu-tanh-False-True-12-11-1-2-1] \u001B[32mPASSED\u001B[0m\u001B[32m [ 34%]\u001B[0m\r\n",
      "tests/test_sequence_models.py::test_rnn[cpu-tanh-False-True-12-11-1-2-13] \u001B[32mPASSED\u001B[0m\u001B[32m [ 34%]\u001B[0m\r\n",
      "tests/test_sequence_models.py::test_rnn[cpu-tanh-False-True-12-11-15-1-1] \u001B[32mPASSED\u001B[0m\u001B[32m [ 34%]\u001B[0m\r\n",
      "tests/test_sequence_models.py::test_rnn[cpu-tanh-False-True-12-11-15-1-13] \u001B[32mPASSED\u001B[0m\u001B[32m [ 34%]\u001B[0m\r\n",
      "tests/test_sequence_models.py::test_rnn[cpu-tanh-False-True-12-11-15-2-1] \u001B[32mPASSED\u001B[0m\u001B[32m [ 34%]\u001B[0m\r\n",
      "tests/test_sequence_models.py::test_rnn[cpu-tanh-False-True-12-11-15-2-13] \u001B[32mPASSED\u001B[0m\u001B[32m [ 35%]\u001B[0m\r\n",
      "tests/test_sequence_models.py::test_rnn[cpu-tanh-False-False-1-1-1-1-1] \u001B[32mPASSED\u001B[0m\u001B[32m [ 35%]\u001B[0m\r\n",
      "tests/test_sequence_models.py::test_rnn[cpu-tanh-False-False-1-1-1-1-13] \u001B[32mPASSED\u001B[0m\u001B[32m [ 35%]\u001B[0m\r\n",
      "tests/test_sequence_models.py::test_rnn[cpu-tanh-False-False-1-1-1-2-1] \u001B[32mPASSED\u001B[0m\u001B[32m [ 35%]\u001B[0m\r\n",
      "tests/test_sequence_models.py::test_rnn[cpu-tanh-False-False-1-1-1-2-13] \u001B[32mPASSED\u001B[0m\u001B[32m [ 35%]\u001B[0m\r\n",
      "tests/test_sequence_models.py::test_rnn[cpu-tanh-False-False-1-1-15-1-1] \u001B[32mPASSED\u001B[0m\u001B[32m [ 35%]\u001B[0m\r\n",
      "tests/test_sequence_models.py::test_rnn[cpu-tanh-False-False-1-1-15-1-13] \u001B[32mPASSED\u001B[0m\u001B[32m [ 35%]\u001B[0m\r\n",
      "tests/test_sequence_models.py::test_rnn[cpu-tanh-False-False-1-1-15-2-1] \u001B[32mPASSED\u001B[0m\u001B[32m [ 36%]\u001B[0m\r\n",
      "tests/test_sequence_models.py::test_rnn[cpu-tanh-False-False-1-1-15-2-13] \u001B[32mPASSED\u001B[0m\u001B[32m [ 36%]\u001B[0m\r\n",
      "tests/test_sequence_models.py::test_rnn[cpu-tanh-False-False-1-11-1-1-1] \u001B[32mPASSED\u001B[0m\u001B[32m [ 36%]\u001B[0m\r\n",
      "tests/test_sequence_models.py::test_rnn[cpu-tanh-False-False-1-11-1-1-13] \u001B[32mPASSED\u001B[0m\u001B[32m [ 36%]\u001B[0m\r\n",
      "tests/test_sequence_models.py::test_rnn[cpu-tanh-False-False-1-11-1-2-1] \u001B[32mPASSED\u001B[0m\u001B[32m [ 36%]\u001B[0m\r\n",
      "tests/test_sequence_models.py::test_rnn[cpu-tanh-False-False-1-11-1-2-13] \u001B[32mPASSED\u001B[0m\u001B[32m [ 36%]\u001B[0m\r\n",
      "tests/test_sequence_models.py::test_rnn[cpu-tanh-False-False-1-11-15-1-1] \u001B[32mPASSED\u001B[0m\u001B[32m [ 37%]\u001B[0m\r\n",
      "tests/test_sequence_models.py::test_rnn[cpu-tanh-False-False-1-11-15-1-13] \u001B[32mPASSED\u001B[0m\u001B[32m [ 37%]\u001B[0m\r\n",
      "tests/test_sequence_models.py::test_rnn[cpu-tanh-False-False-1-11-15-2-1] \u001B[32mPASSED\u001B[0m\u001B[32m [ 37%]\u001B[0m\r\n",
      "tests/test_sequence_models.py::test_rnn[cpu-tanh-False-False-1-11-15-2-13] \u001B[32mPASSED\u001B[0m\u001B[32m [ 37%]\u001B[0m\r\n",
      "tests/test_sequence_models.py::test_rnn[cpu-tanh-False-False-12-1-1-1-1] \u001B[32mPASSED\u001B[0m\u001B[32m [ 37%]\u001B[0m\r\n",
      "tests/test_sequence_models.py::test_rnn[cpu-tanh-False-False-12-1-1-1-13] \u001B[32mPASSED\u001B[0m\u001B[32m [ 37%]\u001B[0m\r\n",
      "tests/test_sequence_models.py::test_rnn[cpu-tanh-False-False-12-1-1-2-1] \u001B[32mPASSED\u001B[0m\u001B[32m [ 37%]\u001B[0m\r\n",
      "tests/test_sequence_models.py::test_rnn[cpu-tanh-False-False-12-1-1-2-13] \u001B[32mPASSED\u001B[0m\u001B[32m [ 38%]\u001B[0m\r\n",
      "tests/test_sequence_models.py::test_rnn[cpu-tanh-False-False-12-1-15-1-1] \u001B[32mPASSED\u001B[0m\u001B[32m [ 38%]\u001B[0m\r\n",
      "tests/test_sequence_models.py::test_rnn[cpu-tanh-False-False-12-1-15-1-13] \u001B[32mPASSED\u001B[0m\u001B[32m [ 38%]\u001B[0m\r\n",
      "tests/test_sequence_models.py::test_rnn[cpu-tanh-False-False-12-1-15-2-1] \u001B[32mPASSED\u001B[0m\u001B[32m [ 38%]\u001B[0m\r\n",
      "tests/test_sequence_models.py::test_rnn[cpu-tanh-False-False-12-1-15-2-13] \u001B[32mPASSED\u001B[0m\u001B[32m [ 38%]\u001B[0m\r\n",
      "tests/test_sequence_models.py::test_rnn[cpu-tanh-False-False-12-11-1-1-1] \u001B[32mPASSED\u001B[0m\u001B[32m [ 38%]\u001B[0m\r\n",
      "tests/test_sequence_models.py::test_rnn[cpu-tanh-False-False-12-11-1-1-13] \u001B[32mPASSED\u001B[0m\u001B[32m [ 39%]\u001B[0m\r\n",
      "tests/test_sequence_models.py::test_rnn[cpu-tanh-False-False-12-11-1-2-1] \u001B[32mPASSED\u001B[0m\u001B[32m [ 39%]\u001B[0m\r\n",
      "tests/test_sequence_models.py::test_rnn[cpu-tanh-False-False-12-11-1-2-13] \u001B[32mPASSED\u001B[0m\u001B[32m [ 39%]\u001B[0m\r\n",
      "tests/test_sequence_models.py::test_rnn[cpu-tanh-False-False-12-11-15-1-1] \u001B[32mPASSED\u001B[0m\u001B[32m [ 39%]\u001B[0m\r\n",
      "tests/test_sequence_models.py::test_rnn[cpu-tanh-False-False-12-11-15-1-13] \u001B[32mPASSED\u001B[0m\u001B[32m [ 39%]\u001B[0m\r\n",
      "tests/test_sequence_models.py::test_rnn[cpu-tanh-False-False-12-11-15-2-1] \u001B[32mPASSED\u001B[0m\u001B[32m [ 39%]\u001B[0m\r\n",
      "tests/test_sequence_models.py::test_rnn[cpu-tanh-False-False-12-11-15-2-13] \u001B[32mPASSED\u001B[0m\u001B[32m [ 40%]\u001B[0m\r\n",
      "tests/test_sequence_models.py::test_rnn[cpu-relu-True-True-1-1-1-1-1] \u001B[32mPASSED\u001B[0m\u001B[32m [ 40%]\u001B[0m\r\n",
      "tests/test_sequence_models.py::test_rnn[cpu-relu-True-True-1-1-1-1-13] \u001B[32mPASSED\u001B[0m\u001B[32m [ 40%]\u001B[0m\r\n",
      "tests/test_sequence_models.py::test_rnn[cpu-relu-True-True-1-1-1-2-1] \u001B[32mPASSED\u001B[0m\u001B[32m [ 40%]\u001B[0m\r\n",
      "tests/test_sequence_models.py::test_rnn[cpu-relu-True-True-1-1-1-2-13] \u001B[32mPASSED\u001B[0m\u001B[32m [ 40%]\u001B[0m\r\n",
      "tests/test_sequence_models.py::test_rnn[cpu-relu-True-True-1-1-15-1-1] \u001B[32mPASSED\u001B[0m\u001B[32m [ 40%]\u001B[0m\r\n",
      "tests/test_sequence_models.py::test_rnn[cpu-relu-True-True-1-1-15-1-13] \u001B[32mPASSED\u001B[0m\u001B[32m [ 40%]\u001B[0m\r\n",
      "tests/test_sequence_models.py::test_rnn[cpu-relu-True-True-1-1-15-2-1] \u001B[32mPASSED\u001B[0m\u001B[32m [ 41%]\u001B[0m\r\n",
      "tests/test_sequence_models.py::test_rnn[cpu-relu-True-True-1-1-15-2-13] \u001B[32mPASSED\u001B[0m\u001B[32m [ 41%]\u001B[0m\r\n",
      "tests/test_sequence_models.py::test_rnn[cpu-relu-True-True-1-11-1-1-1] \u001B[32mPASSED\u001B[0m\u001B[32m [ 41%]\u001B[0m\r\n",
      "tests/test_sequence_models.py::test_rnn[cpu-relu-True-True-1-11-1-1-13] \u001B[32mPASSED\u001B[0m\u001B[32m [ 41%]\u001B[0m\r\n",
      "tests/test_sequence_models.py::test_rnn[cpu-relu-True-True-1-11-1-2-1] \u001B[32mPASSED\u001B[0m\u001B[32m [ 41%]\u001B[0m\r\n",
      "tests/test_sequence_models.py::test_rnn[cpu-relu-True-True-1-11-1-2-13] \u001B[32mPASSED\u001B[0m\u001B[32m [ 41%]\u001B[0m\r\n",
      "tests/test_sequence_models.py::test_rnn[cpu-relu-True-True-1-11-15-1-1] \u001B[32mPASSED\u001B[0m\u001B[32m [ 42%]\u001B[0m\r\n",
      "tests/test_sequence_models.py::test_rnn[cpu-relu-True-True-1-11-15-1-13] \u001B[32mPASSED\u001B[0m\u001B[32m [ 42%]\u001B[0m\r\n",
      "tests/test_sequence_models.py::test_rnn[cpu-relu-True-True-1-11-15-2-1] \u001B[32mPASSED\u001B[0m\u001B[32m [ 42%]\u001B[0m\r\n",
      "tests/test_sequence_models.py::test_rnn[cpu-relu-True-True-1-11-15-2-13] \u001B[32mPASSED\u001B[0m\u001B[32m [ 42%]\u001B[0m\r\n",
      "tests/test_sequence_models.py::test_rnn[cpu-relu-True-True-12-1-1-1-1] \u001B[32mPASSED\u001B[0m\u001B[32m [ 42%]\u001B[0m\r\n",
      "tests/test_sequence_models.py::test_rnn[cpu-relu-True-True-12-1-1-1-13] \u001B[32mPASSED\u001B[0m\u001B[32m [ 42%]\u001B[0m\r\n",
      "tests/test_sequence_models.py::test_rnn[cpu-relu-True-True-12-1-1-2-1] \u001B[32mPASSED\u001B[0m\u001B[32m [ 42%]\u001B[0m\r\n",
      "tests/test_sequence_models.py::test_rnn[cpu-relu-True-True-12-1-1-2-13] \u001B[32mPASSED\u001B[0m\u001B[32m [ 43%]\u001B[0m\r\n",
      "tests/test_sequence_models.py::test_rnn[cpu-relu-True-True-12-1-15-1-1] \u001B[32mPASSED\u001B[0m\u001B[32m [ 43%]\u001B[0m\r\n",
      "tests/test_sequence_models.py::test_rnn[cpu-relu-True-True-12-1-15-1-13] \u001B[32mPASSED\u001B[0m\u001B[32m [ 43%]\u001B[0m\r\n",
      "tests/test_sequence_models.py::test_rnn[cpu-relu-True-True-12-1-15-2-1] \u001B[32mPASSED\u001B[0m\u001B[32m [ 43%]\u001B[0m\r\n",
      "tests/test_sequence_models.py::test_rnn[cpu-relu-True-True-12-1-15-2-13] \u001B[32mPASSED\u001B[0m\u001B[32m [ 43%]\u001B[0m\r\n",
      "tests/test_sequence_models.py::test_rnn[cpu-relu-True-True-12-11-1-1-1] \u001B[32mPASSED\u001B[0m\u001B[32m [ 43%]\u001B[0m\r\n",
      "tests/test_sequence_models.py::test_rnn[cpu-relu-True-True-12-11-1-1-13] \u001B[32mPASSED\u001B[0m\u001B[32m [ 44%]\u001B[0m\r\n",
      "tests/test_sequence_models.py::test_rnn[cpu-relu-True-True-12-11-1-2-1] \u001B[32mPASSED\u001B[0m\u001B[32m [ 44%]\u001B[0m\r\n",
      "tests/test_sequence_models.py::test_rnn[cpu-relu-True-True-12-11-1-2-13] \u001B[32mPASSED\u001B[0m\u001B[32m [ 44%]\u001B[0m\r\n",
      "tests/test_sequence_models.py::test_rnn[cpu-relu-True-True-12-11-15-1-1] \u001B[32mPASSED\u001B[0m\u001B[32m [ 44%]\u001B[0m\r\n",
      "tests/test_sequence_models.py::test_rnn[cpu-relu-True-True-12-11-15-1-13] \u001B[32mPASSED\u001B[0m\u001B[32m [ 44%]\u001B[0m\r\n",
      "tests/test_sequence_models.py::test_rnn[cpu-relu-True-True-12-11-15-2-1] \u001B[32mPASSED\u001B[0m\u001B[32m [ 44%]\u001B[0m\r\n",
      "tests/test_sequence_models.py::test_rnn[cpu-relu-True-True-12-11-15-2-13] \u001B[32mPASSED\u001B[0m\u001B[32m [ 45%]\u001B[0m\r\n",
      "tests/test_sequence_models.py::test_rnn[cpu-relu-True-False-1-1-1-1-1] \u001B[32mPASSED\u001B[0m\u001B[32m [ 45%]\u001B[0m\r\n",
      "tests/test_sequence_models.py::test_rnn[cpu-relu-True-False-1-1-1-1-13] \u001B[32mPASSED\u001B[0m\u001B[32m [ 45%]\u001B[0m\r\n",
      "tests/test_sequence_models.py::test_rnn[cpu-relu-True-False-1-1-1-2-1] \u001B[32mPASSED\u001B[0m\u001B[32m [ 45%]\u001B[0m\r\n",
      "tests/test_sequence_models.py::test_rnn[cpu-relu-True-False-1-1-1-2-13] \u001B[32mPASSED\u001B[0m\u001B[32m [ 45%]\u001B[0m\r\n",
      "tests/test_sequence_models.py::test_rnn[cpu-relu-True-False-1-1-15-1-1] \u001B[32mPASSED\u001B[0m\u001B[32m [ 45%]\u001B[0m\r\n",
      "tests/test_sequence_models.py::test_rnn[cpu-relu-True-False-1-1-15-1-13] \u001B[32mPASSED\u001B[0m\u001B[32m [ 45%]\u001B[0m\r\n",
      "tests/test_sequence_models.py::test_rnn[cpu-relu-True-False-1-1-15-2-1] \u001B[32mPASSED\u001B[0m\u001B[32m [ 46%]\u001B[0m\r\n",
      "tests/test_sequence_models.py::test_rnn[cpu-relu-True-False-1-1-15-2-13] \u001B[32mPASSED\u001B[0m\u001B[32m [ 46%]\u001B[0m\r\n",
      "tests/test_sequence_models.py::test_rnn[cpu-relu-True-False-1-11-1-1-1] \u001B[32mPASSED\u001B[0m\u001B[32m [ 46%]\u001B[0m\r\n",
      "tests/test_sequence_models.py::test_rnn[cpu-relu-True-False-1-11-1-1-13] \u001B[32mPASSED\u001B[0m\u001B[32m [ 46%]\u001B[0m\r\n",
      "tests/test_sequence_models.py::test_rnn[cpu-relu-True-False-1-11-1-2-1] \u001B[32mPASSED\u001B[0m\u001B[32m [ 46%]\u001B[0m\r\n",
      "tests/test_sequence_models.py::test_rnn[cpu-relu-True-False-1-11-1-2-13] \u001B[32mPASSED\u001B[0m\u001B[32m [ 46%]\u001B[0m\r\n",
      "tests/test_sequence_models.py::test_rnn[cpu-relu-True-False-1-11-15-1-1] \u001B[32mPASSED\u001B[0m\u001B[32m [ 47%]\u001B[0m\r\n",
      "tests/test_sequence_models.py::test_rnn[cpu-relu-True-False-1-11-15-1-13] \u001B[32mPASSED\u001B[0m\u001B[32m [ 47%]\u001B[0m\r\n",
      "tests/test_sequence_models.py::test_rnn[cpu-relu-True-False-1-11-15-2-1] \u001B[32mPASSED\u001B[0m\u001B[32m [ 47%]\u001B[0m\r\n",
      "tests/test_sequence_models.py::test_rnn[cpu-relu-True-False-1-11-15-2-13] \u001B[32mPASSED\u001B[0m\u001B[32m [ 47%]\u001B[0m\r\n",
      "tests/test_sequence_models.py::test_rnn[cpu-relu-True-False-12-1-1-1-1] \u001B[32mPASSED\u001B[0m\u001B[32m [ 47%]\u001B[0m\r\n",
      "tests/test_sequence_models.py::test_rnn[cpu-relu-True-False-12-1-1-1-13] \u001B[32mPASSED\u001B[0m\u001B[32m [ 47%]\u001B[0m\r\n",
      "tests/test_sequence_models.py::test_rnn[cpu-relu-True-False-12-1-1-2-1] \u001B[32mPASSED\u001B[0m\u001B[32m [ 47%]\u001B[0m\r\n",
      "tests/test_sequence_models.py::test_rnn[cpu-relu-True-False-12-1-1-2-13] \u001B[32mPASSED\u001B[0m\u001B[32m [ 48%]\u001B[0m\r\n",
      "tests/test_sequence_models.py::test_rnn[cpu-relu-True-False-12-1-15-1-1] \u001B[32mPASSED\u001B[0m\u001B[32m [ 48%]\u001B[0m\r\n",
      "tests/test_sequence_models.py::test_rnn[cpu-relu-True-False-12-1-15-1-13] \u001B[32mPASSED\u001B[0m\u001B[32m [ 48%]\u001B[0m\r\n",
      "tests/test_sequence_models.py::test_rnn[cpu-relu-True-False-12-1-15-2-1] \u001B[32mPASSED\u001B[0m\u001B[32m [ 48%]\u001B[0m\r\n",
      "tests/test_sequence_models.py::test_rnn[cpu-relu-True-False-12-1-15-2-13] \u001B[32mPASSED\u001B[0m\u001B[32m [ 48%]\u001B[0m\r\n",
      "tests/test_sequence_models.py::test_rnn[cpu-relu-True-False-12-11-1-1-1] \u001B[32mPASSED\u001B[0m\u001B[32m [ 48%]\u001B[0m\r\n",
      "tests/test_sequence_models.py::test_rnn[cpu-relu-True-False-12-11-1-1-13] \u001B[32mPASSED\u001B[0m\u001B[32m [ 49%]\u001B[0m\r\n",
      "tests/test_sequence_models.py::test_rnn[cpu-relu-True-False-12-11-1-2-1] \u001B[32mPASSED\u001B[0m\u001B[32m [ 49%]\u001B[0m\r\n",
      "tests/test_sequence_models.py::test_rnn[cpu-relu-True-False-12-11-1-2-13] \u001B[32mPASSED\u001B[0m\u001B[32m [ 49%]\u001B[0m\r\n",
      "tests/test_sequence_models.py::test_rnn[cpu-relu-True-False-12-11-15-1-1] \u001B[32mPASSED\u001B[0m\u001B[32m [ 49%]\u001B[0m\r\n",
      "tests/test_sequence_models.py::test_rnn[cpu-relu-True-False-12-11-15-1-13] \u001B[32mPASSED\u001B[0m\u001B[32m [ 49%]\u001B[0m\r\n",
      "tests/test_sequence_models.py::test_rnn[cpu-relu-True-False-12-11-15-2-1] \u001B[32mPASSED\u001B[0m\u001B[32m [ 49%]\u001B[0m\r\n",
      "tests/test_sequence_models.py::test_rnn[cpu-relu-True-False-12-11-15-2-13] \u001B[32mPASSED\u001B[0m\u001B[32m [ 50%]\u001B[0m\r\n",
      "tests/test_sequence_models.py::test_rnn[cpu-relu-False-True-1-1-1-1-1] \u001B[32mPASSED\u001B[0m\u001B[32m [ 50%]\u001B[0m\r\n",
      "tests/test_sequence_models.py::test_rnn[cpu-relu-False-True-1-1-1-1-13] \u001B[32mPASSED\u001B[0m\u001B[32m [ 50%]\u001B[0m\r\n",
      "tests/test_sequence_models.py::test_rnn[cpu-relu-False-True-1-1-1-2-1] \u001B[32mPASSED\u001B[0m\u001B[32m [ 50%]\u001B[0m\r\n",
      "tests/test_sequence_models.py::test_rnn[cpu-relu-False-True-1-1-1-2-13] \u001B[32mPASSED\u001B[0m\u001B[32m [ 50%]\u001B[0m\r\n",
      "tests/test_sequence_models.py::test_rnn[cpu-relu-False-True-1-1-15-1-1] \u001B[32mPASSED\u001B[0m\u001B[32m [ 50%]\u001B[0m\r\n",
      "tests/test_sequence_models.py::test_rnn[cpu-relu-False-True-1-1-15-1-13] \u001B[32mPASSED\u001B[0m\u001B[32m [ 50%]\u001B[0m\r\n",
      "tests/test_sequence_models.py::test_rnn[cpu-relu-False-True-1-1-15-2-1] \u001B[32mPASSED\u001B[0m\u001B[32m [ 51%]\u001B[0m\r\n",
      "tests/test_sequence_models.py::test_rnn[cpu-relu-False-True-1-1-15-2-13] \u001B[32mPASSED\u001B[0m\u001B[32m [ 51%]\u001B[0m\r\n",
      "tests/test_sequence_models.py::test_rnn[cpu-relu-False-True-1-11-1-1-1] \u001B[32mPASSED\u001B[0m\u001B[32m [ 51%]\u001B[0m\r\n",
      "tests/test_sequence_models.py::test_rnn[cpu-relu-False-True-1-11-1-1-13] \u001B[32mPASSED\u001B[0m\u001B[32m [ 51%]\u001B[0m\r\n",
      "tests/test_sequence_models.py::test_rnn[cpu-relu-False-True-1-11-1-2-1] \u001B[32mPASSED\u001B[0m\u001B[32m [ 51%]\u001B[0m\r\n",
      "tests/test_sequence_models.py::test_rnn[cpu-relu-False-True-1-11-1-2-13] \u001B[32mPASSED\u001B[0m\u001B[32m [ 51%]\u001B[0m\r\n",
      "tests/test_sequence_models.py::test_rnn[cpu-relu-False-True-1-11-15-1-1] \u001B[32mPASSED\u001B[0m\u001B[32m [ 52%]\u001B[0m\r\n",
      "tests/test_sequence_models.py::test_rnn[cpu-relu-False-True-1-11-15-1-13] \u001B[32mPASSED\u001B[0m\u001B[32m [ 52%]\u001B[0m\r\n",
      "tests/test_sequence_models.py::test_rnn[cpu-relu-False-True-1-11-15-2-1] \u001B[32mPASSED\u001B[0m\u001B[32m [ 52%]\u001B[0m\r\n",
      "tests/test_sequence_models.py::test_rnn[cpu-relu-False-True-1-11-15-2-13] \u001B[32mPASSED\u001B[0m\u001B[32m [ 52%]\u001B[0m\r\n",
      "tests/test_sequence_models.py::test_rnn[cpu-relu-False-True-12-1-1-1-1] \u001B[32mPASSED\u001B[0m\u001B[32m [ 52%]\u001B[0m\r\n",
      "tests/test_sequence_models.py::test_rnn[cpu-relu-False-True-12-1-1-1-13] \u001B[32mPASSED\u001B[0m\u001B[32m [ 52%]\u001B[0m\r\n",
      "tests/test_sequence_models.py::test_rnn[cpu-relu-False-True-12-1-1-2-1] \u001B[32mPASSED\u001B[0m\u001B[32m [ 52%]\u001B[0m\r\n",
      "tests/test_sequence_models.py::test_rnn[cpu-relu-False-True-12-1-1-2-13] \u001B[32mPASSED\u001B[0m\u001B[32m [ 53%]\u001B[0m\r\n",
      "tests/test_sequence_models.py::test_rnn[cpu-relu-False-True-12-1-15-1-1] \u001B[32mPASSED\u001B[0m\u001B[32m [ 53%]\u001B[0m\r\n",
      "tests/test_sequence_models.py::test_rnn[cpu-relu-False-True-12-1-15-1-13] \u001B[32mPASSED\u001B[0m\u001B[32m [ 53%]\u001B[0m\r\n",
      "tests/test_sequence_models.py::test_rnn[cpu-relu-False-True-12-1-15-2-1] \u001B[32mPASSED\u001B[0m\u001B[32m [ 53%]\u001B[0m\r\n",
      "tests/test_sequence_models.py::test_rnn[cpu-relu-False-True-12-1-15-2-13] \u001B[32mPASSED\u001B[0m\u001B[32m [ 53%]\u001B[0m\r\n",
      "tests/test_sequence_models.py::test_rnn[cpu-relu-False-True-12-11-1-1-1] \u001B[32mPASSED\u001B[0m\u001B[32m [ 53%]\u001B[0m\r\n",
      "tests/test_sequence_models.py::test_rnn[cpu-relu-False-True-12-11-1-1-13] \u001B[32mPASSED\u001B[0m\u001B[32m [ 54%]\u001B[0m\r\n",
      "tests/test_sequence_models.py::test_rnn[cpu-relu-False-True-12-11-1-2-1] \u001B[32mPASSED\u001B[0m\u001B[32m [ 54%]\u001B[0m\r\n",
      "tests/test_sequence_models.py::test_rnn[cpu-relu-False-True-12-11-1-2-13] \u001B[32mPASSED\u001B[0m\u001B[32m [ 54%]\u001B[0m\r\n",
      "tests/test_sequence_models.py::test_rnn[cpu-relu-False-True-12-11-15-1-1] \u001B[32mPASSED\u001B[0m\u001B[32m [ 54%]\u001B[0m\r\n",
      "tests/test_sequence_models.py::test_rnn[cpu-relu-False-True-12-11-15-1-13] \u001B[32mPASSED\u001B[0m\u001B[32m [ 54%]\u001B[0m\r\n",
      "tests/test_sequence_models.py::test_rnn[cpu-relu-False-True-12-11-15-2-1] \u001B[32mPASSED\u001B[0m\u001B[32m [ 54%]\u001B[0m\r\n",
      "tests/test_sequence_models.py::test_rnn[cpu-relu-False-True-12-11-15-2-13] \u001B[32mPASSED\u001B[0m\u001B[32m [ 55%]\u001B[0m\r\n",
      "tests/test_sequence_models.py::test_rnn[cpu-relu-False-False-1-1-1-1-1] \u001B[32mPASSED\u001B[0m\u001B[32m [ 55%]\u001B[0m\r\n",
      "tests/test_sequence_models.py::test_rnn[cpu-relu-False-False-1-1-1-1-13] \u001B[32mPASSED\u001B[0m\u001B[32m [ 55%]\u001B[0m\r\n",
      "tests/test_sequence_models.py::test_rnn[cpu-relu-False-False-1-1-1-2-1] \u001B[32mPASSED\u001B[0m\u001B[32m [ 55%]\u001B[0m\r\n",
      "tests/test_sequence_models.py::test_rnn[cpu-relu-False-False-1-1-1-2-13] \u001B[32mPASSED\u001B[0m\u001B[32m [ 55%]\u001B[0m\r\n",
      "tests/test_sequence_models.py::test_rnn[cpu-relu-False-False-1-1-15-1-1] \u001B[32mPASSED\u001B[0m\u001B[32m [ 55%]\u001B[0m\r\n",
      "tests/test_sequence_models.py::test_rnn[cpu-relu-False-False-1-1-15-1-13] \u001B[32mPASSED\u001B[0m\u001B[32m [ 55%]\u001B[0m\r\n",
      "tests/test_sequence_models.py::test_rnn[cpu-relu-False-False-1-1-15-2-1] \u001B[32mPASSED\u001B[0m\u001B[32m [ 56%]\u001B[0m\r\n",
      "tests/test_sequence_models.py::test_rnn[cpu-relu-False-False-1-1-15-2-13] \u001B[32mPASSED\u001B[0m\u001B[32m [ 56%]\u001B[0m\r\n",
      "tests/test_sequence_models.py::test_rnn[cpu-relu-False-False-1-11-1-1-1] \u001B[32mPASSED\u001B[0m\u001B[32m [ 56%]\u001B[0m\r\n",
      "tests/test_sequence_models.py::test_rnn[cpu-relu-False-False-1-11-1-1-13] \u001B[32mPASSED\u001B[0m\u001B[32m [ 56%]\u001B[0m\r\n",
      "tests/test_sequence_models.py::test_rnn[cpu-relu-False-False-1-11-1-2-1] \u001B[32mPASSED\u001B[0m\u001B[32m [ 56%]\u001B[0m\r\n",
      "tests/test_sequence_models.py::test_rnn[cpu-relu-False-False-1-11-1-2-13] \u001B[32mPASSED\u001B[0m\u001B[32m [ 56%]\u001B[0m\r\n",
      "tests/test_sequence_models.py::test_rnn[cpu-relu-False-False-1-11-15-1-1] \u001B[32mPASSED\u001B[0m\u001B[32m [ 57%]\u001B[0m\r\n",
      "tests/test_sequence_models.py::test_rnn[cpu-relu-False-False-1-11-15-1-13] \u001B[32mPASSED\u001B[0m\u001B[32m [ 57%]\u001B[0m\r\n",
      "tests/test_sequence_models.py::test_rnn[cpu-relu-False-False-1-11-15-2-1] \u001B[32mPASSED\u001B[0m\u001B[32m [ 57%]\u001B[0m\r\n",
      "tests/test_sequence_models.py::test_rnn[cpu-relu-False-False-1-11-15-2-13] \u001B[32mPASSED\u001B[0m\u001B[32m [ 57%]\u001B[0m\r\n",
      "tests/test_sequence_models.py::test_rnn[cpu-relu-False-False-12-1-1-1-1] \u001B[32mPASSED\u001B[0m\u001B[32m [ 57%]\u001B[0m\r\n",
      "tests/test_sequence_models.py::test_rnn[cpu-relu-False-False-12-1-1-1-13] \u001B[32mPASSED\u001B[0m\u001B[32m [ 57%]\u001B[0m\r\n",
      "tests/test_sequence_models.py::test_rnn[cpu-relu-False-False-12-1-1-2-1] \u001B[32mPASSED\u001B[0m\u001B[32m [ 57%]\u001B[0m\r\n",
      "tests/test_sequence_models.py::test_rnn[cpu-relu-False-False-12-1-1-2-13] \u001B[32mPASSED\u001B[0m\u001B[32m [ 58%]\u001B[0m\r\n",
      "tests/test_sequence_models.py::test_rnn[cpu-relu-False-False-12-1-15-1-1] \u001B[32mPASSED\u001B[0m\u001B[32m [ 58%]\u001B[0m\r\n",
      "tests/test_sequence_models.py::test_rnn[cpu-relu-False-False-12-1-15-1-13] \u001B[32mPASSED\u001B[0m\u001B[32m [ 58%]\u001B[0m\r\n",
      "tests/test_sequence_models.py::test_rnn[cpu-relu-False-False-12-1-15-2-1] \u001B[32mPASSED\u001B[0m\u001B[32m [ 58%]\u001B[0m\r\n",
      "tests/test_sequence_models.py::test_rnn[cpu-relu-False-False-12-1-15-2-13] \u001B[32mPASSED\u001B[0m\u001B[32m [ 58%]\u001B[0m\r\n",
      "tests/test_sequence_models.py::test_rnn[cpu-relu-False-False-12-11-1-1-1] \u001B[32mPASSED\u001B[0m\u001B[32m [ 58%]\u001B[0m\r\n",
      "tests/test_sequence_models.py::test_rnn[cpu-relu-False-False-12-11-1-1-13] \u001B[32mPASSED\u001B[0m\u001B[32m [ 59%]\u001B[0m\r\n",
      "tests/test_sequence_models.py::test_rnn[cpu-relu-False-False-12-11-1-2-1] \u001B[32mPASSED\u001B[0m\u001B[32m [ 59%]\u001B[0m\r\n",
      "tests/test_sequence_models.py::test_rnn[cpu-relu-False-False-12-11-1-2-13] \u001B[32mPASSED\u001B[0m\u001B[32m [ 59%]\u001B[0m\r\n",
      "tests/test_sequence_models.py::test_rnn[cpu-relu-False-False-12-11-15-1-1] \u001B[32mPASSED\u001B[0m\u001B[32m [ 59%]\u001B[0m\r\n",
      "tests/test_sequence_models.py::test_rnn[cpu-relu-False-False-12-11-15-1-13] \u001B[32mPASSED\u001B[0m\u001B[32m [ 59%]\u001B[0m\r\n",
      "tests/test_sequence_models.py::test_rnn[cpu-relu-False-False-12-11-15-2-1] \u001B[32mPASSED\u001B[0m\u001B[32m [ 59%]\u001B[0m\r\n",
      "tests/test_sequence_models.py::test_rnn[cpu-relu-False-False-12-11-15-2-13] \u001B[32mPASSED\u001B[0m\u001B[32m [ 60%]\u001B[0m\r\n",
      "tests/test_sequence_models.py::test_rnn[cuda-tanh-True-True-1-1-1-1-1] \u001B[32mPASSED\u001B[0m\u001B[32m [ 60%]\u001B[0m\r\n",
      "tests/test_sequence_models.py::test_rnn[cuda-tanh-True-True-1-1-1-1-13] \u001B[32mPASSED\u001B[0m\u001B[32m [ 60%]\u001B[0m\r\n",
      "tests/test_sequence_models.py::test_rnn[cuda-tanh-True-True-1-1-1-2-1] \u001B[32mPASSED\u001B[0m\u001B[32m [ 60%]\u001B[0m\r\n",
      "tests/test_sequence_models.py::test_rnn[cuda-tanh-True-True-1-1-1-2-13] \u001B[32mPASSED\u001B[0m\u001B[32m [ 60%]\u001B[0m\r\n",
      "tests/test_sequence_models.py::test_rnn[cuda-tanh-True-True-1-1-15-1-1] \u001B[32mPASSED\u001B[0m\u001B[32m [ 60%]\u001B[0m\r\n",
      "tests/test_sequence_models.py::test_rnn[cuda-tanh-True-True-1-1-15-1-13] \u001B[32mPASSED\u001B[0m\u001B[32m [ 60%]\u001B[0m\r\n",
      "tests/test_sequence_models.py::test_rnn[cuda-tanh-True-True-1-1-15-2-1] \u001B[32mPASSED\u001B[0m\u001B[32m [ 61%]\u001B[0m\r\n",
      "tests/test_sequence_models.py::test_rnn[cuda-tanh-True-True-1-1-15-2-13] \u001B[32mPASSED\u001B[0m\u001B[32m [ 61%]\u001B[0m\r\n",
      "tests/test_sequence_models.py::test_rnn[cuda-tanh-True-True-1-11-1-1-1] \u001B[32mPASSED\u001B[0m\u001B[32m [ 61%]\u001B[0m\r\n",
      "tests/test_sequence_models.py::test_rnn[cuda-tanh-True-True-1-11-1-1-13] \u001B[32mPASSED\u001B[0m\u001B[32m [ 61%]\u001B[0m\r\n",
      "tests/test_sequence_models.py::test_rnn[cuda-tanh-True-True-1-11-1-2-1] \u001B[32mPASSED\u001B[0m\u001B[32m [ 61%]\u001B[0m\r\n",
      "tests/test_sequence_models.py::test_rnn[cuda-tanh-True-True-1-11-1-2-13] \u001B[32mPASSED\u001B[0m\u001B[32m [ 61%]\u001B[0m\r\n",
      "tests/test_sequence_models.py::test_rnn[cuda-tanh-True-True-1-11-15-1-1] \u001B[32mPASSED\u001B[0m\u001B[32m [ 62%]\u001B[0m\r\n",
      "tests/test_sequence_models.py::test_rnn[cuda-tanh-True-True-1-11-15-1-13] \u001B[32mPASSED\u001B[0m\u001B[32m [ 62%]\u001B[0m\r\n",
      "tests/test_sequence_models.py::test_rnn[cuda-tanh-True-True-1-11-15-2-1] \u001B[32mPASSED\u001B[0m\u001B[32m [ 62%]\u001B[0m\r\n",
      "tests/test_sequence_models.py::test_rnn[cuda-tanh-True-True-1-11-15-2-13] \u001B[32mPASSED\u001B[0m\u001B[32m [ 62%]\u001B[0m\r\n",
      "tests/test_sequence_models.py::test_rnn[cuda-tanh-True-True-12-1-1-1-1] \u001B[32mPASSED\u001B[0m\u001B[32m [ 62%]\u001B[0m\r\n",
      "tests/test_sequence_models.py::test_rnn[cuda-tanh-True-True-12-1-1-1-13] \u001B[32mPASSED\u001B[0m\u001B[32m [ 62%]\u001B[0m\r\n",
      "tests/test_sequence_models.py::test_rnn[cuda-tanh-True-True-12-1-1-2-1] \u001B[32mPASSED\u001B[0m\u001B[32m [ 62%]\u001B[0m\r\n",
      "tests/test_sequence_models.py::test_rnn[cuda-tanh-True-True-12-1-1-2-13] \u001B[32mPASSED\u001B[0m\u001B[32m [ 63%]\u001B[0m\r\n",
      "tests/test_sequence_models.py::test_rnn[cuda-tanh-True-True-12-1-15-1-1] \u001B[32mPASSED\u001B[0m\u001B[32m [ 63%]\u001B[0m\r\n",
      "tests/test_sequence_models.py::test_rnn[cuda-tanh-True-True-12-1-15-1-13] \u001B[32mPASSED\u001B[0m\u001B[32m [ 63%]\u001B[0m\r\n",
      "tests/test_sequence_models.py::test_rnn[cuda-tanh-True-True-12-1-15-2-1] \u001B[32mPASSED\u001B[0m\u001B[32m [ 63%]\u001B[0m\r\n",
      "tests/test_sequence_models.py::test_rnn[cuda-tanh-True-True-12-1-15-2-13] \u001B[32mPASSED\u001B[0m\u001B[32m [ 63%]\u001B[0m\r\n",
      "tests/test_sequence_models.py::test_rnn[cuda-tanh-True-True-12-11-1-1-1] \u001B[32mPASSED\u001B[0m\u001B[32m [ 63%]\u001B[0m\r\n",
      "tests/test_sequence_models.py::test_rnn[cuda-tanh-True-True-12-11-1-1-13] \u001B[32mPASSED\u001B[0m\u001B[32m [ 64%]\u001B[0m\r\n",
      "tests/test_sequence_models.py::test_rnn[cuda-tanh-True-True-12-11-1-2-1] \u001B[32mPASSED\u001B[0m\u001B[32m [ 64%]\u001B[0m\r\n",
      "tests/test_sequence_models.py::test_rnn[cuda-tanh-True-True-12-11-1-2-13] \u001B[32mPASSED\u001B[0m\u001B[32m [ 64%]\u001B[0m\r\n",
      "tests/test_sequence_models.py::test_rnn[cuda-tanh-True-True-12-11-15-1-1] \u001B[32mPASSED\u001B[0m\u001B[32m [ 64%]\u001B[0m\r\n",
      "tests/test_sequence_models.py::test_rnn[cuda-tanh-True-True-12-11-15-1-13] \u001B[32mPASSED\u001B[0m\u001B[32m [ 64%]\u001B[0m\r\n",
      "tests/test_sequence_models.py::test_rnn[cuda-tanh-True-True-12-11-15-2-1] \u001B[32mPASSED\u001B[0m\u001B[32m [ 64%]\u001B[0m\r\n",
      "tests/test_sequence_models.py::test_rnn[cuda-tanh-True-True-12-11-15-2-13] \u001B[32mPASSED\u001B[0m\u001B[32m [ 65%]\u001B[0m\r\n",
      "tests/test_sequence_models.py::test_rnn[cuda-tanh-True-False-1-1-1-1-1] \u001B[32mPASSED\u001B[0m\u001B[32m [ 65%]\u001B[0m\r\n",
      "tests/test_sequence_models.py::test_rnn[cuda-tanh-True-False-1-1-1-1-13] \u001B[32mPASSED\u001B[0m\u001B[32m [ 65%]\u001B[0m\r\n",
      "tests/test_sequence_models.py::test_rnn[cuda-tanh-True-False-1-1-1-2-1] \u001B[32mPASSED\u001B[0m\u001B[32m [ 65%]\u001B[0m\r\n",
      "tests/test_sequence_models.py::test_rnn[cuda-tanh-True-False-1-1-1-2-13] \u001B[32mPASSED\u001B[0m\u001B[32m [ 65%]\u001B[0m\r\n",
      "tests/test_sequence_models.py::test_rnn[cuda-tanh-True-False-1-1-15-1-1] \u001B[32mPASSED\u001B[0m\u001B[32m [ 65%]\u001B[0m\r\n",
      "tests/test_sequence_models.py::test_rnn[cuda-tanh-True-False-1-1-15-1-13] \u001B[32mPASSED\u001B[0m\u001B[32m [ 65%]\u001B[0m\r\n",
      "tests/test_sequence_models.py::test_rnn[cuda-tanh-True-False-1-1-15-2-1] \u001B[32mPASSED\u001B[0m\u001B[32m [ 66%]\u001B[0m\r\n",
      "tests/test_sequence_models.py::test_rnn[cuda-tanh-True-False-1-1-15-2-13] \u001B[32mPASSED\u001B[0m\u001B[32m [ 66%]\u001B[0m\r\n",
      "tests/test_sequence_models.py::test_rnn[cuda-tanh-True-False-1-11-1-1-1] \u001B[32mPASSED\u001B[0m\u001B[32m [ 66%]\u001B[0m\r\n",
      "tests/test_sequence_models.py::test_rnn[cuda-tanh-True-False-1-11-1-1-13] \u001B[32mPASSED\u001B[0m\u001B[32m [ 66%]\u001B[0m\r\n",
      "tests/test_sequence_models.py::test_rnn[cuda-tanh-True-False-1-11-1-2-1] \u001B[32mPASSED\u001B[0m\u001B[32m [ 66%]\u001B[0m\r\n",
      "tests/test_sequence_models.py::test_rnn[cuda-tanh-True-False-1-11-1-2-13] \u001B[32mPASSED\u001B[0m\u001B[32m [ 66%]\u001B[0m\r\n",
      "tests/test_sequence_models.py::test_rnn[cuda-tanh-True-False-1-11-15-1-1] \u001B[32mPASSED\u001B[0m\u001B[32m [ 67%]\u001B[0m\r\n",
      "tests/test_sequence_models.py::test_rnn[cuda-tanh-True-False-1-11-15-1-13] \u001B[32mPASSED\u001B[0m\u001B[32m [ 67%]\u001B[0m\r\n",
      "tests/test_sequence_models.py::test_rnn[cuda-tanh-True-False-1-11-15-2-1] \u001B[32mPASSED\u001B[0m\u001B[32m [ 67%]\u001B[0m\r\n",
      "tests/test_sequence_models.py::test_rnn[cuda-tanh-True-False-1-11-15-2-13] \u001B[32mPASSED\u001B[0m\u001B[32m [ 67%]\u001B[0m\r\n",
      "tests/test_sequence_models.py::test_rnn[cuda-tanh-True-False-12-1-1-1-1] \u001B[32mPASSED\u001B[0m\u001B[32m [ 67%]\u001B[0m\r\n",
      "tests/test_sequence_models.py::test_rnn[cuda-tanh-True-False-12-1-1-1-13] \u001B[32mPASSED\u001B[0m\u001B[32m [ 67%]\u001B[0m\r\n",
      "tests/test_sequence_models.py::test_rnn[cuda-tanh-True-False-12-1-1-2-1] \u001B[32mPASSED\u001B[0m\u001B[32m [ 67%]\u001B[0m\r\n",
      "tests/test_sequence_models.py::test_rnn[cuda-tanh-True-False-12-1-1-2-13] \u001B[32mPASSED\u001B[0m\u001B[32m [ 68%]\u001B[0m\r\n",
      "tests/test_sequence_models.py::test_rnn[cuda-tanh-True-False-12-1-15-1-1] \u001B[32mPASSED\u001B[0m\u001B[32m [ 68%]\u001B[0m\r\n",
      "tests/test_sequence_models.py::test_rnn[cuda-tanh-True-False-12-1-15-1-13] \u001B[32mPASSED\u001B[0m\u001B[32m [ 68%]\u001B[0m\r\n",
      "tests/test_sequence_models.py::test_rnn[cuda-tanh-True-False-12-1-15-2-1] \u001B[32mPASSED\u001B[0m\u001B[32m [ 68%]\u001B[0m\r\n",
      "tests/test_sequence_models.py::test_rnn[cuda-tanh-True-False-12-1-15-2-13] \u001B[32mPASSED\u001B[0m\u001B[32m [ 68%]\u001B[0m\r\n",
      "tests/test_sequence_models.py::test_rnn[cuda-tanh-True-False-12-11-1-1-1] \u001B[32mPASSED\u001B[0m\u001B[32m [ 68%]\u001B[0m\r\n",
      "tests/test_sequence_models.py::test_rnn[cuda-tanh-True-False-12-11-1-1-13] \u001B[32mPASSED\u001B[0m\u001B[32m [ 69%]\u001B[0m\r\n",
      "tests/test_sequence_models.py::test_rnn[cuda-tanh-True-False-12-11-1-2-1] \u001B[32mPASSED\u001B[0m\u001B[32m [ 69%]\u001B[0m\r\n",
      "tests/test_sequence_models.py::test_rnn[cuda-tanh-True-False-12-11-1-2-13] \u001B[32mPASSED\u001B[0m\u001B[32m [ 69%]\u001B[0m\r\n",
      "tests/test_sequence_models.py::test_rnn[cuda-tanh-True-False-12-11-15-1-1] \u001B[32mPASSED\u001B[0m\u001B[32m [ 69%]\u001B[0m\r\n",
      "tests/test_sequence_models.py::test_rnn[cuda-tanh-True-False-12-11-15-1-13] \u001B[32mPASSED\u001B[0m\u001B[32m [ 69%]\u001B[0m\r\n",
      "tests/test_sequence_models.py::test_rnn[cuda-tanh-True-False-12-11-15-2-1] \u001B[32mPASSED\u001B[0m\u001B[32m [ 69%]\u001B[0m\r\n",
      "tests/test_sequence_models.py::test_rnn[cuda-tanh-True-False-12-11-15-2-13] \u001B[32mPASSED\u001B[0m\u001B[32m [ 70%]\u001B[0m\r\n",
      "tests/test_sequence_models.py::test_rnn[cuda-tanh-False-True-1-1-1-1-1] \u001B[32mPASSED\u001B[0m\u001B[32m [ 70%]\u001B[0m\r\n",
      "tests/test_sequence_models.py::test_rnn[cuda-tanh-False-True-1-1-1-1-13] \u001B[32mPASSED\u001B[0m\u001B[32m [ 70%]\u001B[0m\r\n",
      "tests/test_sequence_models.py::test_rnn[cuda-tanh-False-True-1-1-1-2-1] \u001B[32mPASSED\u001B[0m\u001B[32m [ 70%]\u001B[0m\r\n",
      "tests/test_sequence_models.py::test_rnn[cuda-tanh-False-True-1-1-1-2-13] \u001B[32mPASSED\u001B[0m\u001B[32m [ 70%]\u001B[0m\r\n",
      "tests/test_sequence_models.py::test_rnn[cuda-tanh-False-True-1-1-15-1-1] \u001B[32mPASSED\u001B[0m\u001B[32m [ 70%]\u001B[0m\r\n",
      "tests/test_sequence_models.py::test_rnn[cuda-tanh-False-True-1-1-15-1-13] \u001B[32mPASSED\u001B[0m\u001B[32m [ 70%]\u001B[0m\r\n",
      "tests/test_sequence_models.py::test_rnn[cuda-tanh-False-True-1-1-15-2-1] \u001B[32mPASSED\u001B[0m\u001B[32m [ 71%]\u001B[0m\r\n",
      "tests/test_sequence_models.py::test_rnn[cuda-tanh-False-True-1-1-15-2-13] \u001B[32mPASSED\u001B[0m\u001B[32m [ 71%]\u001B[0m\r\n",
      "tests/test_sequence_models.py::test_rnn[cuda-tanh-False-True-1-11-1-1-1] \u001B[32mPASSED\u001B[0m\u001B[32m [ 71%]\u001B[0m\r\n",
      "tests/test_sequence_models.py::test_rnn[cuda-tanh-False-True-1-11-1-1-13] \u001B[32mPASSED\u001B[0m\u001B[32m [ 71%]\u001B[0m\r\n",
      "tests/test_sequence_models.py::test_rnn[cuda-tanh-False-True-1-11-1-2-1] \u001B[32mPASSED\u001B[0m\u001B[32m [ 71%]\u001B[0m\r\n",
      "tests/test_sequence_models.py::test_rnn[cuda-tanh-False-True-1-11-1-2-13] \u001B[32mPASSED\u001B[0m\u001B[32m [ 71%]\u001B[0m\r\n",
      "tests/test_sequence_models.py::test_rnn[cuda-tanh-False-True-1-11-15-1-1] \u001B[32mPASSED\u001B[0m\u001B[32m [ 72%]\u001B[0m\r\n",
      "tests/test_sequence_models.py::test_rnn[cuda-tanh-False-True-1-11-15-1-13] \u001B[32mPASSED\u001B[0m\u001B[32m [ 72%]\u001B[0m\r\n",
      "tests/test_sequence_models.py::test_rnn[cuda-tanh-False-True-1-11-15-2-1] \u001B[32mPASSED\u001B[0m\u001B[32m [ 72%]\u001B[0m\r\n",
      "tests/test_sequence_models.py::test_rnn[cuda-tanh-False-True-1-11-15-2-13] \u001B[32mPASSED\u001B[0m\u001B[32m [ 72%]\u001B[0m\r\n",
      "tests/test_sequence_models.py::test_rnn[cuda-tanh-False-True-12-1-1-1-1] \u001B[32mPASSED\u001B[0m\u001B[32m [ 72%]\u001B[0m\r\n",
      "tests/test_sequence_models.py::test_rnn[cuda-tanh-False-True-12-1-1-1-13] \u001B[32mPASSED\u001B[0m\u001B[32m [ 72%]\u001B[0m\r\n",
      "tests/test_sequence_models.py::test_rnn[cuda-tanh-False-True-12-1-1-2-1] \u001B[32mPASSED\u001B[0m\u001B[32m [ 72%]\u001B[0m\r\n",
      "tests/test_sequence_models.py::test_rnn[cuda-tanh-False-True-12-1-1-2-13] \u001B[32mPASSED\u001B[0m\u001B[32m [ 73%]\u001B[0m\r\n",
      "tests/test_sequence_models.py::test_rnn[cuda-tanh-False-True-12-1-15-1-1] \u001B[32mPASSED\u001B[0m\u001B[32m [ 73%]\u001B[0m\r\n",
      "tests/test_sequence_models.py::test_rnn[cuda-tanh-False-True-12-1-15-1-13] \u001B[32mPASSED\u001B[0m\u001B[32m [ 73%]\u001B[0m\r\n",
      "tests/test_sequence_models.py::test_rnn[cuda-tanh-False-True-12-1-15-2-1] \u001B[32mPASSED\u001B[0m\u001B[32m [ 73%]\u001B[0m\r\n",
      "tests/test_sequence_models.py::test_rnn[cuda-tanh-False-True-12-1-15-2-13] \u001B[32mPASSED\u001B[0m\u001B[32m [ 73%]\u001B[0m\r\n",
      "tests/test_sequence_models.py::test_rnn[cuda-tanh-False-True-12-11-1-1-1] \u001B[32mPASSED\u001B[0m\u001B[32m [ 73%]\u001B[0m\r\n",
      "tests/test_sequence_models.py::test_rnn[cuda-tanh-False-True-12-11-1-1-13] \u001B[32mPASSED\u001B[0m\u001B[32m [ 74%]\u001B[0m\r\n",
      "tests/test_sequence_models.py::test_rnn[cuda-tanh-False-True-12-11-1-2-1] \u001B[32mPASSED\u001B[0m\u001B[32m [ 74%]\u001B[0m\r\n",
      "tests/test_sequence_models.py::test_rnn[cuda-tanh-False-True-12-11-1-2-13] \u001B[32mPASSED\u001B[0m\u001B[32m [ 74%]\u001B[0m\r\n",
      "tests/test_sequence_models.py::test_rnn[cuda-tanh-False-True-12-11-15-1-1] \u001B[32mPASSED\u001B[0m\u001B[32m [ 74%]\u001B[0m\r\n",
      "tests/test_sequence_models.py::test_rnn[cuda-tanh-False-True-12-11-15-1-13] \u001B[32mPASSED\u001B[0m\u001B[32m [ 74%]\u001B[0m\r\n",
      "tests/test_sequence_models.py::test_rnn[cuda-tanh-False-True-12-11-15-2-1] \u001B[32mPASSED\u001B[0m\u001B[32m [ 74%]\u001B[0m\r\n",
      "tests/test_sequence_models.py::test_rnn[cuda-tanh-False-True-12-11-15-2-13] \u001B[32mPASSED\u001B[0m\u001B[32m [ 75%]\u001B[0m\r\n",
      "tests/test_sequence_models.py::test_rnn[cuda-tanh-False-False-1-1-1-1-1] \u001B[32mPASSED\u001B[0m\u001B[32m [ 75%]\u001B[0m\r\n",
      "tests/test_sequence_models.py::test_rnn[cuda-tanh-False-False-1-1-1-1-13] \u001B[32mPASSED\u001B[0m\u001B[32m [ 75%]\u001B[0m\r\n",
      "tests/test_sequence_models.py::test_rnn[cuda-tanh-False-False-1-1-1-2-1] \u001B[32mPASSED\u001B[0m\u001B[32m [ 75%]\u001B[0m\r\n",
      "tests/test_sequence_models.py::test_rnn[cuda-tanh-False-False-1-1-1-2-13] \u001B[32mPASSED\u001B[0m\u001B[32m [ 75%]\u001B[0m\r\n",
      "tests/test_sequence_models.py::test_rnn[cuda-tanh-False-False-1-1-15-1-1] \u001B[32mPASSED\u001B[0m\u001B[32m [ 75%]\u001B[0m\r\n",
      "tests/test_sequence_models.py::test_rnn[cuda-tanh-False-False-1-1-15-1-13] \u001B[32mPASSED\u001B[0m\u001B[32m [ 75%]\u001B[0m\r\n",
      "tests/test_sequence_models.py::test_rnn[cuda-tanh-False-False-1-1-15-2-1] \u001B[32mPASSED\u001B[0m\u001B[32m [ 76%]\u001B[0m\r\n",
      "tests/test_sequence_models.py::test_rnn[cuda-tanh-False-False-1-1-15-2-13] \u001B[32mPASSED\u001B[0m\u001B[32m [ 76%]\u001B[0m\r\n",
      "tests/test_sequence_models.py::test_rnn[cuda-tanh-False-False-1-11-1-1-1] \u001B[32mPASSED\u001B[0m\u001B[32m [ 76%]\u001B[0m\r\n",
      "tests/test_sequence_models.py::test_rnn[cuda-tanh-False-False-1-11-1-1-13] \u001B[32mPASSED\u001B[0m\u001B[32m [ 76%]\u001B[0m\r\n",
      "tests/test_sequence_models.py::test_rnn[cuda-tanh-False-False-1-11-1-2-1] \u001B[32mPASSED\u001B[0m\u001B[32m [ 76%]\u001B[0m\r\n",
      "tests/test_sequence_models.py::test_rnn[cuda-tanh-False-False-1-11-1-2-13] \u001B[32mPASSED\u001B[0m\u001B[32m [ 76%]\u001B[0m\r\n",
      "tests/test_sequence_models.py::test_rnn[cuda-tanh-False-False-1-11-15-1-1] \u001B[32mPASSED\u001B[0m\u001B[32m [ 77%]\u001B[0m\r\n",
      "tests/test_sequence_models.py::test_rnn[cuda-tanh-False-False-1-11-15-1-13] \u001B[32mPASSED\u001B[0m\u001B[32m [ 77%]\u001B[0m\r\n",
      "tests/test_sequence_models.py::test_rnn[cuda-tanh-False-False-1-11-15-2-1] \u001B[32mPASSED\u001B[0m\u001B[32m [ 77%]\u001B[0m\r\n",
      "tests/test_sequence_models.py::test_rnn[cuda-tanh-False-False-1-11-15-2-13] \u001B[32mPASSED\u001B[0m\u001B[32m [ 77%]\u001B[0m\r\n",
      "tests/test_sequence_models.py::test_rnn[cuda-tanh-False-False-12-1-1-1-1] \u001B[32mPASSED\u001B[0m\u001B[32m [ 77%]\u001B[0m\r\n",
      "tests/test_sequence_models.py::test_rnn[cuda-tanh-False-False-12-1-1-1-13] \u001B[32mPASSED\u001B[0m\u001B[32m [ 77%]\u001B[0m\r\n",
      "tests/test_sequence_models.py::test_rnn[cuda-tanh-False-False-12-1-1-2-1] \u001B[32mPASSED\u001B[0m\u001B[32m [ 77%]\u001B[0m\r\n",
      "tests/test_sequence_models.py::test_rnn[cuda-tanh-False-False-12-1-1-2-13] \u001B[32mPASSED\u001B[0m\u001B[32m [ 78%]\u001B[0m\r\n",
      "tests/test_sequence_models.py::test_rnn[cuda-tanh-False-False-12-1-15-1-1] \u001B[32mPASSED\u001B[0m\u001B[32m [ 78%]\u001B[0m\r\n",
      "tests/test_sequence_models.py::test_rnn[cuda-tanh-False-False-12-1-15-1-13] \u001B[32mPASSED\u001B[0m\u001B[32m [ 78%]\u001B[0m\r\n",
      "tests/test_sequence_models.py::test_rnn[cuda-tanh-False-False-12-1-15-2-1] \u001B[32mPASSED\u001B[0m\u001B[32m [ 78%]\u001B[0m\r\n",
      "tests/test_sequence_models.py::test_rnn[cuda-tanh-False-False-12-1-15-2-13] \u001B[32mPASSED\u001B[0m\u001B[32m [ 78%]\u001B[0m\r\n",
      "tests/test_sequence_models.py::test_rnn[cuda-tanh-False-False-12-11-1-1-1] \u001B[32mPASSED\u001B[0m\u001B[32m [ 78%]\u001B[0m\r\n",
      "tests/test_sequence_models.py::test_rnn[cuda-tanh-False-False-12-11-1-1-13] \u001B[32mPASSED\u001B[0m\u001B[32m [ 79%]\u001B[0m\r\n",
      "tests/test_sequence_models.py::test_rnn[cuda-tanh-False-False-12-11-1-2-1] \u001B[32mPASSED\u001B[0m\u001B[32m [ 79%]\u001B[0m\r\n",
      "tests/test_sequence_models.py::test_rnn[cuda-tanh-False-False-12-11-1-2-13] \u001B[32mPASSED\u001B[0m\u001B[32m [ 79%]\u001B[0m\r\n",
      "tests/test_sequence_models.py::test_rnn[cuda-tanh-False-False-12-11-15-1-1] \u001B[32mPASSED\u001B[0m\u001B[32m [ 79%]\u001B[0m\r\n",
      "tests/test_sequence_models.py::test_rnn[cuda-tanh-False-False-12-11-15-1-13] \u001B[32mPASSED\u001B[0m\u001B[32m [ 79%]\u001B[0m\r\n",
      "tests/test_sequence_models.py::test_rnn[cuda-tanh-False-False-12-11-15-2-1] \u001B[32mPASSED\u001B[0m\u001B[32m [ 79%]\u001B[0m\r\n",
      "tests/test_sequence_models.py::test_rnn[cuda-tanh-False-False-12-11-15-2-13] \u001B[32mPASSED\u001B[0m\u001B[32m [ 80%]\u001B[0m\r\n",
      "tests/test_sequence_models.py::test_rnn[cuda-relu-True-True-1-1-1-1-1] \u001B[32mPASSED\u001B[0m\u001B[32m [ 80%]\u001B[0m\r\n",
      "tests/test_sequence_models.py::test_rnn[cuda-relu-True-True-1-1-1-1-13] \u001B[32mPASSED\u001B[0m\u001B[32m [ 80%]\u001B[0m\r\n",
      "tests/test_sequence_models.py::test_rnn[cuda-relu-True-True-1-1-1-2-1] \u001B[32mPASSED\u001B[0m\u001B[32m [ 80%]\u001B[0m\r\n",
      "tests/test_sequence_models.py::test_rnn[cuda-relu-True-True-1-1-1-2-13] \u001B[32mPASSED\u001B[0m\u001B[32m [ 80%]\u001B[0m\r\n",
      "tests/test_sequence_models.py::test_rnn[cuda-relu-True-True-1-1-15-1-1] \u001B[32mPASSED\u001B[0m\u001B[32m [ 80%]\u001B[0m\r\n",
      "tests/test_sequence_models.py::test_rnn[cuda-relu-True-True-1-1-15-1-13] \u001B[32mPASSED\u001B[0m\u001B[32m [ 80%]\u001B[0m\r\n",
      "tests/test_sequence_models.py::test_rnn[cuda-relu-True-True-1-1-15-2-1] \u001B[32mPASSED\u001B[0m\u001B[32m [ 81%]\u001B[0m\r\n",
      "tests/test_sequence_models.py::test_rnn[cuda-relu-True-True-1-1-15-2-13] \u001B[32mPASSED\u001B[0m\u001B[32m [ 81%]\u001B[0m\r\n",
      "tests/test_sequence_models.py::test_rnn[cuda-relu-True-True-1-11-1-1-1] \u001B[32mPASSED\u001B[0m\u001B[32m [ 81%]\u001B[0m\r\n",
      "tests/test_sequence_models.py::test_rnn[cuda-relu-True-True-1-11-1-1-13] \u001B[32mPASSED\u001B[0m\u001B[32m [ 81%]\u001B[0m\r\n",
      "tests/test_sequence_models.py::test_rnn[cuda-relu-True-True-1-11-1-2-1] \u001B[32mPASSED\u001B[0m\u001B[32m [ 81%]\u001B[0m\r\n",
      "tests/test_sequence_models.py::test_rnn[cuda-relu-True-True-1-11-1-2-13] \u001B[32mPASSED\u001B[0m\u001B[32m [ 81%]\u001B[0m\r\n",
      "tests/test_sequence_models.py::test_rnn[cuda-relu-True-True-1-11-15-1-1] \u001B[32mPASSED\u001B[0m\u001B[32m [ 82%]\u001B[0m\r\n",
      "tests/test_sequence_models.py::test_rnn[cuda-relu-True-True-1-11-15-1-13] \u001B[32mPASSED\u001B[0m\u001B[32m [ 82%]\u001B[0m\r\n",
      "tests/test_sequence_models.py::test_rnn[cuda-relu-True-True-1-11-15-2-1] \u001B[32mPASSED\u001B[0m\u001B[32m [ 82%]\u001B[0m\r\n",
      "tests/test_sequence_models.py::test_rnn[cuda-relu-True-True-1-11-15-2-13] \u001B[32mPASSED\u001B[0m\u001B[32m [ 82%]\u001B[0m\r\n",
      "tests/test_sequence_models.py::test_rnn[cuda-relu-True-True-12-1-1-1-1] \u001B[32mPASSED\u001B[0m\u001B[32m [ 82%]\u001B[0m\r\n",
      "tests/test_sequence_models.py::test_rnn[cuda-relu-True-True-12-1-1-1-13] \u001B[32mPASSED\u001B[0m\u001B[32m [ 82%]\u001B[0m\r\n",
      "tests/test_sequence_models.py::test_rnn[cuda-relu-True-True-12-1-1-2-1] \u001B[32mPASSED\u001B[0m\u001B[32m [ 82%]\u001B[0m\r\n",
      "tests/test_sequence_models.py::test_rnn[cuda-relu-True-True-12-1-1-2-13] \u001B[32mPASSED\u001B[0m\u001B[32m [ 83%]\u001B[0m\r\n",
      "tests/test_sequence_models.py::test_rnn[cuda-relu-True-True-12-1-15-1-1] \u001B[32mPASSED\u001B[0m\u001B[32m [ 83%]\u001B[0m\r\n",
      "tests/test_sequence_models.py::test_rnn[cuda-relu-True-True-12-1-15-1-13] \u001B[32mPASSED\u001B[0m\u001B[32m [ 83%]\u001B[0m\r\n",
      "tests/test_sequence_models.py::test_rnn[cuda-relu-True-True-12-1-15-2-1] \u001B[32mPASSED\u001B[0m\u001B[32m [ 83%]\u001B[0m\r\n",
      "tests/test_sequence_models.py::test_rnn[cuda-relu-True-True-12-1-15-2-13] \u001B[32mPASSED\u001B[0m\u001B[32m [ 83%]\u001B[0m\r\n",
      "tests/test_sequence_models.py::test_rnn[cuda-relu-True-True-12-11-1-1-1] \u001B[32mPASSED\u001B[0m\u001B[32m [ 83%]\u001B[0m\r\n",
      "tests/test_sequence_models.py::test_rnn[cuda-relu-True-True-12-11-1-1-13] \u001B[32mPASSED\u001B[0m\u001B[32m [ 84%]\u001B[0m\r\n",
      "tests/test_sequence_models.py::test_rnn[cuda-relu-True-True-12-11-1-2-1] \u001B[32mPASSED\u001B[0m\u001B[32m [ 84%]\u001B[0m\r\n",
      "tests/test_sequence_models.py::test_rnn[cuda-relu-True-True-12-11-1-2-13] \u001B[32mPASSED\u001B[0m\u001B[32m [ 84%]\u001B[0m\r\n",
      "tests/test_sequence_models.py::test_rnn[cuda-relu-True-True-12-11-15-1-1] \u001B[32mPASSED\u001B[0m\u001B[32m [ 84%]\u001B[0m\r\n",
      "tests/test_sequence_models.py::test_rnn[cuda-relu-True-True-12-11-15-1-13] \u001B[32mPASSED\u001B[0m\u001B[32m [ 84%]\u001B[0m\r\n",
      "tests/test_sequence_models.py::test_rnn[cuda-relu-True-True-12-11-15-2-1] \u001B[32mPASSED\u001B[0m\u001B[32m [ 84%]\u001B[0m\r\n",
      "tests/test_sequence_models.py::test_rnn[cuda-relu-True-True-12-11-15-2-13] \u001B[32mPASSED\u001B[0m\u001B[32m [ 85%]\u001B[0m\r\n",
      "tests/test_sequence_models.py::test_rnn[cuda-relu-True-False-1-1-1-1-1] \u001B[32mPASSED\u001B[0m\u001B[32m [ 85%]\u001B[0m\r\n",
      "tests/test_sequence_models.py::test_rnn[cuda-relu-True-False-1-1-1-1-13] \u001B[32mPASSED\u001B[0m\u001B[32m [ 85%]\u001B[0m\r\n",
      "tests/test_sequence_models.py::test_rnn[cuda-relu-True-False-1-1-1-2-1] \u001B[32mPASSED\u001B[0m\u001B[32m [ 85%]\u001B[0m\r\n",
      "tests/test_sequence_models.py::test_rnn[cuda-relu-True-False-1-1-1-2-13] \u001B[32mPASSED\u001B[0m\u001B[32m [ 85%]\u001B[0m\r\n",
      "tests/test_sequence_models.py::test_rnn[cuda-relu-True-False-1-1-15-1-1] \u001B[32mPASSED\u001B[0m\u001B[32m [ 85%]\u001B[0m\r\n",
      "tests/test_sequence_models.py::test_rnn[cuda-relu-True-False-1-1-15-1-13] \u001B[32mPASSED\u001B[0m\u001B[32m [ 85%]\u001B[0m\r\n",
      "tests/test_sequence_models.py::test_rnn[cuda-relu-True-False-1-1-15-2-1] \u001B[32mPASSED\u001B[0m\u001B[32m [ 86%]\u001B[0m\r\n",
      "tests/test_sequence_models.py::test_rnn[cuda-relu-True-False-1-1-15-2-13] \u001B[32mPASSED\u001B[0m\u001B[32m [ 86%]\u001B[0m\r\n",
      "tests/test_sequence_models.py::test_rnn[cuda-relu-True-False-1-11-1-1-1] \u001B[32mPASSED\u001B[0m\u001B[32m [ 86%]\u001B[0m\r\n",
      "tests/test_sequence_models.py::test_rnn[cuda-relu-True-False-1-11-1-1-13] \u001B[32mPASSED\u001B[0m\u001B[32m [ 86%]\u001B[0m\r\n",
      "tests/test_sequence_models.py::test_rnn[cuda-relu-True-False-1-11-1-2-1] \u001B[32mPASSED\u001B[0m\u001B[32m [ 86%]\u001B[0m\r\n",
      "tests/test_sequence_models.py::test_rnn[cuda-relu-True-False-1-11-1-2-13] \u001B[32mPASSED\u001B[0m\u001B[32m [ 86%]\u001B[0m\r\n",
      "tests/test_sequence_models.py::test_rnn[cuda-relu-True-False-1-11-15-1-1] \u001B[32mPASSED\u001B[0m\u001B[32m [ 87%]\u001B[0m\r\n",
      "tests/test_sequence_models.py::test_rnn[cuda-relu-True-False-1-11-15-1-13] \u001B[32mPASSED\u001B[0m\u001B[32m [ 87%]\u001B[0m\r\n",
      "tests/test_sequence_models.py::test_rnn[cuda-relu-True-False-1-11-15-2-1] \u001B[32mPASSED\u001B[0m\u001B[32m [ 87%]\u001B[0m\r\n",
      "tests/test_sequence_models.py::test_rnn[cuda-relu-True-False-1-11-15-2-13] \u001B[32mPASSED\u001B[0m\u001B[32m [ 87%]\u001B[0m\r\n",
      "tests/test_sequence_models.py::test_rnn[cuda-relu-True-False-12-1-1-1-1] \u001B[32mPASSED\u001B[0m\u001B[32m [ 87%]\u001B[0m\r\n",
      "tests/test_sequence_models.py::test_rnn[cuda-relu-True-False-12-1-1-1-13] \u001B[32mPASSED\u001B[0m\u001B[32m [ 87%]\u001B[0m\r\n",
      "tests/test_sequence_models.py::test_rnn[cuda-relu-True-False-12-1-1-2-1] \u001B[32mPASSED\u001B[0m\u001B[32m [ 87%]\u001B[0m\r\n",
      "tests/test_sequence_models.py::test_rnn[cuda-relu-True-False-12-1-1-2-13] \u001B[32mPASSED\u001B[0m\u001B[32m [ 88%]\u001B[0m\r\n",
      "tests/test_sequence_models.py::test_rnn[cuda-relu-True-False-12-1-15-1-1] \u001B[32mPASSED\u001B[0m\u001B[32m [ 88%]\u001B[0m\r\n",
      "tests/test_sequence_models.py::test_rnn[cuda-relu-True-False-12-1-15-1-13] \u001B[32mPASSED\u001B[0m\u001B[32m [ 88%]\u001B[0m\r\n",
      "tests/test_sequence_models.py::test_rnn[cuda-relu-True-False-12-1-15-2-1] \u001B[32mPASSED\u001B[0m\u001B[32m [ 88%]\u001B[0m\r\n",
      "tests/test_sequence_models.py::test_rnn[cuda-relu-True-False-12-1-15-2-13] \u001B[32mPASSED\u001B[0m\u001B[32m [ 88%]\u001B[0m\r\n",
      "tests/test_sequence_models.py::test_rnn[cuda-relu-True-False-12-11-1-1-1] \u001B[32mPASSED\u001B[0m\u001B[32m [ 88%]\u001B[0m\r\n",
      "tests/test_sequence_models.py::test_rnn[cuda-relu-True-False-12-11-1-1-13] \u001B[32mPASSED\u001B[0m\u001B[32m [ 89%]\u001B[0m\r\n",
      "tests/test_sequence_models.py::test_rnn[cuda-relu-True-False-12-11-1-2-1] \u001B[32mPASSED\u001B[0m\u001B[32m [ 89%]\u001B[0m\r\n",
      "tests/test_sequence_models.py::test_rnn[cuda-relu-True-False-12-11-1-2-13] \u001B[32mPASSED\u001B[0m\u001B[32m [ 89%]\u001B[0m\r\n",
      "tests/test_sequence_models.py::test_rnn[cuda-relu-True-False-12-11-15-1-1] \u001B[32mPASSED\u001B[0m\u001B[32m [ 89%]\u001B[0m\r\n",
      "tests/test_sequence_models.py::test_rnn[cuda-relu-True-False-12-11-15-1-13] \u001B[32mPASSED\u001B[0m\u001B[32m [ 89%]\u001B[0m\r\n",
      "tests/test_sequence_models.py::test_rnn[cuda-relu-True-False-12-11-15-2-1] \u001B[32mPASSED\u001B[0m\u001B[32m [ 89%]\u001B[0m\r\n",
      "tests/test_sequence_models.py::test_rnn[cuda-relu-True-False-12-11-15-2-13] \u001B[32mPASSED\u001B[0m\u001B[32m [ 90%]\u001B[0m\r\n",
      "tests/test_sequence_models.py::test_rnn[cuda-relu-False-True-1-1-1-1-1] \u001B[32mPASSED\u001B[0m\u001B[32m [ 90%]\u001B[0m\r\n",
      "tests/test_sequence_models.py::test_rnn[cuda-relu-False-True-1-1-1-1-13] \u001B[32mPASSED\u001B[0m\u001B[32m [ 90%]\u001B[0m\r\n",
      "tests/test_sequence_models.py::test_rnn[cuda-relu-False-True-1-1-1-2-1] \u001B[32mPASSED\u001B[0m\u001B[32m [ 90%]\u001B[0m\r\n",
      "tests/test_sequence_models.py::test_rnn[cuda-relu-False-True-1-1-1-2-13] \u001B[32mPASSED\u001B[0m\u001B[32m [ 90%]\u001B[0m\r\n",
      "tests/test_sequence_models.py::test_rnn[cuda-relu-False-True-1-1-15-1-1] \u001B[32mPASSED\u001B[0m\u001B[32m [ 90%]\u001B[0m\r\n",
      "tests/test_sequence_models.py::test_rnn[cuda-relu-False-True-1-1-15-1-13] \u001B[32mPASSED\u001B[0m\u001B[32m [ 90%]\u001B[0m\r\n",
      "tests/test_sequence_models.py::test_rnn[cuda-relu-False-True-1-1-15-2-1] \u001B[32mPASSED\u001B[0m\u001B[32m [ 91%]\u001B[0m\r\n",
      "tests/test_sequence_models.py::test_rnn[cuda-relu-False-True-1-1-15-2-13] \u001B[32mPASSED\u001B[0m\u001B[32m [ 91%]\u001B[0m\r\n",
      "tests/test_sequence_models.py::test_rnn[cuda-relu-False-True-1-11-1-1-1] \u001B[32mPASSED\u001B[0m\u001B[32m [ 91%]\u001B[0m\r\n",
      "tests/test_sequence_models.py::test_rnn[cuda-relu-False-True-1-11-1-1-13] \u001B[32mPASSED\u001B[0m\u001B[32m [ 91%]\u001B[0m\r\n",
      "tests/test_sequence_models.py::test_rnn[cuda-relu-False-True-1-11-1-2-1] \u001B[32mPASSED\u001B[0m\u001B[32m [ 91%]\u001B[0m\r\n",
      "tests/test_sequence_models.py::test_rnn[cuda-relu-False-True-1-11-1-2-13] \u001B[32mPASSED\u001B[0m\u001B[32m [ 91%]\u001B[0m\r\n",
      "tests/test_sequence_models.py::test_rnn[cuda-relu-False-True-1-11-15-1-1] \u001B[32mPASSED\u001B[0m\u001B[32m [ 92%]\u001B[0m\r\n",
      "tests/test_sequence_models.py::test_rnn[cuda-relu-False-True-1-11-15-1-13] \u001B[32mPASSED\u001B[0m\u001B[32m [ 92%]\u001B[0m\r\n",
      "tests/test_sequence_models.py::test_rnn[cuda-relu-False-True-1-11-15-2-1] \u001B[32mPASSED\u001B[0m\u001B[32m [ 92%]\u001B[0m\r\n",
      "tests/test_sequence_models.py::test_rnn[cuda-relu-False-True-1-11-15-2-13] \u001B[32mPASSED\u001B[0m\u001B[32m [ 92%]\u001B[0m\r\n",
      "tests/test_sequence_models.py::test_rnn[cuda-relu-False-True-12-1-1-1-1] \u001B[32mPASSED\u001B[0m\u001B[32m [ 92%]\u001B[0m\r\n",
      "tests/test_sequence_models.py::test_rnn[cuda-relu-False-True-12-1-1-1-13] \u001B[32mPASSED\u001B[0m\u001B[32m [ 92%]\u001B[0m\r\n",
      "tests/test_sequence_models.py::test_rnn[cuda-relu-False-True-12-1-1-2-1] \u001B[32mPASSED\u001B[0m\u001B[32m [ 92%]\u001B[0m\r\n",
      "tests/test_sequence_models.py::test_rnn[cuda-relu-False-True-12-1-1-2-13] \u001B[32mPASSED\u001B[0m\u001B[32m [ 93%]\u001B[0m\r\n",
      "tests/test_sequence_models.py::test_rnn[cuda-relu-False-True-12-1-15-1-1] \u001B[32mPASSED\u001B[0m\u001B[32m [ 93%]\u001B[0m\r\n",
      "tests/test_sequence_models.py::test_rnn[cuda-relu-False-True-12-1-15-1-13] \u001B[32mPASSED\u001B[0m\u001B[32m [ 93%]\u001B[0m\r\n",
      "tests/test_sequence_models.py::test_rnn[cuda-relu-False-True-12-1-15-2-1] \u001B[32mPASSED\u001B[0m\u001B[32m [ 93%]\u001B[0m\r\n",
      "tests/test_sequence_models.py::test_rnn[cuda-relu-False-True-12-1-15-2-13] \u001B[32mPASSED\u001B[0m\u001B[32m [ 93%]\u001B[0m\r\n",
      "tests/test_sequence_models.py::test_rnn[cuda-relu-False-True-12-11-1-1-1] \u001B[32mPASSED\u001B[0m\u001B[32m [ 93%]\u001B[0m\r\n",
      "tests/test_sequence_models.py::test_rnn[cuda-relu-False-True-12-11-1-1-13] \u001B[32mPASSED\u001B[0m\u001B[32m [ 94%]\u001B[0m\r\n",
      "tests/test_sequence_models.py::test_rnn[cuda-relu-False-True-12-11-1-2-1] \u001B[32mPASSED\u001B[0m\u001B[32m [ 94%]\u001B[0m\r\n",
      "tests/test_sequence_models.py::test_rnn[cuda-relu-False-True-12-11-1-2-13] \u001B[32mPASSED\u001B[0m\u001B[32m [ 94%]\u001B[0m\r\n",
      "tests/test_sequence_models.py::test_rnn[cuda-relu-False-True-12-11-15-1-1] \u001B[32mPASSED\u001B[0m\u001B[32m [ 94%]\u001B[0m\r\n",
      "tests/test_sequence_models.py::test_rnn[cuda-relu-False-True-12-11-15-1-13] \u001B[32mPASSED\u001B[0m\u001B[32m [ 94%]\u001B[0m\r\n",
      "tests/test_sequence_models.py::test_rnn[cuda-relu-False-True-12-11-15-2-1] \u001B[32mPASSED\u001B[0m\u001B[32m [ 94%]\u001B[0m\r\n",
      "tests/test_sequence_models.py::test_rnn[cuda-relu-False-True-12-11-15-2-13] \u001B[32mPASSED\u001B[0m\u001B[32m [ 95%]\u001B[0m\r\n",
      "tests/test_sequence_models.py::test_rnn[cuda-relu-False-False-1-1-1-1-1] \u001B[32mPASSED\u001B[0m\u001B[32m [ 95%]\u001B[0m\r\n",
      "tests/test_sequence_models.py::test_rnn[cuda-relu-False-False-1-1-1-1-13] \u001B[32mPASSED\u001B[0m\u001B[32m [ 95%]\u001B[0m\r\n",
      "tests/test_sequence_models.py::test_rnn[cuda-relu-False-False-1-1-1-2-1] \u001B[32mPASSED\u001B[0m\u001B[32m [ 95%]\u001B[0m\r\n",
      "tests/test_sequence_models.py::test_rnn[cuda-relu-False-False-1-1-1-2-13] \u001B[32mPASSED\u001B[0m\u001B[32m [ 95%]\u001B[0m\r\n",
      "tests/test_sequence_models.py::test_rnn[cuda-relu-False-False-1-1-15-1-1] \u001B[32mPASSED\u001B[0m\u001B[32m [ 95%]\u001B[0m\r\n",
      "tests/test_sequence_models.py::test_rnn[cuda-relu-False-False-1-1-15-1-13] \u001B[32mPASSED\u001B[0m\u001B[32m [ 95%]\u001B[0m\r\n",
      "tests/test_sequence_models.py::test_rnn[cuda-relu-False-False-1-1-15-2-1] \u001B[32mPASSED\u001B[0m\u001B[32m [ 96%]\u001B[0m\r\n",
      "tests/test_sequence_models.py::test_rnn[cuda-relu-False-False-1-1-15-2-13] \u001B[32mPASSED\u001B[0m\u001B[32m [ 96%]\u001B[0m\r\n",
      "tests/test_sequence_models.py::test_rnn[cuda-relu-False-False-1-11-1-1-1] \u001B[32mPASSED\u001B[0m\u001B[32m [ 96%]\u001B[0m\r\n",
      "tests/test_sequence_models.py::test_rnn[cuda-relu-False-False-1-11-1-1-13] \u001B[32mPASSED\u001B[0m\u001B[32m [ 96%]\u001B[0m\r\n",
      "tests/test_sequence_models.py::test_rnn[cuda-relu-False-False-1-11-1-2-1] \u001B[32mPASSED\u001B[0m\u001B[32m [ 96%]\u001B[0m\r\n",
      "tests/test_sequence_models.py::test_rnn[cuda-relu-False-False-1-11-1-2-13] \u001B[32mPASSED\u001B[0m\u001B[32m [ 96%]\u001B[0m\r\n",
      "tests/test_sequence_models.py::test_rnn[cuda-relu-False-False-1-11-15-1-1] \u001B[32mPASSED\u001B[0m\u001B[32m [ 97%]\u001B[0m\r\n",
      "tests/test_sequence_models.py::test_rnn[cuda-relu-False-False-1-11-15-1-13] \u001B[32mPASSED\u001B[0m\u001B[32m [ 97%]\u001B[0m\r\n",
      "tests/test_sequence_models.py::test_rnn[cuda-relu-False-False-1-11-15-2-1] \u001B[32mPASSED\u001B[0m\u001B[32m [ 97%]\u001B[0m\r\n",
      "tests/test_sequence_models.py::test_rnn[cuda-relu-False-False-1-11-15-2-13] \u001B[32mPASSED\u001B[0m\u001B[32m [ 97%]\u001B[0m\r\n",
      "tests/test_sequence_models.py::test_rnn[cuda-relu-False-False-12-1-1-1-1] \u001B[32mPASSED\u001B[0m\u001B[32m [ 97%]\u001B[0m\r\n",
      "tests/test_sequence_models.py::test_rnn[cuda-relu-False-False-12-1-1-1-13] \u001B[32mPASSED\u001B[0m\u001B[32m [ 97%]\u001B[0m\r\n",
      "tests/test_sequence_models.py::test_rnn[cuda-relu-False-False-12-1-1-2-1] \u001B[32mPASSED\u001B[0m\u001B[32m [ 97%]\u001B[0m\r\n",
      "tests/test_sequence_models.py::test_rnn[cuda-relu-False-False-12-1-1-2-13] \u001B[32mPASSED\u001B[0m\u001B[32m [ 98%]\u001B[0m\r\n",
      "tests/test_sequence_models.py::test_rnn[cuda-relu-False-False-12-1-15-1-1] \u001B[32mPASSED\u001B[0m\u001B[32m [ 98%]\u001B[0m\r\n",
      "tests/test_sequence_models.py::test_rnn[cuda-relu-False-False-12-1-15-1-13] \u001B[32mPASSED\u001B[0m\u001B[32m [ 98%]\u001B[0m\r\n",
      "tests/test_sequence_models.py::test_rnn[cuda-relu-False-False-12-1-15-2-1] \u001B[32mPASSED\u001B[0m\u001B[32m [ 98%]\u001B[0m\r\n",
      "tests/test_sequence_models.py::test_rnn[cuda-relu-False-False-12-1-15-2-13] \u001B[32mPASSED\u001B[0m\u001B[32m [ 98%]\u001B[0m\r\n",
      "tests/test_sequence_models.py::test_rnn[cuda-relu-False-False-12-11-1-1-1] \u001B[32mPASSED\u001B[0m\u001B[32m [ 98%]\u001B[0m\r\n",
      "tests/test_sequence_models.py::test_rnn[cuda-relu-False-False-12-11-1-1-13] \u001B[32mPASSED\u001B[0m\u001B[32m [ 99%]\u001B[0m\r\n",
      "tests/test_sequence_models.py::test_rnn[cuda-relu-False-False-12-11-1-2-1] \u001B[32mPASSED\u001B[0m\u001B[32m [ 99%]\u001B[0m\r\n",
      "tests/test_sequence_models.py::test_rnn[cuda-relu-False-False-12-11-1-2-13] \u001B[32mPASSED\u001B[0m\u001B[32m [ 99%]\u001B[0m\r\n",
      "tests/test_sequence_models.py::test_rnn[cuda-relu-False-False-12-11-15-1-1] \u001B[32mPASSED\u001B[0m\u001B[32m [ 99%]\u001B[0m\r\n",
      "tests/test_sequence_models.py::test_rnn[cuda-relu-False-False-12-11-15-1-13] \u001B[32mPASSED\u001B[0m\u001B[32m [ 99%]\u001B[0m\r\n",
      "tests/test_sequence_models.py::test_rnn[cuda-relu-False-False-12-11-15-2-1] \u001B[32mPASSED\u001B[0m\u001B[32m [ 99%]\u001B[0m\r\n",
      "tests/test_sequence_models.py::test_rnn[cuda-relu-False-False-12-11-15-2-13] \u001B[32mPASSED\u001B[0m\u001B[32m [100%]\u001B[0m\r\n",
      "\r\n",
      "\u001B[32m===================== \u001B[32m\u001B[1m640 passed\u001B[0m, \u001B[33m1183 deselected\u001B[0m\u001B[32m in 9.77s\u001B[0m\u001B[32m =====================\u001B[0m\r\n"
     ]
    }
   ],
   "source": [
    "!python3 -m pytest -l -v -k \"test_rnn\""
   ],
   "metadata": {
    "collapsed": false
   }
  },
  {
   "cell_type": "code",
   "execution_count": 11,
   "metadata": {
    "id": "W8RPDQ287zGd"
   },
   "outputs": [
    {
     "name": "stdout",
     "output_type": "stream",
     "text": [
      "submit\r\n",
      "\u001B[1m============================= test session starts ==============================\u001B[0m\r\n",
      "platform linux -- Python 3.9.15, pytest-7.1.2, pluggy-1.0.0\r\n",
      "rootdir: /home/erostrate9/PycharmProjects/dls_hw4\r\n",
      "plugins: anyio-3.5.0\r\n",
      "collected 10 items / 9 deselected / 1 selected                                 \u001B[0m\u001B[1m\r\n",
      "\r\n",
      "tests/test_sequence_models.py \r\n",
      "Submitting rnn...\r\n",
      "Grader test 1 passed\r\n",
      "Grader test 2 passed\r\n",
      "Grader test 3 passed\r\n",
      "Grader test 4 passed\r\n",
      "Grader test 5 passed\r\n",
      "Grader test 6 passed\r\n",
      "Grader test 7 passed\r\n",
      "Grader test 8 passed\r\n",
      "Grader test 9 passed\r\n",
      "Grader test 10 passed\r\n",
      "Grader test 11 passed\r\n",
      "Grader test 12 passed\r\n",
      "\u001B[32m.\u001B[0m\r\n",
      "\r\n",
      "\u001B[32m======================= \u001B[32m\u001B[1m1 passed\u001B[0m, \u001B[33m9 deselected\u001B[0m\u001B[32m in 16.50s\u001B[0m\u001B[32m =======================\u001B[0m\r\n"
     ]
    }
   ],
   "source": [
    "!python3 -m mugrade submit \"_0QwrEWYLgzYU25KDG4FM\" -k \"rnn\""
   ]
  },
  {
   "attachments": {},
   "cell_type": "markdown",
   "metadata": {
    "id": "9iuuj77P7zGd"
   },
   "source": [
    "## Part 5: Long short-term memory network [10 points]\n",
    "Implement - `Sigmoid`\n",
    "\n",
    "$\\sigma(x) = \\frac{1}{1 + \\text{exp}(-x)}$\n",
    "\n",
    "In `python/needle/nn.py`, implement `Sigmoid`, `LSTMCell` and `LSTM`.\n",
    "\n",
    "\\begin{align}\n",
    "i &= \\sigma(xW_{ii} + b_{ii} + hW_{hi} + b_{hi}) \\\\\n",
    "f &= \\sigma(xW_{if} + b_{if} + hW_{hf} + b_{hf}) \\\\\n",
    "g &= \\text{tanh}(xW_{ig} + b_{ig} + hW_{hg} + b_{hg}) \\\\\n",
    "o &= \\sigma(xW_{io} + b_{io} + hW_{ho} + b_{ho}) \\\\\n",
    "c^\\prime &= f * c + i * g \\\\\n",
    "h^\\prime &= o * \\text{tanh}(c^\\prime)\n",
    "\\end{align}\n",
    "\n",
    "where $\\sigma$ is the sigmoid function, and $i$, $f$, $g$, $o$ are the input, forget, cell, and output gates, respectively. \n",
    "\n",
    "All weights and biases should be initialized from $\\mathcal{U}(-\\sqrt{k}, \\sqrt{k})$ where $k=\\frac{1}{\\text{hidden\\_size}}$.\n",
    "\n",
    "Now implement `LSTM` in `python/needle/nn.py`, which applies a multi-layer LSTM RNN to an input sequence. For each element in the input sequence, each layer computes the following function:\n",
    "\n",
    "\\begin{align}\n",
    "i_t &= \\sigma(x_tW_{ii} + b_{ii} + h_{(t-1)}W_{hi} + b_{hi}) \\\\\n",
    "f_t &= \\sigma(x_tW_{if} + b_{if} + h_{(t-1)}W_{hf} + b_{hf}) \\\\\n",
    "g_t &= \\text{tanh}(x_tW_{ig} + b_{ig} + h_{(t-1)}W_{hg} + b_{hg}) \\\\\n",
    "o_t &= \\sigma(x_tW_{io} + b_{io} + h_{(t-1)}W_{ho} + b_{ho}) \\\\\n",
    "c_t &= f * c_{(t-1)} + i * g \\\\\n",
    "h_t &= o * \\text{tanh}(c_t)\n",
    "\\end{align},\n",
    "where $h_t$ is the hidden state at time $t$, $c_t$ is the cell state at time $t$, $x_t$ is the input at time $t$, $h_{(t-1)}$ is the hidden state of the layer at time $t-1$ or the initial hidden state at time $0$, and $i_t$, $f_t$, $g_t$, $o_t$ are the input, forget, cell, and output gates at time $t$ respectively. \n",
    "\n",
    "In a multi-layer LSTM, the input $x_t^{(l)}$ of the $l$-th layer ($l \\ge 2$) is the hidden state $h_t^{(l-1)}$ of the previous layer."
   ]
  },
  {
   "cell_type": "code",
   "execution_count": 24,
   "outputs": [
    {
     "name": "stdout",
     "output_type": "stream",
     "text": [
      "\u001B[1m============================= test session starts ==============================\u001B[0m\r\n",
      "platform linux -- Python 3.9.15, pytest-7.1.2, pluggy-1.0.0 -- /home/erostrate9/anaconda3/envs/dls/bin/python3\r\n",
      "cachedir: .pytest_cache\r\n",
      "rootdir: /home/erostrate9/PycharmProjects/dls_hw4\r\n",
      "plugins: anyio-3.5.0\r\n",
      "collected 1823 items / 1759 deselected / 64 selected                           \u001B[0m\u001B[1m\r\n",
      "\r\n",
      "tests/test_sequence_models.py::test_lstm_cell[cpu-True-True-1-1-1] \u001B[32mPASSED\u001B[0m\u001B[32m [  1%]\u001B[0m\r\n",
      "tests/test_sequence_models.py::test_lstm_cell[cpu-True-True-1-1-15] \u001B[32mPASSED\u001B[0m\u001B[32m [  3%]\u001B[0m\r\n",
      "tests/test_sequence_models.py::test_lstm_cell[cpu-True-True-1-11-1] \u001B[32mPASSED\u001B[0m\u001B[32m [  4%]\u001B[0m\r\n",
      "tests/test_sequence_models.py::test_lstm_cell[cpu-True-True-1-11-15] \u001B[32mPASSED\u001B[0m\u001B[32m [  6%]\u001B[0m\r\n",
      "tests/test_sequence_models.py::test_lstm_cell[cpu-True-True-12-1-1] \u001B[32mPASSED\u001B[0m\u001B[32m [  7%]\u001B[0m\r\n",
      "tests/test_sequence_models.py::test_lstm_cell[cpu-True-True-12-1-15] \u001B[32mPASSED\u001B[0m\u001B[32m [  9%]\u001B[0m\r\n",
      "tests/test_sequence_models.py::test_lstm_cell[cpu-True-True-12-11-1] \u001B[32mPASSED\u001B[0m\u001B[32m [ 10%]\u001B[0m\r\n",
      "tests/test_sequence_models.py::test_lstm_cell[cpu-True-True-12-11-15] \u001B[32mPASSED\u001B[0m\u001B[32m [ 12%]\u001B[0m\r\n",
      "tests/test_sequence_models.py::test_lstm_cell[cpu-True-False-1-1-1] \u001B[32mPASSED\u001B[0m\u001B[32m [ 14%]\u001B[0m\r\n",
      "tests/test_sequence_models.py::test_lstm_cell[cpu-True-False-1-1-15] \u001B[32mPASSED\u001B[0m\u001B[32m [ 15%]\u001B[0m\r\n",
      "tests/test_sequence_models.py::test_lstm_cell[cpu-True-False-1-11-1] \u001B[32mPASSED\u001B[0m\u001B[32m [ 17%]\u001B[0m\r\n",
      "tests/test_sequence_models.py::test_lstm_cell[cpu-True-False-1-11-15] \u001B[32mPASSED\u001B[0m\u001B[32m [ 18%]\u001B[0m\r\n",
      "tests/test_sequence_models.py::test_lstm_cell[cpu-True-False-12-1-1] \u001B[32mPASSED\u001B[0m\u001B[32m [ 20%]\u001B[0m\r\n",
      "tests/test_sequence_models.py::test_lstm_cell[cpu-True-False-12-1-15] \u001B[32mPASSED\u001B[0m\u001B[32m [ 21%]\u001B[0m\r\n",
      "tests/test_sequence_models.py::test_lstm_cell[cpu-True-False-12-11-1] \u001B[32mPASSED\u001B[0m\u001B[32m [ 23%]\u001B[0m\r\n",
      "tests/test_sequence_models.py::test_lstm_cell[cpu-True-False-12-11-15] \u001B[32mPASSED\u001B[0m\u001B[32m [ 25%]\u001B[0m\r\n",
      "tests/test_sequence_models.py::test_lstm_cell[cpu-False-True-1-1-1] \u001B[32mPASSED\u001B[0m\u001B[32m [ 26%]\u001B[0m\r\n",
      "tests/test_sequence_models.py::test_lstm_cell[cpu-False-True-1-1-15] \u001B[32mPASSED\u001B[0m\u001B[32m [ 28%]\u001B[0m\r\n",
      "tests/test_sequence_models.py::test_lstm_cell[cpu-False-True-1-11-1] \u001B[32mPASSED\u001B[0m\u001B[32m [ 29%]\u001B[0m\r\n",
      "tests/test_sequence_models.py::test_lstm_cell[cpu-False-True-1-11-15] \u001B[32mPASSED\u001B[0m\u001B[32m [ 31%]\u001B[0m\r\n",
      "tests/test_sequence_models.py::test_lstm_cell[cpu-False-True-12-1-1] \u001B[32mPASSED\u001B[0m\u001B[32m [ 32%]\u001B[0m\r\n",
      "tests/test_sequence_models.py::test_lstm_cell[cpu-False-True-12-1-15] \u001B[32mPASSED\u001B[0m\u001B[32m [ 34%]\u001B[0m\r\n",
      "tests/test_sequence_models.py::test_lstm_cell[cpu-False-True-12-11-1] \u001B[32mPASSED\u001B[0m\u001B[32m [ 35%]\u001B[0m\r\n",
      "tests/test_sequence_models.py::test_lstm_cell[cpu-False-True-12-11-15] \u001B[32mPASSED\u001B[0m\u001B[32m [ 37%]\u001B[0m\r\n",
      "tests/test_sequence_models.py::test_lstm_cell[cpu-False-False-1-1-1] \u001B[32mPASSED\u001B[0m\u001B[32m [ 39%]\u001B[0m\r\n",
      "tests/test_sequence_models.py::test_lstm_cell[cpu-False-False-1-1-15] \u001B[32mPASSED\u001B[0m\u001B[32m [ 40%]\u001B[0m\r\n",
      "tests/test_sequence_models.py::test_lstm_cell[cpu-False-False-1-11-1] \u001B[32mPASSED\u001B[0m\u001B[32m [ 42%]\u001B[0m\r\n",
      "tests/test_sequence_models.py::test_lstm_cell[cpu-False-False-1-11-15] \u001B[32mPASSED\u001B[0m\u001B[32m [ 43%]\u001B[0m\r\n",
      "tests/test_sequence_models.py::test_lstm_cell[cpu-False-False-12-1-1] \u001B[32mPASSED\u001B[0m\u001B[32m [ 45%]\u001B[0m\r\n",
      "tests/test_sequence_models.py::test_lstm_cell[cpu-False-False-12-1-15] \u001B[32mPASSED\u001B[0m\u001B[32m [ 46%]\u001B[0m\r\n",
      "tests/test_sequence_models.py::test_lstm_cell[cpu-False-False-12-11-1] \u001B[32mPASSED\u001B[0m\u001B[32m [ 48%]\u001B[0m\r\n",
      "tests/test_sequence_models.py::test_lstm_cell[cpu-False-False-12-11-15] \u001B[32mPASSED\u001B[0m\u001B[32m [ 50%]\u001B[0m\r\n",
      "tests/test_sequence_models.py::test_lstm_cell[cuda-True-True-1-1-1] \u001B[32mPASSED\u001B[0m\u001B[32m [ 51%]\u001B[0m\r\n",
      "tests/test_sequence_models.py::test_lstm_cell[cuda-True-True-1-1-15] \u001B[32mPASSED\u001B[0m\u001B[32m [ 53%]\u001B[0m\r\n",
      "tests/test_sequence_models.py::test_lstm_cell[cuda-True-True-1-11-1] \u001B[32mPASSED\u001B[0m\u001B[32m [ 54%]\u001B[0m\r\n",
      "tests/test_sequence_models.py::test_lstm_cell[cuda-True-True-1-11-15] \u001B[32mPASSED\u001B[0m\u001B[32m [ 56%]\u001B[0m\r\n",
      "tests/test_sequence_models.py::test_lstm_cell[cuda-True-True-12-1-1] \u001B[32mPASSED\u001B[0m\u001B[32m [ 57%]\u001B[0m\r\n",
      "tests/test_sequence_models.py::test_lstm_cell[cuda-True-True-12-1-15] \u001B[32mPASSED\u001B[0m\u001B[32m [ 59%]\u001B[0m\r\n",
      "tests/test_sequence_models.py::test_lstm_cell[cuda-True-True-12-11-1] \u001B[32mPASSED\u001B[0m\u001B[32m [ 60%]\u001B[0m\r\n",
      "tests/test_sequence_models.py::test_lstm_cell[cuda-True-True-12-11-15] \u001B[32mPASSED\u001B[0m\u001B[32m [ 62%]\u001B[0m\r\n",
      "tests/test_sequence_models.py::test_lstm_cell[cuda-True-False-1-1-1] \u001B[32mPASSED\u001B[0m\u001B[32m [ 64%]\u001B[0m\r\n",
      "tests/test_sequence_models.py::test_lstm_cell[cuda-True-False-1-1-15] \u001B[32mPASSED\u001B[0m\u001B[32m [ 65%]\u001B[0m\r\n",
      "tests/test_sequence_models.py::test_lstm_cell[cuda-True-False-1-11-1] \u001B[32mPASSED\u001B[0m\u001B[32m [ 67%]\u001B[0m\r\n",
      "tests/test_sequence_models.py::test_lstm_cell[cuda-True-False-1-11-15] \u001B[32mPASSED\u001B[0m\u001B[32m [ 68%]\u001B[0m\r\n",
      "tests/test_sequence_models.py::test_lstm_cell[cuda-True-False-12-1-1] \u001B[32mPASSED\u001B[0m\u001B[32m [ 70%]\u001B[0m\r\n",
      "tests/test_sequence_models.py::test_lstm_cell[cuda-True-False-12-1-15] \u001B[32mPASSED\u001B[0m\u001B[32m [ 71%]\u001B[0m\r\n",
      "tests/test_sequence_models.py::test_lstm_cell[cuda-True-False-12-11-1] \u001B[32mPASSED\u001B[0m\u001B[32m [ 73%]\u001B[0m\r\n",
      "tests/test_sequence_models.py::test_lstm_cell[cuda-True-False-12-11-15] \u001B[32mPASSED\u001B[0m\u001B[32m [ 75%]\u001B[0m\r\n",
      "tests/test_sequence_models.py::test_lstm_cell[cuda-False-True-1-1-1] \u001B[32mPASSED\u001B[0m\u001B[32m [ 76%]\u001B[0m\r\n",
      "tests/test_sequence_models.py::test_lstm_cell[cuda-False-True-1-1-15] \u001B[32mPASSED\u001B[0m\u001B[32m [ 78%]\u001B[0m\r\n",
      "tests/test_sequence_models.py::test_lstm_cell[cuda-False-True-1-11-1] \u001B[32mPASSED\u001B[0m\u001B[32m [ 79%]\u001B[0m\r\n",
      "tests/test_sequence_models.py::test_lstm_cell[cuda-False-True-1-11-15] \u001B[32mPASSED\u001B[0m\u001B[32m [ 81%]\u001B[0m\r\n",
      "tests/test_sequence_models.py::test_lstm_cell[cuda-False-True-12-1-1] \u001B[32mPASSED\u001B[0m\u001B[32m [ 82%]\u001B[0m\r\n",
      "tests/test_sequence_models.py::test_lstm_cell[cuda-False-True-12-1-15] \u001B[32mPASSED\u001B[0m\u001B[32m [ 84%]\u001B[0m\r\n",
      "tests/test_sequence_models.py::test_lstm_cell[cuda-False-True-12-11-1] \u001B[32mPASSED\u001B[0m\u001B[32m [ 85%]\u001B[0m\r\n",
      "tests/test_sequence_models.py::test_lstm_cell[cuda-False-True-12-11-15] \u001B[32mPASSED\u001B[0m\u001B[32m [ 87%]\u001B[0m\r\n",
      "tests/test_sequence_models.py::test_lstm_cell[cuda-False-False-1-1-1] \u001B[32mPASSED\u001B[0m\u001B[32m [ 89%]\u001B[0m\r\n",
      "tests/test_sequence_models.py::test_lstm_cell[cuda-False-False-1-1-15] \u001B[32mPASSED\u001B[0m\u001B[32m [ 90%]\u001B[0m\r\n",
      "tests/test_sequence_models.py::test_lstm_cell[cuda-False-False-1-11-1] \u001B[32mPASSED\u001B[0m\u001B[32m [ 92%]\u001B[0m\r\n",
      "tests/test_sequence_models.py::test_lstm_cell[cuda-False-False-1-11-15] \u001B[32mPASSED\u001B[0m\u001B[32m [ 93%]\u001B[0m\r\n",
      "tests/test_sequence_models.py::test_lstm_cell[cuda-False-False-12-1-1] \u001B[32mPASSED\u001B[0m\u001B[32m [ 95%]\u001B[0m\r\n",
      "tests/test_sequence_models.py::test_lstm_cell[cuda-False-False-12-1-15] \u001B[32mPASSED\u001B[0m\u001B[32m [ 96%]\u001B[0m\r\n",
      "tests/test_sequence_models.py::test_lstm_cell[cuda-False-False-12-11-1] \u001B[32mPASSED\u001B[0m\u001B[32m [ 98%]\u001B[0m\r\n",
      "tests/test_sequence_models.py::test_lstm_cell[cuda-False-False-12-11-15] \u001B[32mPASSED\u001B[0m\u001B[32m [100%]\u001B[0m\r\n",
      "\r\n",
      "\u001B[32m===================== \u001B[32m\u001B[1m64 passed\u001B[0m, \u001B[33m1759 deselected\u001B[0m\u001B[32m in 1.33s\u001B[0m\u001B[32m ======================\u001B[0m\r\n"
     ]
    }
   ],
   "source": [
    "!python3 -m pytest -l -v -k \"test_lstm_cell\""
   ],
   "metadata": {
    "collapsed": false
   }
  },
  {
   "cell_type": "code",
   "execution_count": 26,
   "metadata": {
    "id": "ZIZ9W8uo7zGd"
   },
   "outputs": [
    {
     "name": "stdout",
     "output_type": "stream",
     "text": [
      "\u001B[1m============================= test session starts ==============================\u001B[0m\r\n",
      "platform linux -- Python 3.9.15, pytest-7.1.2, pluggy-1.0.0 -- /home/erostrate9/anaconda3/envs/dls/bin/python3\r\n",
      "cachedir: .pytest_cache\r\n",
      "rootdir: /home/erostrate9/PycharmProjects/dls_hw4\r\n",
      "plugins: anyio-3.5.0\r\n",
      "collected 1823 items / 1503 deselected / 320 selected                          \u001B[0m\u001B[1m\r\n",
      "\r\n",
      "tests/test_sequence_models.py::test_lstm_cell[cpu-True-True-1-1-1] \u001B[32mPASSED\u001B[0m\u001B[32m [  0%]\u001B[0m\r\n",
      "tests/test_sequence_models.py::test_lstm_cell[cpu-True-True-1-1-15] \u001B[32mPASSED\u001B[0m\u001B[32m [  0%]\u001B[0m\r\n",
      "tests/test_sequence_models.py::test_lstm_cell[cpu-True-True-1-11-1] \u001B[32mPASSED\u001B[0m\u001B[32m [  0%]\u001B[0m\r\n",
      "tests/test_sequence_models.py::test_lstm_cell[cpu-True-True-1-11-15] \u001B[32mPASSED\u001B[0m\u001B[32m [  1%]\u001B[0m\r\n",
      "tests/test_sequence_models.py::test_lstm_cell[cpu-True-True-12-1-1] \u001B[32mPASSED\u001B[0m\u001B[32m [  1%]\u001B[0m\r\n",
      "tests/test_sequence_models.py::test_lstm_cell[cpu-True-True-12-1-15] \u001B[32mPASSED\u001B[0m\u001B[32m [  1%]\u001B[0m\r\n",
      "tests/test_sequence_models.py::test_lstm_cell[cpu-True-True-12-11-1] \u001B[32mPASSED\u001B[0m\u001B[32m [  2%]\u001B[0m\r\n",
      "tests/test_sequence_models.py::test_lstm_cell[cpu-True-True-12-11-15] \u001B[32mPASSED\u001B[0m\u001B[32m [  2%]\u001B[0m\r\n",
      "tests/test_sequence_models.py::test_lstm_cell[cpu-True-False-1-1-1] \u001B[32mPASSED\u001B[0m\u001B[32m [  2%]\u001B[0m\r\n",
      "tests/test_sequence_models.py::test_lstm_cell[cpu-True-False-1-1-15] \u001B[32mPASSED\u001B[0m\u001B[32m [  3%]\u001B[0m\r\n",
      "tests/test_sequence_models.py::test_lstm_cell[cpu-True-False-1-11-1] \u001B[32mPASSED\u001B[0m\u001B[32m [  3%]\u001B[0m\r\n",
      "tests/test_sequence_models.py::test_lstm_cell[cpu-True-False-1-11-15] \u001B[32mPASSED\u001B[0m\u001B[32m [  3%]\u001B[0m\r\n",
      "tests/test_sequence_models.py::test_lstm_cell[cpu-True-False-12-1-1] \u001B[32mPASSED\u001B[0m\u001B[32m [  4%]\u001B[0m\r\n",
      "tests/test_sequence_models.py::test_lstm_cell[cpu-True-False-12-1-15] \u001B[32mPASSED\u001B[0m\u001B[32m [  4%]\u001B[0m\r\n",
      "tests/test_sequence_models.py::test_lstm_cell[cpu-True-False-12-11-1] \u001B[32mPASSED\u001B[0m\u001B[32m [  4%]\u001B[0m\r\n",
      "tests/test_sequence_models.py::test_lstm_cell[cpu-True-False-12-11-15] \u001B[32mPASSED\u001B[0m\u001B[32m [  5%]\u001B[0m\r\n",
      "tests/test_sequence_models.py::test_lstm_cell[cpu-False-True-1-1-1] \u001B[32mPASSED\u001B[0m\u001B[32m [  5%]\u001B[0m\r\n",
      "tests/test_sequence_models.py::test_lstm_cell[cpu-False-True-1-1-15] \u001B[32mPASSED\u001B[0m\u001B[32m [  5%]\u001B[0m\r\n",
      "tests/test_sequence_models.py::test_lstm_cell[cpu-False-True-1-11-1] \u001B[32mPASSED\u001B[0m\u001B[32m [  5%]\u001B[0m\r\n",
      "tests/test_sequence_models.py::test_lstm_cell[cpu-False-True-1-11-15] \u001B[32mPASSED\u001B[0m\u001B[32m [  6%]\u001B[0m\r\n",
      "tests/test_sequence_models.py::test_lstm_cell[cpu-False-True-12-1-1] \u001B[32mPASSED\u001B[0m\u001B[32m [  6%]\u001B[0m\r\n",
      "tests/test_sequence_models.py::test_lstm_cell[cpu-False-True-12-1-15] \u001B[32mPASSED\u001B[0m\u001B[32m [  6%]\u001B[0m\r\n",
      "tests/test_sequence_models.py::test_lstm_cell[cpu-False-True-12-11-1] \u001B[32mPASSED\u001B[0m\u001B[32m [  7%]\u001B[0m\r\n",
      "tests/test_sequence_models.py::test_lstm_cell[cpu-False-True-12-11-15] \u001B[32mPASSED\u001B[0m\u001B[32m [  7%]\u001B[0m\r\n",
      "tests/test_sequence_models.py::test_lstm_cell[cpu-False-False-1-1-1] \u001B[32mPASSED\u001B[0m\u001B[32m [  7%]\u001B[0m\r\n",
      "tests/test_sequence_models.py::test_lstm_cell[cpu-False-False-1-1-15] \u001B[32mPASSED\u001B[0m\u001B[32m [  8%]\u001B[0m\r\n",
      "tests/test_sequence_models.py::test_lstm_cell[cpu-False-False-1-11-1] \u001B[32mPASSED\u001B[0m\u001B[32m [  8%]\u001B[0m\r\n",
      "tests/test_sequence_models.py::test_lstm_cell[cpu-False-False-1-11-15] \u001B[32mPASSED\u001B[0m\u001B[32m [  8%]\u001B[0m\r\n",
      "tests/test_sequence_models.py::test_lstm_cell[cpu-False-False-12-1-1] \u001B[32mPASSED\u001B[0m\u001B[32m [  9%]\u001B[0m\r\n",
      "tests/test_sequence_models.py::test_lstm_cell[cpu-False-False-12-1-15] \u001B[32mPASSED\u001B[0m\u001B[32m [  9%]\u001B[0m\r\n",
      "tests/test_sequence_models.py::test_lstm_cell[cpu-False-False-12-11-1] \u001B[32mPASSED\u001B[0m\u001B[32m [  9%]\u001B[0m\r\n",
      "tests/test_sequence_models.py::test_lstm_cell[cpu-False-False-12-11-15] \u001B[32mPASSED\u001B[0m\u001B[32m [ 10%]\u001B[0m\r\n",
      "tests/test_sequence_models.py::test_lstm_cell[cuda-True-True-1-1-1] \u001B[32mPASSED\u001B[0m\u001B[32m [ 10%]\u001B[0m\r\n",
      "tests/test_sequence_models.py::test_lstm_cell[cuda-True-True-1-1-15] \u001B[32mPASSED\u001B[0m\u001B[32m [ 10%]\u001B[0m\r\n",
      "tests/test_sequence_models.py::test_lstm_cell[cuda-True-True-1-11-1] \u001B[32mPASSED\u001B[0m\u001B[32m [ 10%]\u001B[0m\r\n",
      "tests/test_sequence_models.py::test_lstm_cell[cuda-True-True-1-11-15] \u001B[32mPASSED\u001B[0m\u001B[32m [ 11%]\u001B[0m\r\n",
      "tests/test_sequence_models.py::test_lstm_cell[cuda-True-True-12-1-1] \u001B[32mPASSED\u001B[0m\u001B[32m [ 11%]\u001B[0m\r\n",
      "tests/test_sequence_models.py::test_lstm_cell[cuda-True-True-12-1-15] \u001B[32mPASSED\u001B[0m\u001B[32m [ 11%]\u001B[0m\r\n",
      "tests/test_sequence_models.py::test_lstm_cell[cuda-True-True-12-11-1] \u001B[32mPASSED\u001B[0m\u001B[32m [ 12%]\u001B[0m\r\n",
      "tests/test_sequence_models.py::test_lstm_cell[cuda-True-True-12-11-15] \u001B[32mPASSED\u001B[0m\u001B[32m [ 12%]\u001B[0m\r\n",
      "tests/test_sequence_models.py::test_lstm_cell[cuda-True-False-1-1-1] \u001B[32mPASSED\u001B[0m\u001B[32m [ 12%]\u001B[0m\r\n",
      "tests/test_sequence_models.py::test_lstm_cell[cuda-True-False-1-1-15] \u001B[32mPASSED\u001B[0m\u001B[32m [ 13%]\u001B[0m\r\n",
      "tests/test_sequence_models.py::test_lstm_cell[cuda-True-False-1-11-1] \u001B[32mPASSED\u001B[0m\u001B[32m [ 13%]\u001B[0m\r\n",
      "tests/test_sequence_models.py::test_lstm_cell[cuda-True-False-1-11-15] \u001B[32mPASSED\u001B[0m\u001B[32m [ 13%]\u001B[0m\r\n",
      "tests/test_sequence_models.py::test_lstm_cell[cuda-True-False-12-1-1] \u001B[32mPASSED\u001B[0m\u001B[32m [ 14%]\u001B[0m\r\n",
      "tests/test_sequence_models.py::test_lstm_cell[cuda-True-False-12-1-15] \u001B[32mPASSED\u001B[0m\u001B[32m [ 14%]\u001B[0m\r\n",
      "tests/test_sequence_models.py::test_lstm_cell[cuda-True-False-12-11-1] \u001B[32mPASSED\u001B[0m\u001B[32m [ 14%]\u001B[0m\r\n",
      "tests/test_sequence_models.py::test_lstm_cell[cuda-True-False-12-11-15] \u001B[32mPASSED\u001B[0m\u001B[32m [ 15%]\u001B[0m\r\n",
      "tests/test_sequence_models.py::test_lstm_cell[cuda-False-True-1-1-1] \u001B[32mPASSED\u001B[0m\u001B[32m [ 15%]\u001B[0m\r\n",
      "tests/test_sequence_models.py::test_lstm_cell[cuda-False-True-1-1-15] \u001B[32mPASSED\u001B[0m\u001B[32m [ 15%]\u001B[0m\r\n",
      "tests/test_sequence_models.py::test_lstm_cell[cuda-False-True-1-11-1] \u001B[32mPASSED\u001B[0m\u001B[32m [ 15%]\u001B[0m\r\n",
      "tests/test_sequence_models.py::test_lstm_cell[cuda-False-True-1-11-15] \u001B[32mPASSED\u001B[0m\u001B[32m [ 16%]\u001B[0m\r\n",
      "tests/test_sequence_models.py::test_lstm_cell[cuda-False-True-12-1-1] \u001B[32mPASSED\u001B[0m\u001B[32m [ 16%]\u001B[0m\r\n",
      "tests/test_sequence_models.py::test_lstm_cell[cuda-False-True-12-1-15] \u001B[32mPASSED\u001B[0m\u001B[32m [ 16%]\u001B[0m\r\n",
      "tests/test_sequence_models.py::test_lstm_cell[cuda-False-True-12-11-1] \u001B[32mPASSED\u001B[0m\u001B[32m [ 17%]\u001B[0m\r\n",
      "tests/test_sequence_models.py::test_lstm_cell[cuda-False-True-12-11-15] \u001B[32mPASSED\u001B[0m\u001B[32m [ 17%]\u001B[0m\r\n",
      "tests/test_sequence_models.py::test_lstm_cell[cuda-False-False-1-1-1] \u001B[32mPASSED\u001B[0m\u001B[32m [ 17%]\u001B[0m\r\n",
      "tests/test_sequence_models.py::test_lstm_cell[cuda-False-False-1-1-15] \u001B[32mPASSED\u001B[0m\u001B[32m [ 18%]\u001B[0m\r\n",
      "tests/test_sequence_models.py::test_lstm_cell[cuda-False-False-1-11-1] \u001B[32mPASSED\u001B[0m\u001B[32m [ 18%]\u001B[0m\r\n",
      "tests/test_sequence_models.py::test_lstm_cell[cuda-False-False-1-11-15] \u001B[32mPASSED\u001B[0m\u001B[32m [ 18%]\u001B[0m\r\n",
      "tests/test_sequence_models.py::test_lstm_cell[cuda-False-False-12-1-1] \u001B[32mPASSED\u001B[0m\u001B[32m [ 19%]\u001B[0m\r\n",
      "tests/test_sequence_models.py::test_lstm_cell[cuda-False-False-12-1-15] \u001B[32mPASSED\u001B[0m\u001B[32m [ 19%]\u001B[0m\r\n",
      "tests/test_sequence_models.py::test_lstm_cell[cuda-False-False-12-11-1] \u001B[32mPASSED\u001B[0m\u001B[32m [ 19%]\u001B[0m\r\n",
      "tests/test_sequence_models.py::test_lstm_cell[cuda-False-False-12-11-15] \u001B[32mPASSED\u001B[0m\u001B[32m [ 20%]\u001B[0m\r\n",
      "tests/test_sequence_models.py::test_lstm[cpu-True-True-1-1-1-1-1] \u001B[32mPASSED\u001B[0m\u001B[32m [ 20%]\u001B[0m\r\n",
      "tests/test_sequence_models.py::test_lstm[cpu-True-True-1-1-1-1-13] \u001B[32mPASSED\u001B[0m\u001B[32m [ 20%]\u001B[0m\r\n",
      "tests/test_sequence_models.py::test_lstm[cpu-True-True-1-1-1-2-1] \u001B[32mPASSED\u001B[0m\u001B[32m [ 20%]\u001B[0m\r\n",
      "tests/test_sequence_models.py::test_lstm[cpu-True-True-1-1-1-2-13] \u001B[32mPASSED\u001B[0m\u001B[32m [ 21%]\u001B[0m\r\n",
      "tests/test_sequence_models.py::test_lstm[cpu-True-True-1-1-15-1-1] \u001B[32mPASSED\u001B[0m\u001B[32m [ 21%]\u001B[0m\r\n",
      "tests/test_sequence_models.py::test_lstm[cpu-True-True-1-1-15-1-13] \u001B[32mPASSED\u001B[0m\u001B[32m [ 21%]\u001B[0m\r\n",
      "tests/test_sequence_models.py::test_lstm[cpu-True-True-1-1-15-2-1] \u001B[32mPASSED\u001B[0m\u001B[32m [ 22%]\u001B[0m\r\n",
      "tests/test_sequence_models.py::test_lstm[cpu-True-True-1-1-15-2-13] \u001B[32mPASSED\u001B[0m\u001B[32m [ 22%]\u001B[0m\r\n",
      "tests/test_sequence_models.py::test_lstm[cpu-True-True-1-11-1-1-1] \u001B[32mPASSED\u001B[0m\u001B[32m [ 22%]\u001B[0m\r\n",
      "tests/test_sequence_models.py::test_lstm[cpu-True-True-1-11-1-1-13] \u001B[32mPASSED\u001B[0m\u001B[32m [ 23%]\u001B[0m\r\n",
      "tests/test_sequence_models.py::test_lstm[cpu-True-True-1-11-1-2-1] \u001B[32mPASSED\u001B[0m\u001B[32m [ 23%]\u001B[0m\r\n",
      "tests/test_sequence_models.py::test_lstm[cpu-True-True-1-11-1-2-13] \u001B[32mPASSED\u001B[0m\u001B[32m [ 23%]\u001B[0m\r\n",
      "tests/test_sequence_models.py::test_lstm[cpu-True-True-1-11-15-1-1] \u001B[32mPASSED\u001B[0m\u001B[32m [ 24%]\u001B[0m\r\n",
      "tests/test_sequence_models.py::test_lstm[cpu-True-True-1-11-15-1-13] \u001B[32mPASSED\u001B[0m\u001B[32m [ 24%]\u001B[0m\r\n",
      "tests/test_sequence_models.py::test_lstm[cpu-True-True-1-11-15-2-1] \u001B[32mPASSED\u001B[0m\u001B[32m [ 24%]\u001B[0m\r\n",
      "tests/test_sequence_models.py::test_lstm[cpu-True-True-1-11-15-2-13] \u001B[32mPASSED\u001B[0m\u001B[32m [ 25%]\u001B[0m\r\n",
      "tests/test_sequence_models.py::test_lstm[cpu-True-True-12-1-1-1-1] \u001B[32mPASSED\u001B[0m\u001B[32m [ 25%]\u001B[0m\r\n",
      "tests/test_sequence_models.py::test_lstm[cpu-True-True-12-1-1-1-13] \u001B[32mPASSED\u001B[0m\u001B[32m [ 25%]\u001B[0m\r\n",
      "tests/test_sequence_models.py::test_lstm[cpu-True-True-12-1-1-2-1] \u001B[32mPASSED\u001B[0m\u001B[32m [ 25%]\u001B[0m\r\n",
      "tests/test_sequence_models.py::test_lstm[cpu-True-True-12-1-1-2-13] \u001B[32mPASSED\u001B[0m\u001B[32m [ 26%]\u001B[0m\r\n",
      "tests/test_sequence_models.py::test_lstm[cpu-True-True-12-1-15-1-1] \u001B[32mPASSED\u001B[0m\u001B[32m [ 26%]\u001B[0m\r\n",
      "tests/test_sequence_models.py::test_lstm[cpu-True-True-12-1-15-1-13] \u001B[32mPASSED\u001B[0m\u001B[32m [ 26%]\u001B[0m\r\n",
      "tests/test_sequence_models.py::test_lstm[cpu-True-True-12-1-15-2-1] \u001B[32mPASSED\u001B[0m\u001B[32m [ 27%]\u001B[0m\r\n",
      "tests/test_sequence_models.py::test_lstm[cpu-True-True-12-1-15-2-13] \u001B[32mPASSED\u001B[0m\u001B[32m [ 27%]\u001B[0m\r\n",
      "tests/test_sequence_models.py::test_lstm[cpu-True-True-12-11-1-1-1] \u001B[32mPASSED\u001B[0m\u001B[32m [ 27%]\u001B[0m\r\n",
      "tests/test_sequence_models.py::test_lstm[cpu-True-True-12-11-1-1-13] \u001B[32mPASSED\u001B[0m\u001B[32m [ 28%]\u001B[0m\r\n",
      "tests/test_sequence_models.py::test_lstm[cpu-True-True-12-11-1-2-1] \u001B[32mPASSED\u001B[0m\u001B[32m [ 28%]\u001B[0m\r\n",
      "tests/test_sequence_models.py::test_lstm[cpu-True-True-12-11-1-2-13] \u001B[32mPASSED\u001B[0m\u001B[32m [ 28%]\u001B[0m\r\n",
      "tests/test_sequence_models.py::test_lstm[cpu-True-True-12-11-15-1-1] \u001B[32mPASSED\u001B[0m\u001B[32m [ 29%]\u001B[0m\r\n",
      "tests/test_sequence_models.py::test_lstm[cpu-True-True-12-11-15-1-13] \u001B[32mPASSED\u001B[0m\u001B[32m [ 29%]\u001B[0m\r\n",
      "tests/test_sequence_models.py::test_lstm[cpu-True-True-12-11-15-2-1] \u001B[32mPASSED\u001B[0m\u001B[32m [ 29%]\u001B[0m\r\n",
      "tests/test_sequence_models.py::test_lstm[cpu-True-True-12-11-15-2-13] \u001B[32mPASSED\u001B[0m\u001B[32m [ 30%]\u001B[0m\r\n",
      "tests/test_sequence_models.py::test_lstm[cpu-True-False-1-1-1-1-1] \u001B[32mPASSED\u001B[0m\u001B[32m [ 30%]\u001B[0m\r\n",
      "tests/test_sequence_models.py::test_lstm[cpu-True-False-1-1-1-1-13] \u001B[32mPASSED\u001B[0m\u001B[32m [ 30%]\u001B[0m\r\n",
      "tests/test_sequence_models.py::test_lstm[cpu-True-False-1-1-1-2-1] \u001B[32mPASSED\u001B[0m\u001B[32m [ 30%]\u001B[0m\r\n",
      "tests/test_sequence_models.py::test_lstm[cpu-True-False-1-1-1-2-13] \u001B[32mPASSED\u001B[0m\u001B[32m [ 31%]\u001B[0m\r\n",
      "tests/test_sequence_models.py::test_lstm[cpu-True-False-1-1-15-1-1] \u001B[32mPASSED\u001B[0m\u001B[32m [ 31%]\u001B[0m\r\n",
      "tests/test_sequence_models.py::test_lstm[cpu-True-False-1-1-15-1-13] \u001B[32mPASSED\u001B[0m\u001B[32m [ 31%]\u001B[0m\r\n",
      "tests/test_sequence_models.py::test_lstm[cpu-True-False-1-1-15-2-1] \u001B[32mPASSED\u001B[0m\u001B[32m [ 32%]\u001B[0m\r\n",
      "tests/test_sequence_models.py::test_lstm[cpu-True-False-1-1-15-2-13] \u001B[32mPASSED\u001B[0m\u001B[32m [ 32%]\u001B[0m\r\n",
      "tests/test_sequence_models.py::test_lstm[cpu-True-False-1-11-1-1-1] \u001B[32mPASSED\u001B[0m\u001B[32m [ 32%]\u001B[0m\r\n",
      "tests/test_sequence_models.py::test_lstm[cpu-True-False-1-11-1-1-13] \u001B[32mPASSED\u001B[0m\u001B[32m [ 33%]\u001B[0m\r\n",
      "tests/test_sequence_models.py::test_lstm[cpu-True-False-1-11-1-2-1] \u001B[32mPASSED\u001B[0m\u001B[32m [ 33%]\u001B[0m\r\n",
      "tests/test_sequence_models.py::test_lstm[cpu-True-False-1-11-1-2-13] \u001B[32mPASSED\u001B[0m\u001B[32m [ 33%]\u001B[0m\r\n",
      "tests/test_sequence_models.py::test_lstm[cpu-True-False-1-11-15-1-1] \u001B[32mPASSED\u001B[0m\u001B[32m [ 34%]\u001B[0m\r\n",
      "tests/test_sequence_models.py::test_lstm[cpu-True-False-1-11-15-1-13] \u001B[32mPASSED\u001B[0m\u001B[32m [ 34%]\u001B[0m\r\n",
      "tests/test_sequence_models.py::test_lstm[cpu-True-False-1-11-15-2-1] \u001B[32mPASSED\u001B[0m\u001B[32m [ 34%]\u001B[0m\r\n",
      "tests/test_sequence_models.py::test_lstm[cpu-True-False-1-11-15-2-13] \u001B[32mPASSED\u001B[0m\u001B[32m [ 35%]\u001B[0m\r\n",
      "tests/test_sequence_models.py::test_lstm[cpu-True-False-12-1-1-1-1] \u001B[32mPASSED\u001B[0m\u001B[32m [ 35%]\u001B[0m\r\n",
      "tests/test_sequence_models.py::test_lstm[cpu-True-False-12-1-1-1-13] \u001B[32mPASSED\u001B[0m\u001B[32m [ 35%]\u001B[0m\r\n",
      "tests/test_sequence_models.py::test_lstm[cpu-True-False-12-1-1-2-1] \u001B[32mPASSED\u001B[0m\u001B[32m [ 35%]\u001B[0m\r\n",
      "tests/test_sequence_models.py::test_lstm[cpu-True-False-12-1-1-2-13] \u001B[32mPASSED\u001B[0m\u001B[32m [ 36%]\u001B[0m\r\n",
      "tests/test_sequence_models.py::test_lstm[cpu-True-False-12-1-15-1-1] \u001B[32mPASSED\u001B[0m\u001B[32m [ 36%]\u001B[0m\r\n",
      "tests/test_sequence_models.py::test_lstm[cpu-True-False-12-1-15-1-13] \u001B[32mPASSED\u001B[0m\u001B[32m [ 36%]\u001B[0m\r\n",
      "tests/test_sequence_models.py::test_lstm[cpu-True-False-12-1-15-2-1] \u001B[32mPASSED\u001B[0m\u001B[32m [ 37%]\u001B[0m\r\n",
      "tests/test_sequence_models.py::test_lstm[cpu-True-False-12-1-15-2-13] \u001B[32mPASSED\u001B[0m\u001B[32m [ 37%]\u001B[0m\r\n",
      "tests/test_sequence_models.py::test_lstm[cpu-True-False-12-11-1-1-1] \u001B[32mPASSED\u001B[0m\u001B[32m [ 37%]\u001B[0m\r\n",
      "tests/test_sequence_models.py::test_lstm[cpu-True-False-12-11-1-1-13] \u001B[32mPASSED\u001B[0m\u001B[32m [ 38%]\u001B[0m\r\n",
      "tests/test_sequence_models.py::test_lstm[cpu-True-False-12-11-1-2-1] \u001B[32mPASSED\u001B[0m\u001B[32m [ 38%]\u001B[0m\r\n",
      "tests/test_sequence_models.py::test_lstm[cpu-True-False-12-11-1-2-13] \u001B[32mPASSED\u001B[0m\u001B[32m [ 38%]\u001B[0m\r\n",
      "tests/test_sequence_models.py::test_lstm[cpu-True-False-12-11-15-1-1] \u001B[32mPASSED\u001B[0m\u001B[32m [ 39%]\u001B[0m\r\n",
      "tests/test_sequence_models.py::test_lstm[cpu-True-False-12-11-15-1-13] \u001B[32mPASSED\u001B[0m\u001B[32m [ 39%]\u001B[0m\r\n",
      "tests/test_sequence_models.py::test_lstm[cpu-True-False-12-11-15-2-1] \u001B[32mPASSED\u001B[0m\u001B[32m [ 39%]\u001B[0m\r\n",
      "tests/test_sequence_models.py::test_lstm[cpu-True-False-12-11-15-2-13] \u001B[32mPASSED\u001B[0m\u001B[32m [ 40%]\u001B[0m\r\n",
      "tests/test_sequence_models.py::test_lstm[cpu-False-True-1-1-1-1-1] \u001B[32mPASSED\u001B[0m\u001B[32m [ 40%]\u001B[0m\r\n",
      "tests/test_sequence_models.py::test_lstm[cpu-False-True-1-1-1-1-13] \u001B[32mPASSED\u001B[0m\u001B[32m [ 40%]\u001B[0m\r\n",
      "tests/test_sequence_models.py::test_lstm[cpu-False-True-1-1-1-2-1] \u001B[32mPASSED\u001B[0m\u001B[32m [ 40%]\u001B[0m\r\n",
      "tests/test_sequence_models.py::test_lstm[cpu-False-True-1-1-1-2-13] \u001B[32mPASSED\u001B[0m\u001B[32m [ 41%]\u001B[0m\r\n",
      "tests/test_sequence_models.py::test_lstm[cpu-False-True-1-1-15-1-1] \u001B[32mPASSED\u001B[0m\u001B[32m [ 41%]\u001B[0m\r\n",
      "tests/test_sequence_models.py::test_lstm[cpu-False-True-1-1-15-1-13] \u001B[32mPASSED\u001B[0m\u001B[32m [ 41%]\u001B[0m\r\n",
      "tests/test_sequence_models.py::test_lstm[cpu-False-True-1-1-15-2-1] \u001B[32mPASSED\u001B[0m\u001B[32m [ 42%]\u001B[0m\r\n",
      "tests/test_sequence_models.py::test_lstm[cpu-False-True-1-1-15-2-13] \u001B[32mPASSED\u001B[0m\u001B[32m [ 42%]\u001B[0m\r\n",
      "tests/test_sequence_models.py::test_lstm[cpu-False-True-1-11-1-1-1] \u001B[32mPASSED\u001B[0m\u001B[32m [ 42%]\u001B[0m\r\n",
      "tests/test_sequence_models.py::test_lstm[cpu-False-True-1-11-1-1-13] \u001B[32mPASSED\u001B[0m\u001B[32m [ 43%]\u001B[0m\r\n",
      "tests/test_sequence_models.py::test_lstm[cpu-False-True-1-11-1-2-1] \u001B[32mPASSED\u001B[0m\u001B[32m [ 43%]\u001B[0m\r\n",
      "tests/test_sequence_models.py::test_lstm[cpu-False-True-1-11-1-2-13] \u001B[32mPASSED\u001B[0m\u001B[32m [ 43%]\u001B[0m\r\n",
      "tests/test_sequence_models.py::test_lstm[cpu-False-True-1-11-15-1-1] \u001B[32mPASSED\u001B[0m\u001B[32m [ 44%]\u001B[0m\r\n",
      "tests/test_sequence_models.py::test_lstm[cpu-False-True-1-11-15-1-13] \u001B[32mPASSED\u001B[0m\u001B[32m [ 44%]\u001B[0m\r\n",
      "tests/test_sequence_models.py::test_lstm[cpu-False-True-1-11-15-2-1] \u001B[32mPASSED\u001B[0m\u001B[32m [ 44%]\u001B[0m\r\n",
      "tests/test_sequence_models.py::test_lstm[cpu-False-True-1-11-15-2-13] \u001B[32mPASSED\u001B[0m\u001B[32m [ 45%]\u001B[0m\r\n",
      "tests/test_sequence_models.py::test_lstm[cpu-False-True-12-1-1-1-1] \u001B[32mPASSED\u001B[0m\u001B[32m [ 45%]\u001B[0m\r\n",
      "tests/test_sequence_models.py::test_lstm[cpu-False-True-12-1-1-1-13] \u001B[32mPASSED\u001B[0m\u001B[32m [ 45%]\u001B[0m\r\n",
      "tests/test_sequence_models.py::test_lstm[cpu-False-True-12-1-1-2-1] \u001B[32mPASSED\u001B[0m\u001B[32m [ 45%]\u001B[0m\r\n",
      "tests/test_sequence_models.py::test_lstm[cpu-False-True-12-1-1-2-13] \u001B[32mPASSED\u001B[0m\u001B[32m [ 46%]\u001B[0m\r\n",
      "tests/test_sequence_models.py::test_lstm[cpu-False-True-12-1-15-1-1] \u001B[32mPASSED\u001B[0m\u001B[32m [ 46%]\u001B[0m\r\n",
      "tests/test_sequence_models.py::test_lstm[cpu-False-True-12-1-15-1-13] \u001B[32mPASSED\u001B[0m\u001B[32m [ 46%]\u001B[0m\r\n",
      "tests/test_sequence_models.py::test_lstm[cpu-False-True-12-1-15-2-1] \u001B[32mPASSED\u001B[0m\u001B[32m [ 47%]\u001B[0m\r\n",
      "tests/test_sequence_models.py::test_lstm[cpu-False-True-12-1-15-2-13] \u001B[32mPASSED\u001B[0m\u001B[32m [ 47%]\u001B[0m\r\n",
      "tests/test_sequence_models.py::test_lstm[cpu-False-True-12-11-1-1-1] \u001B[32mPASSED\u001B[0m\u001B[32m [ 47%]\u001B[0m\r\n",
      "tests/test_sequence_models.py::test_lstm[cpu-False-True-12-11-1-1-13] \u001B[32mPASSED\u001B[0m\u001B[32m [ 48%]\u001B[0m\r\n",
      "tests/test_sequence_models.py::test_lstm[cpu-False-True-12-11-1-2-1] \u001B[32mPASSED\u001B[0m\u001B[32m [ 48%]\u001B[0m\r\n",
      "tests/test_sequence_models.py::test_lstm[cpu-False-True-12-11-1-2-13] \u001B[32mPASSED\u001B[0m\u001B[32m [ 48%]\u001B[0m\r\n",
      "tests/test_sequence_models.py::test_lstm[cpu-False-True-12-11-15-1-1] \u001B[32mPASSED\u001B[0m\u001B[32m [ 49%]\u001B[0m\r\n",
      "tests/test_sequence_models.py::test_lstm[cpu-False-True-12-11-15-1-13] \u001B[32mPASSED\u001B[0m\u001B[32m [ 49%]\u001B[0m\r\n",
      "tests/test_sequence_models.py::test_lstm[cpu-False-True-12-11-15-2-1] \u001B[32mPASSED\u001B[0m\u001B[32m [ 49%]\u001B[0m\r\n",
      "tests/test_sequence_models.py::test_lstm[cpu-False-True-12-11-15-2-13] \u001B[32mPASSED\u001B[0m\u001B[32m [ 50%]\u001B[0m\r\n",
      "tests/test_sequence_models.py::test_lstm[cpu-False-False-1-1-1-1-1] \u001B[32mPASSED\u001B[0m\u001B[32m [ 50%]\u001B[0m\r\n",
      "tests/test_sequence_models.py::test_lstm[cpu-False-False-1-1-1-1-13] \u001B[32mPASSED\u001B[0m\u001B[32m [ 50%]\u001B[0m\r\n",
      "tests/test_sequence_models.py::test_lstm[cpu-False-False-1-1-1-2-1] \u001B[32mPASSED\u001B[0m\u001B[32m [ 50%]\u001B[0m\r\n",
      "tests/test_sequence_models.py::test_lstm[cpu-False-False-1-1-1-2-13] \u001B[32mPASSED\u001B[0m\u001B[32m [ 51%]\u001B[0m\r\n",
      "tests/test_sequence_models.py::test_lstm[cpu-False-False-1-1-15-1-1] \u001B[32mPASSED\u001B[0m\u001B[32m [ 51%]\u001B[0m\r\n",
      "tests/test_sequence_models.py::test_lstm[cpu-False-False-1-1-15-1-13] \u001B[32mPASSED\u001B[0m\u001B[32m [ 51%]\u001B[0m\r\n",
      "tests/test_sequence_models.py::test_lstm[cpu-False-False-1-1-15-2-1] \u001B[32mPASSED\u001B[0m\u001B[32m [ 52%]\u001B[0m\r\n",
      "tests/test_sequence_models.py::test_lstm[cpu-False-False-1-1-15-2-13] \u001B[32mPASSED\u001B[0m\u001B[32m [ 52%]\u001B[0m\r\n",
      "tests/test_sequence_models.py::test_lstm[cpu-False-False-1-11-1-1-1] \u001B[32mPASSED\u001B[0m\u001B[32m [ 52%]\u001B[0m\r\n",
      "tests/test_sequence_models.py::test_lstm[cpu-False-False-1-11-1-1-13] \u001B[32mPASSED\u001B[0m\u001B[32m [ 53%]\u001B[0m\r\n",
      "tests/test_sequence_models.py::test_lstm[cpu-False-False-1-11-1-2-1] \u001B[32mPASSED\u001B[0m\u001B[32m [ 53%]\u001B[0m\r\n",
      "tests/test_sequence_models.py::test_lstm[cpu-False-False-1-11-1-2-13] \u001B[32mPASSED\u001B[0m\u001B[32m [ 53%]\u001B[0m\r\n",
      "tests/test_sequence_models.py::test_lstm[cpu-False-False-1-11-15-1-1] \u001B[32mPASSED\u001B[0m\u001B[32m [ 54%]\u001B[0m\r\n",
      "tests/test_sequence_models.py::test_lstm[cpu-False-False-1-11-15-1-13] \u001B[32mPASSED\u001B[0m\u001B[32m [ 54%]\u001B[0m\r\n",
      "tests/test_sequence_models.py::test_lstm[cpu-False-False-1-11-15-2-1] \u001B[32mPASSED\u001B[0m\u001B[32m [ 54%]\u001B[0m\r\n",
      "tests/test_sequence_models.py::test_lstm[cpu-False-False-1-11-15-2-13] \u001B[32mPASSED\u001B[0m\u001B[32m [ 55%]\u001B[0m\r\n",
      "tests/test_sequence_models.py::test_lstm[cpu-False-False-12-1-1-1-1] \u001B[32mPASSED\u001B[0m\u001B[32m [ 55%]\u001B[0m\r\n",
      "tests/test_sequence_models.py::test_lstm[cpu-False-False-12-1-1-1-13] \u001B[32mPASSED\u001B[0m\u001B[32m [ 55%]\u001B[0m\r\n",
      "tests/test_sequence_models.py::test_lstm[cpu-False-False-12-1-1-2-1] \u001B[32mPASSED\u001B[0m\u001B[32m [ 55%]\u001B[0m\r\n",
      "tests/test_sequence_models.py::test_lstm[cpu-False-False-12-1-1-2-13] \u001B[32mPASSED\u001B[0m\u001B[32m [ 56%]\u001B[0m\r\n",
      "tests/test_sequence_models.py::test_lstm[cpu-False-False-12-1-15-1-1] \u001B[32mPASSED\u001B[0m\u001B[32m [ 56%]\u001B[0m\r\n",
      "tests/test_sequence_models.py::test_lstm[cpu-False-False-12-1-15-1-13] \u001B[32mPASSED\u001B[0m\u001B[32m [ 56%]\u001B[0m\r\n",
      "tests/test_sequence_models.py::test_lstm[cpu-False-False-12-1-15-2-1] \u001B[32mPASSED\u001B[0m\u001B[32m [ 57%]\u001B[0m\r\n",
      "tests/test_sequence_models.py::test_lstm[cpu-False-False-12-1-15-2-13] \u001B[32mPASSED\u001B[0m\u001B[32m [ 57%]\u001B[0m\r\n",
      "tests/test_sequence_models.py::test_lstm[cpu-False-False-12-11-1-1-1] \u001B[32mPASSED\u001B[0m\u001B[32m [ 57%]\u001B[0m\r\n",
      "tests/test_sequence_models.py::test_lstm[cpu-False-False-12-11-1-1-13] \u001B[32mPASSED\u001B[0m\u001B[32m [ 58%]\u001B[0m\r\n",
      "tests/test_sequence_models.py::test_lstm[cpu-False-False-12-11-1-2-1] \u001B[32mPASSED\u001B[0m\u001B[32m [ 58%]\u001B[0m\r\n",
      "tests/test_sequence_models.py::test_lstm[cpu-False-False-12-11-1-2-13] \u001B[32mPASSED\u001B[0m\u001B[32m [ 58%]\u001B[0m\r\n",
      "tests/test_sequence_models.py::test_lstm[cpu-False-False-12-11-15-1-1] \u001B[32mPASSED\u001B[0m\u001B[32m [ 59%]\u001B[0m\r\n",
      "tests/test_sequence_models.py::test_lstm[cpu-False-False-12-11-15-1-13] \u001B[32mPASSED\u001B[0m\u001B[32m [ 59%]\u001B[0m\r\n",
      "tests/test_sequence_models.py::test_lstm[cpu-False-False-12-11-15-2-1] \u001B[32mPASSED\u001B[0m\u001B[32m [ 59%]\u001B[0m\r\n",
      "tests/test_sequence_models.py::test_lstm[cpu-False-False-12-11-15-2-13] \u001B[32mPASSED\u001B[0m\u001B[32m [ 60%]\u001B[0m\r\n",
      "tests/test_sequence_models.py::test_lstm[cuda-True-True-1-1-1-1-1] \u001B[32mPASSED\u001B[0m\u001B[32m [ 60%]\u001B[0m\r\n",
      "tests/test_sequence_models.py::test_lstm[cuda-True-True-1-1-1-1-13] \u001B[32mPASSED\u001B[0m\u001B[32m [ 60%]\u001B[0m\r\n",
      "tests/test_sequence_models.py::test_lstm[cuda-True-True-1-1-1-2-1] \u001B[32mPASSED\u001B[0m\u001B[32m [ 60%]\u001B[0m\r\n",
      "tests/test_sequence_models.py::test_lstm[cuda-True-True-1-1-1-2-13] \u001B[32mPASSED\u001B[0m\u001B[32m [ 61%]\u001B[0m\r\n",
      "tests/test_sequence_models.py::test_lstm[cuda-True-True-1-1-15-1-1] \u001B[32mPASSED\u001B[0m\u001B[32m [ 61%]\u001B[0m\r\n",
      "tests/test_sequence_models.py::test_lstm[cuda-True-True-1-1-15-1-13] \u001B[32mPASSED\u001B[0m\u001B[32m [ 61%]\u001B[0m\r\n",
      "tests/test_sequence_models.py::test_lstm[cuda-True-True-1-1-15-2-1] \u001B[32mPASSED\u001B[0m\u001B[32m [ 62%]\u001B[0m\r\n",
      "tests/test_sequence_models.py::test_lstm[cuda-True-True-1-1-15-2-13] \u001B[32mPASSED\u001B[0m\u001B[32m [ 62%]\u001B[0m\r\n",
      "tests/test_sequence_models.py::test_lstm[cuda-True-True-1-11-1-1-1] \u001B[32mPASSED\u001B[0m\u001B[32m [ 62%]\u001B[0m\r\n",
      "tests/test_sequence_models.py::test_lstm[cuda-True-True-1-11-1-1-13] \u001B[32mPASSED\u001B[0m\u001B[32m [ 63%]\u001B[0m\r\n",
      "tests/test_sequence_models.py::test_lstm[cuda-True-True-1-11-1-2-1] \u001B[32mPASSED\u001B[0m\u001B[32m [ 63%]\u001B[0m\r\n",
      "tests/test_sequence_models.py::test_lstm[cuda-True-True-1-11-1-2-13] \u001B[32mPASSED\u001B[0m\u001B[32m [ 63%]\u001B[0m\r\n",
      "tests/test_sequence_models.py::test_lstm[cuda-True-True-1-11-15-1-1] \u001B[32mPASSED\u001B[0m\u001B[32m [ 64%]\u001B[0m\r\n",
      "tests/test_sequence_models.py::test_lstm[cuda-True-True-1-11-15-1-13] \u001B[32mPASSED\u001B[0m\u001B[32m [ 64%]\u001B[0m\r\n",
      "tests/test_sequence_models.py::test_lstm[cuda-True-True-1-11-15-2-1] \u001B[32mPASSED\u001B[0m\u001B[32m [ 64%]\u001B[0m\r\n",
      "tests/test_sequence_models.py::test_lstm[cuda-True-True-1-11-15-2-13] \u001B[32mPASSED\u001B[0m\u001B[32m [ 65%]\u001B[0m\r\n",
      "tests/test_sequence_models.py::test_lstm[cuda-True-True-12-1-1-1-1] \u001B[32mPASSED\u001B[0m\u001B[32m [ 65%]\u001B[0m\r\n",
      "tests/test_sequence_models.py::test_lstm[cuda-True-True-12-1-1-1-13] \u001B[32mPASSED\u001B[0m\u001B[32m [ 65%]\u001B[0m\r\n",
      "tests/test_sequence_models.py::test_lstm[cuda-True-True-12-1-1-2-1] \u001B[32mPASSED\u001B[0m\u001B[32m [ 65%]\u001B[0m\r\n",
      "tests/test_sequence_models.py::test_lstm[cuda-True-True-12-1-1-2-13] \u001B[32mPASSED\u001B[0m\u001B[32m [ 66%]\u001B[0m\r\n",
      "tests/test_sequence_models.py::test_lstm[cuda-True-True-12-1-15-1-1] \u001B[32mPASSED\u001B[0m\u001B[32m [ 66%]\u001B[0m\r\n",
      "tests/test_sequence_models.py::test_lstm[cuda-True-True-12-1-15-1-13] \u001B[32mPASSED\u001B[0m\u001B[32m [ 66%]\u001B[0m\r\n",
      "tests/test_sequence_models.py::test_lstm[cuda-True-True-12-1-15-2-1] \u001B[32mPASSED\u001B[0m\u001B[32m [ 67%]\u001B[0m\r\n",
      "tests/test_sequence_models.py::test_lstm[cuda-True-True-12-1-15-2-13] \u001B[32mPASSED\u001B[0m\u001B[32m [ 67%]\u001B[0m\r\n",
      "tests/test_sequence_models.py::test_lstm[cuda-True-True-12-11-1-1-1] \u001B[32mPASSED\u001B[0m\u001B[32m [ 67%]\u001B[0m\r\n",
      "tests/test_sequence_models.py::test_lstm[cuda-True-True-12-11-1-1-13] \u001B[32mPASSED\u001B[0m\u001B[32m [ 68%]\u001B[0m\r\n",
      "tests/test_sequence_models.py::test_lstm[cuda-True-True-12-11-1-2-1] \u001B[32mPASSED\u001B[0m\u001B[32m [ 68%]\u001B[0m\r\n",
      "tests/test_sequence_models.py::test_lstm[cuda-True-True-12-11-1-2-13] \u001B[32mPASSED\u001B[0m\u001B[32m [ 68%]\u001B[0m\r\n",
      "tests/test_sequence_models.py::test_lstm[cuda-True-True-12-11-15-1-1] \u001B[32mPASSED\u001B[0m\u001B[32m [ 69%]\u001B[0m\r\n",
      "tests/test_sequence_models.py::test_lstm[cuda-True-True-12-11-15-1-13] \u001B[32mPASSED\u001B[0m\u001B[32m [ 69%]\u001B[0m\r\n",
      "tests/test_sequence_models.py::test_lstm[cuda-True-True-12-11-15-2-1] \u001B[32mPASSED\u001B[0m\u001B[32m [ 69%]\u001B[0m\r\n",
      "tests/test_sequence_models.py::test_lstm[cuda-True-True-12-11-15-2-13] \u001B[32mPASSED\u001B[0m\u001B[32m [ 70%]\u001B[0m\r\n",
      "tests/test_sequence_models.py::test_lstm[cuda-True-False-1-1-1-1-1] \u001B[32mPASSED\u001B[0m\u001B[32m [ 70%]\u001B[0m\r\n",
      "tests/test_sequence_models.py::test_lstm[cuda-True-False-1-1-1-1-13] \u001B[32mPASSED\u001B[0m\u001B[32m [ 70%]\u001B[0m\r\n",
      "tests/test_sequence_models.py::test_lstm[cuda-True-False-1-1-1-2-1] \u001B[32mPASSED\u001B[0m\u001B[32m [ 70%]\u001B[0m\r\n",
      "tests/test_sequence_models.py::test_lstm[cuda-True-False-1-1-1-2-13] \u001B[32mPASSED\u001B[0m\u001B[32m [ 71%]\u001B[0m\r\n",
      "tests/test_sequence_models.py::test_lstm[cuda-True-False-1-1-15-1-1] \u001B[32mPASSED\u001B[0m\u001B[32m [ 71%]\u001B[0m\r\n",
      "tests/test_sequence_models.py::test_lstm[cuda-True-False-1-1-15-1-13] \u001B[32mPASSED\u001B[0m\u001B[32m [ 71%]\u001B[0m\r\n",
      "tests/test_sequence_models.py::test_lstm[cuda-True-False-1-1-15-2-1] \u001B[32mPASSED\u001B[0m\u001B[32m [ 72%]\u001B[0m\r\n",
      "tests/test_sequence_models.py::test_lstm[cuda-True-False-1-1-15-2-13] \u001B[32mPASSED\u001B[0m\u001B[32m [ 72%]\u001B[0m\r\n",
      "tests/test_sequence_models.py::test_lstm[cuda-True-False-1-11-1-1-1] \u001B[32mPASSED\u001B[0m\u001B[32m [ 72%]\u001B[0m\r\n",
      "tests/test_sequence_models.py::test_lstm[cuda-True-False-1-11-1-1-13] \u001B[32mPASSED\u001B[0m\u001B[32m [ 73%]\u001B[0m\r\n",
      "tests/test_sequence_models.py::test_lstm[cuda-True-False-1-11-1-2-1] \u001B[32mPASSED\u001B[0m\u001B[32m [ 73%]\u001B[0m\r\n",
      "tests/test_sequence_models.py::test_lstm[cuda-True-False-1-11-1-2-13] \u001B[32mPASSED\u001B[0m\u001B[32m [ 73%]\u001B[0m\r\n",
      "tests/test_sequence_models.py::test_lstm[cuda-True-False-1-11-15-1-1] \u001B[32mPASSED\u001B[0m\u001B[32m [ 74%]\u001B[0m\r\n",
      "tests/test_sequence_models.py::test_lstm[cuda-True-False-1-11-15-1-13] \u001B[32mPASSED\u001B[0m\u001B[32m [ 74%]\u001B[0m\r\n",
      "tests/test_sequence_models.py::test_lstm[cuda-True-False-1-11-15-2-1] \u001B[32mPASSED\u001B[0m\u001B[32m [ 74%]\u001B[0m\r\n",
      "tests/test_sequence_models.py::test_lstm[cuda-True-False-1-11-15-2-13] \u001B[32mPASSED\u001B[0m\u001B[32m [ 75%]\u001B[0m\r\n",
      "tests/test_sequence_models.py::test_lstm[cuda-True-False-12-1-1-1-1] \u001B[32mPASSED\u001B[0m\u001B[32m [ 75%]\u001B[0m\r\n",
      "tests/test_sequence_models.py::test_lstm[cuda-True-False-12-1-1-1-13] \u001B[32mPASSED\u001B[0m\u001B[32m [ 75%]\u001B[0m\r\n",
      "tests/test_sequence_models.py::test_lstm[cuda-True-False-12-1-1-2-1] \u001B[32mPASSED\u001B[0m\u001B[32m [ 75%]\u001B[0m\r\n",
      "tests/test_sequence_models.py::test_lstm[cuda-True-False-12-1-1-2-13] \u001B[32mPASSED\u001B[0m\u001B[32m [ 76%]\u001B[0m\r\n",
      "tests/test_sequence_models.py::test_lstm[cuda-True-False-12-1-15-1-1] \u001B[32mPASSED\u001B[0m\u001B[32m [ 76%]\u001B[0m\r\n",
      "tests/test_sequence_models.py::test_lstm[cuda-True-False-12-1-15-1-13] \u001B[32mPASSED\u001B[0m\u001B[32m [ 76%]\u001B[0m\r\n",
      "tests/test_sequence_models.py::test_lstm[cuda-True-False-12-1-15-2-1] \u001B[32mPASSED\u001B[0m\u001B[32m [ 77%]\u001B[0m\r\n",
      "tests/test_sequence_models.py::test_lstm[cuda-True-False-12-1-15-2-13] \u001B[32mPASSED\u001B[0m\u001B[32m [ 77%]\u001B[0m\r\n",
      "tests/test_sequence_models.py::test_lstm[cuda-True-False-12-11-1-1-1] \u001B[32mPASSED\u001B[0m\u001B[32m [ 77%]\u001B[0m\r\n",
      "tests/test_sequence_models.py::test_lstm[cuda-True-False-12-11-1-1-13] \u001B[32mPASSED\u001B[0m\u001B[32m [ 78%]\u001B[0m\r\n",
      "tests/test_sequence_models.py::test_lstm[cuda-True-False-12-11-1-2-1] \u001B[32mPASSED\u001B[0m\u001B[32m [ 78%]\u001B[0m\r\n",
      "tests/test_sequence_models.py::test_lstm[cuda-True-False-12-11-1-2-13] \u001B[32mPASSED\u001B[0m\u001B[32m [ 78%]\u001B[0m\r\n",
      "tests/test_sequence_models.py::test_lstm[cuda-True-False-12-11-15-1-1] \u001B[32mPASSED\u001B[0m\u001B[32m [ 79%]\u001B[0m\r\n",
      "tests/test_sequence_models.py::test_lstm[cuda-True-False-12-11-15-1-13] \u001B[32mPASSED\u001B[0m\u001B[32m [ 79%]\u001B[0m\r\n",
      "tests/test_sequence_models.py::test_lstm[cuda-True-False-12-11-15-2-1] \u001B[32mPASSED\u001B[0m\u001B[32m [ 79%]\u001B[0m\r\n",
      "tests/test_sequence_models.py::test_lstm[cuda-True-False-12-11-15-2-13] \u001B[32mPASSED\u001B[0m\u001B[32m [ 80%]\u001B[0m\r\n",
      "tests/test_sequence_models.py::test_lstm[cuda-False-True-1-1-1-1-1] \u001B[32mPASSED\u001B[0m\u001B[32m [ 80%]\u001B[0m\r\n",
      "tests/test_sequence_models.py::test_lstm[cuda-False-True-1-1-1-1-13] \u001B[32mPASSED\u001B[0m\u001B[32m [ 80%]\u001B[0m\r\n",
      "tests/test_sequence_models.py::test_lstm[cuda-False-True-1-1-1-2-1] \u001B[32mPASSED\u001B[0m\u001B[32m [ 80%]\u001B[0m\r\n",
      "tests/test_sequence_models.py::test_lstm[cuda-False-True-1-1-1-2-13] \u001B[32mPASSED\u001B[0m\u001B[32m [ 81%]\u001B[0m\r\n",
      "tests/test_sequence_models.py::test_lstm[cuda-False-True-1-1-15-1-1] \u001B[32mPASSED\u001B[0m\u001B[32m [ 81%]\u001B[0m\r\n",
      "tests/test_sequence_models.py::test_lstm[cuda-False-True-1-1-15-1-13] \u001B[32mPASSED\u001B[0m\u001B[32m [ 81%]\u001B[0m\r\n",
      "tests/test_sequence_models.py::test_lstm[cuda-False-True-1-1-15-2-1] \u001B[32mPASSED\u001B[0m\u001B[32m [ 82%]\u001B[0m\r\n",
      "tests/test_sequence_models.py::test_lstm[cuda-False-True-1-1-15-2-13] \u001B[32mPASSED\u001B[0m\u001B[32m [ 82%]\u001B[0m\r\n",
      "tests/test_sequence_models.py::test_lstm[cuda-False-True-1-11-1-1-1] \u001B[32mPASSED\u001B[0m\u001B[32m [ 82%]\u001B[0m\r\n",
      "tests/test_sequence_models.py::test_lstm[cuda-False-True-1-11-1-1-13] \u001B[32mPASSED\u001B[0m\u001B[32m [ 83%]\u001B[0m\r\n",
      "tests/test_sequence_models.py::test_lstm[cuda-False-True-1-11-1-2-1] \u001B[32mPASSED\u001B[0m\u001B[32m [ 83%]\u001B[0m\r\n",
      "tests/test_sequence_models.py::test_lstm[cuda-False-True-1-11-1-2-13] \u001B[32mPASSED\u001B[0m\u001B[32m [ 83%]\u001B[0m\r\n",
      "tests/test_sequence_models.py::test_lstm[cuda-False-True-1-11-15-1-1] \u001B[32mPASSED\u001B[0m\u001B[32m [ 84%]\u001B[0m\r\n",
      "tests/test_sequence_models.py::test_lstm[cuda-False-True-1-11-15-1-13] \u001B[32mPASSED\u001B[0m\u001B[32m [ 84%]\u001B[0m\r\n",
      "tests/test_sequence_models.py::test_lstm[cuda-False-True-1-11-15-2-1] \u001B[32mPASSED\u001B[0m\u001B[32m [ 84%]\u001B[0m\r\n",
      "tests/test_sequence_models.py::test_lstm[cuda-False-True-1-11-15-2-13] \u001B[32mPASSED\u001B[0m\u001B[32m [ 85%]\u001B[0m\r\n",
      "tests/test_sequence_models.py::test_lstm[cuda-False-True-12-1-1-1-1] \u001B[32mPASSED\u001B[0m\u001B[32m [ 85%]\u001B[0m\r\n",
      "tests/test_sequence_models.py::test_lstm[cuda-False-True-12-1-1-1-13] \u001B[32mPASSED\u001B[0m\u001B[32m [ 85%]\u001B[0m\r\n",
      "tests/test_sequence_models.py::test_lstm[cuda-False-True-12-1-1-2-1] \u001B[32mPASSED\u001B[0m\u001B[32m [ 85%]\u001B[0m\r\n",
      "tests/test_sequence_models.py::test_lstm[cuda-False-True-12-1-1-2-13] \u001B[32mPASSED\u001B[0m\u001B[32m [ 86%]\u001B[0m\r\n",
      "tests/test_sequence_models.py::test_lstm[cuda-False-True-12-1-15-1-1] \u001B[32mPASSED\u001B[0m\u001B[32m [ 86%]\u001B[0m\r\n",
      "tests/test_sequence_models.py::test_lstm[cuda-False-True-12-1-15-1-13] \u001B[32mPASSED\u001B[0m\u001B[32m [ 86%]\u001B[0m\r\n",
      "tests/test_sequence_models.py::test_lstm[cuda-False-True-12-1-15-2-1] \u001B[32mPASSED\u001B[0m\u001B[32m [ 87%]\u001B[0m\r\n",
      "tests/test_sequence_models.py::test_lstm[cuda-False-True-12-1-15-2-13] \u001B[32mPASSED\u001B[0m\u001B[32m [ 87%]\u001B[0m\r\n",
      "tests/test_sequence_models.py::test_lstm[cuda-False-True-12-11-1-1-1] \u001B[32mPASSED\u001B[0m\u001B[32m [ 87%]\u001B[0m\r\n",
      "tests/test_sequence_models.py::test_lstm[cuda-False-True-12-11-1-1-13] \u001B[32mPASSED\u001B[0m\u001B[32m [ 88%]\u001B[0m\r\n",
      "tests/test_sequence_models.py::test_lstm[cuda-False-True-12-11-1-2-1] \u001B[32mPASSED\u001B[0m\u001B[32m [ 88%]\u001B[0m\r\n",
      "tests/test_sequence_models.py::test_lstm[cuda-False-True-12-11-1-2-13] \u001B[32mPASSED\u001B[0m\u001B[32m [ 88%]\u001B[0m\r\n",
      "tests/test_sequence_models.py::test_lstm[cuda-False-True-12-11-15-1-1] \u001B[32mPASSED\u001B[0m\u001B[32m [ 89%]\u001B[0m\r\n",
      "tests/test_sequence_models.py::test_lstm[cuda-False-True-12-11-15-1-13] \u001B[32mPASSED\u001B[0m\u001B[32m [ 89%]\u001B[0m\r\n",
      "tests/test_sequence_models.py::test_lstm[cuda-False-True-12-11-15-2-1] \u001B[32mPASSED\u001B[0m\u001B[32m [ 89%]\u001B[0m\r\n",
      "tests/test_sequence_models.py::test_lstm[cuda-False-True-12-11-15-2-13] \u001B[32mPASSED\u001B[0m\u001B[32m [ 90%]\u001B[0m\r\n",
      "tests/test_sequence_models.py::test_lstm[cuda-False-False-1-1-1-1-1] \u001B[32mPASSED\u001B[0m\u001B[32m [ 90%]\u001B[0m\r\n",
      "tests/test_sequence_models.py::test_lstm[cuda-False-False-1-1-1-1-13] \u001B[32mPASSED\u001B[0m\u001B[32m [ 90%]\u001B[0m\r\n",
      "tests/test_sequence_models.py::test_lstm[cuda-False-False-1-1-1-2-1] \u001B[32mPASSED\u001B[0m\u001B[32m [ 90%]\u001B[0m\r\n",
      "tests/test_sequence_models.py::test_lstm[cuda-False-False-1-1-1-2-13] \u001B[32mPASSED\u001B[0m\u001B[32m [ 91%]\u001B[0m\r\n",
      "tests/test_sequence_models.py::test_lstm[cuda-False-False-1-1-15-1-1] \u001B[32mPASSED\u001B[0m\u001B[32m [ 91%]\u001B[0m\r\n",
      "tests/test_sequence_models.py::test_lstm[cuda-False-False-1-1-15-1-13] \u001B[32mPASSED\u001B[0m\u001B[32m [ 91%]\u001B[0m\r\n",
      "tests/test_sequence_models.py::test_lstm[cuda-False-False-1-1-15-2-1] \u001B[32mPASSED\u001B[0m\u001B[32m [ 92%]\u001B[0m\r\n",
      "tests/test_sequence_models.py::test_lstm[cuda-False-False-1-1-15-2-13] \u001B[32mPASSED\u001B[0m\u001B[32m [ 92%]\u001B[0m\r\n",
      "tests/test_sequence_models.py::test_lstm[cuda-False-False-1-11-1-1-1] \u001B[32mPASSED\u001B[0m\u001B[32m [ 92%]\u001B[0m\r\n",
      "tests/test_sequence_models.py::test_lstm[cuda-False-False-1-11-1-1-13] \u001B[32mPASSED\u001B[0m\u001B[32m [ 93%]\u001B[0m\r\n",
      "tests/test_sequence_models.py::test_lstm[cuda-False-False-1-11-1-2-1] \u001B[32mPASSED\u001B[0m\u001B[32m [ 93%]\u001B[0m\r\n",
      "tests/test_sequence_models.py::test_lstm[cuda-False-False-1-11-1-2-13] \u001B[32mPASSED\u001B[0m\u001B[32m [ 93%]\u001B[0m\r\n",
      "tests/test_sequence_models.py::test_lstm[cuda-False-False-1-11-15-1-1] \u001B[32mPASSED\u001B[0m\u001B[32m [ 94%]\u001B[0m\r\n",
      "tests/test_sequence_models.py::test_lstm[cuda-False-False-1-11-15-1-13] \u001B[32mPASSED\u001B[0m\u001B[32m [ 94%]\u001B[0m\r\n",
      "tests/test_sequence_models.py::test_lstm[cuda-False-False-1-11-15-2-1] \u001B[32mPASSED\u001B[0m\u001B[32m [ 94%]\u001B[0m\r\n",
      "tests/test_sequence_models.py::test_lstm[cuda-False-False-1-11-15-2-13] \u001B[32mPASSED\u001B[0m\u001B[32m [ 95%]\u001B[0m\r\n",
      "tests/test_sequence_models.py::test_lstm[cuda-False-False-12-1-1-1-1] \u001B[32mPASSED\u001B[0m\u001B[32m [ 95%]\u001B[0m\r\n",
      "tests/test_sequence_models.py::test_lstm[cuda-False-False-12-1-1-1-13] \u001B[32mPASSED\u001B[0m\u001B[32m [ 95%]\u001B[0m\r\n",
      "tests/test_sequence_models.py::test_lstm[cuda-False-False-12-1-1-2-1] \u001B[32mPASSED\u001B[0m\u001B[32m [ 95%]\u001B[0m\r\n",
      "tests/test_sequence_models.py::test_lstm[cuda-False-False-12-1-1-2-13] \u001B[32mPASSED\u001B[0m\u001B[32m [ 96%]\u001B[0m\r\n",
      "tests/test_sequence_models.py::test_lstm[cuda-False-False-12-1-15-1-1] \u001B[32mPASSED\u001B[0m\u001B[32m [ 96%]\u001B[0m\r\n",
      "tests/test_sequence_models.py::test_lstm[cuda-False-False-12-1-15-1-13] \u001B[32mPASSED\u001B[0m\u001B[32m [ 96%]\u001B[0m\r\n",
      "tests/test_sequence_models.py::test_lstm[cuda-False-False-12-1-15-2-1] \u001B[32mPASSED\u001B[0m\u001B[32m [ 97%]\u001B[0m\r\n",
      "tests/test_sequence_models.py::test_lstm[cuda-False-False-12-1-15-2-13] \u001B[32mPASSED\u001B[0m\u001B[32m [ 97%]\u001B[0m\r\n",
      "tests/test_sequence_models.py::test_lstm[cuda-False-False-12-11-1-1-1] \u001B[32mPASSED\u001B[0m\u001B[32m [ 97%]\u001B[0m\r\n",
      "tests/test_sequence_models.py::test_lstm[cuda-False-False-12-11-1-1-13] \u001B[32mPASSED\u001B[0m\u001B[32m [ 98%]\u001B[0m\r\n",
      "tests/test_sequence_models.py::test_lstm[cuda-False-False-12-11-1-2-1] \u001B[32mPASSED\u001B[0m\u001B[32m [ 98%]\u001B[0m\r\n",
      "tests/test_sequence_models.py::test_lstm[cuda-False-False-12-11-1-2-13] \u001B[32mPASSED\u001B[0m\u001B[32m [ 98%]\u001B[0m\r\n",
      "tests/test_sequence_models.py::test_lstm[cuda-False-False-12-11-15-1-1] \u001B[32mPASSED\u001B[0m\u001B[32m [ 99%]\u001B[0m\r\n",
      "tests/test_sequence_models.py::test_lstm[cuda-False-False-12-11-15-1-13] \u001B[32mPASSED\u001B[0m\u001B[32m [ 99%]\u001B[0m\r\n",
      "tests/test_sequence_models.py::test_lstm[cuda-False-False-12-11-15-2-1] \u001B[32mPASSED\u001B[0m\u001B[32m [ 99%]\u001B[0m\r\n",
      "tests/test_sequence_models.py::test_lstm[cuda-False-False-12-11-15-2-13] \u001B[32mPASSED\u001B[0m\u001B[32m [100%]\u001B[0m\r\n",
      "\r\n",
      "\u001B[32m==================== \u001B[32m\u001B[1m320 passed\u001B[0m, \u001B[33m1503 deselected\u001B[0m\u001B[32m in 13.88s\u001B[0m\u001B[32m =====================\u001B[0m\r\n"
     ]
    }
   ],
   "source": [
    "!python3 -m pytest -l -v -k \"test_lstm\""
   ]
  },
  {
   "cell_type": "code",
   "execution_count": 27,
   "metadata": {
    "id": "9H4CPSQB7zGd"
   },
   "outputs": [
    {
     "name": "stdout",
     "output_type": "stream",
     "text": [
      "submit\r\n",
      "\u001B[1m============================= test session starts ==============================\u001B[0m\r\n",
      "platform linux -- Python 3.9.15, pytest-7.1.2, pluggy-1.0.0\r\n",
      "rootdir: /home/erostrate9/PycharmProjects/dls_hw4\r\n",
      "plugins: anyio-3.5.0\r\n",
      "collected 10 items / 9 deselected / 1 selected                                 \u001B[0m\u001B[1m\r\n",
      "\r\n",
      "tests/test_sequence_models.py \r\n",
      "Submitting lstm...\r\n",
      "Grader test 1 passed\r\n",
      "Grader test 2 passed\r\n",
      "Grader test 3 passed\r\n",
      "Grader test 4 passed\r\n",
      "Grader test 5 passed\r\n",
      "Grader test 6 passed\r\n",
      "Grader test 7 passed\r\n",
      "Grader test 8 passed\r\n",
      "Grader test 9 passed\r\n",
      "Grader test 10 passed\r\n",
      "Grader test 11 passed\r\n",
      "Grader test 12 passed\r\n",
      "Grader test 13 passed\r\n",
      "Grader test 14 passed\r\n",
      "Grader test 15 passed\r\n",
      "Grader test 16 passed\r\n",
      "\u001B[32m.\u001B[0m\r\n",
      "\r\n",
      "\u001B[32m======================= \u001B[32m\u001B[1m1 passed\u001B[0m, \u001B[33m9 deselected\u001B[0m\u001B[32m in 30.92s\u001B[0m\u001B[32m =======================\u001B[0m\r\n"
     ]
    }
   ],
   "source": [
    "!python3 -m mugrade submit \"_0QwrEWYLgzYU25KDG4FM\" -k \"lstm\""
   ]
  },
  {
   "cell_type": "markdown",
   "metadata": {
    "id": "yRfwO39x7zGd"
   },
   "source": [
    "## Part 6: Penn Treebank dataset [10 points]\n",
    "\n",
    "In word-level language modeling tasks, the model predicts the probability of the next word in the sequence, based on the words already observed in the sequence. You will write support for the Penn Treebank dataset, which consists of stories from the Wall Street Journal, to train and evaluate a language model on word-level prediction.\n",
    "\n",
    "In `python/needle/data.py`, start by implementing the `Dictionary` class, which creates a dictionary from a list of words, mapping each word to a unique integer.\n",
    "\n",
    "Next, we will use this `Dictionary` class to create a corpus from the train and test txt files in the Penn Treebank dataset that you downloaded at the beginning of the notebook. Implement the `tokenize` function in the `Corpus` class to do this.\n",
    "\n",
    "In order to prepare the data for training and evaluation, you will next implement the `batchify` function. Starting from sequential data, batchify arranges the dataset into columns. For instance, with the alphabet as the sequence and batch size 4, we'd get\n",
    "\n",
    "```\n",
    "┌ a g m s ┐\n",
    "│ b h n t │\n",
    "│ c i o u │\n",
    "│ d j p v │\n",
    "│ e k q w │\n",
    "└ f l r x ┘\n",
    "```\n",
    "\n",
    "These columns are treated as independent by the model, which means that the dependence of e. g. 'g' on 'f' cannot be learned, but allows more efficient batch processing.\n",
    "\n",
    "Next, implement the `get_batch` function. `get_batch` subdivides the source data into chunks of length `bptt`. If source is equal to the example output of the batchify function, with a bptt-limit of 2, we'd get the following two Variables for i = 0:\n",
    "```\n",
    "┌ a g m s ┐ ┌ b h n t ┐\n",
    "└ b h n t ┘ └ c i o u ┘\n",
    "```\n",
    "Note that despite the name of the function, the subdivison of data is not done along the batch dimension (i.e. dimension 1), since that was handled by the batchify function. The chunks are along dimension 0, corresponding to the seq_len dimension in the LSTM or RNN."
   ]
  },
  {
   "cell_type": "code",
   "execution_count": 33,
   "outputs": [
    {
     "data": {
      "text/plain": "['rudolph <unk> n years old and former chairman of consolidated gold fields plc was named a nonexecutive director of this british industrial conglomerate',\n 'a form of asbestos once used to make kent cigarette filters has caused a high percentage of cancer deaths among a group of workers exposed to it more than n years ago researchers reported']"
     },
     "execution_count": 33,
     "metadata": {},
     "output_type": "execute_result"
    }
   ],
   "source": [
    "import re\n",
    "lines = [\"rudolph <unk> N years old and former chairman of consolidated gold fields plc was named a nonexecutive director of this british industrial conglomerate\",\n",
    " \"a form of asbestos once used to make kent cigarette filters has caused a high percentage of cancer deaths among a group of workers exposed to it more than N years ago researchers reported\"]\n",
    "l = [re.sub('[^A-Za-z\\<\\>]+', ' ', line).strip().lower() for line in lines]\n",
    "l"
   ],
   "metadata": {
    "collapsed": false
   }
  },
  {
   "cell_type": "code",
   "execution_count": 37,
   "metadata": {
    "id": "uSTkwtz07zGd"
   },
   "outputs": [
    {
     "name": "stdout",
     "output_type": "stream",
     "text": [
      "\u001B[1m============================= test session starts ==============================\u001B[0m\r\n",
      "platform linux -- Python 3.9.15, pytest-7.1.2, pluggy-1.0.0 -- /home/erostrate9/anaconda3/envs/dls/bin/python3\r\n",
      "cachedir: .pytest_cache\r\n",
      "rootdir: /home/erostrate9/PycharmProjects/dls_hw4\r\n",
      "plugins: anyio-3.5.0\r\n",
      "collected 1823 items / 1797 deselected / 26 selected                           \u001B[0m\u001B[1m\r\n",
      "\r\n",
      "tests/test_cifar_ptb_data.py::test_cifar10_dataset[True] \u001B[32mPASSED\u001B[0m\u001B[32m          [  3%]\u001B[0m\r\n",
      "tests/test_cifar_ptb_data.py::test_cifar10_dataset[False] \u001B[32mPASSED\u001B[0m\u001B[32m         [  7%]\u001B[0m\r\n",
      "tests/test_cifar_ptb_data.py::test_cifar10_loader[cpu-True-1] \u001B[32mPASSED\u001B[0m\u001B[32m     [ 11%]\u001B[0m\r\n",
      "tests/test_cifar_ptb_data.py::test_cifar10_loader[cpu-True-15] \u001B[32mPASSED\u001B[0m\u001B[32m    [ 15%]\u001B[0m\r\n",
      "tests/test_cifar_ptb_data.py::test_cifar10_loader[cpu-False-1] \u001B[32mPASSED\u001B[0m\u001B[32m    [ 19%]\u001B[0m\r\n",
      "tests/test_cifar_ptb_data.py::test_cifar10_loader[cpu-False-15] \u001B[32mPASSED\u001B[0m\u001B[32m   [ 23%]\u001B[0m\r\n",
      "tests/test_cifar_ptb_data.py::test_cifar10_loader[cuda-True-1] \u001B[32mPASSED\u001B[0m\u001B[32m    [ 26%]\u001B[0m\r\n",
      "tests/test_cifar_ptb_data.py::test_cifar10_loader[cuda-True-15] \u001B[32mPASSED\u001B[0m\u001B[32m   [ 30%]\u001B[0m\r\n",
      "tests/test_cifar_ptb_data.py::test_cifar10_loader[cuda-False-1] \u001B[32mPASSED\u001B[0m\u001B[32m   [ 34%]\u001B[0m\r\n",
      "tests/test_cifar_ptb_data.py::test_cifar10_loader[cuda-False-15] \u001B[32mPASSED\u001B[0m\u001B[32m  [ 38%]\u001B[0m\r\n",
      "tests/test_cifar_ptb_data.py::test_ptb_dataset[cpu-True-3-1] \u001B[32mPASSED\u001B[0m\u001B[32m      [ 42%]\u001B[0m\r\n",
      "tests/test_cifar_ptb_data.py::test_ptb_dataset[cpu-True-3-15] \u001B[32mPASSED\u001B[0m\u001B[32m     [ 46%]\u001B[0m\r\n",
      "tests/test_cifar_ptb_data.py::test_ptb_dataset[cpu-True-32-1] \u001B[32mPASSED\u001B[0m\u001B[32m     [ 50%]\u001B[0m\r\n",
      "tests/test_cifar_ptb_data.py::test_ptb_dataset[cpu-True-32-15] \u001B[32mPASSED\u001B[0m\u001B[32m    [ 53%]\u001B[0m\r\n",
      "tests/test_cifar_ptb_data.py::test_ptb_dataset[cpu-False-3-1] \u001B[32mPASSED\u001B[0m\u001B[32m     [ 57%]\u001B[0m\r\n",
      "tests/test_cifar_ptb_data.py::test_ptb_dataset[cpu-False-3-15] \u001B[32mPASSED\u001B[0m\u001B[32m    [ 61%]\u001B[0m\r\n",
      "tests/test_cifar_ptb_data.py::test_ptb_dataset[cpu-False-32-1] \u001B[32mPASSED\u001B[0m\u001B[32m    [ 65%]\u001B[0m\r\n",
      "tests/test_cifar_ptb_data.py::test_ptb_dataset[cpu-False-32-15] \u001B[32mPASSED\u001B[0m\u001B[32m   [ 69%]\u001B[0m\r\n",
      "tests/test_cifar_ptb_data.py::test_ptb_dataset[cuda-True-3-1] \u001B[32mPASSED\u001B[0m\u001B[32m     [ 73%]\u001B[0m\r\n",
      "tests/test_cifar_ptb_data.py::test_ptb_dataset[cuda-True-3-15] \u001B[32mPASSED\u001B[0m\u001B[32m    [ 76%]\u001B[0m\r\n",
      "tests/test_cifar_ptb_data.py::test_ptb_dataset[cuda-True-32-1] \u001B[32mPASSED\u001B[0m\u001B[32m    [ 80%]\u001B[0m\r\n",
      "tests/test_cifar_ptb_data.py::test_ptb_dataset[cuda-True-32-15] \u001B[32mPASSED\u001B[0m\u001B[32m   [ 84%]\u001B[0m\r\n",
      "tests/test_cifar_ptb_data.py::test_ptb_dataset[cuda-False-3-1] \u001B[32mPASSED\u001B[0m\u001B[32m    [ 88%]\u001B[0m\r\n",
      "tests/test_cifar_ptb_data.py::test_ptb_dataset[cuda-False-3-15] \u001B[32mPASSED\u001B[0m\u001B[32m   [ 92%]\u001B[0m\r\n",
      "tests/test_cifar_ptb_data.py::test_ptb_dataset[cuda-False-32-1] \u001B[32mPASSED\u001B[0m\u001B[32m   [ 96%]\u001B[0m\r\n",
      "tests/test_cifar_ptb_data.py::test_ptb_dataset[cuda-False-32-15] \u001B[32mPASSED\u001B[0m\u001B[32m  [100%]\u001B[0m\r\n",
      "\r\n",
      "\u001B[32m===================== \u001B[32m\u001B[1m26 passed\u001B[0m, \u001B[33m1797 deselected\u001B[0m\u001B[32m in 9.52s\u001B[0m\u001B[32m ======================\u001B[0m\r\n"
     ]
    }
   ],
   "source": [
    "!python3 -m pytest -l -v -k \"ptb\""
   ]
  },
  {
   "cell_type": "code",
   "execution_count": 38,
   "metadata": {
    "id": "NI60y-Hi7zGe"
   },
   "outputs": [
    {
     "name": "stdout",
     "output_type": "stream",
     "text": [
      "submit\r\n",
      "\u001B[1m============================= test session starts ==============================\u001B[0m\r\n",
      "platform linux -- Python 3.9.15, pytest-7.1.2, pluggy-1.0.0\r\n",
      "rootdir: /home/erostrate9/PycharmProjects/dls_hw4\r\n",
      "plugins: anyio-3.5.0\r\n",
      "collected 10 items / 8 deselected / 2 selected                                 \u001B[0m\u001B[1m\r\n",
      "\r\n",
      "tests/test_cifar_ptb_data.py \r\n",
      "Submitting cifar10...\r\n",
      "Grader test 1 passed\r\n",
      "Grader test 2 passed\r\n",
      "Grader test 3 passed\r\n",
      "Grader test 4 passed\r\n",
      "Grader test 5 passed\r\n",
      "Grader test 6 passed\r\n",
      "Grader test 7 passed\r\n",
      "Grader test 8 passed\r\n",
      "Grader test 9 passed\r\n",
      "Grader test 10 passed\r\n",
      "Grader test 11 passed\r\n",
      "Grader test 12 passed\r\n",
      "Grader test 13 passed\r\n",
      "Grader test 14 passed\r\n",
      "Grader test 15 passed\r\n",
      "Grader test 16 passed\r\n",
      "Grader test 17 passed\r\n",
      "Grader test 18 passed\r\n",
      "\u001B[32m.\u001B[0m\r\n",
      "Submitting ptb...\r\n",
      "Grader test 1 passed\r\n",
      "Grader test 2 passed\r\n",
      "Grader test 3 passed\r\n",
      "Grader test 4 passed\r\n",
      "Grader test 5 passed\r\n",
      "Grader test 6 passed\r\n",
      "Grader test 7 passed\r\n",
      "Grader test 8 passed\r\n",
      "Grader test 9 passed\r\n",
      "Grader test 10 passed\r\n",
      "Grader test 11 passed\r\n",
      "Grader test 12 passed\r\n",
      "Grader test 13 passed\r\n",
      "Grader test 14 passed\r\n",
      "Grader test 15 passed\r\n",
      "Grader test 16 passed\r\n",
      "Grader test 17 passed\r\n",
      "Grader test 18 passed\r\n",
      "Grader test 19 passed\r\n",
      "Grader test 20 passed\r\n",
      "Grader test 21 passed\r\n",
      "Grader test 22 passed\r\n",
      "Grader test 23 passed\r\n",
      "Grader test 24 passed\r\n",
      "Grader test 25 passed\r\n",
      "Grader test 26 passed\r\n",
      "Grader test 27 passed\r\n",
      "Grader test 28 passed\r\n",
      "Grader test 29 passed\r\n",
      "Grader test 30 passed\r\n",
      "Grader test 31 passed\r\n",
      "Grader test 32 passed\r\n",
      "Grader test 33 passed\r\n",
      "Grader test 34 passed\r\n",
      "Grader test 35 passed\r\n",
      "Grader test 36 passed\r\n",
      "Grader test 37 passed\r\n",
      "Grader test 38 passed\r\n",
      "Grader test 39 passed\r\n",
      "Grader test 40 passed\r\n",
      "Grader test 41 passed\r\n",
      "Grader test 42 passed\r\n",
      "Grader test 43 passed\r\n",
      "Grader test 44 passed\r\n",
      "Grader test 45 passed\r\n",
      "Grader test 46 passed\r\n",
      "Grader test 47 passed\r\n",
      "Grader test 48 passed\r\n",
      "Grader test 49 passed\r\n",
      "\u001B[32m.\u001B[0m\r\n",
      "\r\n",
      "\u001B[32m================= \u001B[32m\u001B[1m2 passed\u001B[0m, \u001B[33m8 deselected\u001B[0m\u001B[32m in 103.81s (0:01:43)\u001B[0m\u001B[32m ==================\u001B[0m\r\n"
     ]
    }
   ],
   "source": [
    "!python3 -m mugrade submit \"_0QwrEWYLgzYU25KDG4FM\" -k \"ptb\""
   ]
  },
  {
   "cell_type": "markdown",
   "metadata": {
    "id": "UHS_1K-27zGe"
   },
   "source": [
    "## Part 7: Training a word-level language model [10 points]\n",
    "\n",
    "Finally, you will use the `RNN` and `LSTM` components you have written to construct a language model that we will train on the Penn Treebank dataset.\n",
    "\n",
    "First, in `python/needle/nn.py` implement `Embedding`. Consider we have a dictionary with 1000 words. Then for a word which indexes into this dictionary, we can represent this word as a one-hot vector of size 1000, and then use a linear layer to project this to a vector of some embedding size.\n",
    "\n",
    "In `apps/models.py`, you can now implement `LanguageModel`. Your language model should consist of \n",
    "\n",
    "- An embedding layer (which maps word IDs to embeddings) \n",
    "- A sequence model (either RNN or LSTM)\n",
    "- A linear layer (which outputs probabilities of the next word)\n",
    "\n",
    "In `apps/simple_training.py` implement `epoch_general_ptb`, `train_ptb`, and `evaluate_ptb`."
   ]
  },
  {
   "cell_type": "code",
   "execution_count": 47,
   "outputs": [
    {
     "name": "stdout",
     "output_type": "stream",
     "text": [
      "8\n"
     ]
    },
    {
     "data": {
      "text/plain": "(2, 8, 20)"
     },
     "execution_count": 47,
     "metadata": {},
     "output_type": "execute_result"
    }
   ],
   "source": [
    "import numpy as np\n",
    "n=20\n",
    "i=np.arange(16).reshape(2,8)\n",
    "print(i[1][0])\n",
    "np.eye(n)[i].shape"
   ],
   "metadata": {
    "collapsed": false
   }
  },
  {
   "cell_type": "code",
   "execution_count": 51,
   "outputs": [
    {
     "data": {
      "text/plain": "(0, 1, 2, 3)"
     },
     "execution_count": 51,
     "metadata": {},
     "output_type": "execute_result"
    }
   ],
   "source": [
    "a = (1,2,3)\n",
    "(0, *a)"
   ],
   "metadata": {
    "collapsed": false
   }
  },
  {
   "cell_type": "code",
   "execution_count": 61,
   "metadata": {
    "id": "1cOGB0E67zGe"
   },
   "outputs": [
    {
     "name": "stdout",
     "output_type": "stream",
     "text": [
      "\u001B[1m============================= test session starts ==============================\u001B[0m\r\n",
      "platform linux -- Python 3.9.15, pytest-7.1.2, pluggy-1.0.0 -- /home/erostrate9/anaconda3/envs/dls/bin/python3\r\n",
      "cachedir: .pytest_cache\r\n",
      "rootdir: /home/erostrate9/PycharmProjects/dls_hw4\r\n",
      "plugins: anyio-3.5.0\r\n",
      "collected 1823 items / 1311 deselected / 512 selected                          \u001B[0m\u001B[1m\r\n",
      "\r\n",
      "tests/test_sequence_models.py::test_language_model_implementation[cpu-rnn-1-True-1-1-1-1-1] \u001B[32mPASSED\u001B[0m\u001B[32m [  0%]\u001B[0m\r\n",
      "tests/test_sequence_models.py::test_language_model_implementation[cpu-rnn-1-True-1-1-1-1-13] \u001B[32mPASSED\u001B[0m\u001B[32m [  0%]\u001B[0m\r\n",
      "tests/test_sequence_models.py::test_language_model_implementation[cpu-rnn-1-True-1-1-1-2-1] \u001B[32mPASSED\u001B[0m\u001B[32m [  0%]\u001B[0m\r\n",
      "tests/test_sequence_models.py::test_language_model_implementation[cpu-rnn-1-True-1-1-1-2-13] \u001B[32mPASSED\u001B[0m\u001B[32m [  0%]\u001B[0m\r\n",
      "tests/test_sequence_models.py::test_language_model_implementation[cpu-rnn-1-True-1-1-15-1-1] \u001B[32mPASSED\u001B[0m\u001B[32m [  0%]\u001B[0m\r\n",
      "tests/test_sequence_models.py::test_language_model_implementation[cpu-rnn-1-True-1-1-15-1-13] \u001B[32mPASSED\u001B[0m\u001B[32m [  1%]\u001B[0m\r\n",
      "tests/test_sequence_models.py::test_language_model_implementation[cpu-rnn-1-True-1-1-15-2-1] \u001B[32mPASSED\u001B[0m\u001B[32m [  1%]\u001B[0m\r\n",
      "tests/test_sequence_models.py::test_language_model_implementation[cpu-rnn-1-True-1-1-15-2-13] \u001B[32mPASSED\u001B[0m\u001B[32m [  1%]\u001B[0m\r\n",
      "tests/test_sequence_models.py::test_language_model_implementation[cpu-rnn-1-True-1-34-1-1-1] \u001B[32mPASSED\u001B[0m\u001B[32m [  1%]\u001B[0m\r\n",
      "tests/test_sequence_models.py::test_language_model_implementation[cpu-rnn-1-True-1-34-1-1-13] \u001B[32mPASSED\u001B[0m\u001B[32m [  1%]\u001B[0m\r\n",
      "tests/test_sequence_models.py::test_language_model_implementation[cpu-rnn-1-True-1-34-1-2-1] \u001B[32mPASSED\u001B[0m\u001B[32m [  2%]\u001B[0m\r\n",
      "tests/test_sequence_models.py::test_language_model_implementation[cpu-rnn-1-True-1-34-1-2-13] \u001B[32mPASSED\u001B[0m\u001B[32m [  2%]\u001B[0m\r\n",
      "tests/test_sequence_models.py::test_language_model_implementation[cpu-rnn-1-True-1-34-15-1-1] \u001B[32mPASSED\u001B[0m\u001B[32m [  2%]\u001B[0m\r\n",
      "tests/test_sequence_models.py::test_language_model_implementation[cpu-rnn-1-True-1-34-15-1-13] \u001B[32mPASSED\u001B[0m\u001B[32m [  2%]\u001B[0m\r\n",
      "tests/test_sequence_models.py::test_language_model_implementation[cpu-rnn-1-True-1-34-15-2-1] \u001B[32mPASSED\u001B[0m\u001B[32m [  2%]\u001B[0m\r\n",
      "tests/test_sequence_models.py::test_language_model_implementation[cpu-rnn-1-True-1-34-15-2-13] \u001B[32mPASSED\u001B[0m\u001B[32m [  3%]\u001B[0m\r\n",
      "tests/test_sequence_models.py::test_language_model_implementation[cpu-rnn-1-True-12-1-1-1-1] \u001B[32mPASSED\u001B[0m\u001B[32m [  3%]\u001B[0m\r\n",
      "tests/test_sequence_models.py::test_language_model_implementation[cpu-rnn-1-True-12-1-1-1-13] \u001B[32mPASSED\u001B[0m\u001B[32m [  3%]\u001B[0m\r\n",
      "tests/test_sequence_models.py::test_language_model_implementation[cpu-rnn-1-True-12-1-1-2-1] \u001B[32mPASSED\u001B[0m\u001B[32m [  3%]\u001B[0m\r\n",
      "tests/test_sequence_models.py::test_language_model_implementation[cpu-rnn-1-True-12-1-1-2-13] \u001B[32mPASSED\u001B[0m\u001B[32m [  3%]\u001B[0m\r\n",
      "tests/test_sequence_models.py::test_language_model_implementation[cpu-rnn-1-True-12-1-15-1-1] \u001B[32mPASSED\u001B[0m\u001B[32m [  4%]\u001B[0m\r\n",
      "tests/test_sequence_models.py::test_language_model_implementation[cpu-rnn-1-True-12-1-15-1-13] \u001B[32mPASSED\u001B[0m\u001B[32m [  4%]\u001B[0m\r\n",
      "tests/test_sequence_models.py::test_language_model_implementation[cpu-rnn-1-True-12-1-15-2-1] \u001B[32mPASSED\u001B[0m\u001B[32m [  4%]\u001B[0m\r\n",
      "tests/test_sequence_models.py::test_language_model_implementation[cpu-rnn-1-True-12-1-15-2-13] \u001B[32mPASSED\u001B[0m\u001B[32m [  4%]\u001B[0m\r\n",
      "tests/test_sequence_models.py::test_language_model_implementation[cpu-rnn-1-True-12-34-1-1-1] \u001B[32mPASSED\u001B[0m\u001B[32m [  4%]\u001B[0m\r\n",
      "tests/test_sequence_models.py::test_language_model_implementation[cpu-rnn-1-True-12-34-1-1-13] \u001B[32mPASSED\u001B[0m\u001B[32m [  5%]\u001B[0m\r\n",
      "tests/test_sequence_models.py::test_language_model_implementation[cpu-rnn-1-True-12-34-1-2-1] \u001B[32mPASSED\u001B[0m\u001B[32m [  5%]\u001B[0m\r\n",
      "tests/test_sequence_models.py::test_language_model_implementation[cpu-rnn-1-True-12-34-1-2-13] \u001B[32mPASSED\u001B[0m\u001B[32m [  5%]\u001B[0m\r\n",
      "tests/test_sequence_models.py::test_language_model_implementation[cpu-rnn-1-True-12-34-15-1-1] \u001B[32mPASSED\u001B[0m\u001B[32m [  5%]\u001B[0m\r\n",
      "tests/test_sequence_models.py::test_language_model_implementation[cpu-rnn-1-True-12-34-15-1-13] \u001B[32mPASSED\u001B[0m\u001B[32m [  5%]\u001B[0m\r\n",
      "tests/test_sequence_models.py::test_language_model_implementation[cpu-rnn-1-True-12-34-15-2-1] \u001B[32mPASSED\u001B[0m\u001B[32m [  6%]\u001B[0m\r\n",
      "tests/test_sequence_models.py::test_language_model_implementation[cpu-rnn-1-True-12-34-15-2-13] \u001B[32mPASSED\u001B[0m\u001B[32m [  6%]\u001B[0m\r\n",
      "tests/test_sequence_models.py::test_language_model_implementation[cpu-rnn-1-False-1-1-1-1-1] \u001B[32mPASSED\u001B[0m\u001B[32m [  6%]\u001B[0m\r\n",
      "tests/test_sequence_models.py::test_language_model_implementation[cpu-rnn-1-False-1-1-1-1-13] \u001B[32mPASSED\u001B[0m\u001B[32m [  6%]\u001B[0m\r\n",
      "tests/test_sequence_models.py::test_language_model_implementation[cpu-rnn-1-False-1-1-1-2-1] \u001B[32mPASSED\u001B[0m\u001B[32m [  6%]\u001B[0m\r\n",
      "tests/test_sequence_models.py::test_language_model_implementation[cpu-rnn-1-False-1-1-1-2-13] \u001B[32mPASSED\u001B[0m\u001B[32m [  7%]\u001B[0m\r\n",
      "tests/test_sequence_models.py::test_language_model_implementation[cpu-rnn-1-False-1-1-15-1-1] \u001B[32mPASSED\u001B[0m\u001B[32m [  7%]\u001B[0m\r\n",
      "tests/test_sequence_models.py::test_language_model_implementation[cpu-rnn-1-False-1-1-15-1-13] \u001B[32mPASSED\u001B[0m\u001B[32m [  7%]\u001B[0m\r\n",
      "tests/test_sequence_models.py::test_language_model_implementation[cpu-rnn-1-False-1-1-15-2-1] \u001B[32mPASSED\u001B[0m\u001B[32m [  7%]\u001B[0m\r\n",
      "tests/test_sequence_models.py::test_language_model_implementation[cpu-rnn-1-False-1-1-15-2-13] \u001B[32mPASSED\u001B[0m\u001B[32m [  7%]\u001B[0m\r\n",
      "tests/test_sequence_models.py::test_language_model_implementation[cpu-rnn-1-False-1-34-1-1-1] \u001B[32mPASSED\u001B[0m\u001B[32m [  8%]\u001B[0m\r\n",
      "tests/test_sequence_models.py::test_language_model_implementation[cpu-rnn-1-False-1-34-1-1-13] \u001B[32mPASSED\u001B[0m\u001B[32m [  8%]\u001B[0m\r\n",
      "tests/test_sequence_models.py::test_language_model_implementation[cpu-rnn-1-False-1-34-1-2-1] \u001B[32mPASSED\u001B[0m\u001B[32m [  8%]\u001B[0m\r\n",
      "tests/test_sequence_models.py::test_language_model_implementation[cpu-rnn-1-False-1-34-1-2-13] \u001B[32mPASSED\u001B[0m\u001B[32m [  8%]\u001B[0m\r\n",
      "tests/test_sequence_models.py::test_language_model_implementation[cpu-rnn-1-False-1-34-15-1-1] \u001B[32mPASSED\u001B[0m\u001B[32m [  8%]\u001B[0m\r\n",
      "tests/test_sequence_models.py::test_language_model_implementation[cpu-rnn-1-False-1-34-15-1-13] \u001B[32mPASSED\u001B[0m\u001B[32m [  8%]\u001B[0m\r\n",
      "tests/test_sequence_models.py::test_language_model_implementation[cpu-rnn-1-False-1-34-15-2-1] \u001B[32mPASSED\u001B[0m\u001B[32m [  9%]\u001B[0m\r\n",
      "tests/test_sequence_models.py::test_language_model_implementation[cpu-rnn-1-False-1-34-15-2-13] \u001B[32mPASSED\u001B[0m\u001B[32m [  9%]\u001B[0m\r\n",
      "tests/test_sequence_models.py::test_language_model_implementation[cpu-rnn-1-False-12-1-1-1-1] \u001B[32mPASSED\u001B[0m\u001B[32m [  9%]\u001B[0m\r\n",
      "tests/test_sequence_models.py::test_language_model_implementation[cpu-rnn-1-False-12-1-1-1-13] \u001B[32mPASSED\u001B[0m\u001B[32m [  9%]\u001B[0m\r\n",
      "tests/test_sequence_models.py::test_language_model_implementation[cpu-rnn-1-False-12-1-1-2-1] \u001B[32mPASSED\u001B[0m\u001B[32m [  9%]\u001B[0m\r\n",
      "tests/test_sequence_models.py::test_language_model_implementation[cpu-rnn-1-False-12-1-1-2-13] \u001B[32mPASSED\u001B[0m\u001B[32m [ 10%]\u001B[0m\r\n",
      "tests/test_sequence_models.py::test_language_model_implementation[cpu-rnn-1-False-12-1-15-1-1] \u001B[32mPASSED\u001B[0m\u001B[32m [ 10%]\u001B[0m\r\n",
      "tests/test_sequence_models.py::test_language_model_implementation[cpu-rnn-1-False-12-1-15-1-13] \u001B[32mPASSED\u001B[0m\u001B[32m [ 10%]\u001B[0m\r\n",
      "tests/test_sequence_models.py::test_language_model_implementation[cpu-rnn-1-False-12-1-15-2-1] \u001B[32mPASSED\u001B[0m\u001B[32m [ 10%]\u001B[0m\r\n",
      "tests/test_sequence_models.py::test_language_model_implementation[cpu-rnn-1-False-12-1-15-2-13] \u001B[32mPASSED\u001B[0m\u001B[32m [ 10%]\u001B[0m\r\n",
      "tests/test_sequence_models.py::test_language_model_implementation[cpu-rnn-1-False-12-34-1-1-1] \u001B[32mPASSED\u001B[0m\u001B[32m [ 11%]\u001B[0m\r\n",
      "tests/test_sequence_models.py::test_language_model_implementation[cpu-rnn-1-False-12-34-1-1-13] \u001B[32mPASSED\u001B[0m\u001B[32m [ 11%]\u001B[0m\r\n",
      "tests/test_sequence_models.py::test_language_model_implementation[cpu-rnn-1-False-12-34-1-2-1] \u001B[32mPASSED\u001B[0m\u001B[32m [ 11%]\u001B[0m\r\n",
      "tests/test_sequence_models.py::test_language_model_implementation[cpu-rnn-1-False-12-34-1-2-13] \u001B[32mPASSED\u001B[0m\u001B[32m [ 11%]\u001B[0m\r\n",
      "tests/test_sequence_models.py::test_language_model_implementation[cpu-rnn-1-False-12-34-15-1-1] \u001B[32mPASSED\u001B[0m\u001B[32m [ 11%]\u001B[0m\r\n",
      "tests/test_sequence_models.py::test_language_model_implementation[cpu-rnn-1-False-12-34-15-1-13] \u001B[32mPASSED\u001B[0m\u001B[32m [ 12%]\u001B[0m\r\n",
      "tests/test_sequence_models.py::test_language_model_implementation[cpu-rnn-1-False-12-34-15-2-1] \u001B[32mPASSED\u001B[0m\u001B[32m [ 12%]\u001B[0m\r\n",
      "tests/test_sequence_models.py::test_language_model_implementation[cpu-rnn-1-False-12-34-15-2-13] \u001B[32mPASSED\u001B[0m\u001B[32m [ 12%]\u001B[0m\r\n",
      "tests/test_sequence_models.py::test_language_model_implementation[cpu-rnn-1000-True-1-1-1-1-1] \u001B[32mPASSED\u001B[0m\u001B[32m [ 12%]\u001B[0m\r\n",
      "tests/test_sequence_models.py::test_language_model_implementation[cpu-rnn-1000-True-1-1-1-1-13] \u001B[32mPASSED\u001B[0m\u001B[32m [ 12%]\u001B[0m\r\n",
      "tests/test_sequence_models.py::test_language_model_implementation[cpu-rnn-1000-True-1-1-1-2-1] \u001B[32mPASSED\u001B[0m\u001B[32m [ 13%]\u001B[0m\r\n",
      "tests/test_sequence_models.py::test_language_model_implementation[cpu-rnn-1000-True-1-1-1-2-13] \u001B[32mPASSED\u001B[0m\u001B[32m [ 13%]\u001B[0m\r\n",
      "tests/test_sequence_models.py::test_language_model_implementation[cpu-rnn-1000-True-1-1-15-1-1] \u001B[32mPASSED\u001B[0m\u001B[32m [ 13%]\u001B[0m\r\n",
      "tests/test_sequence_models.py::test_language_model_implementation[cpu-rnn-1000-True-1-1-15-1-13] \u001B[32mPASSED\u001B[0m\u001B[32m [ 13%]\u001B[0m\r\n",
      "tests/test_sequence_models.py::test_language_model_implementation[cpu-rnn-1000-True-1-1-15-2-1] \u001B[32mPASSED\u001B[0m\u001B[32m [ 13%]\u001B[0m\r\n",
      "tests/test_sequence_models.py::test_language_model_implementation[cpu-rnn-1000-True-1-1-15-2-13] \u001B[32mPASSED\u001B[0m\u001B[32m [ 14%]\u001B[0m\r\n",
      "tests/test_sequence_models.py::test_language_model_implementation[cpu-rnn-1000-True-1-34-1-1-1] \u001B[32mPASSED\u001B[0m\u001B[32m [ 14%]\u001B[0m\r\n",
      "tests/test_sequence_models.py::test_language_model_implementation[cpu-rnn-1000-True-1-34-1-1-13] \u001B[32mPASSED\u001B[0m\u001B[32m [ 14%]\u001B[0m\r\n",
      "tests/test_sequence_models.py::test_language_model_implementation[cpu-rnn-1000-True-1-34-1-2-1] \u001B[32mPASSED\u001B[0m\u001B[32m [ 14%]\u001B[0m\r\n",
      "tests/test_sequence_models.py::test_language_model_implementation[cpu-rnn-1000-True-1-34-1-2-13] \u001B[32mPASSED\u001B[0m\u001B[32m [ 14%]\u001B[0m\r\n",
      "tests/test_sequence_models.py::test_language_model_implementation[cpu-rnn-1000-True-1-34-15-1-1] \u001B[32mPASSED\u001B[0m\u001B[32m [ 15%]\u001B[0m\r\n",
      "tests/test_sequence_models.py::test_language_model_implementation[cpu-rnn-1000-True-1-34-15-1-13] \u001B[32mPASSED\u001B[0m\u001B[32m [ 15%]\u001B[0m\r\n",
      "tests/test_sequence_models.py::test_language_model_implementation[cpu-rnn-1000-True-1-34-15-2-1] \u001B[32mPASSED\u001B[0m\u001B[32m [ 15%]\u001B[0m\r\n",
      "tests/test_sequence_models.py::test_language_model_implementation[cpu-rnn-1000-True-1-34-15-2-13] \u001B[32mPASSED\u001B[0m\u001B[32m [ 15%]\u001B[0m\r\n",
      "tests/test_sequence_models.py::test_language_model_implementation[cpu-rnn-1000-True-12-1-1-1-1] \u001B[32mPASSED\u001B[0m\u001B[32m [ 15%]\u001B[0m\r\n",
      "tests/test_sequence_models.py::test_language_model_implementation[cpu-rnn-1000-True-12-1-1-1-13] \u001B[32mPASSED\u001B[0m\u001B[32m [ 16%]\u001B[0m\r\n",
      "tests/test_sequence_models.py::test_language_model_implementation[cpu-rnn-1000-True-12-1-1-2-1] \u001B[32mPASSED\u001B[0m\u001B[32m [ 16%]\u001B[0m\r\n",
      "tests/test_sequence_models.py::test_language_model_implementation[cpu-rnn-1000-True-12-1-1-2-13] \u001B[32mPASSED\u001B[0m\u001B[32m [ 16%]\u001B[0m\r\n",
      "tests/test_sequence_models.py::test_language_model_implementation[cpu-rnn-1000-True-12-1-15-1-1] \u001B[32mPASSED\u001B[0m\u001B[32m [ 16%]\u001B[0m\r\n",
      "tests/test_sequence_models.py::test_language_model_implementation[cpu-rnn-1000-True-12-1-15-1-13] \u001B[32mPASSED\u001B[0m\u001B[32m [ 16%]\u001B[0m\r\n",
      "tests/test_sequence_models.py::test_language_model_implementation[cpu-rnn-1000-True-12-1-15-2-1] \u001B[32mPASSED\u001B[0m\u001B[32m [ 16%]\u001B[0m\r\n",
      "tests/test_sequence_models.py::test_language_model_implementation[cpu-rnn-1000-True-12-1-15-2-13] \u001B[32mPASSED\u001B[0m\u001B[32m [ 17%]\u001B[0m\r\n",
      "tests/test_sequence_models.py::test_language_model_implementation[cpu-rnn-1000-True-12-34-1-1-1] \u001B[32mPASSED\u001B[0m\u001B[32m [ 17%]\u001B[0m\r\n",
      "tests/test_sequence_models.py::test_language_model_implementation[cpu-rnn-1000-True-12-34-1-1-13] \u001B[32mPASSED\u001B[0m\u001B[32m [ 17%]\u001B[0m\r\n",
      "tests/test_sequence_models.py::test_language_model_implementation[cpu-rnn-1000-True-12-34-1-2-1] \u001B[32mPASSED\u001B[0m\u001B[32m [ 17%]\u001B[0m\r\n",
      "tests/test_sequence_models.py::test_language_model_implementation[cpu-rnn-1000-True-12-34-1-2-13] \u001B[32mPASSED\u001B[0m\u001B[32m [ 17%]\u001B[0m\r\n",
      "tests/test_sequence_models.py::test_language_model_implementation[cpu-rnn-1000-True-12-34-15-1-1] \u001B[32mPASSED\u001B[0m\u001B[32m [ 18%]\u001B[0m\r\n",
      "tests/test_sequence_models.py::test_language_model_implementation[cpu-rnn-1000-True-12-34-15-1-13] \u001B[32mPASSED\u001B[0m\u001B[32m [ 18%]\u001B[0m\r\n",
      "tests/test_sequence_models.py::test_language_model_implementation[cpu-rnn-1000-True-12-34-15-2-1] \u001B[32mPASSED\u001B[0m\u001B[32m [ 18%]\u001B[0m\r\n",
      "tests/test_sequence_models.py::test_language_model_implementation[cpu-rnn-1000-True-12-34-15-2-13] \u001B[32mPASSED\u001B[0m\u001B[32m [ 18%]\u001B[0m\r\n",
      "tests/test_sequence_models.py::test_language_model_implementation[cpu-rnn-1000-False-1-1-1-1-1] \u001B[32mPASSED\u001B[0m\u001B[32m [ 18%]\u001B[0m\r\n",
      "tests/test_sequence_models.py::test_language_model_implementation[cpu-rnn-1000-False-1-1-1-1-13] \u001B[32mPASSED\u001B[0m\u001B[32m [ 19%]\u001B[0m\r\n",
      "tests/test_sequence_models.py::test_language_model_implementation[cpu-rnn-1000-False-1-1-1-2-1] \u001B[32mPASSED\u001B[0m\u001B[32m [ 19%]\u001B[0m\r\n",
      "tests/test_sequence_models.py::test_language_model_implementation[cpu-rnn-1000-False-1-1-1-2-13] \u001B[32mPASSED\u001B[0m\u001B[32m [ 19%]\u001B[0m\r\n",
      "tests/test_sequence_models.py::test_language_model_implementation[cpu-rnn-1000-False-1-1-15-1-1] \u001B[32mPASSED\u001B[0m\u001B[32m [ 19%]\u001B[0m\r\n",
      "tests/test_sequence_models.py::test_language_model_implementation[cpu-rnn-1000-False-1-1-15-1-13] \u001B[32mPASSED\u001B[0m\u001B[32m [ 19%]\u001B[0m\r\n",
      "tests/test_sequence_models.py::test_language_model_implementation[cpu-rnn-1000-False-1-1-15-2-1] \u001B[32mPASSED\u001B[0m\u001B[32m [ 20%]\u001B[0m\r\n",
      "tests/test_sequence_models.py::test_language_model_implementation[cpu-rnn-1000-False-1-1-15-2-13] \u001B[32mPASSED\u001B[0m\u001B[32m [ 20%]\u001B[0m\r\n",
      "tests/test_sequence_models.py::test_language_model_implementation[cpu-rnn-1000-False-1-34-1-1-1] \u001B[32mPASSED\u001B[0m\u001B[32m [ 20%]\u001B[0m\r\n",
      "tests/test_sequence_models.py::test_language_model_implementation[cpu-rnn-1000-False-1-34-1-1-13] \u001B[32mPASSED\u001B[0m\u001B[32m [ 20%]\u001B[0m\r\n",
      "tests/test_sequence_models.py::test_language_model_implementation[cpu-rnn-1000-False-1-34-1-2-1] \u001B[32mPASSED\u001B[0m\u001B[32m [ 20%]\u001B[0m\r\n",
      "tests/test_sequence_models.py::test_language_model_implementation[cpu-rnn-1000-False-1-34-1-2-13] \u001B[32mPASSED\u001B[0m\u001B[32m [ 21%]\u001B[0m\r\n",
      "tests/test_sequence_models.py::test_language_model_implementation[cpu-rnn-1000-False-1-34-15-1-1] \u001B[32mPASSED\u001B[0m\u001B[32m [ 21%]\u001B[0m\r\n",
      "tests/test_sequence_models.py::test_language_model_implementation[cpu-rnn-1000-False-1-34-15-1-13] \u001B[32mPASSED\u001B[0m\u001B[32m [ 21%]\u001B[0m\r\n",
      "tests/test_sequence_models.py::test_language_model_implementation[cpu-rnn-1000-False-1-34-15-2-1] \u001B[32mPASSED\u001B[0m\u001B[32m [ 21%]\u001B[0m\r\n",
      "tests/test_sequence_models.py::test_language_model_implementation[cpu-rnn-1000-False-1-34-15-2-13] \u001B[32mPASSED\u001B[0m\u001B[32m [ 21%]\u001B[0m\r\n",
      "tests/test_sequence_models.py::test_language_model_implementation[cpu-rnn-1000-False-12-1-1-1-1] \u001B[32mPASSED\u001B[0m\u001B[32m [ 22%]\u001B[0m\r\n",
      "tests/test_sequence_models.py::test_language_model_implementation[cpu-rnn-1000-False-12-1-1-1-13] \u001B[32mPASSED\u001B[0m\u001B[32m [ 22%]\u001B[0m\r\n",
      "tests/test_sequence_models.py::test_language_model_implementation[cpu-rnn-1000-False-12-1-1-2-1] \u001B[32mPASSED\u001B[0m\u001B[32m [ 22%]\u001B[0m\r\n",
      "tests/test_sequence_models.py::test_language_model_implementation[cpu-rnn-1000-False-12-1-1-2-13] \u001B[32mPASSED\u001B[0m\u001B[32m [ 22%]\u001B[0m\r\n",
      "tests/test_sequence_models.py::test_language_model_implementation[cpu-rnn-1000-False-12-1-15-1-1] \u001B[32mPASSED\u001B[0m\u001B[32m [ 22%]\u001B[0m\r\n",
      "tests/test_sequence_models.py::test_language_model_implementation[cpu-rnn-1000-False-12-1-15-1-13] \u001B[32mPASSED\u001B[0m\u001B[32m [ 23%]\u001B[0m\r\n",
      "tests/test_sequence_models.py::test_language_model_implementation[cpu-rnn-1000-False-12-1-15-2-1] \u001B[32mPASSED\u001B[0m\u001B[32m [ 23%]\u001B[0m\r\n",
      "tests/test_sequence_models.py::test_language_model_implementation[cpu-rnn-1000-False-12-1-15-2-13] \u001B[32mPASSED\u001B[0m\u001B[32m [ 23%]\u001B[0m\r\n",
      "tests/test_sequence_models.py::test_language_model_implementation[cpu-rnn-1000-False-12-34-1-1-1] \u001B[32mPASSED\u001B[0m\u001B[32m [ 23%]\u001B[0m\r\n",
      "tests/test_sequence_models.py::test_language_model_implementation[cpu-rnn-1000-False-12-34-1-1-13] \u001B[32mPASSED\u001B[0m\u001B[32m [ 23%]\u001B[0m\r\n",
      "tests/test_sequence_models.py::test_language_model_implementation[cpu-rnn-1000-False-12-34-1-2-1] \u001B[32mPASSED\u001B[0m\u001B[32m [ 24%]\u001B[0m\r\n",
      "tests/test_sequence_models.py::test_language_model_implementation[cpu-rnn-1000-False-12-34-1-2-13] \u001B[32mPASSED\u001B[0m\u001B[32m [ 24%]\u001B[0m\r\n",
      "tests/test_sequence_models.py::test_language_model_implementation[cpu-rnn-1000-False-12-34-15-1-1] \u001B[32mPASSED\u001B[0m\u001B[32m [ 24%]\u001B[0m\r\n",
      "tests/test_sequence_models.py::test_language_model_implementation[cpu-rnn-1000-False-12-34-15-1-13] \u001B[32mPASSED\u001B[0m\u001B[32m [ 24%]\u001B[0m\r\n",
      "tests/test_sequence_models.py::test_language_model_implementation[cpu-rnn-1000-False-12-34-15-2-1] \u001B[32mPASSED\u001B[0m\u001B[32m [ 24%]\u001B[0m\r\n",
      "tests/test_sequence_models.py::test_language_model_implementation[cpu-rnn-1000-False-12-34-15-2-13] \u001B[32mPASSED\u001B[0m\u001B[32m [ 25%]\u001B[0m\r\n",
      "tests/test_sequence_models.py::test_language_model_implementation[cpu-lstm-1-True-1-1-1-1-1] \u001B[32mPASSED\u001B[0m\u001B[32m [ 25%]\u001B[0m\r\n",
      "tests/test_sequence_models.py::test_language_model_implementation[cpu-lstm-1-True-1-1-1-1-13] \u001B[32mPASSED\u001B[0m\u001B[32m [ 25%]\u001B[0m\r\n",
      "tests/test_sequence_models.py::test_language_model_implementation[cpu-lstm-1-True-1-1-1-2-1] \u001B[32mPASSED\u001B[0m\u001B[32m [ 25%]\u001B[0m\r\n",
      "tests/test_sequence_models.py::test_language_model_implementation[cpu-lstm-1-True-1-1-1-2-13] \u001B[32mPASSED\u001B[0m\u001B[32m [ 25%]\u001B[0m\r\n",
      "tests/test_sequence_models.py::test_language_model_implementation[cpu-lstm-1-True-1-1-15-1-1] \u001B[32mPASSED\u001B[0m\u001B[32m [ 25%]\u001B[0m\r\n",
      "tests/test_sequence_models.py::test_language_model_implementation[cpu-lstm-1-True-1-1-15-1-13] \u001B[32mPASSED\u001B[0m\u001B[32m [ 26%]\u001B[0m\r\n",
      "tests/test_sequence_models.py::test_language_model_implementation[cpu-lstm-1-True-1-1-15-2-1] \u001B[32mPASSED\u001B[0m\u001B[32m [ 26%]\u001B[0m\r\n",
      "tests/test_sequence_models.py::test_language_model_implementation[cpu-lstm-1-True-1-1-15-2-13] \u001B[32mPASSED\u001B[0m\u001B[32m [ 26%]\u001B[0m\r\n",
      "tests/test_sequence_models.py::test_language_model_implementation[cpu-lstm-1-True-1-34-1-1-1] \u001B[32mPASSED\u001B[0m\u001B[32m [ 26%]\u001B[0m\r\n",
      "tests/test_sequence_models.py::test_language_model_implementation[cpu-lstm-1-True-1-34-1-1-13] \u001B[32mPASSED\u001B[0m\u001B[32m [ 26%]\u001B[0m\r\n",
      "tests/test_sequence_models.py::test_language_model_implementation[cpu-lstm-1-True-1-34-1-2-1] \u001B[32mPASSED\u001B[0m\u001B[32m [ 27%]\u001B[0m\r\n",
      "tests/test_sequence_models.py::test_language_model_implementation[cpu-lstm-1-True-1-34-1-2-13] \u001B[32mPASSED\u001B[0m\u001B[32m [ 27%]\u001B[0m\r\n",
      "tests/test_sequence_models.py::test_language_model_implementation[cpu-lstm-1-True-1-34-15-1-1] \u001B[32mPASSED\u001B[0m\u001B[32m [ 27%]\u001B[0m\r\n",
      "tests/test_sequence_models.py::test_language_model_implementation[cpu-lstm-1-True-1-34-15-1-13] \u001B[32mPASSED\u001B[0m\u001B[32m [ 27%]\u001B[0m\r\n",
      "tests/test_sequence_models.py::test_language_model_implementation[cpu-lstm-1-True-1-34-15-2-1] \u001B[32mPASSED\u001B[0m\u001B[32m [ 27%]\u001B[0m\r\n",
      "tests/test_sequence_models.py::test_language_model_implementation[cpu-lstm-1-True-1-34-15-2-13] \u001B[32mPASSED\u001B[0m\u001B[32m [ 28%]\u001B[0m\r\n",
      "tests/test_sequence_models.py::test_language_model_implementation[cpu-lstm-1-True-12-1-1-1-1] \u001B[32mPASSED\u001B[0m\u001B[32m [ 28%]\u001B[0m\r\n",
      "tests/test_sequence_models.py::test_language_model_implementation[cpu-lstm-1-True-12-1-1-1-13] \u001B[32mPASSED\u001B[0m\u001B[32m [ 28%]\u001B[0m\r\n",
      "tests/test_sequence_models.py::test_language_model_implementation[cpu-lstm-1-True-12-1-1-2-1] \u001B[32mPASSED\u001B[0m\u001B[32m [ 28%]\u001B[0m\r\n",
      "tests/test_sequence_models.py::test_language_model_implementation[cpu-lstm-1-True-12-1-1-2-13] \u001B[32mPASSED\u001B[0m\u001B[32m [ 28%]\u001B[0m\r\n",
      "tests/test_sequence_models.py::test_language_model_implementation[cpu-lstm-1-True-12-1-15-1-1] \u001B[32mPASSED\u001B[0m\u001B[32m [ 29%]\u001B[0m\r\n",
      "tests/test_sequence_models.py::test_language_model_implementation[cpu-lstm-1-True-12-1-15-1-13] \u001B[32mPASSED\u001B[0m\u001B[32m [ 29%]\u001B[0m\r\n",
      "tests/test_sequence_models.py::test_language_model_implementation[cpu-lstm-1-True-12-1-15-2-1] \u001B[32mPASSED\u001B[0m\u001B[32m [ 29%]\u001B[0m\r\n",
      "tests/test_sequence_models.py::test_language_model_implementation[cpu-lstm-1-True-12-1-15-2-13] \u001B[32mPASSED\u001B[0m\u001B[32m [ 29%]\u001B[0m\r\n",
      "tests/test_sequence_models.py::test_language_model_implementation[cpu-lstm-1-True-12-34-1-1-1] \u001B[32mPASSED\u001B[0m\u001B[32m [ 29%]\u001B[0m\r\n",
      "tests/test_sequence_models.py::test_language_model_implementation[cpu-lstm-1-True-12-34-1-1-13] \u001B[32mPASSED\u001B[0m\u001B[32m [ 30%]\u001B[0m\r\n",
      "tests/test_sequence_models.py::test_language_model_implementation[cpu-lstm-1-True-12-34-1-2-1] \u001B[32mPASSED\u001B[0m\u001B[32m [ 30%]\u001B[0m\r\n",
      "tests/test_sequence_models.py::test_language_model_implementation[cpu-lstm-1-True-12-34-1-2-13] \u001B[32mPASSED\u001B[0m\u001B[32m [ 30%]\u001B[0m\r\n",
      "tests/test_sequence_models.py::test_language_model_implementation[cpu-lstm-1-True-12-34-15-1-1] \u001B[32mPASSED\u001B[0m\u001B[32m [ 30%]\u001B[0m\r\n",
      "tests/test_sequence_models.py::test_language_model_implementation[cpu-lstm-1-True-12-34-15-1-13] \u001B[32mPASSED\u001B[0m\u001B[32m [ 30%]\u001B[0m\r\n",
      "tests/test_sequence_models.py::test_language_model_implementation[cpu-lstm-1-True-12-34-15-2-1] \u001B[32mPASSED\u001B[0m\u001B[32m [ 31%]\u001B[0m\r\n",
      "tests/test_sequence_models.py::test_language_model_implementation[cpu-lstm-1-True-12-34-15-2-13] \u001B[32mPASSED\u001B[0m\u001B[32m [ 31%]\u001B[0m\r\n",
      "tests/test_sequence_models.py::test_language_model_implementation[cpu-lstm-1-False-1-1-1-1-1] \u001B[32mPASSED\u001B[0m\u001B[32m [ 31%]\u001B[0m\r\n",
      "tests/test_sequence_models.py::test_language_model_implementation[cpu-lstm-1-False-1-1-1-1-13] \u001B[32mPASSED\u001B[0m\u001B[32m [ 31%]\u001B[0m\r\n",
      "tests/test_sequence_models.py::test_language_model_implementation[cpu-lstm-1-False-1-1-1-2-1] \u001B[32mPASSED\u001B[0m\u001B[32m [ 31%]\u001B[0m\r\n",
      "tests/test_sequence_models.py::test_language_model_implementation[cpu-lstm-1-False-1-1-1-2-13] \u001B[32mPASSED\u001B[0m\u001B[32m [ 32%]\u001B[0m\r\n",
      "tests/test_sequence_models.py::test_language_model_implementation[cpu-lstm-1-False-1-1-15-1-1] \u001B[32mPASSED\u001B[0m\u001B[32m [ 32%]\u001B[0m\r\n",
      "tests/test_sequence_models.py::test_language_model_implementation[cpu-lstm-1-False-1-1-15-1-13] \u001B[32mPASSED\u001B[0m\u001B[32m [ 32%]\u001B[0m\r\n",
      "tests/test_sequence_models.py::test_language_model_implementation[cpu-lstm-1-False-1-1-15-2-1] \u001B[32mPASSED\u001B[0m\u001B[32m [ 32%]\u001B[0m\r\n",
      "tests/test_sequence_models.py::test_language_model_implementation[cpu-lstm-1-False-1-1-15-2-13] \u001B[32mPASSED\u001B[0m\u001B[32m [ 32%]\u001B[0m\r\n",
      "tests/test_sequence_models.py::test_language_model_implementation[cpu-lstm-1-False-1-34-1-1-1] \u001B[32mPASSED\u001B[0m\u001B[32m [ 33%]\u001B[0m\r\n",
      "tests/test_sequence_models.py::test_language_model_implementation[cpu-lstm-1-False-1-34-1-1-13] \u001B[32mPASSED\u001B[0m\u001B[32m [ 33%]\u001B[0m\r\n",
      "tests/test_sequence_models.py::test_language_model_implementation[cpu-lstm-1-False-1-34-1-2-1] \u001B[32mPASSED\u001B[0m\u001B[32m [ 33%]\u001B[0m\r\n",
      "tests/test_sequence_models.py::test_language_model_implementation[cpu-lstm-1-False-1-34-1-2-13] \u001B[32mPASSED\u001B[0m\u001B[32m [ 33%]\u001B[0m\r\n",
      "tests/test_sequence_models.py::test_language_model_implementation[cpu-lstm-1-False-1-34-15-1-1] \u001B[32mPASSED\u001B[0m\u001B[32m [ 33%]\u001B[0m\r\n",
      "tests/test_sequence_models.py::test_language_model_implementation[cpu-lstm-1-False-1-34-15-1-13] \u001B[32mPASSED\u001B[0m\u001B[32m [ 33%]\u001B[0m\r\n",
      "tests/test_sequence_models.py::test_language_model_implementation[cpu-lstm-1-False-1-34-15-2-1] \u001B[32mPASSED\u001B[0m\u001B[32m [ 34%]\u001B[0m\r\n",
      "tests/test_sequence_models.py::test_language_model_implementation[cpu-lstm-1-False-1-34-15-2-13] \u001B[32mPASSED\u001B[0m\u001B[32m [ 34%]\u001B[0m\r\n",
      "tests/test_sequence_models.py::test_language_model_implementation[cpu-lstm-1-False-12-1-1-1-1] \u001B[32mPASSED\u001B[0m\u001B[32m [ 34%]\u001B[0m\r\n",
      "tests/test_sequence_models.py::test_language_model_implementation[cpu-lstm-1-False-12-1-1-1-13] \u001B[32mPASSED\u001B[0m\u001B[32m [ 34%]\u001B[0m\r\n",
      "tests/test_sequence_models.py::test_language_model_implementation[cpu-lstm-1-False-12-1-1-2-1] \u001B[32mPASSED\u001B[0m\u001B[32m [ 34%]\u001B[0m\r\n",
      "tests/test_sequence_models.py::test_language_model_implementation[cpu-lstm-1-False-12-1-1-2-13] \u001B[32mPASSED\u001B[0m\u001B[32m [ 35%]\u001B[0m\r\n",
      "tests/test_sequence_models.py::test_language_model_implementation[cpu-lstm-1-False-12-1-15-1-1] \u001B[32mPASSED\u001B[0m\u001B[32m [ 35%]\u001B[0m\r\n",
      "tests/test_sequence_models.py::test_language_model_implementation[cpu-lstm-1-False-12-1-15-1-13] \u001B[32mPASSED\u001B[0m\u001B[32m [ 35%]\u001B[0m\r\n",
      "tests/test_sequence_models.py::test_language_model_implementation[cpu-lstm-1-False-12-1-15-2-1] \u001B[32mPASSED\u001B[0m\u001B[32m [ 35%]\u001B[0m\r\n",
      "tests/test_sequence_models.py::test_language_model_implementation[cpu-lstm-1-False-12-1-15-2-13] \u001B[32mPASSED\u001B[0m\u001B[32m [ 35%]\u001B[0m\r\n",
      "tests/test_sequence_models.py::test_language_model_implementation[cpu-lstm-1-False-12-34-1-1-1] \u001B[32mPASSED\u001B[0m\u001B[32m [ 36%]\u001B[0m\r\n",
      "tests/test_sequence_models.py::test_language_model_implementation[cpu-lstm-1-False-12-34-1-1-13] \u001B[32mPASSED\u001B[0m\u001B[32m [ 36%]\u001B[0m\r\n",
      "tests/test_sequence_models.py::test_language_model_implementation[cpu-lstm-1-False-12-34-1-2-1] \u001B[32mPASSED\u001B[0m\u001B[32m [ 36%]\u001B[0m\r\n",
      "tests/test_sequence_models.py::test_language_model_implementation[cpu-lstm-1-False-12-34-1-2-13] \u001B[32mPASSED\u001B[0m\u001B[32m [ 36%]\u001B[0m\r\n",
      "tests/test_sequence_models.py::test_language_model_implementation[cpu-lstm-1-False-12-34-15-1-1] \u001B[32mPASSED\u001B[0m\u001B[32m [ 36%]\u001B[0m\r\n",
      "tests/test_sequence_models.py::test_language_model_implementation[cpu-lstm-1-False-12-34-15-1-13] \u001B[32mPASSED\u001B[0m\u001B[32m [ 37%]\u001B[0m\r\n",
      "tests/test_sequence_models.py::test_language_model_implementation[cpu-lstm-1-False-12-34-15-2-1] \u001B[32mPASSED\u001B[0m\u001B[32m [ 37%]\u001B[0m\r\n",
      "tests/test_sequence_models.py::test_language_model_implementation[cpu-lstm-1-False-12-34-15-2-13] \u001B[32mPASSED\u001B[0m\u001B[32m [ 37%]\u001B[0m\r\n",
      "tests/test_sequence_models.py::test_language_model_implementation[cpu-lstm-1000-True-1-1-1-1-1] \u001B[32mPASSED\u001B[0m\u001B[32m [ 37%]\u001B[0m\r\n",
      "tests/test_sequence_models.py::test_language_model_implementation[cpu-lstm-1000-True-1-1-1-1-13] \u001B[32mPASSED\u001B[0m\u001B[32m [ 37%]\u001B[0m\r\n",
      "tests/test_sequence_models.py::test_language_model_implementation[cpu-lstm-1000-True-1-1-1-2-1] \u001B[32mPASSED\u001B[0m\u001B[32m [ 38%]\u001B[0m\r\n",
      "tests/test_sequence_models.py::test_language_model_implementation[cpu-lstm-1000-True-1-1-1-2-13] \u001B[32mPASSED\u001B[0m\u001B[32m [ 38%]\u001B[0m\r\n",
      "tests/test_sequence_models.py::test_language_model_implementation[cpu-lstm-1000-True-1-1-15-1-1] \u001B[32mPASSED\u001B[0m\u001B[32m [ 38%]\u001B[0m\r\n",
      "tests/test_sequence_models.py::test_language_model_implementation[cpu-lstm-1000-True-1-1-15-1-13] \u001B[32mPASSED\u001B[0m\u001B[32m [ 38%]\u001B[0m\r\n",
      "tests/test_sequence_models.py::test_language_model_implementation[cpu-lstm-1000-True-1-1-15-2-1] \u001B[32mPASSED\u001B[0m\u001B[32m [ 38%]\u001B[0m\r\n",
      "tests/test_sequence_models.py::test_language_model_implementation[cpu-lstm-1000-True-1-1-15-2-13] \u001B[32mPASSED\u001B[0m\u001B[32m [ 39%]\u001B[0m\r\n",
      "tests/test_sequence_models.py::test_language_model_implementation[cpu-lstm-1000-True-1-34-1-1-1] \u001B[32mPASSED\u001B[0m\u001B[32m [ 39%]\u001B[0m\r\n",
      "tests/test_sequence_models.py::test_language_model_implementation[cpu-lstm-1000-True-1-34-1-1-13] \u001B[32mPASSED\u001B[0m\u001B[32m [ 39%]\u001B[0m\r\n",
      "tests/test_sequence_models.py::test_language_model_implementation[cpu-lstm-1000-True-1-34-1-2-1] \u001B[32mPASSED\u001B[0m\u001B[32m [ 39%]\u001B[0m\r\n",
      "tests/test_sequence_models.py::test_language_model_implementation[cpu-lstm-1000-True-1-34-1-2-13] \u001B[32mPASSED\u001B[0m\u001B[32m [ 39%]\u001B[0m\r\n",
      "tests/test_sequence_models.py::test_language_model_implementation[cpu-lstm-1000-True-1-34-15-1-1] \u001B[32mPASSED\u001B[0m\u001B[32m [ 40%]\u001B[0m\r\n",
      "tests/test_sequence_models.py::test_language_model_implementation[cpu-lstm-1000-True-1-34-15-1-13] \u001B[32mPASSED\u001B[0m\u001B[32m [ 40%]\u001B[0m\r\n",
      "tests/test_sequence_models.py::test_language_model_implementation[cpu-lstm-1000-True-1-34-15-2-1] \u001B[32mPASSED\u001B[0m\u001B[32m [ 40%]\u001B[0m\r\n",
      "tests/test_sequence_models.py::test_language_model_implementation[cpu-lstm-1000-True-1-34-15-2-13] \u001B[32mPASSED\u001B[0m\u001B[32m [ 40%]\u001B[0m\r\n",
      "tests/test_sequence_models.py::test_language_model_implementation[cpu-lstm-1000-True-12-1-1-1-1] \u001B[32mPASSED\u001B[0m\u001B[32m [ 40%]\u001B[0m\r\n",
      "tests/test_sequence_models.py::test_language_model_implementation[cpu-lstm-1000-True-12-1-1-1-13] \u001B[32mPASSED\u001B[0m\u001B[32m [ 41%]\u001B[0m\r\n",
      "tests/test_sequence_models.py::test_language_model_implementation[cpu-lstm-1000-True-12-1-1-2-1] \u001B[32mPASSED\u001B[0m\u001B[32m [ 41%]\u001B[0m\r\n",
      "tests/test_sequence_models.py::test_language_model_implementation[cpu-lstm-1000-True-12-1-1-2-13] \u001B[32mPASSED\u001B[0m\u001B[32m [ 41%]\u001B[0m\r\n",
      "tests/test_sequence_models.py::test_language_model_implementation[cpu-lstm-1000-True-12-1-15-1-1] \u001B[32mPASSED\u001B[0m\u001B[32m [ 41%]\u001B[0m\r\n",
      "tests/test_sequence_models.py::test_language_model_implementation[cpu-lstm-1000-True-12-1-15-1-13] \u001B[32mPASSED\u001B[0m\u001B[32m [ 41%]\u001B[0m\r\n",
      "tests/test_sequence_models.py::test_language_model_implementation[cpu-lstm-1000-True-12-1-15-2-1] \u001B[32mPASSED\u001B[0m\u001B[32m [ 41%]\u001B[0m\r\n",
      "tests/test_sequence_models.py::test_language_model_implementation[cpu-lstm-1000-True-12-1-15-2-13] \u001B[32mPASSED\u001B[0m\u001B[32m [ 42%]\u001B[0m\r\n",
      "tests/test_sequence_models.py::test_language_model_implementation[cpu-lstm-1000-True-12-34-1-1-1] \u001B[32mPASSED\u001B[0m\u001B[32m [ 42%]\u001B[0m\r\n",
      "tests/test_sequence_models.py::test_language_model_implementation[cpu-lstm-1000-True-12-34-1-1-13] \u001B[32mPASSED\u001B[0m\u001B[32m [ 42%]\u001B[0m\r\n",
      "tests/test_sequence_models.py::test_language_model_implementation[cpu-lstm-1000-True-12-34-1-2-1] \u001B[32mPASSED\u001B[0m\u001B[32m [ 42%]\u001B[0m\r\n",
      "tests/test_sequence_models.py::test_language_model_implementation[cpu-lstm-1000-True-12-34-1-2-13] \u001B[32mPASSED\u001B[0m\u001B[32m [ 42%]\u001B[0m\r\n",
      "tests/test_sequence_models.py::test_language_model_implementation[cpu-lstm-1000-True-12-34-15-1-1] \u001B[32mPASSED\u001B[0m\u001B[32m [ 43%]\u001B[0m\r\n",
      "tests/test_sequence_models.py::test_language_model_implementation[cpu-lstm-1000-True-12-34-15-1-13] \u001B[32mPASSED\u001B[0m\u001B[32m [ 43%]\u001B[0m\r\n",
      "tests/test_sequence_models.py::test_language_model_implementation[cpu-lstm-1000-True-12-34-15-2-1] \u001B[32mPASSED\u001B[0m\u001B[32m [ 43%]\u001B[0m\r\n",
      "tests/test_sequence_models.py::test_language_model_implementation[cpu-lstm-1000-True-12-34-15-2-13] \u001B[32mPASSED\u001B[0m\u001B[32m [ 43%]\u001B[0m\r\n",
      "tests/test_sequence_models.py::test_language_model_implementation[cpu-lstm-1000-False-1-1-1-1-1] \u001B[32mPASSED\u001B[0m\u001B[32m [ 43%]\u001B[0m\r\n",
      "tests/test_sequence_models.py::test_language_model_implementation[cpu-lstm-1000-False-1-1-1-1-13] \u001B[32mPASSED\u001B[0m\u001B[32m [ 44%]\u001B[0m\r\n",
      "tests/test_sequence_models.py::test_language_model_implementation[cpu-lstm-1000-False-1-1-1-2-1] \u001B[32mPASSED\u001B[0m\u001B[32m [ 44%]\u001B[0m\r\n",
      "tests/test_sequence_models.py::test_language_model_implementation[cpu-lstm-1000-False-1-1-1-2-13] \u001B[32mPASSED\u001B[0m\u001B[32m [ 44%]\u001B[0m\r\n",
      "tests/test_sequence_models.py::test_language_model_implementation[cpu-lstm-1000-False-1-1-15-1-1] \u001B[32mPASSED\u001B[0m\u001B[32m [ 44%]\u001B[0m\r\n",
      "tests/test_sequence_models.py::test_language_model_implementation[cpu-lstm-1000-False-1-1-15-1-13] \u001B[32mPASSED\u001B[0m\u001B[32m [ 44%]\u001B[0m\r\n",
      "tests/test_sequence_models.py::test_language_model_implementation[cpu-lstm-1000-False-1-1-15-2-1] \u001B[32mPASSED\u001B[0m\u001B[32m [ 45%]\u001B[0m\r\n",
      "tests/test_sequence_models.py::test_language_model_implementation[cpu-lstm-1000-False-1-1-15-2-13] \u001B[32mPASSED\u001B[0m\u001B[32m [ 45%]\u001B[0m\r\n",
      "tests/test_sequence_models.py::test_language_model_implementation[cpu-lstm-1000-False-1-34-1-1-1] \u001B[32mPASSED\u001B[0m\u001B[32m [ 45%]\u001B[0m\r\n",
      "tests/test_sequence_models.py::test_language_model_implementation[cpu-lstm-1000-False-1-34-1-1-13] \u001B[32mPASSED\u001B[0m\u001B[32m [ 45%]\u001B[0m\r\n",
      "tests/test_sequence_models.py::test_language_model_implementation[cpu-lstm-1000-False-1-34-1-2-1] \u001B[32mPASSED\u001B[0m\u001B[32m [ 45%]\u001B[0m\r\n",
      "tests/test_sequence_models.py::test_language_model_implementation[cpu-lstm-1000-False-1-34-1-2-13] \u001B[32mPASSED\u001B[0m\u001B[32m [ 46%]\u001B[0m\r\n",
      "tests/test_sequence_models.py::test_language_model_implementation[cpu-lstm-1000-False-1-34-15-1-1] \u001B[32mPASSED\u001B[0m\u001B[32m [ 46%]\u001B[0m\r\n",
      "tests/test_sequence_models.py::test_language_model_implementation[cpu-lstm-1000-False-1-34-15-1-13] \u001B[32mPASSED\u001B[0m\u001B[32m [ 46%]\u001B[0m\r\n",
      "tests/test_sequence_models.py::test_language_model_implementation[cpu-lstm-1000-False-1-34-15-2-1] \u001B[32mPASSED\u001B[0m\u001B[32m [ 46%]\u001B[0m\r\n",
      "tests/test_sequence_models.py::test_language_model_implementation[cpu-lstm-1000-False-1-34-15-2-13] \u001B[32mPASSED\u001B[0m\u001B[32m [ 46%]\u001B[0m\r\n",
      "tests/test_sequence_models.py::test_language_model_implementation[cpu-lstm-1000-False-12-1-1-1-1] \u001B[32mPASSED\u001B[0m\u001B[32m [ 47%]\u001B[0m\r\n",
      "tests/test_sequence_models.py::test_language_model_implementation[cpu-lstm-1000-False-12-1-1-1-13] \u001B[32mPASSED\u001B[0m\u001B[32m [ 47%]\u001B[0m\r\n",
      "tests/test_sequence_models.py::test_language_model_implementation[cpu-lstm-1000-False-12-1-1-2-1] \u001B[32mPASSED\u001B[0m\u001B[32m [ 47%]\u001B[0m\r\n",
      "tests/test_sequence_models.py::test_language_model_implementation[cpu-lstm-1000-False-12-1-1-2-13] \u001B[32mPASSED\u001B[0m\u001B[32m [ 47%]\u001B[0m\r\n",
      "tests/test_sequence_models.py::test_language_model_implementation[cpu-lstm-1000-False-12-1-15-1-1] \u001B[32mPASSED\u001B[0m\u001B[32m [ 47%]\u001B[0m\r\n",
      "tests/test_sequence_models.py::test_language_model_implementation[cpu-lstm-1000-False-12-1-15-1-13] \u001B[32mPASSED\u001B[0m\u001B[32m [ 48%]\u001B[0m\r\n",
      "tests/test_sequence_models.py::test_language_model_implementation[cpu-lstm-1000-False-12-1-15-2-1] \u001B[32mPASSED\u001B[0m\u001B[32m [ 48%]\u001B[0m\r\n",
      "tests/test_sequence_models.py::test_language_model_implementation[cpu-lstm-1000-False-12-1-15-2-13] \u001B[32mPASSED\u001B[0m\u001B[32m [ 48%]\u001B[0m\r\n",
      "tests/test_sequence_models.py::test_language_model_implementation[cpu-lstm-1000-False-12-34-1-1-1] \u001B[32mPASSED\u001B[0m\u001B[32m [ 48%]\u001B[0m\r\n",
      "tests/test_sequence_models.py::test_language_model_implementation[cpu-lstm-1000-False-12-34-1-1-13] \u001B[32mPASSED\u001B[0m\u001B[32m [ 48%]\u001B[0m\r\n",
      "tests/test_sequence_models.py::test_language_model_implementation[cpu-lstm-1000-False-12-34-1-2-1] \u001B[32mPASSED\u001B[0m\u001B[32m [ 49%]\u001B[0m\r\n",
      "tests/test_sequence_models.py::test_language_model_implementation[cpu-lstm-1000-False-12-34-1-2-13] \u001B[32mPASSED\u001B[0m\u001B[32m [ 49%]\u001B[0m\r\n",
      "tests/test_sequence_models.py::test_language_model_implementation[cpu-lstm-1000-False-12-34-15-1-1] \u001B[32mPASSED\u001B[0m\u001B[32m [ 49%]\u001B[0m\r\n",
      "tests/test_sequence_models.py::test_language_model_implementation[cpu-lstm-1000-False-12-34-15-1-13] \u001B[32mPASSED\u001B[0m\u001B[32m [ 49%]\u001B[0m\r\n",
      "tests/test_sequence_models.py::test_language_model_implementation[cpu-lstm-1000-False-12-34-15-2-1] \u001B[32mPASSED\u001B[0m\u001B[32m [ 49%]\u001B[0m\r\n",
      "tests/test_sequence_models.py::test_language_model_implementation[cpu-lstm-1000-False-12-34-15-2-13] \u001B[32mPASSED\u001B[0m\u001B[32m [ 50%]\u001B[0m\r\n",
      "tests/test_sequence_models.py::test_language_model_implementation[cuda-rnn-1-True-1-1-1-1-1] \u001B[32mPASSED\u001B[0m\u001B[32m [ 50%]\u001B[0m\r\n",
      "tests/test_sequence_models.py::test_language_model_implementation[cuda-rnn-1-True-1-1-1-1-13] \u001B[32mPASSED\u001B[0m\u001B[32m [ 50%]\u001B[0m\r\n",
      "tests/test_sequence_models.py::test_language_model_implementation[cuda-rnn-1-True-1-1-1-2-1] \u001B[32mPASSED\u001B[0m\u001B[32m [ 50%]\u001B[0m\r\n",
      "tests/test_sequence_models.py::test_language_model_implementation[cuda-rnn-1-True-1-1-1-2-13] \u001B[32mPASSED\u001B[0m\u001B[32m [ 50%]\u001B[0m\r\n",
      "tests/test_sequence_models.py::test_language_model_implementation[cuda-rnn-1-True-1-1-15-1-1] \u001B[32mPASSED\u001B[0m\u001B[32m [ 50%]\u001B[0m\r\n",
      "tests/test_sequence_models.py::test_language_model_implementation[cuda-rnn-1-True-1-1-15-1-13] \u001B[32mPASSED\u001B[0m\u001B[32m [ 51%]\u001B[0m\r\n",
      "tests/test_sequence_models.py::test_language_model_implementation[cuda-rnn-1-True-1-1-15-2-1] \u001B[32mPASSED\u001B[0m\u001B[32m [ 51%]\u001B[0m\r\n",
      "tests/test_sequence_models.py::test_language_model_implementation[cuda-rnn-1-True-1-1-15-2-13] \u001B[32mPASSED\u001B[0m\u001B[32m [ 51%]\u001B[0m\r\n",
      "tests/test_sequence_models.py::test_language_model_implementation[cuda-rnn-1-True-1-34-1-1-1] \u001B[32mPASSED\u001B[0m\u001B[32m [ 51%]\u001B[0m\r\n",
      "tests/test_sequence_models.py::test_language_model_implementation[cuda-rnn-1-True-1-34-1-1-13] \u001B[32mPASSED\u001B[0m\u001B[32m [ 51%]\u001B[0m\r\n",
      "tests/test_sequence_models.py::test_language_model_implementation[cuda-rnn-1-True-1-34-1-2-1] \u001B[32mPASSED\u001B[0m\u001B[32m [ 52%]\u001B[0m\r\n",
      "tests/test_sequence_models.py::test_language_model_implementation[cuda-rnn-1-True-1-34-1-2-13] \u001B[32mPASSED\u001B[0m\u001B[32m [ 52%]\u001B[0m\r\n",
      "tests/test_sequence_models.py::test_language_model_implementation[cuda-rnn-1-True-1-34-15-1-1] \u001B[32mPASSED\u001B[0m\u001B[32m [ 52%]\u001B[0m\r\n",
      "tests/test_sequence_models.py::test_language_model_implementation[cuda-rnn-1-True-1-34-15-1-13] \u001B[32mPASSED\u001B[0m\u001B[32m [ 52%]\u001B[0m\r\n",
      "tests/test_sequence_models.py::test_language_model_implementation[cuda-rnn-1-True-1-34-15-2-1] \u001B[32mPASSED\u001B[0m\u001B[32m [ 52%]\u001B[0m\r\n",
      "tests/test_sequence_models.py::test_language_model_implementation[cuda-rnn-1-True-1-34-15-2-13] \u001B[32mPASSED\u001B[0m\u001B[32m [ 53%]\u001B[0m\r\n",
      "tests/test_sequence_models.py::test_language_model_implementation[cuda-rnn-1-True-12-1-1-1-1] \u001B[32mPASSED\u001B[0m\u001B[32m [ 53%]\u001B[0m\r\n",
      "tests/test_sequence_models.py::test_language_model_implementation[cuda-rnn-1-True-12-1-1-1-13] \u001B[32mPASSED\u001B[0m\u001B[32m [ 53%]\u001B[0m\r\n",
      "tests/test_sequence_models.py::test_language_model_implementation[cuda-rnn-1-True-12-1-1-2-1] \u001B[32mPASSED\u001B[0m\u001B[32m [ 53%]\u001B[0m\r\n",
      "tests/test_sequence_models.py::test_language_model_implementation[cuda-rnn-1-True-12-1-1-2-13] \u001B[32mPASSED\u001B[0m\u001B[32m [ 53%]\u001B[0m\r\n",
      "tests/test_sequence_models.py::test_language_model_implementation[cuda-rnn-1-True-12-1-15-1-1] \u001B[32mPASSED\u001B[0m\u001B[32m [ 54%]\u001B[0m\r\n",
      "tests/test_sequence_models.py::test_language_model_implementation[cuda-rnn-1-True-12-1-15-1-13] \u001B[32mPASSED\u001B[0m\u001B[32m [ 54%]\u001B[0m\r\n",
      "tests/test_sequence_models.py::test_language_model_implementation[cuda-rnn-1-True-12-1-15-2-1] \u001B[32mPASSED\u001B[0m\u001B[32m [ 54%]\u001B[0m\r\n",
      "tests/test_sequence_models.py::test_language_model_implementation[cuda-rnn-1-True-12-1-15-2-13] \u001B[32mPASSED\u001B[0m\u001B[32m [ 54%]\u001B[0m\r\n",
      "tests/test_sequence_models.py::test_language_model_implementation[cuda-rnn-1-True-12-34-1-1-1] \u001B[32mPASSED\u001B[0m\u001B[32m [ 54%]\u001B[0m\r\n",
      "tests/test_sequence_models.py::test_language_model_implementation[cuda-rnn-1-True-12-34-1-1-13] \u001B[32mPASSED\u001B[0m\u001B[32m [ 55%]\u001B[0m\r\n",
      "tests/test_sequence_models.py::test_language_model_implementation[cuda-rnn-1-True-12-34-1-2-1] \u001B[32mPASSED\u001B[0m\u001B[32m [ 55%]\u001B[0m\r\n",
      "tests/test_sequence_models.py::test_language_model_implementation[cuda-rnn-1-True-12-34-1-2-13] \u001B[32mPASSED\u001B[0m\u001B[32m [ 55%]\u001B[0m\r\n",
      "tests/test_sequence_models.py::test_language_model_implementation[cuda-rnn-1-True-12-34-15-1-1] \u001B[32mPASSED\u001B[0m\u001B[32m [ 55%]\u001B[0m\r\n",
      "tests/test_sequence_models.py::test_language_model_implementation[cuda-rnn-1-True-12-34-15-1-13] \u001B[32mPASSED\u001B[0m\u001B[32m [ 55%]\u001B[0m\r\n",
      "tests/test_sequence_models.py::test_language_model_implementation[cuda-rnn-1-True-12-34-15-2-1] \u001B[32mPASSED\u001B[0m\u001B[32m [ 56%]\u001B[0m\r\n",
      "tests/test_sequence_models.py::test_language_model_implementation[cuda-rnn-1-True-12-34-15-2-13] \u001B[32mPASSED\u001B[0m\u001B[32m [ 56%]\u001B[0m\r\n",
      "tests/test_sequence_models.py::test_language_model_implementation[cuda-rnn-1-False-1-1-1-1-1] \u001B[32mPASSED\u001B[0m\u001B[32m [ 56%]\u001B[0m\r\n",
      "tests/test_sequence_models.py::test_language_model_implementation[cuda-rnn-1-False-1-1-1-1-13] \u001B[32mPASSED\u001B[0m\u001B[32m [ 56%]\u001B[0m\r\n",
      "tests/test_sequence_models.py::test_language_model_implementation[cuda-rnn-1-False-1-1-1-2-1] \u001B[32mPASSED\u001B[0m\u001B[32m [ 56%]\u001B[0m\r\n",
      "tests/test_sequence_models.py::test_language_model_implementation[cuda-rnn-1-False-1-1-1-2-13] \u001B[32mPASSED\u001B[0m\u001B[32m [ 57%]\u001B[0m\r\n",
      "tests/test_sequence_models.py::test_language_model_implementation[cuda-rnn-1-False-1-1-15-1-1] \u001B[32mPASSED\u001B[0m\u001B[32m [ 57%]\u001B[0m\r\n",
      "tests/test_sequence_models.py::test_language_model_implementation[cuda-rnn-1-False-1-1-15-1-13] \u001B[32mPASSED\u001B[0m\u001B[32m [ 57%]\u001B[0m\r\n",
      "tests/test_sequence_models.py::test_language_model_implementation[cuda-rnn-1-False-1-1-15-2-1] \u001B[32mPASSED\u001B[0m\u001B[32m [ 57%]\u001B[0m\r\n",
      "tests/test_sequence_models.py::test_language_model_implementation[cuda-rnn-1-False-1-1-15-2-13] \u001B[32mPASSED\u001B[0m\u001B[32m [ 57%]\u001B[0m\r\n",
      "tests/test_sequence_models.py::test_language_model_implementation[cuda-rnn-1-False-1-34-1-1-1] \u001B[32mPASSED\u001B[0m\u001B[32m [ 58%]\u001B[0m\r\n",
      "tests/test_sequence_models.py::test_language_model_implementation[cuda-rnn-1-False-1-34-1-1-13] \u001B[32mPASSED\u001B[0m\u001B[32m [ 58%]\u001B[0m\r\n",
      "tests/test_sequence_models.py::test_language_model_implementation[cuda-rnn-1-False-1-34-1-2-1] \u001B[32mPASSED\u001B[0m\u001B[32m [ 58%]\u001B[0m\r\n",
      "tests/test_sequence_models.py::test_language_model_implementation[cuda-rnn-1-False-1-34-1-2-13] \u001B[32mPASSED\u001B[0m\u001B[32m [ 58%]\u001B[0m\r\n",
      "tests/test_sequence_models.py::test_language_model_implementation[cuda-rnn-1-False-1-34-15-1-1] \u001B[32mPASSED\u001B[0m\u001B[32m [ 58%]\u001B[0m\r\n",
      "tests/test_sequence_models.py::test_language_model_implementation[cuda-rnn-1-False-1-34-15-1-13] \u001B[32mPASSED\u001B[0m\u001B[32m [ 58%]\u001B[0m\r\n",
      "tests/test_sequence_models.py::test_language_model_implementation[cuda-rnn-1-False-1-34-15-2-1] \u001B[32mPASSED\u001B[0m\u001B[32m [ 59%]\u001B[0m\r\n",
      "tests/test_sequence_models.py::test_language_model_implementation[cuda-rnn-1-False-1-34-15-2-13] \u001B[32mPASSED\u001B[0m\u001B[32m [ 59%]\u001B[0m\r\n",
      "tests/test_sequence_models.py::test_language_model_implementation[cuda-rnn-1-False-12-1-1-1-1] \u001B[32mPASSED\u001B[0m\u001B[32m [ 59%]\u001B[0m\r\n",
      "tests/test_sequence_models.py::test_language_model_implementation[cuda-rnn-1-False-12-1-1-1-13] \u001B[32mPASSED\u001B[0m\u001B[32m [ 59%]\u001B[0m\r\n",
      "tests/test_sequence_models.py::test_language_model_implementation[cuda-rnn-1-False-12-1-1-2-1] \u001B[32mPASSED\u001B[0m\u001B[32m [ 59%]\u001B[0m\r\n",
      "tests/test_sequence_models.py::test_language_model_implementation[cuda-rnn-1-False-12-1-1-2-13] \u001B[32mPASSED\u001B[0m\u001B[32m [ 60%]\u001B[0m\r\n",
      "tests/test_sequence_models.py::test_language_model_implementation[cuda-rnn-1-False-12-1-15-1-1] \u001B[32mPASSED\u001B[0m\u001B[32m [ 60%]\u001B[0m\r\n",
      "tests/test_sequence_models.py::test_language_model_implementation[cuda-rnn-1-False-12-1-15-1-13] \u001B[32mPASSED\u001B[0m\u001B[32m [ 60%]\u001B[0m\r\n",
      "tests/test_sequence_models.py::test_language_model_implementation[cuda-rnn-1-False-12-1-15-2-1] \u001B[32mPASSED\u001B[0m\u001B[32m [ 60%]\u001B[0m\r\n",
      "tests/test_sequence_models.py::test_language_model_implementation[cuda-rnn-1-False-12-1-15-2-13] \u001B[32mPASSED\u001B[0m\u001B[32m [ 60%]\u001B[0m\r\n",
      "tests/test_sequence_models.py::test_language_model_implementation[cuda-rnn-1-False-12-34-1-1-1] \u001B[32mPASSED\u001B[0m\u001B[32m [ 61%]\u001B[0m\r\n",
      "tests/test_sequence_models.py::test_language_model_implementation[cuda-rnn-1-False-12-34-1-1-13] \u001B[32mPASSED\u001B[0m\u001B[32m [ 61%]\u001B[0m\r\n",
      "tests/test_sequence_models.py::test_language_model_implementation[cuda-rnn-1-False-12-34-1-2-1] \u001B[32mPASSED\u001B[0m\u001B[32m [ 61%]\u001B[0m\r\n",
      "tests/test_sequence_models.py::test_language_model_implementation[cuda-rnn-1-False-12-34-1-2-13] \u001B[32mPASSED\u001B[0m\u001B[32m [ 61%]\u001B[0m\r\n",
      "tests/test_sequence_models.py::test_language_model_implementation[cuda-rnn-1-False-12-34-15-1-1] \u001B[32mPASSED\u001B[0m\u001B[32m [ 61%]\u001B[0m\r\n",
      "tests/test_sequence_models.py::test_language_model_implementation[cuda-rnn-1-False-12-34-15-1-13] \u001B[32mPASSED\u001B[0m\u001B[32m [ 62%]\u001B[0m\r\n",
      "tests/test_sequence_models.py::test_language_model_implementation[cuda-rnn-1-False-12-34-15-2-1] \u001B[32mPASSED\u001B[0m\u001B[32m [ 62%]\u001B[0m\r\n",
      "tests/test_sequence_models.py::test_language_model_implementation[cuda-rnn-1-False-12-34-15-2-13] \u001B[32mPASSED\u001B[0m\u001B[32m [ 62%]\u001B[0m\r\n",
      "tests/test_sequence_models.py::test_language_model_implementation[cuda-rnn-1000-True-1-1-1-1-1] \u001B[32mPASSED\u001B[0m\u001B[32m [ 62%]\u001B[0m\r\n",
      "tests/test_sequence_models.py::test_language_model_implementation[cuda-rnn-1000-True-1-1-1-1-13] \u001B[32mPASSED\u001B[0m\u001B[32m [ 62%]\u001B[0m\r\n",
      "tests/test_sequence_models.py::test_language_model_implementation[cuda-rnn-1000-True-1-1-1-2-1] \u001B[32mPASSED\u001B[0m\u001B[32m [ 63%]\u001B[0m\r\n",
      "tests/test_sequence_models.py::test_language_model_implementation[cuda-rnn-1000-True-1-1-1-2-13] \u001B[32mPASSED\u001B[0m\u001B[32m [ 63%]\u001B[0m\r\n",
      "tests/test_sequence_models.py::test_language_model_implementation[cuda-rnn-1000-True-1-1-15-1-1] \u001B[32mPASSED\u001B[0m\u001B[32m [ 63%]\u001B[0m\r\n",
      "tests/test_sequence_models.py::test_language_model_implementation[cuda-rnn-1000-True-1-1-15-1-13] \u001B[32mPASSED\u001B[0m\u001B[32m [ 63%]\u001B[0m\r\n",
      "tests/test_sequence_models.py::test_language_model_implementation[cuda-rnn-1000-True-1-1-15-2-1] \u001B[32mPASSED\u001B[0m\u001B[32m [ 63%]\u001B[0m\r\n",
      "tests/test_sequence_models.py::test_language_model_implementation[cuda-rnn-1000-True-1-1-15-2-13] \u001B[32mPASSED\u001B[0m\u001B[32m [ 64%]\u001B[0m\r\n",
      "tests/test_sequence_models.py::test_language_model_implementation[cuda-rnn-1000-True-1-34-1-1-1] \u001B[32mPASSED\u001B[0m\u001B[32m [ 64%]\u001B[0m\r\n",
      "tests/test_sequence_models.py::test_language_model_implementation[cuda-rnn-1000-True-1-34-1-1-13] \u001B[32mPASSED\u001B[0m\u001B[32m [ 64%]\u001B[0m\r\n",
      "tests/test_sequence_models.py::test_language_model_implementation[cuda-rnn-1000-True-1-34-1-2-1] \u001B[32mPASSED\u001B[0m\u001B[32m [ 64%]\u001B[0m\r\n",
      "tests/test_sequence_models.py::test_language_model_implementation[cuda-rnn-1000-True-1-34-1-2-13] \u001B[32mPASSED\u001B[0m\u001B[32m [ 64%]\u001B[0m\r\n",
      "tests/test_sequence_models.py::test_language_model_implementation[cuda-rnn-1000-True-1-34-15-1-1] \u001B[32mPASSED\u001B[0m\u001B[32m [ 65%]\u001B[0m\r\n",
      "tests/test_sequence_models.py::test_language_model_implementation[cuda-rnn-1000-True-1-34-15-1-13] \u001B[32mPASSED\u001B[0m\u001B[32m [ 65%]\u001B[0m\r\n",
      "tests/test_sequence_models.py::test_language_model_implementation[cuda-rnn-1000-True-1-34-15-2-1] \u001B[32mPASSED\u001B[0m\u001B[32m [ 65%]\u001B[0m\r\n",
      "tests/test_sequence_models.py::test_language_model_implementation[cuda-rnn-1000-True-1-34-15-2-13] \u001B[32mPASSED\u001B[0m\u001B[32m [ 65%]\u001B[0m\r\n",
      "tests/test_sequence_models.py::test_language_model_implementation[cuda-rnn-1000-True-12-1-1-1-1] \u001B[32mPASSED\u001B[0m\u001B[32m [ 65%]\u001B[0m\r\n",
      "tests/test_sequence_models.py::test_language_model_implementation[cuda-rnn-1000-True-12-1-1-1-13] \u001B[32mPASSED\u001B[0m\u001B[32m [ 66%]\u001B[0m\r\n",
      "tests/test_sequence_models.py::test_language_model_implementation[cuda-rnn-1000-True-12-1-1-2-1] \u001B[32mPASSED\u001B[0m\u001B[32m [ 66%]\u001B[0m\r\n",
      "tests/test_sequence_models.py::test_language_model_implementation[cuda-rnn-1000-True-12-1-1-2-13] \u001B[32mPASSED\u001B[0m\u001B[32m [ 66%]\u001B[0m\r\n",
      "tests/test_sequence_models.py::test_language_model_implementation[cuda-rnn-1000-True-12-1-15-1-1] \u001B[32mPASSED\u001B[0m\u001B[32m [ 66%]\u001B[0m\r\n",
      "tests/test_sequence_models.py::test_language_model_implementation[cuda-rnn-1000-True-12-1-15-1-13] \u001B[32mPASSED\u001B[0m\u001B[32m [ 66%]\u001B[0m\r\n",
      "tests/test_sequence_models.py::test_language_model_implementation[cuda-rnn-1000-True-12-1-15-2-1] \u001B[32mPASSED\u001B[0m\u001B[32m [ 66%]\u001B[0m\r\n",
      "tests/test_sequence_models.py::test_language_model_implementation[cuda-rnn-1000-True-12-1-15-2-13] \u001B[32mPASSED\u001B[0m\u001B[32m [ 67%]\u001B[0m\r\n",
      "tests/test_sequence_models.py::test_language_model_implementation[cuda-rnn-1000-True-12-34-1-1-1] \u001B[32mPASSED\u001B[0m\u001B[32m [ 67%]\u001B[0m\r\n",
      "tests/test_sequence_models.py::test_language_model_implementation[cuda-rnn-1000-True-12-34-1-1-13] \u001B[32mPASSED\u001B[0m\u001B[32m [ 67%]\u001B[0m\r\n",
      "tests/test_sequence_models.py::test_language_model_implementation[cuda-rnn-1000-True-12-34-1-2-1] \u001B[32mPASSED\u001B[0m\u001B[32m [ 67%]\u001B[0m\r\n",
      "tests/test_sequence_models.py::test_language_model_implementation[cuda-rnn-1000-True-12-34-1-2-13] \u001B[32mPASSED\u001B[0m\u001B[32m [ 67%]\u001B[0m\r\n",
      "tests/test_sequence_models.py::test_language_model_implementation[cuda-rnn-1000-True-12-34-15-1-1] \u001B[32mPASSED\u001B[0m\u001B[32m [ 68%]\u001B[0m\r\n",
      "tests/test_sequence_models.py::test_language_model_implementation[cuda-rnn-1000-True-12-34-15-1-13] \u001B[32mPASSED\u001B[0m\u001B[32m [ 68%]\u001B[0m\r\n",
      "tests/test_sequence_models.py::test_language_model_implementation[cuda-rnn-1000-True-12-34-15-2-1] \u001B[32mPASSED\u001B[0m\u001B[32m [ 68%]\u001B[0m\r\n",
      "tests/test_sequence_models.py::test_language_model_implementation[cuda-rnn-1000-True-12-34-15-2-13] \u001B[32mPASSED\u001B[0m\u001B[32m [ 68%]\u001B[0m\r\n",
      "tests/test_sequence_models.py::test_language_model_implementation[cuda-rnn-1000-False-1-1-1-1-1] \u001B[32mPASSED\u001B[0m\u001B[32m [ 68%]\u001B[0m\r\n",
      "tests/test_sequence_models.py::test_language_model_implementation[cuda-rnn-1000-False-1-1-1-1-13] \u001B[32mPASSED\u001B[0m\u001B[32m [ 69%]\u001B[0m\r\n",
      "tests/test_sequence_models.py::test_language_model_implementation[cuda-rnn-1000-False-1-1-1-2-1] \u001B[32mPASSED\u001B[0m\u001B[32m [ 69%]\u001B[0m\r\n",
      "tests/test_sequence_models.py::test_language_model_implementation[cuda-rnn-1000-False-1-1-1-2-13] \u001B[32mPASSED\u001B[0m\u001B[32m [ 69%]\u001B[0m\r\n",
      "tests/test_sequence_models.py::test_language_model_implementation[cuda-rnn-1000-False-1-1-15-1-1] \u001B[32mPASSED\u001B[0m\u001B[32m [ 69%]\u001B[0m\r\n",
      "tests/test_sequence_models.py::test_language_model_implementation[cuda-rnn-1000-False-1-1-15-1-13] \u001B[32mPASSED\u001B[0m\u001B[32m [ 69%]\u001B[0m\r\n",
      "tests/test_sequence_models.py::test_language_model_implementation[cuda-rnn-1000-False-1-1-15-2-1] \u001B[32mPASSED\u001B[0m\u001B[32m [ 70%]\u001B[0m\r\n",
      "tests/test_sequence_models.py::test_language_model_implementation[cuda-rnn-1000-False-1-1-15-2-13] \u001B[32mPASSED\u001B[0m\u001B[32m [ 70%]\u001B[0m\r\n",
      "tests/test_sequence_models.py::test_language_model_implementation[cuda-rnn-1000-False-1-34-1-1-1] \u001B[32mPASSED\u001B[0m\u001B[32m [ 70%]\u001B[0m\r\n",
      "tests/test_sequence_models.py::test_language_model_implementation[cuda-rnn-1000-False-1-34-1-1-13] \u001B[32mPASSED\u001B[0m\u001B[32m [ 70%]\u001B[0m\r\n",
      "tests/test_sequence_models.py::test_language_model_implementation[cuda-rnn-1000-False-1-34-1-2-1] \u001B[32mPASSED\u001B[0m\u001B[32m [ 70%]\u001B[0m\r\n",
      "tests/test_sequence_models.py::test_language_model_implementation[cuda-rnn-1000-False-1-34-1-2-13] \u001B[32mPASSED\u001B[0m\u001B[32m [ 71%]\u001B[0m\r\n",
      "tests/test_sequence_models.py::test_language_model_implementation[cuda-rnn-1000-False-1-34-15-1-1] \u001B[32mPASSED\u001B[0m\u001B[32m [ 71%]\u001B[0m\r\n",
      "tests/test_sequence_models.py::test_language_model_implementation[cuda-rnn-1000-False-1-34-15-1-13] \u001B[32mPASSED\u001B[0m\u001B[32m [ 71%]\u001B[0m\r\n",
      "tests/test_sequence_models.py::test_language_model_implementation[cuda-rnn-1000-False-1-34-15-2-1] \u001B[32mPASSED\u001B[0m\u001B[32m [ 71%]\u001B[0m\r\n",
      "tests/test_sequence_models.py::test_language_model_implementation[cuda-rnn-1000-False-1-34-15-2-13] \u001B[32mPASSED\u001B[0m\u001B[32m [ 71%]\u001B[0m\r\n",
      "tests/test_sequence_models.py::test_language_model_implementation[cuda-rnn-1000-False-12-1-1-1-1] \u001B[32mPASSED\u001B[0m\u001B[32m [ 72%]\u001B[0m\r\n",
      "tests/test_sequence_models.py::test_language_model_implementation[cuda-rnn-1000-False-12-1-1-1-13] \u001B[32mPASSED\u001B[0m\u001B[32m [ 72%]\u001B[0m\r\n",
      "tests/test_sequence_models.py::test_language_model_implementation[cuda-rnn-1000-False-12-1-1-2-1] \u001B[32mPASSED\u001B[0m\u001B[32m [ 72%]\u001B[0m\r\n",
      "tests/test_sequence_models.py::test_language_model_implementation[cuda-rnn-1000-False-12-1-1-2-13] \u001B[32mPASSED\u001B[0m\u001B[32m [ 72%]\u001B[0m\r\n",
      "tests/test_sequence_models.py::test_language_model_implementation[cuda-rnn-1000-False-12-1-15-1-1] \u001B[32mPASSED\u001B[0m\u001B[32m [ 72%]\u001B[0m\r\n",
      "tests/test_sequence_models.py::test_language_model_implementation[cuda-rnn-1000-False-12-1-15-1-13] \u001B[32mPASSED\u001B[0m\u001B[32m [ 73%]\u001B[0m\r\n",
      "tests/test_sequence_models.py::test_language_model_implementation[cuda-rnn-1000-False-12-1-15-2-1] \u001B[32mPASSED\u001B[0m\u001B[32m [ 73%]\u001B[0m\r\n",
      "tests/test_sequence_models.py::test_language_model_implementation[cuda-rnn-1000-False-12-1-15-2-13] \u001B[32mPASSED\u001B[0m\u001B[32m [ 73%]\u001B[0m\r\n",
      "tests/test_sequence_models.py::test_language_model_implementation[cuda-rnn-1000-False-12-34-1-1-1] \u001B[32mPASSED\u001B[0m\u001B[32m [ 73%]\u001B[0m\r\n",
      "tests/test_sequence_models.py::test_language_model_implementation[cuda-rnn-1000-False-12-34-1-1-13] \u001B[32mPASSED\u001B[0m\u001B[32m [ 73%]\u001B[0m\r\n",
      "tests/test_sequence_models.py::test_language_model_implementation[cuda-rnn-1000-False-12-34-1-2-1] \u001B[32mPASSED\u001B[0m\u001B[32m [ 74%]\u001B[0m\r\n",
      "tests/test_sequence_models.py::test_language_model_implementation[cuda-rnn-1000-False-12-34-1-2-13] \u001B[32mPASSED\u001B[0m\u001B[32m [ 74%]\u001B[0m\r\n",
      "tests/test_sequence_models.py::test_language_model_implementation[cuda-rnn-1000-False-12-34-15-1-1] \u001B[32mPASSED\u001B[0m\u001B[32m [ 74%]\u001B[0m\r\n",
      "tests/test_sequence_models.py::test_language_model_implementation[cuda-rnn-1000-False-12-34-15-1-13] \u001B[32mPASSED\u001B[0m\u001B[32m [ 74%]\u001B[0m\r\n",
      "tests/test_sequence_models.py::test_language_model_implementation[cuda-rnn-1000-False-12-34-15-2-1] \u001B[32mPASSED\u001B[0m\u001B[32m [ 74%]\u001B[0m\r\n",
      "tests/test_sequence_models.py::test_language_model_implementation[cuda-rnn-1000-False-12-34-15-2-13] \u001B[32mPASSED\u001B[0m\u001B[32m [ 75%]\u001B[0m\r\n",
      "tests/test_sequence_models.py::test_language_model_implementation[cuda-lstm-1-True-1-1-1-1-1] \u001B[32mPASSED\u001B[0m\u001B[32m [ 75%]\u001B[0m\r\n",
      "tests/test_sequence_models.py::test_language_model_implementation[cuda-lstm-1-True-1-1-1-1-13] \u001B[32mPASSED\u001B[0m\u001B[32m [ 75%]\u001B[0m\r\n",
      "tests/test_sequence_models.py::test_language_model_implementation[cuda-lstm-1-True-1-1-1-2-1] \u001B[32mPASSED\u001B[0m\u001B[32m [ 75%]\u001B[0m\r\n",
      "tests/test_sequence_models.py::test_language_model_implementation[cuda-lstm-1-True-1-1-1-2-13] \u001B[32mPASSED\u001B[0m\u001B[32m [ 75%]\u001B[0m\r\n",
      "tests/test_sequence_models.py::test_language_model_implementation[cuda-lstm-1-True-1-1-15-1-1] \u001B[32mPASSED\u001B[0m\u001B[32m [ 75%]\u001B[0m\r\n",
      "tests/test_sequence_models.py::test_language_model_implementation[cuda-lstm-1-True-1-1-15-1-13] \u001B[32mPASSED\u001B[0m\u001B[32m [ 76%]\u001B[0m\r\n",
      "tests/test_sequence_models.py::test_language_model_implementation[cuda-lstm-1-True-1-1-15-2-1] \u001B[32mPASSED\u001B[0m\u001B[32m [ 76%]\u001B[0m\r\n",
      "tests/test_sequence_models.py::test_language_model_implementation[cuda-lstm-1-True-1-1-15-2-13] \u001B[32mPASSED\u001B[0m\u001B[32m [ 76%]\u001B[0m\r\n",
      "tests/test_sequence_models.py::test_language_model_implementation[cuda-lstm-1-True-1-34-1-1-1] \u001B[32mPASSED\u001B[0m\u001B[32m [ 76%]\u001B[0m\r\n",
      "tests/test_sequence_models.py::test_language_model_implementation[cuda-lstm-1-True-1-34-1-1-13] \u001B[32mPASSED\u001B[0m\u001B[32m [ 76%]\u001B[0m\r\n",
      "tests/test_sequence_models.py::test_language_model_implementation[cuda-lstm-1-True-1-34-1-2-1] \u001B[32mPASSED\u001B[0m\u001B[32m [ 77%]\u001B[0m\r\n",
      "tests/test_sequence_models.py::test_language_model_implementation[cuda-lstm-1-True-1-34-1-2-13] \u001B[32mPASSED\u001B[0m\u001B[32m [ 77%]\u001B[0m\r\n",
      "tests/test_sequence_models.py::test_language_model_implementation[cuda-lstm-1-True-1-34-15-1-1] \u001B[32mPASSED\u001B[0m\u001B[32m [ 77%]\u001B[0m\r\n",
      "tests/test_sequence_models.py::test_language_model_implementation[cuda-lstm-1-True-1-34-15-1-13] \u001B[32mPASSED\u001B[0m\u001B[32m [ 77%]\u001B[0m\r\n",
      "tests/test_sequence_models.py::test_language_model_implementation[cuda-lstm-1-True-1-34-15-2-1] \u001B[32mPASSED\u001B[0m\u001B[32m [ 77%]\u001B[0m\r\n",
      "tests/test_sequence_models.py::test_language_model_implementation[cuda-lstm-1-True-1-34-15-2-13] \u001B[32mPASSED\u001B[0m\u001B[32m [ 78%]\u001B[0m\r\n",
      "tests/test_sequence_models.py::test_language_model_implementation[cuda-lstm-1-True-12-1-1-1-1] \u001B[32mPASSED\u001B[0m\u001B[32m [ 78%]\u001B[0m\r\n",
      "tests/test_sequence_models.py::test_language_model_implementation[cuda-lstm-1-True-12-1-1-1-13] \u001B[32mPASSED\u001B[0m\u001B[32m [ 78%]\u001B[0m\r\n",
      "tests/test_sequence_models.py::test_language_model_implementation[cuda-lstm-1-True-12-1-1-2-1] \u001B[32mPASSED\u001B[0m\u001B[32m [ 78%]\u001B[0m\r\n",
      "tests/test_sequence_models.py::test_language_model_implementation[cuda-lstm-1-True-12-1-1-2-13] \u001B[32mPASSED\u001B[0m\u001B[32m [ 78%]\u001B[0m\r\n",
      "tests/test_sequence_models.py::test_language_model_implementation[cuda-lstm-1-True-12-1-15-1-1] \u001B[32mPASSED\u001B[0m\u001B[32m [ 79%]\u001B[0m\r\n",
      "tests/test_sequence_models.py::test_language_model_implementation[cuda-lstm-1-True-12-1-15-1-13] \u001B[32mPASSED\u001B[0m\u001B[32m [ 79%]\u001B[0m\r\n",
      "tests/test_sequence_models.py::test_language_model_implementation[cuda-lstm-1-True-12-1-15-2-1] \u001B[32mPASSED\u001B[0m\u001B[32m [ 79%]\u001B[0m\r\n",
      "tests/test_sequence_models.py::test_language_model_implementation[cuda-lstm-1-True-12-1-15-2-13] \u001B[32mPASSED\u001B[0m\u001B[32m [ 79%]\u001B[0m\r\n",
      "tests/test_sequence_models.py::test_language_model_implementation[cuda-lstm-1-True-12-34-1-1-1] \u001B[32mPASSED\u001B[0m\u001B[32m [ 79%]\u001B[0m\r\n",
      "tests/test_sequence_models.py::test_language_model_implementation[cuda-lstm-1-True-12-34-1-1-13] \u001B[32mPASSED\u001B[0m\u001B[32m [ 80%]\u001B[0m\r\n",
      "tests/test_sequence_models.py::test_language_model_implementation[cuda-lstm-1-True-12-34-1-2-1] \u001B[32mPASSED\u001B[0m\u001B[32m [ 80%]\u001B[0m\r\n",
      "tests/test_sequence_models.py::test_language_model_implementation[cuda-lstm-1-True-12-34-1-2-13] \u001B[32mPASSED\u001B[0m\u001B[32m [ 80%]\u001B[0m\r\n",
      "tests/test_sequence_models.py::test_language_model_implementation[cuda-lstm-1-True-12-34-15-1-1] \u001B[32mPASSED\u001B[0m\u001B[32m [ 80%]\u001B[0m\r\n",
      "tests/test_sequence_models.py::test_language_model_implementation[cuda-lstm-1-True-12-34-15-1-13] \u001B[32mPASSED\u001B[0m\u001B[32m [ 80%]\u001B[0m\r\n",
      "tests/test_sequence_models.py::test_language_model_implementation[cuda-lstm-1-True-12-34-15-2-1] \u001B[32mPASSED\u001B[0m\u001B[32m [ 81%]\u001B[0m\r\n",
      "tests/test_sequence_models.py::test_language_model_implementation[cuda-lstm-1-True-12-34-15-2-13] \u001B[32mPASSED\u001B[0m\u001B[32m [ 81%]\u001B[0m\r\n",
      "tests/test_sequence_models.py::test_language_model_implementation[cuda-lstm-1-False-1-1-1-1-1] \u001B[32mPASSED\u001B[0m\u001B[32m [ 81%]\u001B[0m\r\n",
      "tests/test_sequence_models.py::test_language_model_implementation[cuda-lstm-1-False-1-1-1-1-13] \u001B[32mPASSED\u001B[0m\u001B[32m [ 81%]\u001B[0m\r\n",
      "tests/test_sequence_models.py::test_language_model_implementation[cuda-lstm-1-False-1-1-1-2-1] \u001B[32mPASSED\u001B[0m\u001B[32m [ 81%]\u001B[0m\r\n",
      "tests/test_sequence_models.py::test_language_model_implementation[cuda-lstm-1-False-1-1-1-2-13] \u001B[32mPASSED\u001B[0m\u001B[32m [ 82%]\u001B[0m\r\n",
      "tests/test_sequence_models.py::test_language_model_implementation[cuda-lstm-1-False-1-1-15-1-1] \u001B[32mPASSED\u001B[0m\u001B[32m [ 82%]\u001B[0m\r\n",
      "tests/test_sequence_models.py::test_language_model_implementation[cuda-lstm-1-False-1-1-15-1-13] \u001B[32mPASSED\u001B[0m\u001B[32m [ 82%]\u001B[0m\r\n",
      "tests/test_sequence_models.py::test_language_model_implementation[cuda-lstm-1-False-1-1-15-2-1] \u001B[32mPASSED\u001B[0m\u001B[32m [ 82%]\u001B[0m\r\n",
      "tests/test_sequence_models.py::test_language_model_implementation[cuda-lstm-1-False-1-1-15-2-13] \u001B[32mPASSED\u001B[0m\u001B[32m [ 82%]\u001B[0m\r\n",
      "tests/test_sequence_models.py::test_language_model_implementation[cuda-lstm-1-False-1-34-1-1-1] \u001B[32mPASSED\u001B[0m\u001B[32m [ 83%]\u001B[0m\r\n",
      "tests/test_sequence_models.py::test_language_model_implementation[cuda-lstm-1-False-1-34-1-1-13] \u001B[32mPASSED\u001B[0m\u001B[32m [ 83%]\u001B[0m\r\n",
      "tests/test_sequence_models.py::test_language_model_implementation[cuda-lstm-1-False-1-34-1-2-1] \u001B[32mPASSED\u001B[0m\u001B[32m [ 83%]\u001B[0m\r\n",
      "tests/test_sequence_models.py::test_language_model_implementation[cuda-lstm-1-False-1-34-1-2-13] \u001B[32mPASSED\u001B[0m\u001B[32m [ 83%]\u001B[0m\r\n",
      "tests/test_sequence_models.py::test_language_model_implementation[cuda-lstm-1-False-1-34-15-1-1] \u001B[32mPASSED\u001B[0m\u001B[32m [ 83%]\u001B[0m\r\n",
      "tests/test_sequence_models.py::test_language_model_implementation[cuda-lstm-1-False-1-34-15-1-13] \u001B[32mPASSED\u001B[0m\u001B[32m [ 83%]\u001B[0m\r\n",
      "tests/test_sequence_models.py::test_language_model_implementation[cuda-lstm-1-False-1-34-15-2-1] \u001B[32mPASSED\u001B[0m\u001B[32m [ 84%]\u001B[0m\r\n",
      "tests/test_sequence_models.py::test_language_model_implementation[cuda-lstm-1-False-1-34-15-2-13] \u001B[32mPASSED\u001B[0m\u001B[32m [ 84%]\u001B[0m\r\n",
      "tests/test_sequence_models.py::test_language_model_implementation[cuda-lstm-1-False-12-1-1-1-1] \u001B[32mPASSED\u001B[0m\u001B[32m [ 84%]\u001B[0m\r\n",
      "tests/test_sequence_models.py::test_language_model_implementation[cuda-lstm-1-False-12-1-1-1-13] \u001B[32mPASSED\u001B[0m\u001B[32m [ 84%]\u001B[0m\r\n",
      "tests/test_sequence_models.py::test_language_model_implementation[cuda-lstm-1-False-12-1-1-2-1] \u001B[32mPASSED\u001B[0m\u001B[32m [ 84%]\u001B[0m\r\n",
      "tests/test_sequence_models.py::test_language_model_implementation[cuda-lstm-1-False-12-1-1-2-13] \u001B[32mPASSED\u001B[0m\u001B[32m [ 85%]\u001B[0m\r\n",
      "tests/test_sequence_models.py::test_language_model_implementation[cuda-lstm-1-False-12-1-15-1-1] \u001B[32mPASSED\u001B[0m\u001B[32m [ 85%]\u001B[0m\r\n",
      "tests/test_sequence_models.py::test_language_model_implementation[cuda-lstm-1-False-12-1-15-1-13] \u001B[32mPASSED\u001B[0m\u001B[32m [ 85%]\u001B[0m\r\n",
      "tests/test_sequence_models.py::test_language_model_implementation[cuda-lstm-1-False-12-1-15-2-1] \u001B[32mPASSED\u001B[0m\u001B[32m [ 85%]\u001B[0m\r\n",
      "tests/test_sequence_models.py::test_language_model_implementation[cuda-lstm-1-False-12-1-15-2-13] \u001B[32mPASSED\u001B[0m\u001B[32m [ 85%]\u001B[0m\r\n",
      "tests/test_sequence_models.py::test_language_model_implementation[cuda-lstm-1-False-12-34-1-1-1] \u001B[32mPASSED\u001B[0m\u001B[32m [ 86%]\u001B[0m\r\n",
      "tests/test_sequence_models.py::test_language_model_implementation[cuda-lstm-1-False-12-34-1-1-13] \u001B[32mPASSED\u001B[0m\u001B[32m [ 86%]\u001B[0m\r\n",
      "tests/test_sequence_models.py::test_language_model_implementation[cuda-lstm-1-False-12-34-1-2-1] \u001B[32mPASSED\u001B[0m\u001B[32m [ 86%]\u001B[0m\r\n",
      "tests/test_sequence_models.py::test_language_model_implementation[cuda-lstm-1-False-12-34-1-2-13] \u001B[32mPASSED\u001B[0m\u001B[32m [ 86%]\u001B[0m\r\n",
      "tests/test_sequence_models.py::test_language_model_implementation[cuda-lstm-1-False-12-34-15-1-1] \u001B[32mPASSED\u001B[0m\u001B[32m [ 86%]\u001B[0m\r\n",
      "tests/test_sequence_models.py::test_language_model_implementation[cuda-lstm-1-False-12-34-15-1-13] \u001B[32mPASSED\u001B[0m\u001B[32m [ 87%]\u001B[0m\r\n",
      "tests/test_sequence_models.py::test_language_model_implementation[cuda-lstm-1-False-12-34-15-2-1] \u001B[32mPASSED\u001B[0m\u001B[32m [ 87%]\u001B[0m\r\n",
      "tests/test_sequence_models.py::test_language_model_implementation[cuda-lstm-1-False-12-34-15-2-13] \u001B[32mPASSED\u001B[0m\u001B[32m [ 87%]\u001B[0m\r\n",
      "tests/test_sequence_models.py::test_language_model_implementation[cuda-lstm-1000-True-1-1-1-1-1] \u001B[32mPASSED\u001B[0m\u001B[32m [ 87%]\u001B[0m\r\n",
      "tests/test_sequence_models.py::test_language_model_implementation[cuda-lstm-1000-True-1-1-1-1-13] \u001B[32mPASSED\u001B[0m\u001B[32m [ 87%]\u001B[0m\r\n",
      "tests/test_sequence_models.py::test_language_model_implementation[cuda-lstm-1000-True-1-1-1-2-1] \u001B[32mPASSED\u001B[0m\u001B[32m [ 88%]\u001B[0m\r\n",
      "tests/test_sequence_models.py::test_language_model_implementation[cuda-lstm-1000-True-1-1-1-2-13] \u001B[32mPASSED\u001B[0m\u001B[32m [ 88%]\u001B[0m\r\n",
      "tests/test_sequence_models.py::test_language_model_implementation[cuda-lstm-1000-True-1-1-15-1-1] \u001B[32mPASSED\u001B[0m\u001B[32m [ 88%]\u001B[0m\r\n",
      "tests/test_sequence_models.py::test_language_model_implementation[cuda-lstm-1000-True-1-1-15-1-13] \u001B[32mPASSED\u001B[0m\u001B[32m [ 88%]\u001B[0m\r\n",
      "tests/test_sequence_models.py::test_language_model_implementation[cuda-lstm-1000-True-1-1-15-2-1] \u001B[32mPASSED\u001B[0m\u001B[32m [ 88%]\u001B[0m\r\n",
      "tests/test_sequence_models.py::test_language_model_implementation[cuda-lstm-1000-True-1-1-15-2-13] \u001B[32mPASSED\u001B[0m\u001B[32m [ 89%]\u001B[0m\r\n",
      "tests/test_sequence_models.py::test_language_model_implementation[cuda-lstm-1000-True-1-34-1-1-1] \u001B[32mPASSED\u001B[0m\u001B[32m [ 89%]\u001B[0m\r\n",
      "tests/test_sequence_models.py::test_language_model_implementation[cuda-lstm-1000-True-1-34-1-1-13] \u001B[32mPASSED\u001B[0m\u001B[32m [ 89%]\u001B[0m\r\n",
      "tests/test_sequence_models.py::test_language_model_implementation[cuda-lstm-1000-True-1-34-1-2-1] \u001B[32mPASSED\u001B[0m\u001B[32m [ 89%]\u001B[0m\r\n",
      "tests/test_sequence_models.py::test_language_model_implementation[cuda-lstm-1000-True-1-34-1-2-13] \u001B[32mPASSED\u001B[0m\u001B[32m [ 89%]\u001B[0m\r\n",
      "tests/test_sequence_models.py::test_language_model_implementation[cuda-lstm-1000-True-1-34-15-1-1] \u001B[32mPASSED\u001B[0m\u001B[32m [ 90%]\u001B[0m\r\n",
      "tests/test_sequence_models.py::test_language_model_implementation[cuda-lstm-1000-True-1-34-15-1-13] \u001B[32mPASSED\u001B[0m\u001B[32m [ 90%]\u001B[0m\r\n",
      "tests/test_sequence_models.py::test_language_model_implementation[cuda-lstm-1000-True-1-34-15-2-1] \u001B[32mPASSED\u001B[0m\u001B[32m [ 90%]\u001B[0m\r\n",
      "tests/test_sequence_models.py::test_language_model_implementation[cuda-lstm-1000-True-1-34-15-2-13] \u001B[32mPASSED\u001B[0m\u001B[32m [ 90%]\u001B[0m\r\n",
      "tests/test_sequence_models.py::test_language_model_implementation[cuda-lstm-1000-True-12-1-1-1-1] \u001B[32mPASSED\u001B[0m\u001B[32m [ 90%]\u001B[0m\r\n",
      "tests/test_sequence_models.py::test_language_model_implementation[cuda-lstm-1000-True-12-1-1-1-13] \u001B[32mPASSED\u001B[0m\u001B[32m [ 91%]\u001B[0m\r\n",
      "tests/test_sequence_models.py::test_language_model_implementation[cuda-lstm-1000-True-12-1-1-2-1] \u001B[32mPASSED\u001B[0m\u001B[32m [ 91%]\u001B[0m\r\n",
      "tests/test_sequence_models.py::test_language_model_implementation[cuda-lstm-1000-True-12-1-1-2-13] \u001B[32mPASSED\u001B[0m\u001B[32m [ 91%]\u001B[0m\r\n",
      "tests/test_sequence_models.py::test_language_model_implementation[cuda-lstm-1000-True-12-1-15-1-1] \u001B[32mPASSED\u001B[0m\u001B[32m [ 91%]\u001B[0m\r\n",
      "tests/test_sequence_models.py::test_language_model_implementation[cuda-lstm-1000-True-12-1-15-1-13] \u001B[32mPASSED\u001B[0m\u001B[32m [ 91%]\u001B[0m\r\n",
      "tests/test_sequence_models.py::test_language_model_implementation[cuda-lstm-1000-True-12-1-15-2-1] \u001B[32mPASSED\u001B[0m\u001B[32m [ 91%]\u001B[0m\r\n",
      "tests/test_sequence_models.py::test_language_model_implementation[cuda-lstm-1000-True-12-1-15-2-13] \u001B[32mPASSED\u001B[0m\u001B[32m [ 92%]\u001B[0m\r\n",
      "tests/test_sequence_models.py::test_language_model_implementation[cuda-lstm-1000-True-12-34-1-1-1] \u001B[32mPASSED\u001B[0m\u001B[32m [ 92%]\u001B[0m\r\n",
      "tests/test_sequence_models.py::test_language_model_implementation[cuda-lstm-1000-True-12-34-1-1-13] \u001B[32mPASSED\u001B[0m\u001B[32m [ 92%]\u001B[0m\r\n",
      "tests/test_sequence_models.py::test_language_model_implementation[cuda-lstm-1000-True-12-34-1-2-1] \u001B[32mPASSED\u001B[0m\u001B[32m [ 92%]\u001B[0m\r\n",
      "tests/test_sequence_models.py::test_language_model_implementation[cuda-lstm-1000-True-12-34-1-2-13] \u001B[32mPASSED\u001B[0m\u001B[32m [ 92%]\u001B[0m\r\n",
      "tests/test_sequence_models.py::test_language_model_implementation[cuda-lstm-1000-True-12-34-15-1-1] \u001B[32mPASSED\u001B[0m\u001B[32m [ 93%]\u001B[0m\r\n",
      "tests/test_sequence_models.py::test_language_model_implementation[cuda-lstm-1000-True-12-34-15-1-13] \u001B[32mPASSED\u001B[0m\u001B[32m [ 93%]\u001B[0m\r\n",
      "tests/test_sequence_models.py::test_language_model_implementation[cuda-lstm-1000-True-12-34-15-2-1] \u001B[32mPASSED\u001B[0m\u001B[32m [ 93%]\u001B[0m\r\n",
      "tests/test_sequence_models.py::test_language_model_implementation[cuda-lstm-1000-True-12-34-15-2-13] \u001B[32mPASSED\u001B[0m\u001B[32m [ 93%]\u001B[0m\r\n",
      "tests/test_sequence_models.py::test_language_model_implementation[cuda-lstm-1000-False-1-1-1-1-1] \u001B[32mPASSED\u001B[0m\u001B[32m [ 93%]\u001B[0m\r\n",
      "tests/test_sequence_models.py::test_language_model_implementation[cuda-lstm-1000-False-1-1-1-1-13] \u001B[32mPASSED\u001B[0m\u001B[32m [ 94%]\u001B[0m\r\n",
      "tests/test_sequence_models.py::test_language_model_implementation[cuda-lstm-1000-False-1-1-1-2-1] \u001B[32mPASSED\u001B[0m\u001B[32m [ 94%]\u001B[0m\r\n",
      "tests/test_sequence_models.py::test_language_model_implementation[cuda-lstm-1000-False-1-1-1-2-13] \u001B[32mPASSED\u001B[0m\u001B[32m [ 94%]\u001B[0m\r\n",
      "tests/test_sequence_models.py::test_language_model_implementation[cuda-lstm-1000-False-1-1-15-1-1] \u001B[32mPASSED\u001B[0m\u001B[32m [ 94%]\u001B[0m\r\n",
      "tests/test_sequence_models.py::test_language_model_implementation[cuda-lstm-1000-False-1-1-15-1-13] \u001B[32mPASSED\u001B[0m\u001B[32m [ 94%]\u001B[0m\r\n",
      "tests/test_sequence_models.py::test_language_model_implementation[cuda-lstm-1000-False-1-1-15-2-1] \u001B[32mPASSED\u001B[0m\u001B[32m [ 95%]\u001B[0m\r\n",
      "tests/test_sequence_models.py::test_language_model_implementation[cuda-lstm-1000-False-1-1-15-2-13] \u001B[32mPASSED\u001B[0m\u001B[32m [ 95%]\u001B[0m\r\n",
      "tests/test_sequence_models.py::test_language_model_implementation[cuda-lstm-1000-False-1-34-1-1-1] \u001B[32mPASSED\u001B[0m\u001B[32m [ 95%]\u001B[0m\r\n",
      "tests/test_sequence_models.py::test_language_model_implementation[cuda-lstm-1000-False-1-34-1-1-13] \u001B[32mPASSED\u001B[0m\u001B[32m [ 95%]\u001B[0m\r\n",
      "tests/test_sequence_models.py::test_language_model_implementation[cuda-lstm-1000-False-1-34-1-2-1] \u001B[32mPASSED\u001B[0m\u001B[32m [ 95%]\u001B[0m\r\n",
      "tests/test_sequence_models.py::test_language_model_implementation[cuda-lstm-1000-False-1-34-1-2-13] \u001B[32mPASSED\u001B[0m\u001B[32m [ 96%]\u001B[0m\r\n",
      "tests/test_sequence_models.py::test_language_model_implementation[cuda-lstm-1000-False-1-34-15-1-1] \u001B[32mPASSED\u001B[0m\u001B[32m [ 96%]\u001B[0m\r\n",
      "tests/test_sequence_models.py::test_language_model_implementation[cuda-lstm-1000-False-1-34-15-1-13] \u001B[32mPASSED\u001B[0m\u001B[32m [ 96%]\u001B[0m\r\n",
      "tests/test_sequence_models.py::test_language_model_implementation[cuda-lstm-1000-False-1-34-15-2-1] \u001B[32mPASSED\u001B[0m\u001B[32m [ 96%]\u001B[0m\r\n",
      "tests/test_sequence_models.py::test_language_model_implementation[cuda-lstm-1000-False-1-34-15-2-13] \u001B[32mPASSED\u001B[0m\u001B[32m [ 96%]\u001B[0m\r\n",
      "tests/test_sequence_models.py::test_language_model_implementation[cuda-lstm-1000-False-12-1-1-1-1] \u001B[32mPASSED\u001B[0m\u001B[32m [ 97%]\u001B[0m\r\n",
      "tests/test_sequence_models.py::test_language_model_implementation[cuda-lstm-1000-False-12-1-1-1-13] \u001B[32mPASSED\u001B[0m\u001B[32m [ 97%]\u001B[0m\r\n",
      "tests/test_sequence_models.py::test_language_model_implementation[cuda-lstm-1000-False-12-1-1-2-1] \u001B[32mPASSED\u001B[0m\u001B[32m [ 97%]\u001B[0m\r\n",
      "tests/test_sequence_models.py::test_language_model_implementation[cuda-lstm-1000-False-12-1-1-2-13] \u001B[32mPASSED\u001B[0m\u001B[32m [ 97%]\u001B[0m\r\n",
      "tests/test_sequence_models.py::test_language_model_implementation[cuda-lstm-1000-False-12-1-15-1-1] \u001B[32mPASSED\u001B[0m\u001B[32m [ 97%]\u001B[0m\r\n",
      "tests/test_sequence_models.py::test_language_model_implementation[cuda-lstm-1000-False-12-1-15-1-13] \u001B[32mPASSED\u001B[0m\u001B[32m [ 98%]\u001B[0m\r\n",
      "tests/test_sequence_models.py::test_language_model_implementation[cuda-lstm-1000-False-12-1-15-2-1] \u001B[32mPASSED\u001B[0m\u001B[32m [ 98%]\u001B[0m\r\n",
      "tests/test_sequence_models.py::test_language_model_implementation[cuda-lstm-1000-False-12-1-15-2-13] \u001B[32mPASSED\u001B[0m\u001B[32m [ 98%]\u001B[0m\r\n",
      "tests/test_sequence_models.py::test_language_model_implementation[cuda-lstm-1000-False-12-34-1-1-1] \u001B[32mPASSED\u001B[0m\u001B[32m [ 98%]\u001B[0m\r\n",
      "tests/test_sequence_models.py::test_language_model_implementation[cuda-lstm-1000-False-12-34-1-1-13] \u001B[32mPASSED\u001B[0m\u001B[32m [ 98%]\u001B[0m\r\n",
      "tests/test_sequence_models.py::test_language_model_implementation[cuda-lstm-1000-False-12-34-1-2-1] \u001B[32mPASSED\u001B[0m\u001B[32m [ 99%]\u001B[0m\r\n",
      "tests/test_sequence_models.py::test_language_model_implementation[cuda-lstm-1000-False-12-34-1-2-13] \u001B[32mPASSED\u001B[0m\u001B[32m [ 99%]\u001B[0m\r\n",
      "tests/test_sequence_models.py::test_language_model_implementation[cuda-lstm-1000-False-12-34-15-1-1] \u001B[32mPASSED\u001B[0m\u001B[32m [ 99%]\u001B[0m\r\n",
      "tests/test_sequence_models.py::test_language_model_implementation[cuda-lstm-1000-False-12-34-15-1-13] \u001B[32mPASSED\u001B[0m\u001B[32m [ 99%]\u001B[0m\r\n",
      "tests/test_sequence_models.py::test_language_model_implementation[cuda-lstm-1000-False-12-34-15-2-1] \u001B[32mPASSED\u001B[0m\u001B[32m [ 99%]\u001B[0m\r\n",
      "tests/test_sequence_models.py::test_language_model_implementation[cuda-lstm-1000-False-12-34-15-2-13] \u001B[32mPASSED\u001B[0m\u001B[32m [100%]\u001B[0m\r\n",
      "\r\n",
      "\u001B[32m==================== \u001B[32m\u001B[1m512 passed\u001B[0m, \u001B[33m1311 deselected\u001B[0m\u001B[32m in 18.65s\u001B[0m\u001B[32m =====================\u001B[0m\r\n"
     ]
    }
   ],
   "source": [
    "!python3 -m pytest -l -v -k \"language_model_implementation\""
   ]
  },
  {
   "cell_type": "code",
   "execution_count": 4,
   "metadata": {
    "id": "5UIHV52r7zGe"
   },
   "outputs": [
    {
     "name": "stdout",
     "output_type": "stream",
     "text": [
      "\u001B[1m============================= test session starts ==============================\u001B[0m\r\n",
      "platform linux -- Python 3.9.15, pytest-7.1.2, pluggy-1.0.0 -- /home/erostrate9/anaconda3/envs/dls/bin/python3\r\n",
      "cachedir: .pytest_cache\r\n",
      "rootdir: /home/erostrate9/PycharmProjects/needle\r\n",
      "plugins: anyio-3.5.0\r\n",
      "collected 1823 items / 1821 deselected / 2 selected                            \u001B[0m\u001B[1m\r\n",
      "\r\n",
      "tests/test_sequence_models.py::test_language_model_training[cpu] \u001B[31mFAILED\u001B[0m\u001B[31m  [ 50%]\u001B[0m\r\n",
      "tests/test_sequence_models.py::test_language_model_training[cuda] \u001B[31mFAILED\u001B[0m\u001B[31m [100%]\u001B[0m\r\n",
      "\r\n",
      "=================================== FAILURES ===================================\r\n",
      "\u001B[31m\u001B[1m______________________ test_language_model_training[cpu] _______________________\u001B[0m\r\n",
      "\r\n",
      "device = cpu()\r\n",
      "\r\n",
      "    \u001B[37m@pytest\u001B[39;49;00m.mark.parametrize(\u001B[33m\"\u001B[39;49;00m\u001B[33mdevice\u001B[39;49;00m\u001B[33m\"\u001B[39;49;00m, _DEVICES, ids=[\u001B[33m\"\u001B[39;49;00m\u001B[33mcpu\u001B[39;49;00m\u001B[33m\"\u001B[39;49;00m, \u001B[33m\"\u001B[39;49;00m\u001B[33mcuda\u001B[39;49;00m\u001B[33m\"\u001B[39;49;00m])\r\n",
      "    \u001B[94mdef\u001B[39;49;00m \u001B[92mtest_language_model_training\u001B[39;49;00m(device):\r\n",
      "        np.random.seed(\u001B[94m0\u001B[39;49;00m)\r\n",
      "        corpus = ndl.data.Corpus(\u001B[33m\"\u001B[39;49;00m\u001B[33mdata/ptb\u001B[39;49;00m\u001B[33m\"\u001B[39;49;00m, max_lines=\u001B[94m20\u001B[39;49;00m)\r\n",
      "        seq_len = \u001B[94m10\u001B[39;49;00m\r\n",
      "        num_examples = \u001B[94m100\u001B[39;49;00m\r\n",
      "        batch_size = \u001B[94m16\u001B[39;49;00m\r\n",
      "        seq_model = \u001B[33m'\u001B[39;49;00m\u001B[33mrnn\u001B[39;49;00m\u001B[33m'\u001B[39;49;00m\r\n",
      "        num_layers = \u001B[94m2\u001B[39;49;00m\r\n",
      "        hidden_size = \u001B[94m10\u001B[39;49;00m\r\n",
      "        n_epochs=\u001B[94m2\u001B[39;49;00m\r\n",
      "        train_data = ndl.data.batchify(corpus.train, batch_size=batch_size, device=device, dtype=\u001B[33m\"\u001B[39;49;00m\u001B[33mfloat32\u001B[39;49;00m\u001B[33m\"\u001B[39;49;00m)\r\n",
      "        model = LanguageModel(\u001B[94m30\u001B[39;49;00m, \u001B[96mlen\u001B[39;49;00m(corpus.dictionary), hidden_size=hidden_size, num_layers=num_layers, seq_model=seq_model, device=device)\r\n",
      "        train_acc, train_loss = train_ptb(model, train_data, seq_len=seq_len, n_epochs=n_epochs, device=device)\r\n",
      "        test_acc, test_loss = evaluate_ptb(model, train_data, seq_len=seq_len, device=device)\r\n",
      "        \u001B[94mif\u001B[39;49;00m \u001B[96mstr\u001B[39;49;00m(device) == \u001B[33m\"\u001B[39;49;00m\u001B[33mcpu()\u001B[39;49;00m\u001B[33m\"\u001B[39;49;00m:\r\n",
      ">           np.testing.assert_allclose(\u001B[94m5.711512\u001B[39;49;00m, train_loss, atol=\u001B[94m1e-5\u001B[39;49;00m, rtol=\u001B[94m1e-5\u001B[39;49;00m)\r\n",
      "\u001B[1m\u001B[31mE           AssertionError: \u001B[0m\r\n",
      "\u001B[1m\u001B[31mE           Not equal to tolerance rtol=1e-05, atol=1e-05\u001B[0m\r\n",
      "\u001B[1m\u001B[31mE           \u001B[0m\r\n",
      "\u001B[1m\u001B[31mE           Mismatched elements: 1 / 1 (100%)\u001B[0m\r\n",
      "\u001B[1m\u001B[31mE           Max absolute difference: 0.03812274\u001B[0m\r\n",
      "\u001B[1m\u001B[31mE           Max relative difference: 0.00663046\u001B[0m\r\n",
      "\u001B[1m\u001B[31mE            x: array(5.711512)\u001B[0m\r\n",
      "\u001B[1m\u001B[31mE            y: array(5.749635)\u001B[0m\r\n",
      "\r\n",
      "batch_size = 16\r\n",
      "corpus     = <needle.data.Corpus object at 0x7fc0300fd310>\r\n",
      "device     = cpu()\r\n",
      "hidden_size = 10\r\n",
      "model      = <models.LanguageModel object at 0x7fc0300fd3d0>\r\n",
      "n_epochs   = 2\r\n",
      "num_examples = 100\r\n",
      "num_layers = 2\r\n",
      "seq_len    = 10\r\n",
      "seq_model  = 'rnn'\r\n",
      "test_acc   = 0.0525\r\n",
      "test_loss  = 5.455208969116211\r\n",
      "train_acc  = 0.04\r\n",
      "train_data = array([[  0,  26,  24,  60,  79,  91, 108, 120, 131, 147, 158, 165, 181,\r\n",
      "         87, 197,  26],\r\n",
      "       [  1,  27,  47...      196, 169, 214],\r\n",
      "       [ 25,  46,  35,  78,  78,  26, 101, 130,  26, 157,  73, 180, 105,\r\n",
      "         32, 206, 148]])\r\n",
      "train_loss = 5.749634742736816\r\n",
      "\r\n",
      "\u001B[1m\u001B[31m../dls_hw4/tests/test_sequence_models.py\u001B[0m:240: AssertionError\r\n",
      "----------------------------- Captured stdout call -----------------------------\r\n",
      "train epoch0: avg_acc: 0.005, avg_loss: 6.10361328125, time cost: 0.11751627922058105\r\n",
      "train epoch1: avg_acc: 0.04, avg_loss: 5.749634742736816, time cost: 0.08199262619018555\r\n",
      "evaluate: avg_acc: 0.0525, avg_loss: 5.455208969116211\r\n",
      "\u001B[31m\u001B[1m______________________ test_language_model_training[cuda] ______________________\u001B[0m\r\n",
      "\r\n",
      "device = cuda()\r\n",
      "\r\n",
      "    \u001B[37m@pytest\u001B[39;49;00m.mark.parametrize(\u001B[33m\"\u001B[39;49;00m\u001B[33mdevice\u001B[39;49;00m\u001B[33m\"\u001B[39;49;00m, _DEVICES, ids=[\u001B[33m\"\u001B[39;49;00m\u001B[33mcpu\u001B[39;49;00m\u001B[33m\"\u001B[39;49;00m, \u001B[33m\"\u001B[39;49;00m\u001B[33mcuda\u001B[39;49;00m\u001B[33m\"\u001B[39;49;00m])\r\n",
      "    \u001B[94mdef\u001B[39;49;00m \u001B[92mtest_language_model_training\u001B[39;49;00m(device):\r\n",
      "        np.random.seed(\u001B[94m0\u001B[39;49;00m)\r\n",
      "        corpus = ndl.data.Corpus(\u001B[33m\"\u001B[39;49;00m\u001B[33mdata/ptb\u001B[39;49;00m\u001B[33m\"\u001B[39;49;00m, max_lines=\u001B[94m20\u001B[39;49;00m)\r\n",
      "        seq_len = \u001B[94m10\u001B[39;49;00m\r\n",
      "        num_examples = \u001B[94m100\u001B[39;49;00m\r\n",
      "        batch_size = \u001B[94m16\u001B[39;49;00m\r\n",
      "        seq_model = \u001B[33m'\u001B[39;49;00m\u001B[33mrnn\u001B[39;49;00m\u001B[33m'\u001B[39;49;00m\r\n",
      "        num_layers = \u001B[94m2\u001B[39;49;00m\r\n",
      "        hidden_size = \u001B[94m10\u001B[39;49;00m\r\n",
      "        n_epochs=\u001B[94m2\u001B[39;49;00m\r\n",
      "        train_data = ndl.data.batchify(corpus.train, batch_size=batch_size, device=device, dtype=\u001B[33m\"\u001B[39;49;00m\u001B[33mfloat32\u001B[39;49;00m\u001B[33m\"\u001B[39;49;00m)\r\n",
      "        model = LanguageModel(\u001B[94m30\u001B[39;49;00m, \u001B[96mlen\u001B[39;49;00m(corpus.dictionary), hidden_size=hidden_size, num_layers=num_layers, seq_model=seq_model, device=device)\r\n",
      "        train_acc, train_loss = train_ptb(model, train_data, seq_len=seq_len, n_epochs=n_epochs, device=device)\r\n",
      "        test_acc, test_loss = evaluate_ptb(model, train_data, seq_len=seq_len, device=device)\r\n",
      "        \u001B[94mif\u001B[39;49;00m \u001B[96mstr\u001B[39;49;00m(device) == \u001B[33m\"\u001B[39;49;00m\u001B[33mcpu()\u001B[39;49;00m\u001B[33m\"\u001B[39;49;00m:\r\n",
      "            np.testing.assert_allclose(\u001B[94m5.711512\u001B[39;49;00m, train_loss, atol=\u001B[94m1e-5\u001B[39;49;00m, rtol=\u001B[94m1e-5\u001B[39;49;00m)\r\n",
      "            np.testing.assert_allclose(\u001B[94m5.388685\u001B[39;49;00m, test_loss, atol=\u001B[94m1e-5\u001B[39;49;00m, rtol=\u001B[94m1e-5\u001B[39;49;00m)\r\n",
      "        \u001B[94melif\u001B[39;49;00m \u001B[96mstr\u001B[39;49;00m(device) == \u001B[33m\"\u001B[39;49;00m\u001B[33mcuda()\u001B[39;49;00m\u001B[33m\"\u001B[39;49;00m:\r\n",
      ">           np.testing.assert_allclose(\u001B[94m5.711512\u001B[39;49;00m, train_loss, atol=\u001B[94m1e-5\u001B[39;49;00m, rtol=\u001B[94m1e-5\u001B[39;49;00m)\r\n",
      "\u001B[1m\u001B[31mE           AssertionError: \u001B[0m\r\n",
      "\u001B[1m\u001B[31mE           Not equal to tolerance rtol=1e-05, atol=1e-05\u001B[0m\r\n",
      "\u001B[1m\u001B[31mE           \u001B[0m\r\n",
      "\u001B[1m\u001B[31mE           Mismatched elements: 1 / 1 (100%)\u001B[0m\r\n",
      "\u001B[1m\u001B[31mE           Max absolute difference: 0.03812331\u001B[0m\r\n",
      "\u001B[1m\u001B[31mE           Max relative difference: 0.00663056\u001B[0m\r\n",
      "\u001B[1m\u001B[31mE            x: array(5.711512)\u001B[0m\r\n",
      "\u001B[1m\u001B[31mE            y: array(5.749635)\u001B[0m\r\n",
      "\r\n",
      "batch_size = 16\r\n",
      "corpus     = <needle.data.Corpus object at 0x7fc02fea4fd0>\r\n",
      "device     = cuda()\r\n",
      "hidden_size = 10\r\n",
      "model      = <models.LanguageModel object at 0x7fc02fea4e50>\r\n",
      "n_epochs   = 2\r\n",
      "num_examples = 100\r\n",
      "num_layers = 2\r\n",
      "seq_len    = 10\r\n",
      "seq_model  = 'rnn'\r\n",
      "test_acc   = 0.0525\r\n",
      "test_loss  = 5.455208969116211\r\n",
      "train_acc  = 0.04\r\n",
      "train_data = array([[  0,  26,  24,  60,  79,  91, 108, 120, 131, 147, 158, 165, 181,\r\n",
      "         87, 197,  26],\r\n",
      "       [  1,  27,  47...      196, 169, 214],\r\n",
      "       [ 25,  46,  35,  78,  78,  26, 101, 130,  26, 157,  73, 180, 105,\r\n",
      "         32, 206, 148]])\r\n",
      "train_loss = 5.749635314941406\r\n",
      "\r\n",
      "\u001B[1m\u001B[31m../dls_hw4/tests/test_sequence_models.py\u001B[0m:243: AssertionError\r\n",
      "----------------------------- Captured stdout call -----------------------------\r\n",
      "train epoch0: avg_acc: 0.005, avg_loss: 6.10361328125, time cost: 0.09827446937561035\r\n",
      "train epoch1: avg_acc: 0.04, avg_loss: 5.749635314941406, time cost: 0.08823919296264648\r\n",
      "evaluate: avg_acc: 0.0525, avg_loss: 5.455208969116211\r\n",
      "=========================== short test summary info ============================\r\n",
      "FAILED tests/test_sequence_models.py::test_language_model_training[cpu] - Ass...\r\n",
      "FAILED tests/test_sequence_models.py::test_language_model_training[cuda] - As...\r\n",
      "\u001B[31m====================== \u001B[31m\u001B[1m2 failed\u001B[0m, \u001B[33m1821 deselected\u001B[0m\u001B[31m in 1.57s\u001B[0m\u001B[31m ======================\u001B[0m\r\n"
     ]
    }
   ],
   "source": [
    "!python3 -m pytest -l -v -k \"language_model_training\""
   ]
  },
  {
   "cell_type": "code",
   "execution_count": 73,
   "metadata": {
    "id": "fDfg-upk7zGe"
   },
   "outputs": [
    {
     "name": "stdout",
     "output_type": "stream",
     "text": [
      "submit\r\n",
      "\u001B[1m============================= test session starts ==============================\u001B[0m\r\n",
      "platform linux -- Python 3.9.15, pytest-7.1.2, pluggy-1.0.0\r\n",
      "rootdir: /home/erostrate9/PycharmProjects/dls_hw4\r\n",
      "plugins: anyio-3.5.0\r\n",
      "collected 10 items / 9 deselected / 1 selected                                 \u001B[0m\u001B[1m\r\n",
      "\r\n",
      "tests/test_sequence_models.py \r\n",
      "Submitting language_model...\r\n",
      "Grader test 1 passed\r\n",
      "Grader test 2 passed\r\n",
      "Grader test 3 passed\r\n",
      "Grader test 4 passed\r\n",
      "Grader test 5 passed\r\n",
      "Grader test 6 passed\r\n",
      "Grader test 7 passed\r\n",
      "Grader test 8 passed\r\n",
      "Grader test 9 passed\r\n",
      "Grader test 10 passed\r\n",
      "train epoch0: avg_acc: 0.020833333333333332, avg_loss: 5.8477863073349, time cost: 0.24608230590820312\r\n",
      "train epoch1: avg_acc: 0.0625, avg_loss: 5.535320162773132, time cost: 0.1699514389038086\r\n",
      "evaluate: avg_acc: 0.0625, avg_loss: 5.357750773429871\r\n",
      "Grader test 11 passed\r\n",
      "Grader test 12 passed\r\n",
      "\u001B[32m.\u001B[0m\r\n",
      "\r\n",
      "\u001B[32m======================= \u001B[32m\u001B[1m1 passed\u001B[0m, \u001B[33m9 deselected\u001B[0m\u001B[32m in 26.08s\u001B[0m\u001B[32m =======================\u001B[0m\r\n"
     ]
    }
   ],
   "source": [
    "!python3 -m mugrade submit \"_0QwrEWYLgzYU25KDG4FM\" -k \"language_model\""
   ]
  },
  {
   "cell_type": "markdown",
   "metadata": {
    "id": "DkYtbrYd7zGe"
   },
   "source": [
    "Now, you can train your language model on the Penn Treebank dataset:"
   ]
  },
  {
   "cell_type": "code",
   "execution_count": 2,
   "metadata": {
    "id": "rBvDK8Zb7zGe"
   },
   "outputs": [
    {
     "name": "stdout",
     "output_type": "stream",
     "text": [
      "/home/erostrate9/PycharmProjects/dls_hw4\n"
     ]
    },
    {
     "ename": "KeyboardInterrupt",
     "evalue": "",
     "output_type": "error",
     "traceback": [
      "\u001B[0;31m---------------------------------------------------------------------------\u001B[0m",
      "\u001B[0;31mKeyboardInterrupt\u001B[0m                         Traceback (most recent call last)",
      "Cell \u001B[0;32mIn [2], line 13\u001B[0m\n\u001B[1;32m     11\u001B[0m train_data \u001B[38;5;241m=\u001B[39m ndl\u001B[38;5;241m.\u001B[39mdata\u001B[38;5;241m.\u001B[39mbatchify(corpus\u001B[38;5;241m.\u001B[39mtrain, batch_size\u001B[38;5;241m=\u001B[39m\u001B[38;5;241m16\u001B[39m, device\u001B[38;5;241m=\u001B[39mdevice, dtype\u001B[38;5;241m=\u001B[39m\u001B[38;5;124m\"\u001B[39m\u001B[38;5;124mfloat32\u001B[39m\u001B[38;5;124m\"\u001B[39m)\n\u001B[1;32m     12\u001B[0m model \u001B[38;5;241m=\u001B[39m LanguageModel(\u001B[38;5;241m30\u001B[39m, \u001B[38;5;28mlen\u001B[39m(corpus\u001B[38;5;241m.\u001B[39mdictionary), hidden_size\u001B[38;5;241m=\u001B[39m\u001B[38;5;241m10\u001B[39m, num_layers\u001B[38;5;241m=\u001B[39m\u001B[38;5;241m2\u001B[39m, seq_model\u001B[38;5;241m=\u001B[39m\u001B[38;5;124m'\u001B[39m\u001B[38;5;124mrnn\u001B[39m\u001B[38;5;124m'\u001B[39m, device\u001B[38;5;241m=\u001B[39mdevice)\n\u001B[0;32m---> 13\u001B[0m \u001B[43mtrain_ptb\u001B[49m\u001B[43m(\u001B[49m\u001B[43mmodel\u001B[49m\u001B[43m,\u001B[49m\u001B[43m \u001B[49m\u001B[43mtrain_data\u001B[49m\u001B[43m,\u001B[49m\u001B[43m \u001B[49m\u001B[43mseq_len\u001B[49m\u001B[38;5;241;43m=\u001B[39;49m\u001B[38;5;241;43m1\u001B[39;49m\u001B[43m,\u001B[49m\u001B[43m \u001B[49m\u001B[43mn_epochs\u001B[49m\u001B[38;5;241;43m=\u001B[39;49m\u001B[38;5;241;43m1\u001B[39;49m\u001B[43m,\u001B[49m\u001B[43m \u001B[49m\u001B[43mdevice\u001B[49m\u001B[38;5;241;43m=\u001B[39;49m\u001B[43mdevice\u001B[49m\u001B[43m)\u001B[49m\n\u001B[1;32m     14\u001B[0m evaluate_ptb(model, train_data, seq_len\u001B[38;5;241m=\u001B[39m\u001B[38;5;241m40\u001B[39m, device\u001B[38;5;241m=\u001B[39mdevice)\n",
      "File \u001B[0;32m~/PycharmProjects/dls_hw4/./apps/simple_training.py:208\u001B[0m, in \u001B[0;36mtrain_ptb\u001B[0;34m(model, data, seq_len, n_epochs, optimizer, lr, weight_decay, loss_fn, clip, device, dtype)\u001B[0m\n\u001B[1;32m    206\u001B[0m \u001B[38;5;28;01mfor\u001B[39;00m i \u001B[38;5;129;01min\u001B[39;00m \u001B[38;5;28mrange\u001B[39m(n_epochs):\n\u001B[1;32m    207\u001B[0m     start_time \u001B[38;5;241m=\u001B[39m time\u001B[38;5;241m.\u001B[39mtime()\n\u001B[0;32m--> 208\u001B[0m     avg_acc, avg_loss \u001B[38;5;241m=\u001B[39m \u001B[43mepoch_general_ptb\u001B[49m\u001B[43m(\u001B[49m\u001B[43mdata\u001B[49m\u001B[43m,\u001B[49m\u001B[43m \u001B[49m\u001B[43mmodel\u001B[49m\u001B[43m,\u001B[49m\u001B[43m \u001B[49m\u001B[43mseq_len\u001B[49m\u001B[38;5;241;43m=\u001B[39;49m\u001B[43mseq_len\u001B[49m\u001B[43m,\u001B[49m\u001B[43m \u001B[49m\u001B[43mloss_fn\u001B[49m\u001B[38;5;241;43m=\u001B[39;49m\u001B[43mloss_fn\u001B[49m\u001B[43m(\u001B[49m\u001B[43m)\u001B[49m\u001B[43m,\u001B[49m\u001B[43m \u001B[49m\u001B[43mopt\u001B[49m\u001B[38;5;241;43m=\u001B[39;49m\u001B[43mopt\u001B[49m\u001B[43m,\u001B[49m\n\u001B[1;32m    209\u001B[0m \u001B[43m                  \u001B[49m\u001B[43mclip\u001B[49m\u001B[38;5;241;43m=\u001B[39;49m\u001B[43mclip\u001B[49m\u001B[43m,\u001B[49m\u001B[43m \u001B[49m\u001B[43mdevice\u001B[49m\u001B[38;5;241;43m=\u001B[39;49m\u001B[43mdevice\u001B[49m\u001B[43m,\u001B[49m\u001B[43m \u001B[49m\u001B[43mdtype\u001B[49m\u001B[38;5;241;43m=\u001B[39;49m\u001B[43mdtype\u001B[49m\u001B[43m)\u001B[49m\n\u001B[1;32m    210\u001B[0m     end_time \u001B[38;5;241m=\u001B[39m time\u001B[38;5;241m.\u001B[39mtime()\n\u001B[1;32m    211\u001B[0m     \u001B[38;5;28mprint\u001B[39m(\u001B[38;5;124m\"\u001B[39m\u001B[38;5;124mtrain epoch\u001B[39m\u001B[38;5;132;01m{}\u001B[39;00m\u001B[38;5;124m: avg_acc: \u001B[39m\u001B[38;5;132;01m{}\u001B[39;00m\u001B[38;5;124m, avg_loss: \u001B[39m\u001B[38;5;132;01m{}\u001B[39;00m\u001B[38;5;124m, time cost: \u001B[39m\u001B[38;5;132;01m{}\u001B[39;00m\u001B[38;5;124m\"\u001B[39m\u001B[38;5;241m.\u001B[39mformat(\n\u001B[1;32m    212\u001B[0m         i, avg_acc, avg_loss, end_time \u001B[38;5;241m-\u001B[39m start_time))\n",
      "File \u001B[0;32m~/PycharmProjects/dls_hw4/./apps/simple_training.py:160\u001B[0m, in \u001B[0;36mepoch_general_ptb\u001B[0;34m(data, model, seq_len, loss_fn, opt, clip, device, dtype)\u001B[0m\n\u001B[1;32m    157\u001B[0m     h \u001B[38;5;241m=\u001B[39m h\u001B[38;5;241m.\u001B[39mdetach()\n\u001B[1;32m    158\u001B[0m \u001B[38;5;66;03m# out (seq_len*bs, output_size)\u001B[39;00m\n\u001B[1;32m    159\u001B[0m \u001B[38;5;66;03m# y = (bptt*bs,)\u001B[39;00m\n\u001B[0;32m--> 160\u001B[0m loss \u001B[38;5;241m=\u001B[39m \u001B[43mloss_fn\u001B[49m\u001B[43m(\u001B[49m\u001B[43mout\u001B[49m\u001B[43m,\u001B[49m\u001B[43m \u001B[49m\u001B[43my\u001B[49m\u001B[43m)\u001B[49m\n\u001B[1;32m    161\u001B[0m total_loss \u001B[38;5;241m+\u001B[39m\u001B[38;5;241m=\u001B[39m loss\u001B[38;5;241m.\u001B[39mdetach()\u001B[38;5;241m.\u001B[39mnumpy()\u001B[38;5;241m.\u001B[39msqueeze() \u001B[38;5;241m*\u001B[39m b_len\n\u001B[1;32m    162\u001B[0m y_hat \u001B[38;5;241m=\u001B[39m np\u001B[38;5;241m.\u001B[39margmax(out\u001B[38;5;241m.\u001B[39mdetach()\u001B[38;5;241m.\u001B[39mnumpy(), axis\u001B[38;5;241m=\u001B[39m\u001B[38;5;241m1\u001B[39m)\n",
      "File \u001B[0;32m~/PycharmProjects/dls_hw4/./python/needle/nn.py:74\u001B[0m, in \u001B[0;36mModule.__call__\u001B[0;34m(self, *args, **kwargs)\u001B[0m\n\u001B[1;32m     73\u001B[0m \u001B[38;5;28;01mdef\u001B[39;00m \u001B[38;5;21m__call__\u001B[39m(\u001B[38;5;28mself\u001B[39m, \u001B[38;5;241m*\u001B[39margs, \u001B[38;5;241m*\u001B[39m\u001B[38;5;241m*\u001B[39mkwargs):\n\u001B[0;32m---> 74\u001B[0m     \u001B[38;5;28;01mreturn\u001B[39;00m \u001B[38;5;28;43mself\u001B[39;49m\u001B[38;5;241;43m.\u001B[39;49m\u001B[43mforward\u001B[49m\u001B[43m(\u001B[49m\u001B[38;5;241;43m*\u001B[39;49m\u001B[43margs\u001B[49m\u001B[43m,\u001B[49m\u001B[43m \u001B[49m\u001B[38;5;241;43m*\u001B[39;49m\u001B[38;5;241;43m*\u001B[39;49m\u001B[43mkwargs\u001B[49m\u001B[43m)\u001B[49m\n",
      "File \u001B[0;32m~/PycharmProjects/dls_hw4/./python/needle/nn.py:164\u001B[0m, in \u001B[0;36mSoftmaxLoss.forward\u001B[0;34m(self, logits, y)\u001B[0m\n\u001B[1;32m    162\u001B[0m y_one_hot \u001B[38;5;241m=\u001B[39m init\u001B[38;5;241m.\u001B[39mone_hot(k, y, device\u001B[38;5;241m=\u001B[39my\u001B[38;5;241m.\u001B[39mdevice, dtype\u001B[38;5;241m=\u001B[39my\u001B[38;5;241m.\u001B[39mdtype)\n\u001B[1;32m    163\u001B[0m \u001B[38;5;66;03m# axes=(1,)\u001B[39;00m\n\u001B[0;32m--> 164\u001B[0m logsumexp \u001B[38;5;241m=\u001B[39m \u001B[43mops\u001B[49m\u001B[38;5;241;43m.\u001B[39;49m\u001B[43mlogsumexp\u001B[49m\u001B[43m(\u001B[49m\u001B[43mlogits\u001B[49m\u001B[43m,\u001B[49m\u001B[43m \u001B[49m\u001B[43maxes\u001B[49m\u001B[38;5;241;43m=\u001B[39;49m\u001B[43m(\u001B[49m\u001B[38;5;241;43m1\u001B[39;49m\u001B[43m,\u001B[49m\u001B[43m)\u001B[49m\u001B[43m)\u001B[49m\n\u001B[1;32m    165\u001B[0m z_y \u001B[38;5;241m=\u001B[39m (logits \u001B[38;5;241m*\u001B[39m y_one_hot)\u001B[38;5;241m.\u001B[39msum(axes\u001B[38;5;241m=\u001B[39m(\u001B[38;5;241m1\u001B[39m,))\n\u001B[1;32m    166\u001B[0m \u001B[38;5;28;01mreturn\u001B[39;00m (logsumexp \u001B[38;5;241m-\u001B[39m z_y)\u001B[38;5;241m.\u001B[39msum() \u001B[38;5;241m/\u001B[39m n\n",
      "File \u001B[0;32m~/PycharmProjects/dls_hw4/./python/needle/ops.py:454\u001B[0m, in \u001B[0;36mlogsumexp\u001B[0;34m(a, axes)\u001B[0m\n\u001B[1;32m    453\u001B[0m \u001B[38;5;28;01mdef\u001B[39;00m \u001B[38;5;21mlogsumexp\u001B[39m(a, axes\u001B[38;5;241m=\u001B[39m\u001B[38;5;28;01mNone\u001B[39;00m):\n\u001B[0;32m--> 454\u001B[0m     \u001B[38;5;28;01mreturn\u001B[39;00m \u001B[43mLogSumExp\u001B[49m\u001B[43m(\u001B[49m\u001B[43maxes\u001B[49m\u001B[38;5;241;43m=\u001B[39;49m\u001B[43maxes\u001B[49m\u001B[43m)\u001B[49m\u001B[43m(\u001B[49m\u001B[43ma\u001B[49m\u001B[43m)\u001B[49m\n",
      "File \u001B[0;32m~/PycharmProjects/dls_hw4/./python/needle/autograd.py:73\u001B[0m, in \u001B[0;36mTensorOp.__call__\u001B[0;34m(self, *args)\u001B[0m\n\u001B[1;32m     72\u001B[0m \u001B[38;5;28;01mdef\u001B[39;00m \u001B[38;5;21m__call__\u001B[39m(\u001B[38;5;28mself\u001B[39m, \u001B[38;5;241m*\u001B[39margs):\n\u001B[0;32m---> 73\u001B[0m     \u001B[38;5;28;01mreturn\u001B[39;00m \u001B[43mTensor\u001B[49m\u001B[38;5;241;43m.\u001B[39;49m\u001B[43mmake_from_op\u001B[49m\u001B[43m(\u001B[49m\u001B[38;5;28;43mself\u001B[39;49m\u001B[43m,\u001B[49m\u001B[43m \u001B[49m\u001B[43margs\u001B[49m\u001B[43m)\u001B[49m\n",
      "File \u001B[0;32m~/PycharmProjects/dls_hw4/./python/needle/autograd.py:242\u001B[0m, in \u001B[0;36mTensor.make_from_op\u001B[0;34m(op, inputs)\u001B[0m\n\u001B[1;32m    240\u001B[0m     \u001B[38;5;28;01mif\u001B[39;00m \u001B[38;5;129;01mnot\u001B[39;00m tensor\u001B[38;5;241m.\u001B[39mrequires_grad:\n\u001B[1;32m    241\u001B[0m         \u001B[38;5;28;01mreturn\u001B[39;00m tensor\u001B[38;5;241m.\u001B[39mdetach()\n\u001B[0;32m--> 242\u001B[0m     \u001B[43mtensor\u001B[49m\u001B[38;5;241;43m.\u001B[39;49m\u001B[43mrealize_cached_data\u001B[49m\u001B[43m(\u001B[49m\u001B[43m)\u001B[49m\n\u001B[1;32m    243\u001B[0m \u001B[38;5;28;01mreturn\u001B[39;00m tensor\n",
      "File \u001B[0;32m~/PycharmProjects/dls_hw4/./python/needle/autograd.py:100\u001B[0m, in \u001B[0;36mValue.realize_cached_data\u001B[0;34m(self)\u001B[0m\n\u001B[1;32m     98\u001B[0m     \u001B[38;5;28;01mreturn\u001B[39;00m \u001B[38;5;28mself\u001B[39m\u001B[38;5;241m.\u001B[39mcached_data\n\u001B[1;32m     99\u001B[0m \u001B[38;5;66;03m# note: data implicitly calls realized cached data\u001B[39;00m\n\u001B[0;32m--> 100\u001B[0m \u001B[38;5;28mself\u001B[39m\u001B[38;5;241m.\u001B[39mcached_data \u001B[38;5;241m=\u001B[39m \u001B[38;5;28;43mself\u001B[39;49m\u001B[38;5;241;43m.\u001B[39;49m\u001B[43mop\u001B[49m\u001B[38;5;241;43m.\u001B[39;49m\u001B[43mcompute\u001B[49m\u001B[43m(\u001B[49m\n\u001B[1;32m    101\u001B[0m \u001B[43m    \u001B[49m\u001B[38;5;241;43m*\u001B[39;49m\u001B[43m[\u001B[49m\u001B[43mx\u001B[49m\u001B[38;5;241;43m.\u001B[39;49m\u001B[43mrealize_cached_data\u001B[49m\u001B[43m(\u001B[49m\u001B[43m)\u001B[49m\u001B[43m \u001B[49m\u001B[38;5;28;43;01mfor\u001B[39;49;00m\u001B[43m \u001B[49m\u001B[43mx\u001B[49m\u001B[43m \u001B[49m\u001B[38;5;129;43;01min\u001B[39;49;00m\u001B[43m \u001B[49m\u001B[38;5;28;43mself\u001B[39;49m\u001B[38;5;241;43m.\u001B[39;49m\u001B[43minputs\u001B[49m\u001B[43m]\u001B[49m\n\u001B[1;32m    102\u001B[0m \u001B[43m\u001B[49m\u001B[43m)\u001B[49m\n\u001B[1;32m    103\u001B[0m \u001B[38;5;28mself\u001B[39m\u001B[38;5;241m.\u001B[39mcached_data\n\u001B[1;32m    104\u001B[0m \u001B[38;5;28;01mreturn\u001B[39;00m \u001B[38;5;28mself\u001B[39m\u001B[38;5;241m.\u001B[39mcached_data\n",
      "File \u001B[0;32m~/PycharmProjects/dls_hw4/./python/needle/ops.py:428\u001B[0m, in \u001B[0;36mLogSumExp.compute\u001B[0;34m(self, Z)\u001B[0m\n\u001B[1;32m    425\u001B[0m \u001B[38;5;28;01mdef\u001B[39;00m \u001B[38;5;21mcompute\u001B[39m(\u001B[38;5;28mself\u001B[39m, Z):\n\u001B[1;32m    426\u001B[0m     \u001B[38;5;66;03m### BEGIN YOUR SOLUTION\u001B[39;00m\n\u001B[1;32m    427\u001B[0m     max_z \u001B[38;5;241m=\u001B[39m array_api\u001B[38;5;241m.\u001B[39mmax(Z, axis\u001B[38;5;241m=\u001B[39m\u001B[38;5;28mself\u001B[39m\u001B[38;5;241m.\u001B[39maxes, keepdims\u001B[38;5;241m=\u001B[39m\u001B[38;5;28;01mTrue\u001B[39;00m)\n\u001B[0;32m--> 428\u001B[0m     y \u001B[38;5;241m=\u001B[39m array_api\u001B[38;5;241m.\u001B[39mlog(\u001B[43marray_api\u001B[49m\u001B[38;5;241;43m.\u001B[39;49m\u001B[43mexp\u001B[49m\u001B[43m(\u001B[49m\u001B[43mZ\u001B[49m\u001B[43m \u001B[49m\u001B[38;5;241;43m-\u001B[39;49m\u001B[43m \u001B[49m\u001B[43marray_api\u001B[49m\u001B[38;5;241;43m.\u001B[39;49m\u001B[43mbroadcast_to\u001B[49m\u001B[43m(\u001B[49m\u001B[43mmax_z\u001B[49m\u001B[43m,\u001B[49m\u001B[43m \u001B[49m\u001B[43mZ\u001B[49m\u001B[38;5;241;43m.\u001B[39;49m\u001B[43mshape\u001B[49m\u001B[43m)\u001B[49m\u001B[43m)\u001B[49m\u001B[38;5;241;43m.\u001B[39;49m\u001B[43msum\u001B[49m\u001B[43m(\u001B[49m\u001B[43maxis\u001B[49m\u001B[38;5;241;43m=\u001B[39;49m\u001B[38;5;28;43mself\u001B[39;49m\u001B[38;5;241;43m.\u001B[39;49m\u001B[43maxes\u001B[49m\u001B[43m,\u001B[49m\u001B[43m \u001B[49m\u001B[43mkeepdims\u001B[49m\u001B[38;5;241;43m=\u001B[39;49m\u001B[38;5;28;43;01mTrue\u001B[39;49;00m\u001B[43m)\u001B[49m)\n\u001B[1;32m    429\u001B[0m     \u001B[38;5;28;01mreturn\u001B[39;00m (y \u001B[38;5;241m+\u001B[39m array_api\u001B[38;5;241m.\u001B[39mbroadcast_to(max_z, y\u001B[38;5;241m.\u001B[39mshape))\u001B[38;5;241m.\u001B[39msum(axis\u001B[38;5;241m=\u001B[39m\u001B[38;5;28mself\u001B[39m\u001B[38;5;241m.\u001B[39maxes, keepdims\u001B[38;5;241m=\u001B[39m\u001B[38;5;28;01mFalse\u001B[39;00m)\n",
      "\u001B[0;31mKeyboardInterrupt\u001B[0m: "
     ]
    }
   ],
   "source": [
    "%cd /home/erostrate9/PycharmProjects/dls_hw4\n",
    "import sys\n",
    "sys.path.append('./python')\n",
    "sys.path.append('./apps')\n",
    "import needle as ndl\n",
    "from models import LanguageModel\n",
    "from simple_training import train_ptb, evaluate_ptb\n",
    "\n",
    "device = ndl.cuda()\n",
    "corpus = ndl.data.Corpus(\"data/ptb\")\n",
    "train_data = ndl.data.batchify(corpus.train, batch_size=16, device=device, dtype=\"float32\")\n",
    "model = LanguageModel(30, len(corpus.dictionary), hidden_size=10, num_layers=2, seq_model='rnn', device=device)\n",
    "train_ptb(model, train_data, seq_len=1, n_epochs=1, device=device)\n",
    "evaluate_ptb(model, train_data, seq_len=40, device=device)"
   ]
  },
  {
   "cell_type": "code",
   "execution_count": null,
   "outputs": [],
   "source": [
    "%cd /home/erostrate9/PycharmProjects/dls_hw4\n",
    "import sys\n",
    "sys.path.append('./python')\n",
    "sys.path.append('./apps')\n",
    "import needle as ndl\n",
    "from models import LanguageModel\n",
    "from simple_training import train_ptb, evaluate_ptb\n",
    "\n",
    "device = ndl.cuda()\n",
    "corpus = ndl.data.Corpus(\"data/ptb\")\n",
    "train_data = ndl.data.batchify(corpus.train, batch_size=16, device=device, dtype=\"float32\")\n",
    "model = LanguageModel(30, len(corpus.dictionary), hidden_size=10, num_layers=2, seq_model='lstm', device=device)\n",
    "train_ptb(model, train_data, seq_len=40, n_epochs=5, device=device)\n",
    "evaluate_ptb(model, train_data, seq_len=40, device=device)"
   ],
   "metadata": {
    "collapsed": false
   }
  },
  {
   "cell_type": "code",
   "execution_count": 8,
   "outputs": [
    {
     "name": "stdout",
     "output_type": "stream",
     "text": [
      "/home/erostrate9/PycharmProjects/needle\n"
     ]
    }
   ],
   "source": [
    "%cd /home/erostrate9/PycharmProjects/needle\n",
    "import sys\n",
    "sys.path.append('./python')\n",
    "sys.path.append('./apps')\n",
    "import needle as ndl"
   ],
   "metadata": {
    "collapsed": false
   }
  },
  {
   "cell_type": "code",
   "execution_count": 21,
   "outputs": [
    {
     "data": {
      "text/plain": "(1, 2, 3)"
     },
     "execution_count": 21,
     "metadata": {},
     "output_type": "execute_result"
    }
   ],
   "source": [
    "s = (1,2,3,4)\n",
    "s[:-1]"
   ],
   "metadata": {
    "collapsed": false
   }
  },
  {
   "cell_type": "code",
   "execution_count": 16,
   "outputs": [],
   "source": [
    "import numpy as np\n",
    "C = ndl.Tensor(np.random.randn(5,10,3), device=ndl.cpu())\n",
    "D = ndl.Tensor(np.random.randn(5,3,6), device=ndl.cpu())\n",
    "c = ndl.ops.split(C,0)\n",
    "d = ndl.ops.split(D,0)"
   ],
   "metadata": {
    "collapsed": false
   }
  },
  {
   "cell_type": "code",
   "execution_count": 18,
   "outputs": [
    {
     "ename": "TypeError",
     "evalue": "unsupported operand type(s) for @: 'TensorTuple' and 'TensorTuple'",
     "output_type": "error",
     "traceback": [
      "\u001B[0;31m---------------------------------------------------------------------------\u001B[0m",
      "\u001B[0;31mTypeError\u001B[0m                                 Traceback (most recent call last)",
      "Cell \u001B[0;32mIn [18], line 1\u001B[0m\n\u001B[0;32m----> 1\u001B[0m \u001B[43mc\u001B[49m\u001B[43m \u001B[49m\u001B[38;5;241;43m@\u001B[39;49m\u001B[43m \u001B[49m\u001B[43md\u001B[49m\n",
      "\u001B[0;31mTypeError\u001B[0m: unsupported operand type(s) for @: 'TensorTuple' and 'TensorTuple'"
     ]
    }
   ],
   "source": [
    "c @ d"
   ],
   "metadata": {
    "collapsed": false
   }
  },
  {
   "cell_type": "code",
   "execution_count": 31,
   "outputs": [
    {
     "name": "stdout",
     "output_type": "stream",
     "text": [
      "\u001B[1m============================= test session starts ==============================\u001B[0m\r\n",
      "platform linux -- Python 3.9.15, pytest-7.1.2, pluggy-1.0.0 -- /home/erostrate9/anaconda3/envs/dls/bin/python3\r\n",
      "cachedir: .pytest_cache\r\n",
      "rootdir: /home/erostrate9/PycharmProjects/needle\r\n",
      "plugins: anyio-3.5.0\r\n",
      "collected 1845 items / 1823 deselected / 22 selected                           \u001B[0m\u001B[1m\r\n",
      "\r\n",
      "tests/test_nd_backend.py::test_batch_matmul[cpu-3-3-4-16-16] \u001B[32mPASSED\u001B[0m\u001B[32m      [  4%]\u001B[0m\r\n",
      "tests/test_nd_backend.py::test_batch_matmul[cpu-5-5-4-8-8] \u001B[32mPASSED\u001B[0m\u001B[32m        [  9%]\u001B[0m\r\n",
      "tests/test_nd_backend.py::test_batch_matmul[cpu-3-1-2-2-3] \u001B[32mPASSED\u001B[0m\u001B[32m        [ 13%]\u001B[0m\r\n",
      "tests/test_nd_backend.py::test_batch_matmul[cpu-4-3-3-4-5] \u001B[32mPASSED\u001B[0m\u001B[32m        [ 18%]\u001B[0m\r\n",
      "tests/test_nd_backend.py::test_batch_matmul[cpu-1-5-5-4-3] \u001B[32mPASSED\u001B[0m\u001B[32m        [ 22%]\u001B[0m\r\n",
      "tests/test_nd_backend.py::test_batch_matmul[cpu-11-16-15-16-32] \u001B[32mPASSED\u001B[0m\u001B[32m   [ 27%]\u001B[0m\r\n",
      "tests/test_nd_backend.py::test_batch_matmul[cpu-12-64-64-64-64] \u001B[32mPASSED\u001B[0m\u001B[32m   [ 31%]\u001B[0m\r\n",
      "tests/test_nd_backend.py::test_batch_matmul[cpu-13-72-2-72-72] \u001B[32mPASSED\u001B[0m\u001B[32m    [ 36%]\u001B[0m\r\n",
      "tests/test_nd_backend.py::test_batch_matmul[cpu-5-72-3-73-74] \u001B[32mPASSED\u001B[0m\u001B[32m     [ 40%]\u001B[0m\r\n",
      "tests/test_nd_backend.py::test_batch_matmul[cpu-44-74-5-73-72] \u001B[32mPASSED\u001B[0m\u001B[32m    [ 45%]\u001B[0m\r\n",
      "tests/test_nd_backend.py::test_batch_matmul[cpu-33-128-11-128-128] \u001B[32mPASSED\u001B[0m\u001B[32m [ 50%]\u001B[0m\r\n",
      "tests/test_nd_backend.py::test_batch_matmul[cuda-3-3-4-16-16] \u001B[32mPASSED\u001B[0m\u001B[32m     [ 54%]\u001B[0m\r\n",
      "tests/test_nd_backend.py::test_batch_matmul[cuda-5-5-4-8-8] \u001B[32mPASSED\u001B[0m\u001B[32m       [ 59%]\u001B[0m\r\n",
      "tests/test_nd_backend.py::test_batch_matmul[cuda-3-1-2-2-3] \u001B[32mPASSED\u001B[0m\u001B[32m       [ 63%]\u001B[0m\r\n",
      "tests/test_nd_backend.py::test_batch_matmul[cuda-4-3-3-4-5] \u001B[32mPASSED\u001B[0m\u001B[32m       [ 68%]\u001B[0m\r\n",
      "tests/test_nd_backend.py::test_batch_matmul[cuda-1-5-5-4-3] \u001B[32mPASSED\u001B[0m\u001B[32m       [ 72%]\u001B[0m\r\n",
      "tests/test_nd_backend.py::test_batch_matmul[cuda-11-16-15-16-32] \u001B[32mPASSED\u001B[0m\u001B[32m  [ 77%]\u001B[0m\r\n",
      "tests/test_nd_backend.py::test_batch_matmul[cuda-12-64-64-64-64] \u001B[32mPASSED\u001B[0m\u001B[32m  [ 81%]\u001B[0m\r\n",
      "tests/test_nd_backend.py::test_batch_matmul[cuda-13-72-2-72-72] \u001B[32mPASSED\u001B[0m\u001B[32m   [ 86%]\u001B[0m\r\n",
      "tests/test_nd_backend.py::test_batch_matmul[cuda-5-72-3-73-74] \u001B[32mPASSED\u001B[0m\u001B[32m    [ 90%]\u001B[0m\r\n",
      "tests/test_nd_backend.py::test_batch_matmul[cuda-44-74-5-73-72] \u001B[32mPASSED\u001B[0m\u001B[32m   [ 95%]\u001B[0m\r\n",
      "tests/test_nd_backend.py::test_batch_matmul[cuda-33-128-11-128-128] \u001B[32mPASSED\u001B[0m\u001B[32m [100%]\u001B[0m\r\n",
      "\r\n",
      "\u001B[32m===================== \u001B[32m\u001B[1m22 passed\u001B[0m, \u001B[33m1823 deselected\u001B[0m\u001B[32m in 8.40s\u001B[0m\u001B[32m ======================\u001B[0m\r\n"
     ]
    }
   ],
   "source": [
    "!python3 -m pytest -l -v -k \"batch_matmul\""
   ],
   "metadata": {
    "collapsed": false
   }
  },
  {
   "cell_type": "code",
   "execution_count": null,
   "outputs": [],
   "source": [
    "!python3 -m pytest -l -v -k \"softmax\""
   ],
   "metadata": {
    "collapsed": false
   }
  }
 ],
 "metadata": {
  "accelerator": "GPU",
  "colab": {
   "collapsed_sections": [
    "EuNS4qZ77zGT",
    "LPrUSIEE7zGY",
    "3P_5dBPB7zGY",
    "-oyS0PX-7zGa",
    "T-NqPOu07zGc",
    "QxXHQfrm7zGc"
   ],
   "provenance": []
  },
  "gpuClass": "standard",
  "kernelspec": {
   "display_name": "dls",
   "language": "python",
   "name": "dls"
  },
  "language_info": {
   "codemirror_mode": {
    "name": "ipython",
    "version": 3
   },
   "file_extension": ".py",
   "mimetype": "text/x-python",
   "name": "python",
   "nbconvert_exporter": "python",
   "pygments_lexer": "ipython3",
   "version": "3.7.4"
  }
 },
 "nbformat": 4,
 "nbformat_minor": 0
}
